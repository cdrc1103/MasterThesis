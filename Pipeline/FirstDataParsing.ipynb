{
 "cells": [
  {
   "cell_type": "code",
   "execution_count": 1,
   "metadata": {
    "collapsed": true
   },
   "outputs": [],
   "source": [
    "from Utilities import directories\n",
    "import xml.etree.ElementTree as ET\n"
   ]
  },
  {
   "cell_type": "code",
   "execution_count": 37,
   "outputs": [
    {
     "name": "stdout",
     "output_type": "stream",
     "text": [
      "document\n",
      "{'document-number': '9468697', 'patent-link': 'https://web.ip7.tech/app/detailview/index/US9468697B2', 'country-code': 'US', 'kind-of-document': 'B2', 'application-number': '201615005224', 'filed': '25/01/2016', 'published': '18/10/2016', 'granted': '18/10/2016', 'priority-date': '16/04/2009', 'original-pdf-link': 'https://web.ip7.tech/app/detailview/ShowPDFFileDirect/US_9468697_B2_99712732', 'extended-family-id': '4034434', 'strict-family-id': '40848365'}\n"
     ]
    }
   ],
   "source": [
    "tree = ET.parse(directories.data + '/example_extrect_ma/US9468697B2.xml')\n",
    "root = tree.getroot()\n",
    "print(root.tag)\n",
    "print(root.attrib)"
   ],
   "metadata": {
    "collapsed": false,
    "pycharm": {
     "name": "#%%\n"
    }
   }
  },
  {
   "cell_type": "code",
   "execution_count": 22,
   "outputs": [
    {
     "data": {
      "text/plain": "{'document-number': '9468697',\n 'patent-link': 'https://web.ip7.tech/app/detailview/index/US9468697B2',\n 'country-code': 'US',\n 'kind-of-document': 'B2',\n 'application-number': '201615005224',\n 'filed': '25/01/2016',\n 'published': '18/10/2016',\n 'granted': '18/10/2016',\n 'priority-date': '16/04/2009',\n 'original-pdf-link': 'https://web.ip7.tech/app/detailview/ShowPDFFileDirect/US_9468697_B2_99712732',\n 'extended-family-id': '4034434',\n 'strict-family-id': '40848365'}"
     },
     "execution_count": 22,
     "metadata": {},
     "output_type": "execute_result"
    }
   ],
   "source": [
    "# Save document attributes in dict\n",
    "attribDict = root.attrib\n",
    "attribDict"
   ],
   "metadata": {
    "collapsed": false,
    "pycharm": {
     "name": "#%%\n"
    }
   }
  },
  {
   "cell_type": "code",
   "execution_count": 28,
   "outputs": [
    {
     "name": "stdout",
     "output_type": "stream",
     "text": [
      "0 : legal-status\n",
      "1 : title\n",
      "2 : owners\n",
      "3 : applicants\n",
      "4 : inventors\n",
      "5 : priorities\n",
      "6 : ipc-classes\n",
      "7 : cpc-classes\n",
      "8 : extended-family-list\n",
      "9 : strict-family-list\n",
      "10 : abstract\n",
      "11 : folders-assignement\n",
      "12 : newest-evaluation-current-project-task\n",
      "13 : all-evaluations-current-project-task\n",
      "14 : evaluation-history\n",
      "15 : claims\n",
      "16 : most-relevant-evaluation-current-project-task\n",
      "17 : description\n"
     ]
    }
   ],
   "source": [
    "for i, child in enumerate(root):\n",
    "    print(i ,\": \" + child.tag)\n"
   ],
   "metadata": {
    "collapsed": false,
    "pycharm": {
     "name": "#%%\n"
    }
   }
  },
  {
   "cell_type": "code",
   "execution_count": 2,
   "outputs": [],
   "source": [
    "import xml.etree.ElementTree as ET\n",
    "import xmltodict\n",
    "import glob\n",
    "import pathlib\n",
    "\n",
    "def load_xml(file_dir):\n",
    "    \"\"\"\n",
    "    Loads all xml files from the directory and converts them to a list of\n",
    "    python dictionaries\n",
    "    :param file_dir: Directory to the files\n",
    "    :return: list of python dictionaries\n",
    "    \"\"\"\n",
    "    file_dir = pathlib.Path(file_dir)\n",
    "    path_list = file_dir.glob(\"*.xml\")\n",
    "    dict_list = []\n",
    "    for i, path in enumerate(path_list):\n",
    "        tree = ET.parse(path)\n",
    "        root = tree.getroot()\n",
    "        xmlstr = ET.tostring(root)\n",
    "        dict_list.append(xmltodict.parse(xmlstr))\n",
    "\n",
    "        if i == 8:\n",
    "            break\n",
    "\n",
    "    return dict_list"
   ],
   "metadata": {
    "collapsed": false,
    "pycharm": {
     "name": "#%%\n"
    }
   }
  },
  {
   "cell_type": "code",
   "execution_count": 6,
   "outputs": [],
   "source": [
    "from Utilities.xml_parser import parse_xml\n",
    "patent_data = parse_xml(\"WO2012080152A1.xml\")"
   ],
   "metadata": {
    "collapsed": false,
    "pycharm": {
     "name": "#%%\n"
    }
   }
  },
  {
   "cell_type": "code",
   "execution_count": 12,
   "outputs": [
    {
     "name": "stdout",
     "output_type": "stream",
     "text": [
      "[OrderedDict([('@id', 'p-00001-en'), ('@num', '0001'), ('#text', 'Use of substituted methoxyhydroxyphenylalkyl derivatives as preservative and preserving method')]), OrderedDict([('@id', 'p-00002-en'), ('@num', '0002'), ('#text', 'The present invention relates to the use of substituted derivatives of methoxyhydroxyphenylalkyl type, in particular as a preservative in cosmetic or dermatological compositions.')]), OrderedDict([('@id', 'p-00003-en'), ('@num', '0003'), ('#text', 'It is common practice to introduce chemical preservatives into cosmetic or dermatological compositions, these preservatives being intended to combat the growth of microorganisms in these compositions, which would quickly make them unsuitable for use. It is in particular necessary to protect compositions against microorganisms capable of growing inside the composition, for example during production thereof, and also against those which the user might introduce therein while handling it, in particular when taking up products in jars with the fingers. Chemical preservatives commonly used are in particular parabens, organic acids or formol-releasing compounds. However, these preservatives have the drawback of causing irritation, in particular on sensitive skin, when they are present at relatively high levels. Moreover, in the interests of the environment, consumers are increasingly searching for environmentally friendly, in particular non-ecotoxic, preserving agents. In addition, the effectiveness of the preservatives conventionally used is variable and their formulation can pose problems, in particular of incompatibility, or even of destabilization, of formulas, in particular of emulsions. One object of the present invention is to propose novel preserving agents which in particular have a broad antimicrobial spectrum, at least as broad, or even broader, than that of the already existing compounds, and which do not have the drawbacks of the prior art, in particular which have specific physicochemical properties making it possible to protect cosmetic formulas against microbial contamination while at the same time being well tolerated.')]), OrderedDict([('@id', 'p-00004-en'), ('@num', '0004'), ('#text', 'A subject of the invention is therefore the use as a preserving agent, in particular in a cosmetic or dermatological composition, of at least one compound of formula')]), OrderedDict([('@id', 'p-00005-en'), ('@num', '0005'), ('#text', '(I):')]), OrderedDict([('@id', 'p-00006-en'), ('@num', '0006'), ('img', OrderedDict([('@id', 'img-00001-en'), ('@he', '26'), ('@wi', '64'), ('@img-content', 'drawing'), ('@orientation', 'portrait'), ('@inline', 'no'), ('@file', 'WO2012080152A1_00002.PNG'), ('@img-format', 'png'), ('@original', 'imgf000002_0001.tif')]))]), OrderedDict([('@id', 'p-00007-en'), ('@num', '0007'), ('#text', \"in which R represents a hydrogen atom; or else a linear C1 -C18 alkyl radical, a branched C3-C18 alkyl radical, or a linear C2-C18 or branched C3-C18 alkene radical (unsaturated, with a C=C double bond), it being possible for said radicals to    be substituted by one or more OH groups; or else R represents -C(O)R' with R' representing a C6 aryl radical, or a linear C1 -C12 or branched C3-C12 alkyl radical, or a linear C2-C12 or branched C3-C12 unsaturated (alkene) radical, optionally substituted by one or more OH groups.\")]), OrderedDict([('@id', 'p-00008-en'), ('@num', '0008'), ('#text', 'The term \"preserving agent\" is intended to mean a substance which is commonly added to a composition in order to preserve said composition with respect to a contaminating agent. Advantageously, the compounds of formula (I) according to the invention are used as an antimicrobial and/or antibacterial and/or antifungal agent.')]), OrderedDict([('@id', 'p-00009-en'), ('@num', '0009'), ('#text', 'Another subject of the invention is a method for preserving a cosmetic or dermatological composition, characterized in that it consists in incorporating into said composition at least one compound of formula (I).')]), OrderedDict([('@id', 'p-00010-en'), ('@num', '0010'), ('#text', 'The compounds according to the invention therefore correspond to the formula (I):')]), OrderedDict([('@id', 'p-00011-en'), ('@num', '0011'), ('img', OrderedDict([('@id', 'img-00002-en'), ('@he', '27'), ('@wi', '50'), ('@img-content', 'drawing'), ('@orientation', 'portrait'), ('@inline', 'no'), ('@file', 'WO2012080152A1_00003.PNG'), ('@img-format', 'png'), ('@original', 'imgf000003_0001.tif')])), ('#text', \"in which R represents a hydrogen atom; or else a linear C1 -C18 alkyl radical, a branched C3-C18 alkyl radical, or a linear C2-C18 or branched C3-C18 alkene radical (unsaturated, with a C=C double bond), it being possible for said radicals to be substituted by one or more OH groups; or else R represents -C(O)R' with R' representing a C6 aryl radical, or a linear C1 -C12 or branched C3-C12 alkyl radical, or a linear C2-C12 or branched C3-C12 unsaturated (alkene) radical, optionally substituted by one or more OH groups.\")]), OrderedDict([('@id', 'p-00012-en'), ('@num', '0012'), ('#text', \"Preferably, the compounds of formula (I) are such that R represents H, a linear C1 -C4 alkyl radical optionally substituted by an OH, a branched C3-C4 alkyl radical optionally substituted by an OH, or a -C(O)R' radical with R' = a linear C1 - C6 or branched C3-C6 alkyl.\")]), OrderedDict([('@id', 'p-00013-en'), ('@num', '0013'), ('sub', ['2', '2']), ('#text', \"Preferably, R is chosen from H; a linear C1 -C2 alkyl optionally substituted by an OH and especially methyl or -CH-CHOH; a -C(O)R' radical with R' = a linear C2- C6, especially C5, alkyl.\")]), OrderedDict([('@id', 'p-00014-en'), ('@num', '0014'), ('img', OrderedDict([('@id', 'img-00003-en'), ('@he', '61'), ('@wi', '123'), ('@img-content', 'drawing'), ('@orientation', 'portrait'), ('@inline', 'no'), ('@file', 'WO2012080152A1_00004.PNG'), ('@img-format', 'png'), ('@original', 'imgf000004_0001.tif')])), ('#text', 'Mention may in particular be made of the following compounds of formula (I):')]), OrderedDict([('@id', 'p-00015-en'), ('@num', '0015'), ('#text', 'A mixture of compounds of formula (I) can of course be used.')]), OrderedDict([('@id', 'p-00016-en'), ('@num', '0016'), ('#text', 'Preferably, the composition does not comprise any preserving agents other than those of formula (I). In particular, the composition preferably does not contain parabens.')]), OrderedDict([('@id', 'p-00017-en'), ('@num', '0017'), ('#text', 'The compounds of formula (I) can be readily prepared by those skilled in the art on the basis of their general knowledge, in particular according to the following scheme:')]), OrderedDict([('@id', 'p-00018-en'), ('@num', '0018'), ('img', OrderedDict([('@id', 'img-00004-en'), ('@he', '28'), ('@wi', '119'), ('@img-content', 'drawing'), ('@orientation', 'portrait'), ('@inline', 'no'), ('@file', 'WO2012080152A1_00005.PNG'), ('@img-format', 'png'), ('@original', 'imgf000004_0002.tif')]))]), OrderedDict([('@id', 'p-00019-en'), ('@num', '0019'), ('img', OrderedDict([('@id', 'img-00005-en'), ('@he', '47'), ('@wi', '113'), ('@img-content', 'drawing'), ('@orientation', 'portrait'), ('@inline', 'no'), ('@file', 'WO2012080152A1_00006.PNG'), ('@img-format', 'png'), ('@original', 'imgf000004_0003.tif')])), ('#text', \"when R = -C(0)R' when R is other than -C(0)R'\")]), OrderedDict([('@id', 'p-00020-en'), ('@num', '0020'), ('#text', 'The compounds may be prepared from commercial dihydroconiferyl alcohol (CAS 606495-73-2). The alkylation or acylation of the aliphatic hydroxyl may be carried out after selective protection of the aromatic hydroxyl under conventional conditions (for example, using 1 equivalent of NaH and of benzyl chloride in DMF) via conventional alkylation or acylation methods: the alkylation may be carried out using NaH as base and halogenated alkyls as alkylating agent; and the acylation may be carried out using, for example, triethylamine as base and acid    chlorides as acylating agent. The deprotection of the benzyl protecting group may be carried out at the end via conventional methods, for example by catalytic hydrogenation. The compounds of formula (I), alone or as a mixture, may be used in a proportion of from 0.01 % to 10% by weight, in particular 0.1 % to 5% by weight, or even 0.5% to 2.5% by weight, relative to the weight of the composition, in particular cosmetic or dermatological composition. The cosmetic or dermatological compositions comprise, moreover, a physiologically acceptable, in particular cosmetically or dermatologically acceptable medium, i.e. a medium which is compatible with keratin materials such as facial or body skin, the lips, the hair, the eyelashes, the eyebrows and the nails. The compositions according to the invention may be in any galenic form conventionally used, in particular for topical application, and in particular in the form of aqueous or aqueous/alcoholic solutions, of oil-in-water (O/W), water-in-oil (W/O) or multiple (triple: W/O/W or O/W/O) emulsions, of aqueous gels or of dispersions of a fatty phase in an aqueous phase using spherules, it being possible for these spherules to be polymeric nanoparticles, such as nanospheres and nanocapsules, or lipid vesicles of ionic and/or nonionic type (liposomes, niosomes or oleosomes), of nanoemulsions, or of thin films. These compositions are prepared according to the usual methods.')]), OrderedDict([('@id', 'p-00021-en'), ('@num', '0021'), ('#text', 'The compositions according to the invention may be more or less fluid and may have the appearance of a white or coloured cream, an ointment, a milk, a lotion, a serum, a paste or a foam. They can optionally be applied to the skin in the form of an aerosol. They can also be in solid form, for example in the form of a stick.')]), OrderedDict([('@id', 'p-00022-en'), ('@num', '0022'), ('#text', 'The composition according to the invention may in particular be in the form of: - a product for making up the skin of the face, body or lips;')]), OrderedDict([('@id', 'p-00023-en'), ('@num', '0023'), ('#text', '- an aftershave gel or lotion;')]), OrderedDict([('@id', 'p-00024-en'), ('@num', '0024'), ('#text', '- a hair-removing cream;')]), OrderedDict([('@id', 'p-00025-en'), ('@num', '0025'), ('#text', '- a body hygiene composition such as a shower gel or a shampoo;')]), OrderedDict([('@id', 'p-00026-en'), ('@num', '0026'), ('#text', '- a pharmaceutical composition;')]), OrderedDict([('@id', 'p-00027-en'), ('@num', '0027'), ('#text', '- a solid composition such as a soap or a cleansing bar;')]), OrderedDict([('@id', 'p-00028-en'), ('@num', '0028'), ('#text', '- an aerosol composition also comprising a pressurized propellent;')]), OrderedDict([('@id', 'p-00029-en'), ('@num', '0029'), ('#text', '- a hair-setting lotion, a hair-styling cream or gel, a dyeing composition, a hair- restructuring lotion, a permanent-wave composition, a lotion or a gel for combating hair loss; or')]), OrderedDict([('@id', 'p-00030-en'), ('@num', '0030'), ('#text', '- a composition for oro-dental use.')]), OrderedDict([('@id', 'p-00031-en'), ('@num', '0031'), ('#text', 'The physiologically acceptable medium in which the compounds can be used, and also its constituents, their amount, the galenical form of the composition and the    method for preparing said composition may be chosen by those skilled in the art on the basis of their general knowledge as a function of the type of composition desired. In particular, the composition may comprise any fatty substance normally used in the field of application envisaged. Mention may in particular be made of silicone fatty substances such as silicone oils, gums and waxes and also nonsilicone fatty substances such as oils, pastes and waxes of plant, mineral, animal and/or synthetic origin. The oils may be volatile or non-volatile.')]), OrderedDict([('@id', 'p-00032-en'), ('@num', '0032'), ('#text', 'Among the silicone oils, mention may be made of volatile or non-volatile polydimethylsiloxanes (PDMSs) with a linear or cyclic silicone chain, which are liquid or pasty at room temperature, in particular cyclopolydimethylsiloxanes such as cyclohexasiloxane; polydimethylsiloxanes comprising alkyl, alkoxy or phenyl groups, which are pendent or at the end of a silicone chain, these groups containing from 2 to 24 carbon atoms; phenylsilicones, for instance phenyl trimethicones, phenyl dimethicones, phenyltrimethylsiloxydiphenylsiloxanes, diphenyl dimethicones, diphenylmethyldiphenyltrisiloxanes or 2-phenylethyl trimethylsiloxy silicates, and polymethylphenylsiloxanes.')]), OrderedDict([('@id', 'p-00033-en'), ('@num', '0033'), ('#text', 'Among the hydrocarbon-based oils of plant origin, mention may be made of liquid triglycerides of fatty acids containing from 4 to 10 carbon atoms, for instance heptanoic or octanoic acid triglycerides, or alternatively, for example, sunflower oil, maize oil, soybean oil, marrow oil, grapeseed oil, sesame seed oil, hazelnut oil, apricot oil, macadamia oil, arara oil, sunflower oil, castor oil, avocado oil, caprylic/capric acid triglycerides, jojoba oil and shea butter oil.')]), OrderedDict([('@id', 'p-00034-en'), ('@num', '0034'), ('#text', 'Mention may also be made, as a fatty substance that can be used, of')]), OrderedDict([('@id', 'p-00035-en'), ('@num', '0035'), ('#text', '- fatty acids containing from 8 to 32 carbon atoms;')]), OrderedDict([('@id', 'p-00036-en'), ('@num', '0036'), ('sup', ['1', '2', '1', '2', '1', '2']), ('#text', '- synthetic esters and ethers, in particular of formulae RCOOR and ROR in which R represents the residue of a fatty acid containing from 8 to 29 carbon atoms and R represents a branched or unbranched hydrocarbon-based chain containing from 3 to 30 carbon atoms, for instance purcellin oil, isononyl isononanoate, isopropyl myristate, 2-ethylhexyl palmitate, 2-octyldodecyl stearate, 2-octyldodecyl erucate or isostearyl isostearate; hydroxylated esters, for instance isostearyl lactate, octyl hydroxystearate, octyldodecyl hydroxystearate, diisostearyl malate, triisocetyl citrate, fatty alcohol heptanoates, octanoates and decanoates; polyol esters, for instance propylene glycol dioctanoate, neopentyl glycol diheptanoate and diethylene glycol diisononanoate; and pentaerythritol esters, for instance pentaerythrityl tetraisostearate;')]), OrderedDict([('@id', 'p-00037-en'), ('@num', '0037'), ('#text', '- linear or branched hydrocarbons of mineral or synthetic origin, such as volatile or non-volatile liquid paraffins, and derivatives thereof, petroleum jelly, polydecenes, and hydrogenated polyisobutene such as Parleam oil;')]), OrderedDict([('@id', 'p-00038-en'), ('@num', '0038'), ('#text', '- fatty alcohols containing from 8 to 26 carbon atoms, for instance cetyl alcohol, stearyl alcohol and a mixture thereof (cetylstearyl alcohol), octyldodecanol, 2- butyloctanol, 2-hexyldecanol, 2-undecylpentadecanol, oleyl alcohol or linoleyl    alcohol.')]), OrderedDict([('@id', 'p-00039-en'), ('@num', '0039'), ('#text', 'The composition may also comprise an aqueous medium that comprises water, an aqueous-alcoholic medium containing a C2-C6 alcohol such as ethanol or isopropanol, or an organic medium comprising standard organic solvents such as C2-C6 alcohols, in particular ethanol and isopropanol, glycols such as propylene glycol, and ketones.')]), OrderedDict([('@id', 'p-00040-en'), ('@num', '0040'), ('#text', 'The composition according to the invention may also comprise the adjuvants that are customary in the cosmetic and dermatological fields, such as thickeners, emulsifiers, surfactants, gelling agents, active cosmetic agents, fragrances, fillers, colorants, moisturizers, vitamins and polymers. The amounts of these various adjuvants are those conventionally used in the fields under consideration, for example from 0.001 % to 20% of the total weight of the composition. These adjuvants and the concentrations thereof must be such that they are not detrimental to the advantageous properties of the compounds according to the invention.')]), OrderedDict([('@id', 'p-00041-en'), ('@num', '0041'), ('#text', 'The pH of the compositions according to the invention, when they comprise at least one aqueous phase (for example aqueous solutions, emulsions), is preferably between 4 and 9, preferably between 4 and 7, advantageously between 5 and 6.')]), OrderedDict([('@id', 'p-00042-en'), ('@num', '0042'), ('#text', 'The invention is illustrated in greater detail in the following exemplary embodiments.')]), OrderedDict([('@id', 'p-00043-en'), ('@num', '0043'), ('#text', 'Example 1 : determination of the antimicrobial activity of a compound according to the invention Compound tested:')]), OrderedDict([('@id', 'p-00044-en'), ('@num', '0044'), ('img', OrderedDict([('@id', 'img-00006-en'), ('@he', '27'), ('@wi', '51'), ('@img-content', 'drawing'), ('@orientation', 'portrait'), ('@inline', 'no'), ('@file', 'WO2012080152A1_00007.PNG'), ('@img-format', 'png'), ('@original', 'imgf000007_0001.tif')]))]), OrderedDict([('@id', 'p-00045-en'), ('@num', '0045'), ('#text', 'The method of determining the antimicrobial activity involves measuring the minimum inhibitory concentration (MIC) with respect to two gram-negative bacteria (E. coli and P. aeruginosa), one gram-positive bacterium (S. aureus) and one yeast (C. Albicans).')]), OrderedDict([('@id', 'p-00046-en'), ('@num', '0046'), ('#text', 'This method was carried out according to the method described in the following articles:    - Baker C.N., Banerjee S.N. and Tenover F.C.: Evaluation of Alamar colorimetric MIC Method for antimicrobial susceptibility testing of gram-negative bacteria. J. Clin. Microbiol. (1994), 32, 1261 -1267;')]), OrderedDict([('@id', 'p-00047-en'), ('@num', '0047'), ('#text', '- Baker C.N. and Tenover F.C.: Evaluation of Alamar colorimetric broth microdilution susceptibility testing method for staphylococci and enterococci. J.')]), OrderedDict([('@id', 'p-00048-en'), ('@num', '0048'), ('#text', 'Clin. Microbiol. (1996), 34, 2654-2659.')]), OrderedDict([('@id', 'p-00049-en'), ('@num', '0049'), ('#text', 'The bacterial strains used at the outset in the form of calibrated lyophilized discs are rehydrated following the instructions of the supplier (Fisher Scientific S.A.)')]), OrderedDict([('@id', 'p-00050-en'), ('@num', '0050'), ('img', OrderedDict([('@id', 'img-00007-en'), ('@he', '36'), ('@wi', '143'), ('@img-content', 'table'), ('@orientation', 'portrait'), ('@inline', 'no'), ('@file', 'WO2012080152A1_00008.PNG'), ('@img-format', 'png'), ('@original', 'imgf000008_0001.tif')]))]), OrderedDict([('@id', 'p-00051-en'), ('@num', '0051'), ('#text', 'The strains are inoculated into Trypto-casein-soy medium. The compound to be tested, dissolved in water, is placed in contact, in a liquid medium, with the strains in the growth phase.')]), OrderedDict([('@id', 'p-00052-en'), ('@num', '0052'), ('#text', 'After 16 hours of contact of the compound with the bacteria (37°C), Alamar Blue is added as a metabolic indicator of the viability of various cells and of bacteria. The reduction of the indicator is proportional to the metabolic activity of the bacteria. After an incubation lasting 2 hours (except for C. Albicans, for which the incubation is 4 h), the metabolic activity of the bacteria is evaluated via an absorbence or a fluorescence reading. In fluorescence, the readings are taken at 544 nm (excitation) and at 590 nm (emission).')]), OrderedDict([('@id', 'p-00053-en'), ('@num', '0053'), ('#text', 'The most active compounds are selected and a dose effect (8 concentrations) is then performed as previously.')]), OrderedDict([('@id', 'p-00054-en'), ('@num', '0054'), ('#text', 'The minimum inhibitory concentration (MIC) was then determined as being the lowest concentration of the compound tested for which a > 90% inhibition of growth of the bacterium or of the yeast was observed.')]), OrderedDict([('@id', 'p-00055-en'), ('@num', '0055'), ('#text', 'The following results are obtained:')]), OrderedDict([('@id', 'p-00056-en'), ('@num', '0056'), ('#text', 'E.coli MIC: >10 mg/ml')]), OrderedDict([('@id', 'p-00057-en'), ('@num', '0057'), ('#text', 'S.aureus MIC: 9.2 mg/ml')]), OrderedDict([('@id', 'p-00058-en'), ('@num', '0058'), ('#text', 'P. aeruginosa MIC: >10 mg/ml')]), OrderedDict([('@id', 'p-00059-en'), ('@num', '0059'), ('#text', 'C. albicans MIC: 2.8 mg/ml')])]\n"
     ]
    }
   ],
   "source": [
    "print(patent_data[0]['lexisnexis-patent-document'][\"description\"][\"p\"])"
   ],
   "metadata": {
    "collapsed": false,
    "pycharm": {
     "name": "#%%\n"
    }
   }
  },
  {
   "cell_type": "code",
   "execution_count": 3,
   "outputs": [
    {
     "name": "stdout",
     "output_type": "stream",
     "text": [
      "<description\n"
     ]
    }
   ],
   "source": [
    "# Regex test\n",
    "\n",
    "import re\n",
    "path = r\"FR2930445B1.xml\"\n",
    "with open(path, encoding='utf-8') as file:\n",
    "    string = file.read()\n",
    "    x = re.search('<description', string, re.DOTALL)\n",
    "    if x:\n",
    "        print(x.group(0))\n",
    "    else:\n",
    "        print(False)\n",
    "\n",
    "\n"
   ],
   "metadata": {
    "collapsed": false,
    "pycharm": {
     "name": "#%%\n"
    }
   }
  }
 ],
 "metadata": {
  "kernelspec": {
   "name": "python3",
   "language": "python",
   "display_name": "Python 3"
  },
  "language_info": {
   "codemirror_mode": {
    "name": "ipython",
    "version": 2
   },
   "file_extension": ".py",
   "mimetype": "text/x-python",
   "name": "python",
   "nbconvert_exporter": "python",
   "pygments_lexer": "ipython2",
   "version": "2.7.6"
  }
 },
 "nbformat": 4,
 "nbformat_minor": 0
}