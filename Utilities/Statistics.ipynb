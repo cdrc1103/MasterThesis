{
 "cells": [
  {
   "cell_type": "code",
   "execution_count": 3,
   "metadata": {
    "collapsed": true,
    "pycharm": {
     "name": "#%%\n"
    }
   },
   "outputs": [],
   "source": [
    "\"\"\"\n",
    "Create a new path dataset and overwrite an existing one.\n",
    "\"\"\"\n",
    "# create path dataset\n",
    "from Utilities.directories import lexis_data\n",
    "from Utilities.statistics import Statistics\n",
    "from Utilities.path_dataset import create_path_dataset\n",
    "import pathlib\n",
    "\n",
    "path = pathlib.Path.joinpath(lexis_data)\n",
    "create_path_dataset(path)"
   ]
  }
 ],
 "metadata": {
  "kernelspec": {
   "display_name": "Python 3",
   "language": "python",
   "name": "python3"
  },
  "language_info": {
   "codemirror_mode": {
    "name": "ipython",
    "version": 2
   },
   "file_extension": ".py",
   "mimetype": "text/x-python",
   "name": "python",
   "nbconvert_exporter": "python",
   "pygments_lexer": "ipython2",
   "version": "2.7.6"
  }
 },
 "nbformat": 4,
 "nbformat_minor": 0
}