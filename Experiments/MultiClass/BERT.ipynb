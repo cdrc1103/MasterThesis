{
 "nbformat": 4,
 "nbformat_minor": 0,
 "metadata": {
  "accelerator": "GPU",
  "colab": {
   "name": "BERT",
   "provenance": [],
   "authorship_tag": "ABX9TyMGnnku8hJvb82K/fkgoWnw"
  },
  "kernelspec": {
   "name": "python3",
   "language": "python",
   "display_name": "Python 3"
  },
  "language_info": {
   "name": "python"
  },
  "widgets": {
   "application/vnd.jupyter.widget-state+json": {
    "c1e2f924ccba4241ac69550299381b81": {
     "model_module": "@jupyter-widgets/controls",
     "model_name": "HBoxModel",
     "state": {
      "_view_name": "HBoxView",
      "_dom_classes": [],
      "_model_name": "HBoxModel",
      "_view_module": "@jupyter-widgets/controls",
      "_model_module_version": "1.5.0",
      "_view_count": null,
      "_view_module_version": "1.5.0",
      "box_style": "",
      "layout": "IPY_MODEL_647e03ed841244c1bac9a880c2db13cc",
      "_model_module": "@jupyter-widgets/controls",
      "children": [
       "IPY_MODEL_bacd228b4dce4993b9b4a9a0209e5004",
       "IPY_MODEL_dee7d879bf4e47e4b727a0352142f34b"
      ]
     }
    },
    "647e03ed841244c1bac9a880c2db13cc": {
     "model_module": "@jupyter-widgets/base",
     "model_name": "LayoutModel",
     "state": {
      "_view_name": "LayoutView",
      "grid_template_rows": null,
      "right": null,
      "justify_content": null,
      "_view_module": "@jupyter-widgets/base",
      "overflow": null,
      "_model_module_version": "1.2.0",
      "_view_count": null,
      "flex_flow": null,
      "width": null,
      "min_width": null,
      "border": null,
      "align_items": null,
      "bottom": null,
      "_model_module": "@jupyter-widgets/base",
      "top": null,
      "grid_column": null,
      "overflow_y": null,
      "overflow_x": null,
      "grid_auto_flow": null,
      "grid_area": null,
      "grid_template_columns": null,
      "flex": null,
      "_model_name": "LayoutModel",
      "justify_items": null,
      "grid_row": null,
      "max_height": null,
      "align_content": null,
      "visibility": null,
      "align_self": null,
      "height": null,
      "min_height": null,
      "padding": null,
      "grid_auto_rows": null,
      "grid_gap": null,
      "max_width": null,
      "order": null,
      "_view_module_version": "1.2.0",
      "grid_template_areas": null,
      "object_position": null,
      "object_fit": null,
      "grid_auto_columns": null,
      "margin": null,
      "display": null,
      "left": null
     }
    },
    "bacd228b4dce4993b9b4a9a0209e5004": {
     "model_module": "@jupyter-widgets/controls",
     "model_name": "FloatProgressModel",
     "state": {
      "_view_name": "ProgressView",
      "style": "IPY_MODEL_734fb57f0ac44feb86c31e47e787d602",
      "_dom_classes": [],
      "description": "Downloading: 100%",
      "_model_name": "FloatProgressModel",
      "bar_style": "success",
      "max": 570,
      "_view_module": "@jupyter-widgets/controls",
      "_model_module_version": "1.5.0",
      "value": 570,
      "_view_count": null,
      "_view_module_version": "1.5.0",
      "orientation": "horizontal",
      "min": 0,
      "description_tooltip": null,
      "_model_module": "@jupyter-widgets/controls",
      "layout": "IPY_MODEL_ed61b811c481431d9d44f639afeab2b0"
     }
    },
    "dee7d879bf4e47e4b727a0352142f34b": {
     "model_module": "@jupyter-widgets/controls",
     "model_name": "HTMLModel",
     "state": {
      "_view_name": "HTMLView",
      "style": "IPY_MODEL_879637d6760d4a45842cb353329d9688",
      "_dom_classes": [],
      "description": "",
      "_model_name": "HTMLModel",
      "placeholder": "​",
      "_view_module": "@jupyter-widgets/controls",
      "_model_module_version": "1.5.0",
      "value": " 570/570 [00:01&lt;00:00, 347B/s]",
      "_view_count": null,
      "_view_module_version": "1.5.0",
      "description_tooltip": null,
      "_model_module": "@jupyter-widgets/controls",
      "layout": "IPY_MODEL_dbcfcc275f0a41a5a822c5258e7119d7"
     }
    },
    "734fb57f0ac44feb86c31e47e787d602": {
     "model_module": "@jupyter-widgets/controls",
     "model_name": "ProgressStyleModel",
     "state": {
      "_view_name": "StyleView",
      "_model_name": "ProgressStyleModel",
      "description_width": "initial",
      "_view_module": "@jupyter-widgets/base",
      "_model_module_version": "1.5.0",
      "_view_count": null,
      "_view_module_version": "1.2.0",
      "bar_color": null,
      "_model_module": "@jupyter-widgets/controls"
     }
    },
    "ed61b811c481431d9d44f639afeab2b0": {
     "model_module": "@jupyter-widgets/base",
     "model_name": "LayoutModel",
     "state": {
      "_view_name": "LayoutView",
      "grid_template_rows": null,
      "right": null,
      "justify_content": null,
      "_view_module": "@jupyter-widgets/base",
      "overflow": null,
      "_model_module_version": "1.2.0",
      "_view_count": null,
      "flex_flow": null,
      "width": null,
      "min_width": null,
      "border": null,
      "align_items": null,
      "bottom": null,
      "_model_module": "@jupyter-widgets/base",
      "top": null,
      "grid_column": null,
      "overflow_y": null,
      "overflow_x": null,
      "grid_auto_flow": null,
      "grid_area": null,
      "grid_template_columns": null,
      "flex": null,
      "_model_name": "LayoutModel",
      "justify_items": null,
      "grid_row": null,
      "max_height": null,
      "align_content": null,
      "visibility": null,
      "align_self": null,
      "height": null,
      "min_height": null,
      "padding": null,
      "grid_auto_rows": null,
      "grid_gap": null,
      "max_width": null,
      "order": null,
      "_view_module_version": "1.2.0",
      "grid_template_areas": null,
      "object_position": null,
      "object_fit": null,
      "grid_auto_columns": null,
      "margin": null,
      "display": null,
      "left": null
     }
    },
    "879637d6760d4a45842cb353329d9688": {
     "model_module": "@jupyter-widgets/controls",
     "model_name": "DescriptionStyleModel",
     "state": {
      "_view_name": "StyleView",
      "_model_name": "DescriptionStyleModel",
      "description_width": "",
      "_view_module": "@jupyter-widgets/base",
      "_model_module_version": "1.5.0",
      "_view_count": null,
      "_view_module_version": "1.2.0",
      "_model_module": "@jupyter-widgets/controls"
     }
    },
    "dbcfcc275f0a41a5a822c5258e7119d7": {
     "model_module": "@jupyter-widgets/base",
     "model_name": "LayoutModel",
     "state": {
      "_view_name": "LayoutView",
      "grid_template_rows": null,
      "right": null,
      "justify_content": null,
      "_view_module": "@jupyter-widgets/base",
      "overflow": null,
      "_model_module_version": "1.2.0",
      "_view_count": null,
      "flex_flow": null,
      "width": null,
      "min_width": null,
      "border": null,
      "align_items": null,
      "bottom": null,
      "_model_module": "@jupyter-widgets/base",
      "top": null,
      "grid_column": null,
      "overflow_y": null,
      "overflow_x": null,
      "grid_auto_flow": null,
      "grid_area": null,
      "grid_template_columns": null,
      "flex": null,
      "_model_name": "LayoutModel",
      "justify_items": null,
      "grid_row": null,
      "max_height": null,
      "align_content": null,
      "visibility": null,
      "align_self": null,
      "height": null,
      "min_height": null,
      "padding": null,
      "grid_auto_rows": null,
      "grid_gap": null,
      "max_width": null,
      "order": null,
      "_view_module_version": "1.2.0",
      "grid_template_areas": null,
      "object_position": null,
      "object_fit": null,
      "grid_auto_columns": null,
      "margin": null,
      "display": null,
      "left": null
     }
    },
    "4baa545adf1b43529a830614da14892e": {
     "model_module": "@jupyter-widgets/controls",
     "model_name": "HBoxModel",
     "state": {
      "_view_name": "HBoxView",
      "_dom_classes": [],
      "_model_name": "HBoxModel",
      "_view_module": "@jupyter-widgets/controls",
      "_model_module_version": "1.5.0",
      "_view_count": null,
      "_view_module_version": "1.5.0",
      "box_style": "",
      "layout": "IPY_MODEL_e45c8f67044a4c1e811d1263156aab93",
      "_model_module": "@jupyter-widgets/controls",
      "children": [
       "IPY_MODEL_f0dad6813d9a4e23bb7ed2f15acedc06",
       "IPY_MODEL_8efa765238d74583b9fe95143ea48160"
      ]
     }
    },
    "e45c8f67044a4c1e811d1263156aab93": {
     "model_module": "@jupyter-widgets/base",
     "model_name": "LayoutModel",
     "state": {
      "_view_name": "LayoutView",
      "grid_template_rows": null,
      "right": null,
      "justify_content": null,
      "_view_module": "@jupyter-widgets/base",
      "overflow": null,
      "_model_module_version": "1.2.0",
      "_view_count": null,
      "flex_flow": null,
      "width": null,
      "min_width": null,
      "border": null,
      "align_items": null,
      "bottom": null,
      "_model_module": "@jupyter-widgets/base",
      "top": null,
      "grid_column": null,
      "overflow_y": null,
      "overflow_x": null,
      "grid_auto_flow": null,
      "grid_area": null,
      "grid_template_columns": null,
      "flex": null,
      "_model_name": "LayoutModel",
      "justify_items": null,
      "grid_row": null,
      "max_height": null,
      "align_content": null,
      "visibility": null,
      "align_self": null,
      "height": null,
      "min_height": null,
      "padding": null,
      "grid_auto_rows": null,
      "grid_gap": null,
      "max_width": null,
      "order": null,
      "_view_module_version": "1.2.0",
      "grid_template_areas": null,
      "object_position": null,
      "object_fit": null,
      "grid_auto_columns": null,
      "margin": null,
      "display": null,
      "left": null
     }
    },
    "f0dad6813d9a4e23bb7ed2f15acedc06": {
     "model_module": "@jupyter-widgets/controls",
     "model_name": "FloatProgressModel",
     "state": {
      "_view_name": "ProgressView",
      "style": "IPY_MODEL_018a0eeba1244e5cbe4e17e054524078",
      "_dom_classes": [],
      "description": "Downloading: 100%",
      "_model_name": "FloatProgressModel",
      "bar_style": "success",
      "max": 231508,
      "_view_module": "@jupyter-widgets/controls",
      "_model_module_version": "1.5.0",
      "value": 231508,
      "_view_count": null,
      "_view_module_version": "1.5.0",
      "orientation": "horizontal",
      "min": 0,
      "description_tooltip": null,
      "_model_module": "@jupyter-widgets/controls",
      "layout": "IPY_MODEL_bb4f48a106944c168791bbd08ead7687"
     }
    },
    "8efa765238d74583b9fe95143ea48160": {
     "model_module": "@jupyter-widgets/controls",
     "model_name": "HTMLModel",
     "state": {
      "_view_name": "HTMLView",
      "style": "IPY_MODEL_34c98cd2868a44b0a8d12790ebf732d5",
      "_dom_classes": [],
      "description": "",
      "_model_name": "HTMLModel",
      "placeholder": "​",
      "_view_module": "@jupyter-widgets/controls",
      "_model_module_version": "1.5.0",
      "value": " 232k/232k [00:01&lt;00:00, 225kB/s]",
      "_view_count": null,
      "_view_module_version": "1.5.0",
      "description_tooltip": null,
      "_model_module": "@jupyter-widgets/controls",
      "layout": "IPY_MODEL_c147032662e24475a0ddf4786f4fec45"
     }
    },
    "018a0eeba1244e5cbe4e17e054524078": {
     "model_module": "@jupyter-widgets/controls",
     "model_name": "ProgressStyleModel",
     "state": {
      "_view_name": "StyleView",
      "_model_name": "ProgressStyleModel",
      "description_width": "initial",
      "_view_module": "@jupyter-widgets/base",
      "_model_module_version": "1.5.0",
      "_view_count": null,
      "_view_module_version": "1.2.0",
      "bar_color": null,
      "_model_module": "@jupyter-widgets/controls"
     }
    },
    "bb4f48a106944c168791bbd08ead7687": {
     "model_module": "@jupyter-widgets/base",
     "model_name": "LayoutModel",
     "state": {
      "_view_name": "LayoutView",
      "grid_template_rows": null,
      "right": null,
      "justify_content": null,
      "_view_module": "@jupyter-widgets/base",
      "overflow": null,
      "_model_module_version": "1.2.0",
      "_view_count": null,
      "flex_flow": null,
      "width": null,
      "min_width": null,
      "border": null,
      "align_items": null,
      "bottom": null,
      "_model_module": "@jupyter-widgets/base",
      "top": null,
      "grid_column": null,
      "overflow_y": null,
      "overflow_x": null,
      "grid_auto_flow": null,
      "grid_area": null,
      "grid_template_columns": null,
      "flex": null,
      "_model_name": "LayoutModel",
      "justify_items": null,
      "grid_row": null,
      "max_height": null,
      "align_content": null,
      "visibility": null,
      "align_self": null,
      "height": null,
      "min_height": null,
      "padding": null,
      "grid_auto_rows": null,
      "grid_gap": null,
      "max_width": null,
      "order": null,
      "_view_module_version": "1.2.0",
      "grid_template_areas": null,
      "object_position": null,
      "object_fit": null,
      "grid_auto_columns": null,
      "margin": null,
      "display": null,
      "left": null
     }
    },
    "34c98cd2868a44b0a8d12790ebf732d5": {
     "model_module": "@jupyter-widgets/controls",
     "model_name": "DescriptionStyleModel",
     "state": {
      "_view_name": "StyleView",
      "_model_name": "DescriptionStyleModel",
      "description_width": "",
      "_view_module": "@jupyter-widgets/base",
      "_model_module_version": "1.5.0",
      "_view_count": null,
      "_view_module_version": "1.2.0",
      "_model_module": "@jupyter-widgets/controls"
     }
    },
    "c147032662e24475a0ddf4786f4fec45": {
     "model_module": "@jupyter-widgets/base",
     "model_name": "LayoutModel",
     "state": {
      "_view_name": "LayoutView",
      "grid_template_rows": null,
      "right": null,
      "justify_content": null,
      "_view_module": "@jupyter-widgets/base",
      "overflow": null,
      "_model_module_version": "1.2.0",
      "_view_count": null,
      "flex_flow": null,
      "width": null,
      "min_width": null,
      "border": null,
      "align_items": null,
      "bottom": null,
      "_model_module": "@jupyter-widgets/base",
      "top": null,
      "grid_column": null,
      "overflow_y": null,
      "overflow_x": null,
      "grid_auto_flow": null,
      "grid_area": null,
      "grid_template_columns": null,
      "flex": null,
      "_model_name": "LayoutModel",
      "justify_items": null,
      "grid_row": null,
      "max_height": null,
      "align_content": null,
      "visibility": null,
      "align_self": null,
      "height": null,
      "min_height": null,
      "padding": null,
      "grid_auto_rows": null,
      "grid_gap": null,
      "max_width": null,
      "order": null,
      "_view_module_version": "1.2.0",
      "grid_template_areas": null,
      "object_position": null,
      "object_fit": null,
      "grid_auto_columns": null,
      "margin": null,
      "display": null,
      "left": null
     }
    },
    "fda1b47ec34e420c9067639fd0a1b18a": {
     "model_module": "@jupyter-widgets/controls",
     "model_name": "HBoxModel",
     "state": {
      "_view_name": "HBoxView",
      "_dom_classes": [],
      "_model_name": "HBoxModel",
      "_view_module": "@jupyter-widgets/controls",
      "_model_module_version": "1.5.0",
      "_view_count": null,
      "_view_module_version": "1.5.0",
      "box_style": "",
      "layout": "IPY_MODEL_021e23c10e6f40268c10a7f54e698dbe",
      "_model_module": "@jupyter-widgets/controls",
      "children": [
       "IPY_MODEL_6fbab5f5f8ce4b1fb485de80ddf5aa47",
       "IPY_MODEL_8f15b05c925140cd855f6ba9978a539b"
      ]
     }
    },
    "021e23c10e6f40268c10a7f54e698dbe": {
     "model_module": "@jupyter-widgets/base",
     "model_name": "LayoutModel",
     "state": {
      "_view_name": "LayoutView",
      "grid_template_rows": null,
      "right": null,
      "justify_content": null,
      "_view_module": "@jupyter-widgets/base",
      "overflow": null,
      "_model_module_version": "1.2.0",
      "_view_count": null,
      "flex_flow": null,
      "width": null,
      "min_width": null,
      "border": null,
      "align_items": null,
      "bottom": null,
      "_model_module": "@jupyter-widgets/base",
      "top": null,
      "grid_column": null,
      "overflow_y": null,
      "overflow_x": null,
      "grid_auto_flow": null,
      "grid_area": null,
      "grid_template_columns": null,
      "flex": null,
      "_model_name": "LayoutModel",
      "justify_items": null,
      "grid_row": null,
      "max_height": null,
      "align_content": null,
      "visibility": null,
      "align_self": null,
      "height": null,
      "min_height": null,
      "padding": null,
      "grid_auto_rows": null,
      "grid_gap": null,
      "max_width": null,
      "order": null,
      "_view_module_version": "1.2.0",
      "grid_template_areas": null,
      "object_position": null,
      "object_fit": null,
      "grid_auto_columns": null,
      "margin": null,
      "display": null,
      "left": null
     }
    },
    "6fbab5f5f8ce4b1fb485de80ddf5aa47": {
     "model_module": "@jupyter-widgets/controls",
     "model_name": "FloatProgressModel",
     "state": {
      "_view_name": "ProgressView",
      "style": "IPY_MODEL_0a685919610446139733836fa9289088",
      "_dom_classes": [],
      "description": "Downloading: 100%",
      "_model_name": "FloatProgressModel",
      "bar_style": "success",
      "max": 466062,
      "_view_module": "@jupyter-widgets/controls",
      "_model_module_version": "1.5.0",
      "value": 466062,
      "_view_count": null,
      "_view_module_version": "1.5.0",
      "orientation": "horizontal",
      "min": 0,
      "description_tooltip": null,
      "_model_module": "@jupyter-widgets/controls",
      "layout": "IPY_MODEL_adff45c610b549189d6b08b9b948eb96"
     }
    },
    "8f15b05c925140cd855f6ba9978a539b": {
     "model_module": "@jupyter-widgets/controls",
     "model_name": "HTMLModel",
     "state": {
      "_view_name": "HTMLView",
      "style": "IPY_MODEL_2f1d747a8d2142d39f1fd3f1d5048568",
      "_dom_classes": [],
      "description": "",
      "_model_name": "HTMLModel",
      "placeholder": "​",
      "_view_module": "@jupyter-widgets/controls",
      "_model_module_version": "1.5.0",
      "value": " 466k/466k [00:01&lt;00:00, 288kB/s]",
      "_view_count": null,
      "_view_module_version": "1.5.0",
      "description_tooltip": null,
      "_model_module": "@jupyter-widgets/controls",
      "layout": "IPY_MODEL_7f50a8fd5faa40808f7e869701acb786"
     }
    },
    "0a685919610446139733836fa9289088": {
     "model_module": "@jupyter-widgets/controls",
     "model_name": "ProgressStyleModel",
     "state": {
      "_view_name": "StyleView",
      "_model_name": "ProgressStyleModel",
      "description_width": "initial",
      "_view_module": "@jupyter-widgets/base",
      "_model_module_version": "1.5.0",
      "_view_count": null,
      "_view_module_version": "1.2.0",
      "bar_color": null,
      "_model_module": "@jupyter-widgets/controls"
     }
    },
    "adff45c610b549189d6b08b9b948eb96": {
     "model_module": "@jupyter-widgets/base",
     "model_name": "LayoutModel",
     "state": {
      "_view_name": "LayoutView",
      "grid_template_rows": null,
      "right": null,
      "justify_content": null,
      "_view_module": "@jupyter-widgets/base",
      "overflow": null,
      "_model_module_version": "1.2.0",
      "_view_count": null,
      "flex_flow": null,
      "width": null,
      "min_width": null,
      "border": null,
      "align_items": null,
      "bottom": null,
      "_model_module": "@jupyter-widgets/base",
      "top": null,
      "grid_column": null,
      "overflow_y": null,
      "overflow_x": null,
      "grid_auto_flow": null,
      "grid_area": null,
      "grid_template_columns": null,
      "flex": null,
      "_model_name": "LayoutModel",
      "justify_items": null,
      "grid_row": null,
      "max_height": null,
      "align_content": null,
      "visibility": null,
      "align_self": null,
      "height": null,
      "min_height": null,
      "padding": null,
      "grid_auto_rows": null,
      "grid_gap": null,
      "max_width": null,
      "order": null,
      "_view_module_version": "1.2.0",
      "grid_template_areas": null,
      "object_position": null,
      "object_fit": null,
      "grid_auto_columns": null,
      "margin": null,
      "display": null,
      "left": null
     }
    },
    "2f1d747a8d2142d39f1fd3f1d5048568": {
     "model_module": "@jupyter-widgets/controls",
     "model_name": "DescriptionStyleModel",
     "state": {
      "_view_name": "StyleView",
      "_model_name": "DescriptionStyleModel",
      "description_width": "",
      "_view_module": "@jupyter-widgets/base",
      "_model_module_version": "1.5.0",
      "_view_count": null,
      "_view_module_version": "1.2.0",
      "_model_module": "@jupyter-widgets/controls"
     }
    },
    "7f50a8fd5faa40808f7e869701acb786": {
     "model_module": "@jupyter-widgets/base",
     "model_name": "LayoutModel",
     "state": {
      "_view_name": "LayoutView",
      "grid_template_rows": null,
      "right": null,
      "justify_content": null,
      "_view_module": "@jupyter-widgets/base",
      "overflow": null,
      "_model_module_version": "1.2.0",
      "_view_count": null,
      "flex_flow": null,
      "width": null,
      "min_width": null,
      "border": null,
      "align_items": null,
      "bottom": null,
      "_model_module": "@jupyter-widgets/base",
      "top": null,
      "grid_column": null,
      "overflow_y": null,
      "overflow_x": null,
      "grid_auto_flow": null,
      "grid_area": null,
      "grid_template_columns": null,
      "flex": null,
      "_model_name": "LayoutModel",
      "justify_items": null,
      "grid_row": null,
      "max_height": null,
      "align_content": null,
      "visibility": null,
      "align_self": null,
      "height": null,
      "min_height": null,
      "padding": null,
      "grid_auto_rows": null,
      "grid_gap": null,
      "max_width": null,
      "order": null,
      "_view_module_version": "1.2.0",
      "grid_template_areas": null,
      "object_position": null,
      "object_fit": null,
      "grid_auto_columns": null,
      "margin": null,
      "display": null,
      "left": null
     }
    },
    "f4b9101ac8ad461c9d4055ea30d7f457": {
     "model_module": "@jupyter-widgets/controls",
     "model_name": "HBoxModel",
     "state": {
      "_view_name": "HBoxView",
      "_dom_classes": [],
      "_model_name": "HBoxModel",
      "_view_module": "@jupyter-widgets/controls",
      "_model_module_version": "1.5.0",
      "_view_count": null,
      "_view_module_version": "1.5.0",
      "box_style": "",
      "layout": "IPY_MODEL_6575aebf55d94d3db54186f231dd4e30",
      "_model_module": "@jupyter-widgets/controls",
      "children": [
       "IPY_MODEL_d34815051cd74ff3955f02ff04cbf4c5",
       "IPY_MODEL_1e5575353daf4d50b33664a7b922c2cc"
      ]
     }
    },
    "6575aebf55d94d3db54186f231dd4e30": {
     "model_module": "@jupyter-widgets/base",
     "model_name": "LayoutModel",
     "state": {
      "_view_name": "LayoutView",
      "grid_template_rows": null,
      "right": null,
      "justify_content": null,
      "_view_module": "@jupyter-widgets/base",
      "overflow": null,
      "_model_module_version": "1.2.0",
      "_view_count": null,
      "flex_flow": null,
      "width": null,
      "min_width": null,
      "border": null,
      "align_items": null,
      "bottom": null,
      "_model_module": "@jupyter-widgets/base",
      "top": null,
      "grid_column": null,
      "overflow_y": null,
      "overflow_x": null,
      "grid_auto_flow": null,
      "grid_area": null,
      "grid_template_columns": null,
      "flex": null,
      "_model_name": "LayoutModel",
      "justify_items": null,
      "grid_row": null,
      "max_height": null,
      "align_content": null,
      "visibility": null,
      "align_self": null,
      "height": null,
      "min_height": null,
      "padding": null,
      "grid_auto_rows": null,
      "grid_gap": null,
      "max_width": null,
      "order": null,
      "_view_module_version": "1.2.0",
      "grid_template_areas": null,
      "object_position": null,
      "object_fit": null,
      "grid_auto_columns": null,
      "margin": null,
      "display": null,
      "left": null
     }
    },
    "d34815051cd74ff3955f02ff04cbf4c5": {
     "model_module": "@jupyter-widgets/controls",
     "model_name": "FloatProgressModel",
     "state": {
      "_view_name": "ProgressView",
      "style": "IPY_MODEL_cf5dc7fcbf974ddea82d019e1787cb06",
      "_dom_classes": [],
      "description": "Downloading: 100%",
      "_model_name": "FloatProgressModel",
      "bar_style": "success",
      "max": 28,
      "_view_module": "@jupyter-widgets/controls",
      "_model_module_version": "1.5.0",
      "value": 28,
      "_view_count": null,
      "_view_module_version": "1.5.0",
      "orientation": "horizontal",
      "min": 0,
      "description_tooltip": null,
      "_model_module": "@jupyter-widgets/controls",
      "layout": "IPY_MODEL_7c246ebea76b42b4b2057a9097fd1957"
     }
    },
    "1e5575353daf4d50b33664a7b922c2cc": {
     "model_module": "@jupyter-widgets/controls",
     "model_name": "HTMLModel",
     "state": {
      "_view_name": "HTMLView",
      "style": "IPY_MODEL_4f199246751f4e1a9958b3209342c432",
      "_dom_classes": [],
      "description": "",
      "_model_name": "HTMLModel",
      "placeholder": "​",
      "_view_module": "@jupyter-widgets/controls",
      "_model_module_version": "1.5.0",
      "value": " 28.0/28.0 [00:00&lt;00:00, 121B/s]",
      "_view_count": null,
      "_view_module_version": "1.5.0",
      "description_tooltip": null,
      "_model_module": "@jupyter-widgets/controls",
      "layout": "IPY_MODEL_26ae5f2f127e4156aa7c54c57452b27c"
     }
    },
    "cf5dc7fcbf974ddea82d019e1787cb06": {
     "model_module": "@jupyter-widgets/controls",
     "model_name": "ProgressStyleModel",
     "state": {
      "_view_name": "StyleView",
      "_model_name": "ProgressStyleModel",
      "description_width": "initial",
      "_view_module": "@jupyter-widgets/base",
      "_model_module_version": "1.5.0",
      "_view_count": null,
      "_view_module_version": "1.2.0",
      "bar_color": null,
      "_model_module": "@jupyter-widgets/controls"
     }
    },
    "7c246ebea76b42b4b2057a9097fd1957": {
     "model_module": "@jupyter-widgets/base",
     "model_name": "LayoutModel",
     "state": {
      "_view_name": "LayoutView",
      "grid_template_rows": null,
      "right": null,
      "justify_content": null,
      "_view_module": "@jupyter-widgets/base",
      "overflow": null,
      "_model_module_version": "1.2.0",
      "_view_count": null,
      "flex_flow": null,
      "width": null,
      "min_width": null,
      "border": null,
      "align_items": null,
      "bottom": null,
      "_model_module": "@jupyter-widgets/base",
      "top": null,
      "grid_column": null,
      "overflow_y": null,
      "overflow_x": null,
      "grid_auto_flow": null,
      "grid_area": null,
      "grid_template_columns": null,
      "flex": null,
      "_model_name": "LayoutModel",
      "justify_items": null,
      "grid_row": null,
      "max_height": null,
      "align_content": null,
      "visibility": null,
      "align_self": null,
      "height": null,
      "min_height": null,
      "padding": null,
      "grid_auto_rows": null,
      "grid_gap": null,
      "max_width": null,
      "order": null,
      "_view_module_version": "1.2.0",
      "grid_template_areas": null,
      "object_position": null,
      "object_fit": null,
      "grid_auto_columns": null,
      "margin": null,
      "display": null,
      "left": null
     }
    },
    "4f199246751f4e1a9958b3209342c432": {
     "model_module": "@jupyter-widgets/controls",
     "model_name": "DescriptionStyleModel",
     "state": {
      "_view_name": "StyleView",
      "_model_name": "DescriptionStyleModel",
      "description_width": "",
      "_view_module": "@jupyter-widgets/base",
      "_model_module_version": "1.5.0",
      "_view_count": null,
      "_view_module_version": "1.2.0",
      "_model_module": "@jupyter-widgets/controls"
     }
    },
    "26ae5f2f127e4156aa7c54c57452b27c": {
     "model_module": "@jupyter-widgets/base",
     "model_name": "LayoutModel",
     "state": {
      "_view_name": "LayoutView",
      "grid_template_rows": null,
      "right": null,
      "justify_content": null,
      "_view_module": "@jupyter-widgets/base",
      "overflow": null,
      "_model_module_version": "1.2.0",
      "_view_count": null,
      "flex_flow": null,
      "width": null,
      "min_width": null,
      "border": null,
      "align_items": null,
      "bottom": null,
      "_model_module": "@jupyter-widgets/base",
      "top": null,
      "grid_column": null,
      "overflow_y": null,
      "overflow_x": null,
      "grid_auto_flow": null,
      "grid_area": null,
      "grid_template_columns": null,
      "flex": null,
      "_model_name": "LayoutModel",
      "justify_items": null,
      "grid_row": null,
      "max_height": null,
      "align_content": null,
      "visibility": null,
      "align_self": null,
      "height": null,
      "min_height": null,
      "padding": null,
      "grid_auto_rows": null,
      "grid_gap": null,
      "max_width": null,
      "order": null,
      "_view_module_version": "1.2.0",
      "grid_template_areas": null,
      "object_position": null,
      "object_fit": null,
      "grid_auto_columns": null,
      "margin": null,
      "display": null,
      "left": null
     }
    },
    "2cec061ede96460bb238832a9a0c1732": {
     "model_module": "@jupyter-widgets/controls",
     "model_name": "HBoxModel",
     "state": {
      "_view_name": "HBoxView",
      "_dom_classes": [],
      "_model_name": "HBoxModel",
      "_view_module": "@jupyter-widgets/controls",
      "_model_module_version": "1.5.0",
      "_view_count": null,
      "_view_module_version": "1.5.0",
      "box_style": "",
      "layout": "IPY_MODEL_98a9cef2861b4c4fb8e30f07013b445e",
      "_model_module": "@jupyter-widgets/controls",
      "children": [
       "IPY_MODEL_56086abc48704bdb96b7540d9e365eb2",
       "IPY_MODEL_287daabeeac04abf93ae184c39ac9fb7"
      ]
     }
    },
    "98a9cef2861b4c4fb8e30f07013b445e": {
     "model_module": "@jupyter-widgets/base",
     "model_name": "LayoutModel",
     "state": {
      "_view_name": "LayoutView",
      "grid_template_rows": null,
      "right": null,
      "justify_content": null,
      "_view_module": "@jupyter-widgets/base",
      "overflow": null,
      "_model_module_version": "1.2.0",
      "_view_count": null,
      "flex_flow": null,
      "width": null,
      "min_width": null,
      "border": null,
      "align_items": null,
      "bottom": null,
      "_model_module": "@jupyter-widgets/base",
      "top": null,
      "grid_column": null,
      "overflow_y": null,
      "overflow_x": null,
      "grid_auto_flow": null,
      "grid_area": null,
      "grid_template_columns": null,
      "flex": null,
      "_model_name": "LayoutModel",
      "justify_items": null,
      "grid_row": null,
      "max_height": null,
      "align_content": null,
      "visibility": null,
      "align_self": null,
      "height": null,
      "min_height": null,
      "padding": null,
      "grid_auto_rows": null,
      "grid_gap": null,
      "max_width": null,
      "order": null,
      "_view_module_version": "1.2.0",
      "grid_template_areas": null,
      "object_position": null,
      "object_fit": null,
      "grid_auto_columns": null,
      "margin": null,
      "display": null,
      "left": null
     }
    },
    "56086abc48704bdb96b7540d9e365eb2": {
     "model_module": "@jupyter-widgets/controls",
     "model_name": "FloatProgressModel",
     "state": {
      "_view_name": "ProgressView",
      "style": "IPY_MODEL_c7c996e0fa824f378982d4a53aa7bbd3",
      "_dom_classes": [],
      "description": "100%",
      "_model_name": "FloatProgressModel",
      "bar_style": "success",
      "max": 2472,
      "_view_module": "@jupyter-widgets/controls",
      "_model_module_version": "1.5.0",
      "value": 2472,
      "_view_count": null,
      "_view_module_version": "1.5.0",
      "orientation": "horizontal",
      "min": 0,
      "description_tooltip": null,
      "_model_module": "@jupyter-widgets/controls",
      "layout": "IPY_MODEL_a2130fbae57d4e879ee63339f926e562"
     }
    },
    "287daabeeac04abf93ae184c39ac9fb7": {
     "model_module": "@jupyter-widgets/controls",
     "model_name": "HTMLModel",
     "state": {
      "_view_name": "HTMLView",
      "style": "IPY_MODEL_86f2de35402c405dbb7fa0c23ea722ec",
      "_dom_classes": [],
      "description": "",
      "_model_name": "HTMLModel",
      "placeholder": "​",
      "_view_module": "@jupyter-widgets/controls",
      "_model_module_version": "1.5.0",
      "value": " 2472/2472 [01:08&lt;00:00, 36.04ba/s]",
      "_view_count": null,
      "_view_module_version": "1.5.0",
      "description_tooltip": null,
      "_model_module": "@jupyter-widgets/controls",
      "layout": "IPY_MODEL_b2ec3ed0da684b5c8947b3ef1aed7d5c"
     }
    },
    "c7c996e0fa824f378982d4a53aa7bbd3": {
     "model_module": "@jupyter-widgets/controls",
     "model_name": "ProgressStyleModel",
     "state": {
      "_view_name": "StyleView",
      "_model_name": "ProgressStyleModel",
      "description_width": "initial",
      "_view_module": "@jupyter-widgets/base",
      "_model_module_version": "1.5.0",
      "_view_count": null,
      "_view_module_version": "1.2.0",
      "bar_color": null,
      "_model_module": "@jupyter-widgets/controls"
     }
    },
    "a2130fbae57d4e879ee63339f926e562": {
     "model_module": "@jupyter-widgets/base",
     "model_name": "LayoutModel",
     "state": {
      "_view_name": "LayoutView",
      "grid_template_rows": null,
      "right": null,
      "justify_content": null,
      "_view_module": "@jupyter-widgets/base",
      "overflow": null,
      "_model_module_version": "1.2.0",
      "_view_count": null,
      "flex_flow": null,
      "width": null,
      "min_width": null,
      "border": null,
      "align_items": null,
      "bottom": null,
      "_model_module": "@jupyter-widgets/base",
      "top": null,
      "grid_column": null,
      "overflow_y": null,
      "overflow_x": null,
      "grid_auto_flow": null,
      "grid_area": null,
      "grid_template_columns": null,
      "flex": null,
      "_model_name": "LayoutModel",
      "justify_items": null,
      "grid_row": null,
      "max_height": null,
      "align_content": null,
      "visibility": null,
      "align_self": null,
      "height": null,
      "min_height": null,
      "padding": null,
      "grid_auto_rows": null,
      "grid_gap": null,
      "max_width": null,
      "order": null,
      "_view_module_version": "1.2.0",
      "grid_template_areas": null,
      "object_position": null,
      "object_fit": null,
      "grid_auto_columns": null,
      "margin": null,
      "display": null,
      "left": null
     }
    },
    "86f2de35402c405dbb7fa0c23ea722ec": {
     "model_module": "@jupyter-widgets/controls",
     "model_name": "DescriptionStyleModel",
     "state": {
      "_view_name": "StyleView",
      "_model_name": "DescriptionStyleModel",
      "description_width": "",
      "_view_module": "@jupyter-widgets/base",
      "_model_module_version": "1.5.0",
      "_view_count": null,
      "_view_module_version": "1.2.0",
      "_model_module": "@jupyter-widgets/controls"
     }
    },
    "b2ec3ed0da684b5c8947b3ef1aed7d5c": {
     "model_module": "@jupyter-widgets/base",
     "model_name": "LayoutModel",
     "state": {
      "_view_name": "LayoutView",
      "grid_template_rows": null,
      "right": null,
      "justify_content": null,
      "_view_module": "@jupyter-widgets/base",
      "overflow": null,
      "_model_module_version": "1.2.0",
      "_view_count": null,
      "flex_flow": null,
      "width": null,
      "min_width": null,
      "border": null,
      "align_items": null,
      "bottom": null,
      "_model_module": "@jupyter-widgets/base",
      "top": null,
      "grid_column": null,
      "overflow_y": null,
      "overflow_x": null,
      "grid_auto_flow": null,
      "grid_area": null,
      "grid_template_columns": null,
      "flex": null,
      "_model_name": "LayoutModel",
      "justify_items": null,
      "grid_row": null,
      "max_height": null,
      "align_content": null,
      "visibility": null,
      "align_self": null,
      "height": null,
      "min_height": null,
      "padding": null,
      "grid_auto_rows": null,
      "grid_gap": null,
      "max_width": null,
      "order": null,
      "_view_module_version": "1.2.0",
      "grid_template_areas": null,
      "object_position": null,
      "object_fit": null,
      "grid_auto_columns": null,
      "margin": null,
      "display": null,
      "left": null
     }
    },
    "25dc215ec2264611af6986947f946cc8": {
     "model_module": "@jupyter-widgets/controls",
     "model_name": "HBoxModel",
     "state": {
      "_view_name": "HBoxView",
      "_dom_classes": [],
      "_model_name": "HBoxModel",
      "_view_module": "@jupyter-widgets/controls",
      "_model_module_version": "1.5.0",
      "_view_count": null,
      "_view_module_version": "1.5.0",
      "box_style": "",
      "layout": "IPY_MODEL_d65a0cfddc84465e9f686cfecfd2f5f3",
      "_model_module": "@jupyter-widgets/controls",
      "children": [
       "IPY_MODEL_51764014d8d74b3bb2aef75b358f282e",
       "IPY_MODEL_df84370185d5429a93bb1998569fd907"
      ]
     }
    },
    "d65a0cfddc84465e9f686cfecfd2f5f3": {
     "model_module": "@jupyter-widgets/base",
     "model_name": "LayoutModel",
     "state": {
      "_view_name": "LayoutView",
      "grid_template_rows": null,
      "right": null,
      "justify_content": null,
      "_view_module": "@jupyter-widgets/base",
      "overflow": null,
      "_model_module_version": "1.2.0",
      "_view_count": null,
      "flex_flow": null,
      "width": null,
      "min_width": null,
      "border": null,
      "align_items": null,
      "bottom": null,
      "_model_module": "@jupyter-widgets/base",
      "top": null,
      "grid_column": null,
      "overflow_y": null,
      "overflow_x": null,
      "grid_auto_flow": null,
      "grid_area": null,
      "grid_template_columns": null,
      "flex": null,
      "_model_name": "LayoutModel",
      "justify_items": null,
      "grid_row": null,
      "max_height": null,
      "align_content": null,
      "visibility": null,
      "align_self": null,
      "height": null,
      "min_height": null,
      "padding": null,
      "grid_auto_rows": null,
      "grid_gap": null,
      "max_width": null,
      "order": null,
      "_view_module_version": "1.2.0",
      "grid_template_areas": null,
      "object_position": null,
      "object_fit": null,
      "grid_auto_columns": null,
      "margin": null,
      "display": null,
      "left": null
     }
    },
    "51764014d8d74b3bb2aef75b358f282e": {
     "model_module": "@jupyter-widgets/controls",
     "model_name": "FloatProgressModel",
     "state": {
      "_view_name": "ProgressView",
      "style": "IPY_MODEL_04e7401d289f4bb8b41cb4486ddcdaf1",
      "_dom_classes": [],
      "description": "100%",
      "_model_name": "FloatProgressModel",
      "bar_style": "success",
      "max": 824,
      "_view_module": "@jupyter-widgets/controls",
      "_model_module_version": "1.5.0",
      "value": 824,
      "_view_count": null,
      "_view_module_version": "1.5.0",
      "orientation": "horizontal",
      "min": 0,
      "description_tooltip": null,
      "_model_module": "@jupyter-widgets/controls",
      "layout": "IPY_MODEL_568f73ff115a46c4b85c1ebce8b3a5f5"
     }
    },
    "df84370185d5429a93bb1998569fd907": {
     "model_module": "@jupyter-widgets/controls",
     "model_name": "HTMLModel",
     "state": {
      "_view_name": "HTMLView",
      "style": "IPY_MODEL_94304026c37b4921ad7bf771143059ea",
      "_dom_classes": [],
      "description": "",
      "_model_name": "HTMLModel",
      "placeholder": "​",
      "_view_module": "@jupyter-widgets/controls",
      "_model_module_version": "1.5.0",
      "value": " 824/824 [00:26&lt;00:00, 31.12ba/s]",
      "_view_count": null,
      "_view_module_version": "1.5.0",
      "description_tooltip": null,
      "_model_module": "@jupyter-widgets/controls",
      "layout": "IPY_MODEL_554497f063134479a775aecfb1c6a555"
     }
    },
    "04e7401d289f4bb8b41cb4486ddcdaf1": {
     "model_module": "@jupyter-widgets/controls",
     "model_name": "ProgressStyleModel",
     "state": {
      "_view_name": "StyleView",
      "_model_name": "ProgressStyleModel",
      "description_width": "initial",
      "_view_module": "@jupyter-widgets/base",
      "_model_module_version": "1.5.0",
      "_view_count": null,
      "_view_module_version": "1.2.0",
      "bar_color": null,
      "_model_module": "@jupyter-widgets/controls"
     }
    },
    "568f73ff115a46c4b85c1ebce8b3a5f5": {
     "model_module": "@jupyter-widgets/base",
     "model_name": "LayoutModel",
     "state": {
      "_view_name": "LayoutView",
      "grid_template_rows": null,
      "right": null,
      "justify_content": null,
      "_view_module": "@jupyter-widgets/base",
      "overflow": null,
      "_model_module_version": "1.2.0",
      "_view_count": null,
      "flex_flow": null,
      "width": null,
      "min_width": null,
      "border": null,
      "align_items": null,
      "bottom": null,
      "_model_module": "@jupyter-widgets/base",
      "top": null,
      "grid_column": null,
      "overflow_y": null,
      "overflow_x": null,
      "grid_auto_flow": null,
      "grid_area": null,
      "grid_template_columns": null,
      "flex": null,
      "_model_name": "LayoutModel",
      "justify_items": null,
      "grid_row": null,
      "max_height": null,
      "align_content": null,
      "visibility": null,
      "align_self": null,
      "height": null,
      "min_height": null,
      "padding": null,
      "grid_auto_rows": null,
      "grid_gap": null,
      "max_width": null,
      "order": null,
      "_view_module_version": "1.2.0",
      "grid_template_areas": null,
      "object_position": null,
      "object_fit": null,
      "grid_auto_columns": null,
      "margin": null,
      "display": null,
      "left": null
     }
    },
    "94304026c37b4921ad7bf771143059ea": {
     "model_module": "@jupyter-widgets/controls",
     "model_name": "DescriptionStyleModel",
     "state": {
      "_view_name": "StyleView",
      "_model_name": "DescriptionStyleModel",
      "description_width": "",
      "_view_module": "@jupyter-widgets/base",
      "_model_module_version": "1.5.0",
      "_view_count": null,
      "_view_module_version": "1.2.0",
      "_model_module": "@jupyter-widgets/controls"
     }
    },
    "554497f063134479a775aecfb1c6a555": {
     "model_module": "@jupyter-widgets/base",
     "model_name": "LayoutModel",
     "state": {
      "_view_name": "LayoutView",
      "grid_template_rows": null,
      "right": null,
      "justify_content": null,
      "_view_module": "@jupyter-widgets/base",
      "overflow": null,
      "_model_module_version": "1.2.0",
      "_view_count": null,
      "flex_flow": null,
      "width": null,
      "min_width": null,
      "border": null,
      "align_items": null,
      "bottom": null,
      "_model_module": "@jupyter-widgets/base",
      "top": null,
      "grid_column": null,
      "overflow_y": null,
      "overflow_x": null,
      "grid_auto_flow": null,
      "grid_area": null,
      "grid_template_columns": null,
      "flex": null,
      "_model_name": "LayoutModel",
      "justify_items": null,
      "grid_row": null,
      "max_height": null,
      "align_content": null,
      "visibility": null,
      "align_self": null,
      "height": null,
      "min_height": null,
      "padding": null,
      "grid_auto_rows": null,
      "grid_gap": null,
      "max_width": null,
      "order": null,
      "_view_module_version": "1.2.0",
      "grid_template_areas": null,
      "object_position": null,
      "object_fit": null,
      "grid_auto_columns": null,
      "margin": null,
      "display": null,
      "left": null
     }
    },
    "52accaa8729b41f39e6b63662e082389": {
     "model_module": "@jupyter-widgets/controls",
     "model_name": "HBoxModel",
     "state": {
      "_view_name": "HBoxView",
      "_dom_classes": [],
      "_model_name": "HBoxModel",
      "_view_module": "@jupyter-widgets/controls",
      "_model_module_version": "1.5.0",
      "_view_count": null,
      "_view_module_version": "1.5.0",
      "box_style": "",
      "layout": "IPY_MODEL_c6a80ce651f947eea6c9cf3a44907c3e",
      "_model_module": "@jupyter-widgets/controls",
      "children": [
       "IPY_MODEL_da3e32f270634dadb6f3fddd5ade1769",
       "IPY_MODEL_7568cbc05d5e4ec482946fc645af4b1c"
      ]
     }
    },
    "c6a80ce651f947eea6c9cf3a44907c3e": {
     "model_module": "@jupyter-widgets/base",
     "model_name": "LayoutModel",
     "state": {
      "_view_name": "LayoutView",
      "grid_template_rows": null,
      "right": null,
      "justify_content": null,
      "_view_module": "@jupyter-widgets/base",
      "overflow": null,
      "_model_module_version": "1.2.0",
      "_view_count": null,
      "flex_flow": null,
      "width": null,
      "min_width": null,
      "border": null,
      "align_items": null,
      "bottom": null,
      "_model_module": "@jupyter-widgets/base",
      "top": null,
      "grid_column": null,
      "overflow_y": null,
      "overflow_x": null,
      "grid_auto_flow": null,
      "grid_area": null,
      "grid_template_columns": null,
      "flex": null,
      "_model_name": "LayoutModel",
      "justify_items": null,
      "grid_row": null,
      "max_height": null,
      "align_content": null,
      "visibility": null,
      "align_self": null,
      "height": null,
      "min_height": null,
      "padding": null,
      "grid_auto_rows": null,
      "grid_gap": null,
      "max_width": null,
      "order": null,
      "_view_module_version": "1.2.0",
      "grid_template_areas": null,
      "object_position": null,
      "object_fit": null,
      "grid_auto_columns": null,
      "margin": null,
      "display": null,
      "left": null
     }
    },
    "da3e32f270634dadb6f3fddd5ade1769": {
     "model_module": "@jupyter-widgets/controls",
     "model_name": "FloatProgressModel",
     "state": {
      "_view_name": "ProgressView",
      "style": "IPY_MODEL_61640a2a4ea64bb19011c9e5d56545c7",
      "_dom_classes": [],
      "description": "Downloading: 100%",
      "_model_name": "FloatProgressModel",
      "bar_style": "success",
      "max": 536063208,
      "_view_module": "@jupyter-widgets/controls",
      "_model_module_version": "1.5.0",
      "value": 536063208,
      "_view_count": null,
      "_view_module_version": "1.5.0",
      "orientation": "horizontal",
      "min": 0,
      "description_tooltip": null,
      "_model_module": "@jupyter-widgets/controls",
      "layout": "IPY_MODEL_58f8279c7dfd437d8e7df03515dd3cb2"
     }
    },
    "7568cbc05d5e4ec482946fc645af4b1c": {
     "model_module": "@jupyter-widgets/controls",
     "model_name": "HTMLModel",
     "state": {
      "_view_name": "HTMLView",
      "style": "IPY_MODEL_cbec108db10c4e69bf38b8787f83feb2",
      "_dom_classes": [],
      "description": "",
      "_model_name": "HTMLModel",
      "placeholder": "​",
      "_view_module": "@jupyter-widgets/controls",
      "_model_module_version": "1.5.0",
      "value": " 536M/536M [00:10&lt;00:00, 49.9MB/s]",
      "_view_count": null,
      "_view_module_version": "1.5.0",
      "description_tooltip": null,
      "_model_module": "@jupyter-widgets/controls",
      "layout": "IPY_MODEL_eab4d301ce3b4d96b7e1894ec3660d53"
     }
    },
    "61640a2a4ea64bb19011c9e5d56545c7": {
     "model_module": "@jupyter-widgets/controls",
     "model_name": "ProgressStyleModel",
     "state": {
      "_view_name": "StyleView",
      "_model_name": "ProgressStyleModel",
      "description_width": "initial",
      "_view_module": "@jupyter-widgets/base",
      "_model_module_version": "1.5.0",
      "_view_count": null,
      "_view_module_version": "1.2.0",
      "bar_color": null,
      "_model_module": "@jupyter-widgets/controls"
     }
    },
    "58f8279c7dfd437d8e7df03515dd3cb2": {
     "model_module": "@jupyter-widgets/base",
     "model_name": "LayoutModel",
     "state": {
      "_view_name": "LayoutView",
      "grid_template_rows": null,
      "right": null,
      "justify_content": null,
      "_view_module": "@jupyter-widgets/base",
      "overflow": null,
      "_model_module_version": "1.2.0",
      "_view_count": null,
      "flex_flow": null,
      "width": null,
      "min_width": null,
      "border": null,
      "align_items": null,
      "bottom": null,
      "_model_module": "@jupyter-widgets/base",
      "top": null,
      "grid_column": null,
      "overflow_y": null,
      "overflow_x": null,
      "grid_auto_flow": null,
      "grid_area": null,
      "grid_template_columns": null,
      "flex": null,
      "_model_name": "LayoutModel",
      "justify_items": null,
      "grid_row": null,
      "max_height": null,
      "align_content": null,
      "visibility": null,
      "align_self": null,
      "height": null,
      "min_height": null,
      "padding": null,
      "grid_auto_rows": null,
      "grid_gap": null,
      "max_width": null,
      "order": null,
      "_view_module_version": "1.2.0",
      "grid_template_areas": null,
      "object_position": null,
      "object_fit": null,
      "grid_auto_columns": null,
      "margin": null,
      "display": null,
      "left": null
     }
    },
    "cbec108db10c4e69bf38b8787f83feb2": {
     "model_module": "@jupyter-widgets/controls",
     "model_name": "DescriptionStyleModel",
     "state": {
      "_view_name": "StyleView",
      "_model_name": "DescriptionStyleModel",
      "description_width": "",
      "_view_module": "@jupyter-widgets/base",
      "_model_module_version": "1.5.0",
      "_view_count": null,
      "_view_module_version": "1.2.0",
      "_model_module": "@jupyter-widgets/controls"
     }
    },
    "eab4d301ce3b4d96b7e1894ec3660d53": {
     "model_module": "@jupyter-widgets/base",
     "model_name": "LayoutModel",
     "state": {
      "_view_name": "LayoutView",
      "grid_template_rows": null,
      "right": null,
      "justify_content": null,
      "_view_module": "@jupyter-widgets/base",
      "overflow": null,
      "_model_module_version": "1.2.0",
      "_view_count": null,
      "flex_flow": null,
      "width": null,
      "min_width": null,
      "border": null,
      "align_items": null,
      "bottom": null,
      "_model_module": "@jupyter-widgets/base",
      "top": null,
      "grid_column": null,
      "overflow_y": null,
      "overflow_x": null,
      "grid_auto_flow": null,
      "grid_area": null,
      "grid_template_columns": null,
      "flex": null,
      "_model_name": "LayoutModel",
      "justify_items": null,
      "grid_row": null,
      "max_height": null,
      "align_content": null,
      "visibility": null,
      "align_self": null,
      "height": null,
      "min_height": null,
      "padding": null,
      "grid_auto_rows": null,
      "grid_gap": null,
      "max_width": null,
      "order": null,
      "_view_module_version": "1.2.0",
      "grid_template_areas": null,
      "object_position": null,
      "object_fit": null,
      "grid_auto_columns": null,
      "margin": null,
      "display": null,
      "left": null
     }
    },
    "a9beafc299b74065a79c73df6798be1a": {
     "model_module": "@jupyter-widgets/controls",
     "model_name": "VBoxModel",
     "state": {
      "_view_name": "VBoxView",
      "_dom_classes": [],
      "_model_name": "VBoxModel",
      "_view_module": "@jupyter-widgets/controls",
      "_model_module_version": "1.5.0",
      "_view_count": null,
      "_view_module_version": "1.5.0",
      "box_style": "",
      "layout": "IPY_MODEL_b1ee2fd5370644419b729c83f1a8fa38",
      "_model_module": "@jupyter-widgets/controls",
      "children": [
       "IPY_MODEL_8eb59078c12b412ca2a08ca367e027aa",
       "IPY_MODEL_9109cc47d62f427f96f6ca17e84a8479"
      ]
     }
    },
    "b1ee2fd5370644419b729c83f1a8fa38": {
     "model_module": "@jupyter-widgets/base",
     "model_name": "LayoutModel",
     "state": {
      "_view_name": "LayoutView",
      "grid_template_rows": null,
      "right": null,
      "justify_content": null,
      "_view_module": "@jupyter-widgets/base",
      "overflow": null,
      "_model_module_version": "1.2.0",
      "_view_count": null,
      "flex_flow": null,
      "width": null,
      "min_width": null,
      "border": null,
      "align_items": null,
      "bottom": null,
      "_model_module": "@jupyter-widgets/base",
      "top": null,
      "grid_column": null,
      "overflow_y": null,
      "overflow_x": null,
      "grid_auto_flow": null,
      "grid_area": null,
      "grid_template_columns": null,
      "flex": null,
      "_model_name": "LayoutModel",
      "justify_items": null,
      "grid_row": null,
      "max_height": null,
      "align_content": null,
      "visibility": null,
      "align_self": null,
      "height": null,
      "min_height": null,
      "padding": null,
      "grid_auto_rows": null,
      "grid_gap": null,
      "max_width": null,
      "order": null,
      "_view_module_version": "1.2.0",
      "grid_template_areas": null,
      "object_position": null,
      "object_fit": null,
      "grid_auto_columns": null,
      "margin": null,
      "display": null,
      "left": null
     }
    },
    "8eb59078c12b412ca2a08ca367e027aa": {
     "model_module": "@jupyter-widgets/controls",
     "model_name": "LabelModel",
     "state": {
      "_view_name": "LabelView",
      "style": "IPY_MODEL_2cb9792868834fee87877de6b7872cd3",
      "_dom_classes": [],
      "description": "",
      "_model_name": "LabelModel",
      "placeholder": "​",
      "_view_module": "@jupyter-widgets/controls",
      "_model_module_version": "1.5.0",
      "value": " 16.36MB of 16.36MB uploaded (0.00MB deduped)\r",
      "_view_count": null,
      "_view_module_version": "1.5.0",
      "description_tooltip": null,
      "_model_module": "@jupyter-widgets/controls",
      "layout": "IPY_MODEL_20e46605fad7465d8edd8eb59ce51ffc"
     }
    },
    "9109cc47d62f427f96f6ca17e84a8479": {
     "model_module": "@jupyter-widgets/controls",
     "model_name": "FloatProgressModel",
     "state": {
      "_view_name": "ProgressView",
      "style": "IPY_MODEL_822ede5fc9be421b9b4b71860c971322",
      "_dom_classes": [],
      "description": "",
      "_model_name": "FloatProgressModel",
      "bar_style": "",
      "max": 1,
      "_view_module": "@jupyter-widgets/controls",
      "_model_module_version": "1.5.0",
      "value": 1,
      "_view_count": null,
      "_view_module_version": "1.5.0",
      "orientation": "horizontal",
      "min": 0,
      "description_tooltip": null,
      "_model_module": "@jupyter-widgets/controls",
      "layout": "IPY_MODEL_ea7c2aba14e84d5babe893fbd1ecd91e"
     }
    },
    "2cb9792868834fee87877de6b7872cd3": {
     "model_module": "@jupyter-widgets/controls",
     "model_name": "DescriptionStyleModel",
     "state": {
      "_view_name": "StyleView",
      "_model_name": "DescriptionStyleModel",
      "description_width": "",
      "_view_module": "@jupyter-widgets/base",
      "_model_module_version": "1.5.0",
      "_view_count": null,
      "_view_module_version": "1.2.0",
      "_model_module": "@jupyter-widgets/controls"
     }
    },
    "20e46605fad7465d8edd8eb59ce51ffc": {
     "model_module": "@jupyter-widgets/base",
     "model_name": "LayoutModel",
     "state": {
      "_view_name": "LayoutView",
      "grid_template_rows": null,
      "right": null,
      "justify_content": null,
      "_view_module": "@jupyter-widgets/base",
      "overflow": null,
      "_model_module_version": "1.2.0",
      "_view_count": null,
      "flex_flow": null,
      "width": null,
      "min_width": null,
      "border": null,
      "align_items": null,
      "bottom": null,
      "_model_module": "@jupyter-widgets/base",
      "top": null,
      "grid_column": null,
      "overflow_y": null,
      "overflow_x": null,
      "grid_auto_flow": null,
      "grid_area": null,
      "grid_template_columns": null,
      "flex": null,
      "_model_name": "LayoutModel",
      "justify_items": null,
      "grid_row": null,
      "max_height": null,
      "align_content": null,
      "visibility": null,
      "align_self": null,
      "height": null,
      "min_height": null,
      "padding": null,
      "grid_auto_rows": null,
      "grid_gap": null,
      "max_width": null,
      "order": null,
      "_view_module_version": "1.2.0",
      "grid_template_areas": null,
      "object_position": null,
      "object_fit": null,
      "grid_auto_columns": null,
      "margin": null,
      "display": null,
      "left": null
     }
    },
    "822ede5fc9be421b9b4b71860c971322": {
     "model_module": "@jupyter-widgets/controls",
     "model_name": "ProgressStyleModel",
     "state": {
      "_view_name": "StyleView",
      "_model_name": "ProgressStyleModel",
      "description_width": "",
      "_view_module": "@jupyter-widgets/base",
      "_model_module_version": "1.5.0",
      "_view_count": null,
      "_view_module_version": "1.2.0",
      "bar_color": null,
      "_model_module": "@jupyter-widgets/controls"
     }
    },
    "ea7c2aba14e84d5babe893fbd1ecd91e": {
     "model_module": "@jupyter-widgets/base",
     "model_name": "LayoutModel",
     "state": {
      "_view_name": "LayoutView",
      "grid_template_rows": null,
      "right": null,
      "justify_content": null,
      "_view_module": "@jupyter-widgets/base",
      "overflow": null,
      "_model_module_version": "1.2.0",
      "_view_count": null,
      "flex_flow": null,
      "width": null,
      "min_width": null,
      "border": null,
      "align_items": null,
      "bottom": null,
      "_model_module": "@jupyter-widgets/base",
      "top": null,
      "grid_column": null,
      "overflow_y": null,
      "overflow_x": null,
      "grid_auto_flow": null,
      "grid_area": null,
      "grid_template_columns": null,
      "flex": null,
      "_model_name": "LayoutModel",
      "justify_items": null,
      "grid_row": null,
      "max_height": null,
      "align_content": null,
      "visibility": null,
      "align_self": null,
      "height": null,
      "min_height": null,
      "padding": null,
      "grid_auto_rows": null,
      "grid_gap": null,
      "max_width": null,
      "order": null,
      "_view_module_version": "1.2.0",
      "grid_template_areas": null,
      "object_position": null,
      "object_fit": null,
      "grid_auto_columns": null,
      "margin": null,
      "display": null,
      "left": null
     }
    }
   }
  }
 },
 "cells": [
  {
   "cell_type": "markdown",
   "source": [
    "[![Open In Colab](https://colab.research.google.com/assets/colab-badge.svg)](https://github.com/cdrc1103/MasterThesis/blob/master/Experiments/MultiClass/BERT.ipynb)"
   ],
   "metadata": {
    "collapsed": false,
    "pycharm": {
     "name": "#%% md\n"
    }
   }
  },
  {
   "cell_type": "markdown",
   "metadata": {
    "id": "QZfYS_c4AvIL"
   },
   "source": [
    "### Setup Notebook"
   ]
  },
  {
   "cell_type": "code",
   "metadata": {
    "colab": {
     "base_uri": "https://localhost:8080/"
    },
    "id": "4kryQhZfMxu2",
    "executionInfo": {
     "status": "ok",
     "timestamp": 1622203729528,
     "user_tz": -120,
     "elapsed": 580,
     "user": {
      "displayName": "Cedric Issel",
      "photoUrl": "",
      "userId": "07537599327357681724"
     }
    },
    "outputId": "8250bfd5-affe-4e98-c3d9-48726ff3cf94"
   },
   "source": [
    "!nvidia-smi"
   ],
   "execution_count": 1,
   "outputs": [
    {
     "output_type": "stream",
     "text": [
      "Fri May 28 12:08:48 2021       \n",
      "+-----------------------------------------------------------------------------+\n",
      "| NVIDIA-SMI 465.19.01    Driver Version: 460.32.03    CUDA Version: 11.2     |\n",
      "|-------------------------------+----------------------+----------------------+\n",
      "| GPU  Name        Persistence-M| Bus-Id        Disp.A | Volatile Uncorr. ECC |\n",
      "| Fan  Temp  Perf  Pwr:Usage/Cap|         Memory-Usage | GPU-Util  Compute M. |\n",
      "|                               |                      |               MIG M. |\n",
      "|===============================+======================+======================|\n",
      "|   0  Tesla T4            Off  | 00000000:00:04.0 Off |                    0 |\n",
      "| N/A   58C    P8    11W /  70W |      0MiB / 15109MiB |      0%      Default |\n",
      "|                               |                      |                  N/A |\n",
      "+-------------------------------+----------------------+----------------------+\n",
      "                                                                               \n",
      "+-----------------------------------------------------------------------------+\n",
      "| Processes:                                                                  |\n",
      "|  GPU   GI   CI        PID   Type   Process name                  GPU Memory |\n",
      "|        ID   ID                                                   Usage      |\n",
      "|=============================================================================|\n",
      "|  No running processes found                                                 |\n",
      "+-----------------------------------------------------------------------------+\n"
     ],
     "name": "stdout"
    }
   ]
  },
  {
   "cell_type": "code",
   "metadata": {
    "id": "fJCzGfbwJvjM",
    "executionInfo": {
     "status": "ok",
     "timestamp": 1622203746217,
     "user_tz": -120,
     "elapsed": 16693,
     "user": {
      "displayName": "Cedric Issel",
      "photoUrl": "",
      "userId": "07537599327357681724"
     }
    }
   },
   "source": [
    "%%capture\n",
    "%matplotlib inline\n",
    "!pip install wandb\n",
    "!pip install -qq transformers\n",
    "!pip install datasets"
   ],
   "execution_count": 2,
   "outputs": []
  },
  {
   "cell_type": "code",
   "metadata": {
    "colab": {
     "base_uri": "https://localhost:8080/"
    },
    "id": "bd8hN16VJ72r",
    "executionInfo": {
     "status": "ok",
     "timestamp": 1622203766829,
     "user_tz": -120,
     "elapsed": 20632,
     "user": {
      "displayName": "Cedric Issel",
      "photoUrl": "",
      "userId": "07537599327357681724"
     }
    },
    "outputId": "d83ce30c-721e-4973-8159-1a907fbac1b5"
   },
   "source": [
    "from google.colab import drive\n",
    "drive.mount('/content/gdrive', force_remount=True)"
   ],
   "execution_count": 3,
   "outputs": [
    {
     "output_type": "stream",
     "text": [
      "Mounted at /content/gdrive\n"
     ],
     "name": "stdout"
    }
   ]
  },
  {
   "cell_type": "markdown",
   "metadata": {
    "id": "XjrnXGQYA5Mg"
   },
   "source": [
    "## Data & Parameters\n",
    "\n"
   ]
  },
  {
   "cell_type": "code",
   "metadata": {
    "colab": {
     "base_uri": "https://localhost:8080/"
    },
    "id": "KSUYkbL8G0Vh",
    "executionInfo": {
     "status": "ok",
     "timestamp": 1622203771908,
     "user_tz": -120,
     "elapsed": 5084,
     "user": {
      "displayName": "Cedric Issel",
      "photoUrl": "",
      "userId": "07537599327357681724"
     }
    },
    "outputId": "0b0eaefb-5e98-44fd-d820-2f76402f7fbc"
   },
   "source": [
    "import json\n",
    "from pathlib import Path\n",
    "import pandas as pd\n",
    "\n",
    "RUN_ID = \"1.1_BERT768UNT\"\n",
    "BASE_DIR = Path(f\"gdrive/MyDrive/Colab Notebooks/Thesis\")\n",
    "RUN_DIR = BASE_DIR / \"MultiClass/Runs\"\n",
    "\n",
    "# Load parameters\n",
    "class Parameter():\n",
    "  def __init__(self):\n",
    "    self.__dict__ = {\n",
    "      \"project_name\": \"thesis_multi-class\",\n",
    "      \"train_dataset\": \"train_UNT.csv\",\n",
    "      \"test_dataset\": \"test_UNT.csv\",\n",
    "      \"embedding_dataset\": \"bert-base-uncased\",\n",
    "      \"max_token_length\": 30, # number of words/subwords, an instance is truncated to\n",
    "      \"max_tokens\": 30000, # vocabulary size\n",
    "      \"embedding_dim\": 768, # dimension of the pre-trained embeddings\n",
    "      \"batch_size\": 32,\n",
    "      \"learning_rate\": 3e-5,\n",
    "      \"epochs\": 3,\n",
    "      \"seed\": 1, # random seed for reproducability\n",
    "      \"logging\": True, # whether to log to the wandb database (True) or to disk (False)\n",
    "      \"n_classes\": 19, # how many unique labels there are in the data set\n",
    "      \"in_feature\": \"abstract\", # feature used for training\n",
    "      \"out_feature\": \"label\", # feature to predict\n",
    "      \"sample_weights\": False, # whether weights for each training instance should be calculated depending on the label frequency\n",
    "      \"output_size\": 768, # output size of the language processing layer, i.e. the CNN, GRU etc. layer\n",
    "      \"dropout_rate\": 0.1, # for regularization\n",
    "    }\n",
    "\n",
    "# Save to disk          \n",
    "PARAMS = Parameter()\n",
    "with open(RUN_DIR / f\"{RUN_ID}.json\", \"w\") as f:\n",
    "  json.dump(PARAMS.__dict__, f)\n",
    "\n",
    "# Read data sets\n",
    "train_df = pd.read_csv(BASE_DIR / PARAMS.train_dataset, index_col=0)\n",
    "train_df = train_df.sample(frac=1, random_state=PARAMS.seed)\n",
    "test_df = pd.read_csv(BASE_DIR / PARAMS.test_dataset, index_col=0)\n",
    "test_df = test_df.sample(frac=1, random_state=PARAMS.seed)\n",
    "\n",
    "# Print stats\n",
    "print(f\"Train data set:{len(train_df)} instances\")\n",
    "print(f\"Test data set:{len(test_df)} instances\")"
   ],
   "execution_count": 4,
   "outputs": [
    {
     "output_type": "stream",
     "text": [
      "Train data set:79075 instances\n",
      "Test data set:26359 instances\n"
     ],
     "name": "stdout"
    }
   ]
  },
  {
   "cell_type": "markdown",
   "metadata": {
    "id": "fxkr8VbgTtl4"
   },
   "source": [
    "## Configure logging"
   ]
  },
  {
   "cell_type": "code",
   "metadata": {
    "id": "R-5Yz7jHTo3W",
    "colab": {
     "base_uri": "https://localhost:8080/",
     "height": 196
    },
    "executionInfo": {
     "status": "ok",
     "timestamp": 1622203874407,
     "user_tz": -120,
     "elapsed": 102508,
     "user": {
      "displayName": "Cedric Issel",
      "photoUrl": "",
      "userId": "07537599327357681724"
     }
    },
    "outputId": "8749ed16-e757-43c5-c78a-2e0014b5a726"
   },
   "source": [
    "# Logging\n",
    "import wandb\n",
    "\n",
    "# log to wandb\n",
    "if PARAMS.logging:\n",
    "    !wandb login\n",
    "    run = wandb.init(project=PARAMS.project_name, sync_tensorboard=True)\n",
    "    run.name = RUN_ID\n",
    "    log_dir = Path(wandb.run.dir)\n",
    "    wandb.config.update(PARAMS.__dict__)\n",
    "# log to disk\n",
    "else:\n",
    "    log_dir = RUN_DIR"
   ],
   "execution_count": 5,
   "outputs": [
    {
     "output_type": "stream",
     "text": [
      "\u001B[34m\u001B[1mwandb\u001B[0m: You can find your API key in your browser here: https://wandb.ai/authorize\n",
      "\u001B[34m\u001B[1mwandb\u001B[0m: Paste an API key from your profile and hit enter: \n",
      "\u001B[34m\u001B[1mwandb\u001B[0m: Appending key for api.wandb.ai to your netrc file: /root/.netrc\n"
     ],
     "name": "stdout"
    },
    {
     "output_type": "stream",
     "text": [
      "\u001B[34m\u001B[1mwandb\u001B[0m: Currently logged in as: \u001B[33mcdrc1103\u001B[0m (use `wandb login --relogin` to force relogin)\n"
     ],
     "name": "stderr"
    },
    {
     "output_type": "display_data",
     "data": {
      "text/html": [
       "\n",
       "                Tracking run with wandb version 0.10.31<br/>\n",
       "                Syncing run <strong style=\"color:#cdcd00\">effortless-vortex-27</strong> to <a href=\"https://wandb.ai\" target=\"_blank\">Weights & Biases</a> <a href=\"https://docs.wandb.com/integrations/jupyter.html\" target=\"_blank\">(Documentation)</a>.<br/>\n",
       "                Project page: <a href=\"https://wandb.ai/cdrc1103/thesis_multi-class\" target=\"_blank\">https://wandb.ai/cdrc1103/thesis_multi-class</a><br/>\n",
       "                Run page: <a href=\"https://wandb.ai/cdrc1103/thesis_multi-class/runs/36qnu904\" target=\"_blank\">https://wandb.ai/cdrc1103/thesis_multi-class/runs/36qnu904</a><br/>\n",
       "                Run data is saved locally in <code>/content/wandb/run-20210528_121111-36qnu904</code><br/><br/>\n",
       "            "
      ],
      "text/plain": [
       "<IPython.core.display.HTML object>"
      ]
     },
     "metadata": {
      "tags": []
     }
    }
   ]
  },
  {
   "cell_type": "markdown",
   "metadata": {
    "id": "oilWdVtbYiDd"
   },
   "source": [
    "## Model"
   ]
  },
  {
   "cell_type": "code",
   "metadata": {
    "colab": {
     "base_uri": "https://localhost:8080/",
     "height": 537,
     "referenced_widgets": [
      "c1e2f924ccba4241ac69550299381b81",
      "647e03ed841244c1bac9a880c2db13cc",
      "bacd228b4dce4993b9b4a9a0209e5004",
      "dee7d879bf4e47e4b727a0352142f34b",
      "734fb57f0ac44feb86c31e47e787d602",
      "ed61b811c481431d9d44f639afeab2b0",
      "879637d6760d4a45842cb353329d9688",
      "dbcfcc275f0a41a5a822c5258e7119d7",
      "4baa545adf1b43529a830614da14892e",
      "e45c8f67044a4c1e811d1263156aab93",
      "f0dad6813d9a4e23bb7ed2f15acedc06",
      "8efa765238d74583b9fe95143ea48160",
      "018a0eeba1244e5cbe4e17e054524078",
      "bb4f48a106944c168791bbd08ead7687",
      "34c98cd2868a44b0a8d12790ebf732d5",
      "c147032662e24475a0ddf4786f4fec45",
      "fda1b47ec34e420c9067639fd0a1b18a",
      "021e23c10e6f40268c10a7f54e698dbe",
      "6fbab5f5f8ce4b1fb485de80ddf5aa47",
      "8f15b05c925140cd855f6ba9978a539b",
      "0a685919610446139733836fa9289088",
      "adff45c610b549189d6b08b9b948eb96",
      "2f1d747a8d2142d39f1fd3f1d5048568",
      "7f50a8fd5faa40808f7e869701acb786",
      "f4b9101ac8ad461c9d4055ea30d7f457",
      "6575aebf55d94d3db54186f231dd4e30",
      "d34815051cd74ff3955f02ff04cbf4c5",
      "1e5575353daf4d50b33664a7b922c2cc",
      "cf5dc7fcbf974ddea82d019e1787cb06",
      "7c246ebea76b42b4b2057a9097fd1957",
      "4f199246751f4e1a9958b3209342c432",
      "26ae5f2f127e4156aa7c54c57452b27c",
      "2cec061ede96460bb238832a9a0c1732",
      "98a9cef2861b4c4fb8e30f07013b445e",
      "56086abc48704bdb96b7540d9e365eb2",
      "287daabeeac04abf93ae184c39ac9fb7",
      "c7c996e0fa824f378982d4a53aa7bbd3",
      "a2130fbae57d4e879ee63339f926e562",
      "86f2de35402c405dbb7fa0c23ea722ec",
      "b2ec3ed0da684b5c8947b3ef1aed7d5c",
      "25dc215ec2264611af6986947f946cc8",
      "d65a0cfddc84465e9f686cfecfd2f5f3",
      "51764014d8d74b3bb2aef75b358f282e",
      "df84370185d5429a93bb1998569fd907",
      "04e7401d289f4bb8b41cb4486ddcdaf1",
      "568f73ff115a46c4b85c1ebce8b3a5f5",
      "94304026c37b4921ad7bf771143059ea",
      "554497f063134479a775aecfb1c6a555",
      "52accaa8729b41f39e6b63662e082389",
      "c6a80ce651f947eea6c9cf3a44907c3e",
      "da3e32f270634dadb6f3fddd5ade1769",
      "7568cbc05d5e4ec482946fc645af4b1c",
      "61640a2a4ea64bb19011c9e5d56545c7",
      "58f8279c7dfd437d8e7df03515dd3cb2",
      "cbec108db10c4e69bf38b8787f83feb2",
      "eab4d301ce3b4d96b7e1894ec3660d53"
     ]
    },
    "id": "yAy8wMPlKO9-",
    "executionInfo": {
     "status": "ok",
     "timestamp": 1622203951411,
     "user_tz": -120,
     "elapsed": 77015,
     "user": {
      "displayName": "Cedric Issel",
      "photoUrl": "",
      "userId": "07537599327357681724"
     }
    },
    "outputId": "82205b56-30a2-479c-f14a-0923f20e36e1"
   },
   "source": [
    "\"\"\" Dependencies \"\"\"\n",
    "import numpy as np\n",
    "import tensorflow as tf\n",
    "from tensorflow.keras.layers import Input, Dropout, Dense, Bidirectional, GRU, Embedding\n",
    "from tensorflow.keras.layers.experimental.preprocessing import TextVectorization\n",
    "from tensorflow.keras.models import Model\n",
    "from tensorflow.keras.optimizers import Adam\n",
    "from tensorflow.keras.losses import CategoricalCrossentropy\n",
    "from tensorflow.keras.metrics import Precision, Recall, CategoricalAccuracy\n",
    "from tensorflow.keras.utils import to_categorical\n",
    "from tensorflow.keras.initializers import Constant\n",
    "from tensorflow.keras.preprocessing.sequence import pad_sequences\n",
    "from tensorflow.keras.utils import plot_model\n",
    "from transformers import TFBertModel, BertTokenizerFast, BertConfig\n",
    "from datasets import Dataset\n",
    "\n",
    "\"\"\" Apply weights to samples \"\"\"\n",
    "if PARAMS.sample_weights:\n",
    "  # Determine class weights to reduce class imbalance\n",
    "  class_weight = {}\n",
    "  total_instances = len(train_df)\n",
    "  class_freqs = train_df[PARAMS.out_feature].value_counts()\n",
    "  for class_id, freq in zip(class_freqs.index, class_freqs):\n",
    "      class_weight[class_id] = total_instances / (freq * PARAMS.n_classes)\n",
    "  sample_weight = np.zeros(len(train_df))\n",
    "  for i, class_id in enumerate(train_df[PARAMS.out_feature]):\n",
    "      sample_weight[i] = class_weight[class_id]\n",
    "\n",
    "\"\"\" Configure tokenizer \"\"\"\n",
    "config = BertConfig.from_pretrained(PARAMS.embedding_dataset)\n",
    "config.num_labels=PARAMS.n_classes\n",
    "tokenizer = BertTokenizerFast.from_pretrained(PARAMS.embedding_dataset, config=config)\n",
    "\n",
    "\"\"\" Create TF datasets \"\"\"\n",
    "# Aggregate features\n",
    "train_ds = Dataset.from_pandas(train_df)\n",
    "test_ds = Dataset.from_pandas(test_df)\n",
    "\n",
    "# Tokenize\n",
    "def tokenize(batch):\n",
    "    return tokenizer(batch[PARAMS.in_feature], truncation=True, padding=True, max_length=PARAMS.max_token_length)\n",
    "train_ds = train_ds.map(tokenize, batched=True, batch_size=32)\n",
    "test_ds = test_ds.map(tokenize, batched=True, batch_size=32)\n",
    "\n",
    "# Transform to tensorflow data set \n",
    "train_ds.set_format(type='tensorflow', columns=['attention_mask','input_ids', 'label'])\n",
    "train_features = {x: train_ds[x].to_tensor(default_value=0) for x in ['input_ids', 'attention_mask']}\n",
    "train_ds = (train_features, to_categorical(train_ds[PARAMS.out_feature], num_classes=PARAMS.n_classes))\n",
    "# Whether to add weights to data set\n",
    "if PARAMS.sample_weights:\n",
    "  train_ds = train_ds + (sample_weight,)\n",
    "train_ds = tf.data.Dataset.from_tensor_slices(train_ds).batch(32)\n",
    "# Transform validation data set\n",
    "test_ds.set_format(type='tensorflow', columns=['attention_mask','input_ids', 'label'])\n",
    "test_features = {x: test_ds[x].to_tensor(default_value=0) for x in ['input_ids', 'attention_mask']}\n",
    "test_ds = tf.data.Dataset.from_tensor_slices((test_features, to_categorical(test_ds[PARAMS.out_feature], num_classes=PARAMS.n_classes))).batch(32)\n",
    "\n",
    "\"\"\" Define model architecture \"\"\"\n",
    "def build_model():\n",
    "  input_ids = Input(shape=PARAMS.max_token_length, name='input_ids', dtype='int32')\n",
    "  attention_mask = Input(shape=PARAMS.max_token_length, name='attention_mask', dtype='int32')\n",
    "  transformer_model = TFBertModel.from_pretrained(PARAMS.embedding_dataset, config=config)\n",
    "  embedding = transformer_model.layers[0](input_ids, attention_mask=attention_mask)[1]\n",
    "  dropout = Dropout(PARAMS.dropout_rate)(embedding)\n",
    "  output = Dense(PARAMS.n_classes, activation='softmax')(dropout)\n",
    "  return Model(inputs={\"input_ids\": input_ids, \"attention_mask\": attention_mask}, outputs=output)\n",
    "\n",
    "model = build_model()\n",
    "\n",
    "\"\"\" Setup otimization \"\"\"\n",
    "# Set an optimizer\n",
    "optimizer = tf.keras.optimizers.Adam(learning_rate=PARAMS.learning_rate, epsilon=1e-08, clipnorm=1.0)\n",
    "# Set loss and metrics\n",
    "loss = CategoricalCrossentropy()\n",
    "metrics = [\n",
    "  Precision(name='precision'), # tp / (tp+fp)\n",
    "  CategoricalAccuracy(name='accuracy'), # (tp+tn) / (tp+fp+tn+fn)\n",
    "  Recall(name='recall') # tp / (tp + fn)\n",
    "]\n",
    "\n",
    "# Compile the model\n",
    "model.compile(\n",
    "  optimizer=optimizer,\n",
    "  loss=loss,\n",
    "  metrics=metrics)"
   ],
   "execution_count": 6,
   "outputs": [
    {
     "output_type": "display_data",
     "data": {
      "application/vnd.jupyter.widget-view+json": {
       "model_id": "c1e2f924ccba4241ac69550299381b81",
       "version_minor": 0,
       "version_major": 2
      },
      "text/plain": [
       "HBox(children=(FloatProgress(value=0.0, description='Downloading', max=570.0, style=ProgressStyle(description_…"
      ]
     },
     "metadata": {
      "tags": []
     }
    },
    {
     "output_type": "stream",
     "text": [
      "\n"
     ],
     "name": "stdout"
    },
    {
     "output_type": "display_data",
     "data": {
      "application/vnd.jupyter.widget-view+json": {
       "model_id": "4baa545adf1b43529a830614da14892e",
       "version_minor": 0,
       "version_major": 2
      },
      "text/plain": [
       "HBox(children=(FloatProgress(value=0.0, description='Downloading', max=231508.0, style=ProgressStyle(descripti…"
      ]
     },
     "metadata": {
      "tags": []
     }
    },
    {
     "output_type": "stream",
     "text": [
      "\n"
     ],
     "name": "stdout"
    },
    {
     "output_type": "display_data",
     "data": {
      "application/vnd.jupyter.widget-view+json": {
       "model_id": "fda1b47ec34e420c9067639fd0a1b18a",
       "version_minor": 0,
       "version_major": 2
      },
      "text/plain": [
       "HBox(children=(FloatProgress(value=0.0, description='Downloading', max=466062.0, style=ProgressStyle(descripti…"
      ]
     },
     "metadata": {
      "tags": []
     }
    },
    {
     "output_type": "stream",
     "text": [
      "\n"
     ],
     "name": "stdout"
    },
    {
     "output_type": "display_data",
     "data": {
      "application/vnd.jupyter.widget-view+json": {
       "model_id": "f4b9101ac8ad461c9d4055ea30d7f457",
       "version_minor": 0,
       "version_major": 2
      },
      "text/plain": [
       "HBox(children=(FloatProgress(value=0.0, description='Downloading', max=28.0, style=ProgressStyle(description_w…"
      ]
     },
     "metadata": {
      "tags": []
     }
    },
    {
     "output_type": "stream",
     "text": [
      "\n"
     ],
     "name": "stdout"
    },
    {
     "output_type": "display_data",
     "data": {
      "application/vnd.jupyter.widget-view+json": {
       "model_id": "2cec061ede96460bb238832a9a0c1732",
       "version_minor": 0,
       "version_major": 2
      },
      "text/plain": [
       "HBox(children=(FloatProgress(value=0.0, max=2472.0), HTML(value='')))"
      ]
     },
     "metadata": {
      "tags": []
     }
    },
    {
     "output_type": "stream",
     "text": [
      "\n"
     ],
     "name": "stdout"
    },
    {
     "output_type": "display_data",
     "data": {
      "application/vnd.jupyter.widget-view+json": {
       "model_id": "25dc215ec2264611af6986947f946cc8",
       "version_minor": 0,
       "version_major": 2
      },
      "text/plain": [
       "HBox(children=(FloatProgress(value=0.0, max=824.0), HTML(value='')))"
      ]
     },
     "metadata": {
      "tags": []
     }
    },
    {
     "output_type": "stream",
     "text": [
      "\n"
     ],
     "name": "stdout"
    },
    {
     "output_type": "display_data",
     "data": {
      "application/vnd.jupyter.widget-view+json": {
       "model_id": "52accaa8729b41f39e6b63662e082389",
       "version_minor": 0,
       "version_major": 2
      },
      "text/plain": [
       "HBox(children=(FloatProgress(value=0.0, description='Downloading', max=536063208.0, style=ProgressStyle(descri…"
      ]
     },
     "metadata": {
      "tags": []
     }
    },
    {
     "output_type": "stream",
     "text": [
      "\n"
     ],
     "name": "stdout"
    },
    {
     "output_type": "stream",
     "text": [
      "Some layers from the model checkpoint at bert-base-uncased were not used when initializing TFBertModel: ['mlm___cls', 'nsp___cls']\n",
      "- This IS expected if you are initializing TFBertModel from the checkpoint of a model trained on another task or with another architecture (e.g. initializing a BertForSequenceClassification model from a BertForPreTraining model).\n",
      "- This IS NOT expected if you are initializing TFBertModel from the checkpoint of a model that you expect to be exactly identical (initializing a BertForSequenceClassification model from a BertForSequenceClassification model).\n",
      "All the layers of TFBertModel were initialized from the model checkpoint at bert-base-uncased.\n",
      "If your task is similar to the task the model of the checkpoint was trained on, you can already use TFBertModel for predictions without further training.\n"
     ],
     "name": "stderr"
    },
    {
     "output_type": "stream",
     "text": [
      "WARNING:tensorflow:From /usr/local/lib/python3.7/dist-packages/tensorflow/python/ops/array_ops.py:5049: calling gather (from tensorflow.python.ops.array_ops) with validate_indices is deprecated and will be removed in a future version.\n",
      "Instructions for updating:\n",
      "The `validate_indices` argument has no effect. Indices are always validated on CPU and never validated on GPU.\n"
     ],
     "name": "stdout"
    }
   ]
  },
  {
   "cell_type": "code",
   "metadata": {
    "colab": {
     "base_uri": "https://localhost:8080/"
    },
    "id": "ZTQ7qAxVyzx0",
    "executionInfo": {
     "status": "ok",
     "timestamp": 1622203951417,
     "user_tz": -120,
     "elapsed": 15,
     "user": {
      "displayName": "Cedric Issel",
      "photoUrl": "",
      "userId": "07537599327357681724"
     }
    },
    "outputId": "deb475ae-7abc-496b-eca2-58fe45f693ca"
   },
   "source": [
    "from contextlib import redirect_stdout\n",
    "\n",
    "\"\"\" Generate model summary \"\"\"\n",
    "print(model.summary())\n",
    "with open(log_dir/'model_summary.txt', 'w') as file:\n",
    "    # Pass the file handle in as a lambda function to make it callable\n",
    "    model.summary(print_fn=lambda x: file.write(x + '\\n'))"
   ],
   "execution_count": 7,
   "outputs": [
    {
     "output_type": "stream",
     "text": [
      "Model: \"model\"\n",
      "__________________________________________________________________________________________________\n",
      "Layer (type)                    Output Shape         Param #     Connected to                     \n",
      "==================================================================================================\n",
      "input_ids (InputLayer)          [(None, 30)]         0                                            \n",
      "__________________________________________________________________________________________________\n",
      "attention_mask (InputLayer)     [(None, 30)]         0                                            \n",
      "__________________________________________________________________________________________________\n",
      "bert (TFBertMainLayer)          TFBaseModelOutputWit 109482240   input_ids[0][0]                  \n",
      "                                                                 attention_mask[0][0]             \n",
      "__________________________________________________________________________________________________\n",
      "dropout_37 (Dropout)            (None, 768)          0           bert[0][1]                       \n",
      "__________________________________________________________________________________________________\n",
      "dense (Dense)                   (None, 19)           14611       dropout_37[0][0]                 \n",
      "==================================================================================================\n",
      "Total params: 109,496,851\n",
      "Trainable params: 109,496,851\n",
      "Non-trainable params: 0\n",
      "__________________________________________________________________________________________________\n",
      "None\n"
     ],
     "name": "stdout"
    }
   ]
  },
  {
   "cell_type": "markdown",
   "metadata": {
    "id": "Eg4kGvJ3zQJ6"
   },
   "source": [
    "## Training"
   ]
  },
  {
   "cell_type": "code",
   "metadata": {
    "colab": {
     "base_uri": "https://localhost:8080/"
    },
    "id": "z4ZA6pwbsct9",
    "executionInfo": {
     "status": "ok",
     "timestamp": 1622206015772,
     "user_tz": -120,
     "elapsed": 2064364,
     "user": {
      "displayName": "Cedric Issel",
      "photoUrl": "",
      "userId": "07537599327357681724"
     }
    },
    "outputId": "a7f75c74-e9ce-478e-9fac-d5596d2487d7"
   },
   "source": [
    "from tensorflow.keras.callbacks import TensorBoard\n",
    "# setup callback for performance logging\n",
    "tensorboard_callback = TensorBoard(log_dir=log_dir/\"logs\",\n",
    "                                   histogram_freq=0,\n",
    "                                   write_graph=False,\n",
    "                                   write_images=False,\n",
    "                                   update_freq=100)\n",
    "\n",
    "# train the model\n",
    "history = model.fit(\n",
    "    x=train_ds,\n",
    "    epochs=PARAMS.epochs,\n",
    "    callbacks=[tensorboard_callback],\n",
    "    verbose=1,\n",
    "    validation_data=test_ds\n",
    "    )"
   ],
   "execution_count": 8,
   "outputs": [
    {
     "output_type": "stream",
     "text": [
      "Epoch 1/3\n",
      "2472/2472 [==============================] - ETA: 0s - loss: 1.0289 - precision: 0.7361 - accuracy: 0.6442 - recall: 0.5475"
     ],
     "name": "stdout"
    },
    {
     "output_type": "stream",
     "text": [
      "\u001B[34m\u001B[1mwandb\u001B[0m: \u001B[33mWARNING\u001B[0m When using several event log directories, please call wandb.tensorboard.patch(root_logdir=\"...\") before wandb.init\n"
     ],
     "name": "stderr"
    },
    {
     "output_type": "stream",
     "text": [
      "\b\b\b\b\b\b\b\b\b\b\b\b\b\b\b\b\b\b\b\b\b\b\b\b\b\b\b\b\b\b\b\b\b\b\b\b\b\b\b\b\b\b\b\b\b\b\b\b\b\b\b\b\b\b\b\b\b\b\b\b\b\b\b\b\b\b\b\b\b\b\b\b\b\b\b\b\b\b\b\b\b\b\b\b\b\b\b\b\b\b\b\b\b\b\b\b\b\b\b\b\b\b\b\b\b\b\b\b\b\b\b\b\b\b\b\b\b\b\b\b\b\b\b\r2472/2472 [==============================] - 654s 257ms/step - loss: 1.0289 - precision: 0.7361 - accuracy: 0.6442 - recall: 0.5475 - val_loss: 0.8453 - val_precision: 0.7682 - val_accuracy: 0.7078 - val_recall: 0.6422\n",
      "Epoch 2/3\n",
      "2472/2472 [==============================] - 635s 257ms/step - loss: 0.7612 - precision: 0.7884 - accuracy: 0.7338 - recall: 0.6755 - val_loss: 0.8073 - val_precision: 0.7678 - val_accuracy: 0.7244 - val_recall: 0.6803\n",
      "Epoch 3/3\n",
      "2472/2472 [==============================] - 634s 256ms/step - loss: 0.5913 - precision: 0.8302 - accuracy: 0.7928 - recall: 0.7547 - val_loss: 0.8328 - val_precision: 0.7625 - val_accuracy: 0.7335 - val_recall: 0.7084\n"
     ],
     "name": "stdout"
    }
   ]
  },
  {
   "cell_type": "markdown",
   "metadata": {
    "id": "SPXL4D8e1Ne5"
   },
   "source": [
    "## Evaluate"
   ]
  },
  {
   "cell_type": "code",
   "metadata": {
    "id": "cyZE4sdH1LRk",
    "colab": {
     "base_uri": "https://localhost:8080/"
    },
    "executionInfo": {
     "status": "ok",
     "timestamp": 1622206079495,
     "user_tz": -120,
     "elapsed": 63740,
     "user": {
      "displayName": "Cedric Issel",
      "photoUrl": "",
      "userId": "07537599327357681724"
     }
    },
    "outputId": "902f8fa9-1424-4248-98ed-9d1627a5ba3f"
   },
   "source": [
    "# Get predictions on test dataset\n",
    "predictions = model.predict(\n",
    "    x=test_ds,\n",
    "    verbose=1,\n",
    "    batch_size=PARAMS.batch_size\n",
    ") # Probability distribution over the labels\n",
    "np.savetxt(log_dir/\"predictions.txt\", predictions)\n",
    "\n",
    "pred_label =np.argmax(predictions, axis=1) # select the prediction with highest probability\n",
    "true_label = test_df[PARAMS.out_feature].to_numpy() # select the true label from one-hot encoding"
   ],
   "execution_count": 9,
   "outputs": [
    {
     "output_type": "stream",
     "text": [
      "824/824 [==============================] - 63s 74ms/step\n"
     ],
     "name": "stdout"
    }
   ]
  },
  {
   "cell_type": "code",
   "metadata": {
    "id": "qI4AAR0znCyE",
    "executionInfo": {
     "status": "ok",
     "timestamp": 1622206080820,
     "user_tz": -120,
     "elapsed": 1327,
     "user": {
      "displayName": "Cedric Issel",
      "photoUrl": "",
      "userId": "07537599327357681724"
     }
    }
   },
   "source": [
    "import matplotlib.pyplot as plt\n",
    "plt.rcParams.update({\n",
    "    \"font.family\": \"serif\",\n",
    "    \"font.sans-serif\": [\"Computer Modern\"]})\n",
    "import numpy as np\n",
    "from sklearn.metrics import confusion_matrix, classification_report, brier_score_loss, roc_curve, auc, precision_recall_curve, average_precision_score\n",
    "import seaborn as sns\n",
    "import math"
   ],
   "execution_count": 10,
   "outputs": []
  },
  {
   "cell_type": "code",
   "metadata": {
    "id": "UHRn3ddisLFk",
    "colab": {
     "base_uri": "https://localhost:8080/"
    },
    "executionInfo": {
     "status": "ok",
     "timestamp": 1622206080821,
     "user_tz": -120,
     "elapsed": 15,
     "user": {
      "displayName": "Cedric Issel",
      "photoUrl": "",
      "userId": "07537599327357681724"
     }
    },
    "outputId": "665185b4-dcdb-4758-8997-ace138c9ef9a"
   },
   "source": [
    "\"\"\" Brier score \"\"\"\n",
    "def brier(true_label, pred_label, n_classes):\n",
    "  brier_scores = {}\n",
    "  for i in range(n_classes):\n",
    "    row_id = np.where(true_label==i)[0]\n",
    "    prob = pred_label[row_id, i]\n",
    "    true = np.ones(len(prob))\n",
    "    brier_scores[i] = brier_score_loss(true, prob).round(2)\n",
    "  return brier_scores\n",
    "brier_scores = brier(true_label, predictions, PARAMS.n_classes)\n",
    "if PARAMS.logging:\n",
    "  wandb.log({\"brier\": brier_scores})\n",
    "brier_scores"
   ],
   "execution_count": 11,
   "outputs": [
    {
     "output_type": "execute_result",
     "data": {
      "text/plain": [
       "{0: 0.33,\n",
       " 1: 0.17,\n",
       " 2: 0.27,\n",
       " 3: 0.09,\n",
       " 4: 0.14,\n",
       " 5: 0.16,\n",
       " 6: 0.29,\n",
       " 7: 0.22,\n",
       " 8: 0.19,\n",
       " 9: 0.23,\n",
       " 10: 0.35,\n",
       " 11: 0.49,\n",
       " 12: 0.62,\n",
       " 13: 0.67,\n",
       " 14: 0.68,\n",
       " 15: 0.23,\n",
       " 16: 0.61,\n",
       " 17: 1.0,\n",
       " 18: 1.0}"
      ]
     },
     "metadata": {
      "tags": []
     },
     "execution_count": 11
    }
   ]
  },
  {
   "cell_type": "code",
   "metadata": {
    "id": "bfuq5tV9Uy26",
    "colab": {
     "base_uri": "https://localhost:8080/",
     "height": 513
    },
    "executionInfo": {
     "status": "ok",
     "timestamp": 1622206082800,
     "user_tz": -120,
     "elapsed": 1989,
     "user": {
      "displayName": "Cedric Issel",
      "photoUrl": "",
      "userId": "07537599327357681724"
     }
    },
    "outputId": "c585e90d-2a21-42e1-ba2c-06e221232a86"
   },
   "source": [
    "\"\"\" Confusion matrix \"\"\"\n",
    "def plot_cm(true_label, pred_label, n_classes):\n",
    "    # compute values\n",
    "    cm = confusion_matrix(true_label, pred_label, labels=np.arange(0,n_classes))\n",
    "    # normalize values\n",
    "    sum_per_label = np.sum(cm, axis=1)\n",
    "    cm_norm = cm / sum_per_label[:, None]\n",
    "    cm_norm =np.round(cm_norm, 2)\n",
    "    # plot\n",
    "    fig = plt.figure(figsize=(15,7))\n",
    "    sns.heatmap(cm_norm, annot=True, fmt=\".2f\")\n",
    "    plt.xlabel('Predicted Label')\n",
    "    plt.ylabel('True Label')\n",
    "    plt.tight_layout()\n",
    "    plt.plot()\n",
    "    return fig\n",
    "\n",
    "fig = plot_cm(true_label, pred_label, PARAMS.n_classes)\n",
    "fig.savefig(log_dir/\"confusion.png\", dpi=150)"
   ],
   "execution_count": 12,
   "outputs": [
    {
     "output_type": "display_data",
     "data": {
      "image/png": "[encoded data removed]",
      "text/plain": [
       "<Figure size 1080x504 with 2 Axes>"
      ]
     },
     "metadata": {
      "tags": [],
      "needs_background": "light"
     }
    }
   ]
  },
  {
   "cell_type": "code",
   "metadata": {
    "id": "Mmd02J2KVAE0",
    "colab": {
     "base_uri": "https://localhost:8080/",
     "height": 945
    },
    "executionInfo": {
     "status": "ok",
     "timestamp": 1622206087054,
     "user_tz": -120,
     "elapsed": 4265,
     "user": {
      "displayName": "Cedric Issel",
      "photoUrl": "",
      "userId": "07537599327357681724"
     }
    },
    "outputId": "32905835-cddb-4517-8c5d-4a543086fe3a"
   },
   "source": [
    "\"\"\" Receiver operating characteristic \"\"\"\n",
    "def plot_roc(true_label, pred_label, n_classes):\n",
    "    fig = plt.figure(figsize=(15, 13))\n",
    "    linewidth = 2\n",
    "    fpr = {}\n",
    "    tpr = {}\n",
    "    roc_auc = {}\n",
    "    cols = math.floor(math.sqrt(n_classes))\n",
    "    rows = math.ceil(n_classes / cols)\n",
    "    \n",
    "    # calculate class-wise rocs\n",
    "    for i in range(n_classes):\n",
    "        row_id = np.where(true_label==i)[0]\n",
    "        binary_truth = np.zeros(len(true_label))\n",
    "        binary_truth[row_id] = 1\n",
    "        fpr[i], tpr[i], _ = roc_curve(binary_truth, pred_label[:,i], pos_label=1)\n",
    "        roc_auc[i] = auc(fpr[i], tpr[i])\n",
    "        plt.subplot(rows, cols, i+1)\n",
    "        plt.plot(fpr[i], tpr[i], linewidth=linewidth,\n",
    "                 label='Label: %i (area = %0.2f)' % (i, roc_auc[i]))\n",
    "        plt.plot([0, 1], [0, 1], color='black', lw=linewidth, linestyle='--')\n",
    "        plt.xlabel('False Positive Rate')\n",
    "        plt.ylabel('True Positive Rate')\n",
    "        plt.xlim([-0.05, 1])\n",
    "        plt.ylim([0, 1.05])\n",
    "        plt.grid(True)\n",
    "        plt.legend(loc='lower right')\n",
    "        ax = plt.gca()\n",
    "        ax.set_aspect('equal')\n",
    "    plt.tight_layout()\n",
    "    return fig\n",
    "\n",
    "roc = plot_roc(true_label, predictions, PARAMS.n_classes)\n",
    "roc.savefig(log_dir/\"roc.png\", dpi=150)"
   ],
   "execution_count": 13,
   "outputs": [
    {
     "output_type": "display_data",
     "data": {
      "image/png": "[encoded data removed]",
      "text/plain": [
       "<Figure size 1080x936 with 19 Axes>"
      ]
     },
     "metadata": {
      "tags": [],
      "needs_background": "light"
     }
    }
   ]
  },
  {
   "cell_type": "code",
   "metadata": {
    "id": "I5broUMl-YXn",
    "colab": {
     "base_uri": "https://localhost:8080/",
     "height": 945
    },
    "executionInfo": {
     "status": "ok",
     "timestamp": 1622206091734,
     "user_tz": -120,
     "elapsed": 4698,
     "user": {
      "displayName": "Cedric Issel",
      "photoUrl": "",
      "userId": "07537599327357681724"
     }
    },
    "outputId": "c19c36e2-0327-41b2-9ebb-df21f03f7842"
   },
   "source": [
    "def plot_prec(true_label, pred_label, n_classes):\n",
    "  precision = dict()\n",
    "  recall = dict()\n",
    "  average_precision = dict()\n",
    "  fig = plt.figure(figsize=(15, 13))\n",
    "  linewidth = 2\n",
    "  cols = math.floor(math.sqrt(n_classes))\n",
    "  rows = math.ceil(n_classes / cols)\n",
    "\n",
    "  for i in range(n_classes):\n",
    "      row_id = np.where(true_label==i)[0]\n",
    "      binary_truth = np.zeros(len(true_label))\n",
    "      binary_truth[row_id] = 1\n",
    "      precision[i], recall[i], _ = precision_recall_curve(binary_truth, pred_label[:,i])\n",
    "      average_precision[i] = average_precision_score(binary_truth, pred_label[:,i])\n",
    "\n",
    "      plt.subplot(rows, cols, i+1)\n",
    "      plt.plot(recall[i], precision[i], lw=linewidth, label=\"Label: %i (area = %0.2f)\" %(i, average_precision[i]))\n",
    "      plt.legend(loc='lower right')\n",
    "      plt.xlim([0.0, 1.0])\n",
    "      plt.ylim([0.0, 1.05])\n",
    "      plt.xlabel('Recall')\n",
    "      plt.ylabel('Precision')\n",
    "      f_scores = np.linspace(0.2, 0.8, num=4)\n",
    "      lines = []\n",
    "      labels = []\n",
    "      for f_score in f_scores:\n",
    "          x = np.linspace(0.01, 1)\n",
    "          y = f_score * x / (2 * x - f_score)\n",
    "          l, = plt.plot(x[y >= 0], y[y >= 0], color='gray', alpha=0.4)\n",
    "          plt.annotate('f1={0:0.1f}'.format(f_score), xy=(0.8, y[45] + 0.02), alpha=0.4)\n",
    "      ax = plt.gca()\n",
    "      ax.set_aspect('equal')\n",
    "  plt.tight_layout()\n",
    "\n",
    "  return fig\n",
    "\n",
    "prec = plot_prec(true_label, predictions, PARAMS.n_classes)\n",
    "prec.savefig(log_dir/\"prec.png\", dpi=150)"
   ],
   "execution_count": 14,
   "outputs": [
    {
     "output_type": "display_data",
     "data": {
      "image/png": "[encoded data removed]",
      "text/plain": [
       "<Figure size 1080x936 with 19 Axes>"
      ]
     },
     "metadata": {
      "tags": [],
      "needs_background": "light"
     }
    }
   ]
  },
  {
   "cell_type": "code",
   "metadata": {
    "id": "s_0QGspPbcju",
    "colab": {
     "base_uri": "https://localhost:8080/",
     "height": 796
    },
    "executionInfo": {
     "status": "ok",
     "timestamp": 1622206091736,
     "user_tz": -120,
     "elapsed": 17,
     "user": {
      "displayName": "Cedric Issel",
      "photoUrl": "",
      "userId": "07537599327357681724"
     }
    },
    "outputId": "bf376b33-0071-47f2-8727-9bf27ac4c69f"
   },
   "source": [
    "\"\"\" Classification report \"\"\"\n",
    "def create_report(true_label, pred_label, n_classes):\n",
    "  cls_names =[str(cls) for cls in np.arange(0, n_classes)]\n",
    "  cls_report = classification_report(true_label, pred_label, target_names=cls_names, output_dict=True)\n",
    "  return pd.DataFrame(cls_report).round(2).transpose()\n",
    "\n",
    "cls_report = create_report(true_label, pred_label, PARAMS.n_classes)\n",
    "cls_report.to_csv(log_dir/\"cls_report.csv\")\n",
    "if PARAMS.logging:\n",
    "  wandb.log({\"f1-score\": cls_report[\"f1-score\"].to_dict()})\n",
    "cls_report"
   ],
   "execution_count": 15,
   "outputs": [
    {
     "output_type": "stream",
     "text": [
      "/usr/local/lib/python3.7/dist-packages/sklearn/metrics/_classification.py:1272: UndefinedMetricWarning: Precision and F-score are ill-defined and being set to 0.0 in labels with no predicted samples. Use `zero_division` parameter to control this behavior.\n",
      "  _warn_prf(average, modifier, msg_start, len(result))\n"
     ],
     "name": "stderr"
    },
    {
     "output_type": "execute_result",
     "data": {
      "text/html": [
       "<div>\n",
       "<style scoped>\n",
       "    .dataframe tbody tr th:only-of-type {\n",
       "        vertical-align: middle;\n",
       "    }\n",
       "\n",
       "    .dataframe tbody tr th {\n",
       "        vertical-align: top;\n",
       "    }\n",
       "\n",
       "    .dataframe thead th {\n",
       "        text-align: right;\n",
       "    }\n",
       "</style>\n",
       "<table border=\"1\" class=\"dataframe\">\n",
       "  <thead>\n",
       "    <tr style=\"text-align: right;\">\n",
       "      <th></th>\n",
       "      <th>precision</th>\n",
       "      <th>recall</th>\n",
       "      <th>f1-score</th>\n",
       "      <th>support</th>\n",
       "    </tr>\n",
       "  </thead>\n",
       "  <tbody>\n",
       "    <tr>\n",
       "      <th>0</th>\n",
       "      <td>0.70</td>\n",
       "      <td>0.58</td>\n",
       "      <td>0.63</td>\n",
       "      <td>6817.00</td>\n",
       "    </tr>\n",
       "    <tr>\n",
       "      <th>1</th>\n",
       "      <td>0.75</td>\n",
       "      <td>0.80</td>\n",
       "      <td>0.77</td>\n",
       "      <td>6152.00</td>\n",
       "    </tr>\n",
       "    <tr>\n",
       "      <th>2</th>\n",
       "      <td>0.61</td>\n",
       "      <td>0.71</td>\n",
       "      <td>0.66</td>\n",
       "      <td>3038.00</td>\n",
       "    </tr>\n",
       "    <tr>\n",
       "      <th>3</th>\n",
       "      <td>0.82</td>\n",
       "      <td>0.90</td>\n",
       "      <td>0.86</td>\n",
       "      <td>2865.00</td>\n",
       "    </tr>\n",
       "    <tr>\n",
       "      <th>4</th>\n",
       "      <td>0.85</td>\n",
       "      <td>0.84</td>\n",
       "      <td>0.84</td>\n",
       "      <td>2146.00</td>\n",
       "    </tr>\n",
       "    <tr>\n",
       "      <th>5</th>\n",
       "      <td>0.73</td>\n",
       "      <td>0.82</td>\n",
       "      <td>0.78</td>\n",
       "      <td>1995.00</td>\n",
       "    </tr>\n",
       "    <tr>\n",
       "      <th>6</th>\n",
       "      <td>0.72</td>\n",
       "      <td>0.69</td>\n",
       "      <td>0.70</td>\n",
       "      <td>1012.00</td>\n",
       "    </tr>\n",
       "    <tr>\n",
       "      <th>7</th>\n",
       "      <td>0.77</td>\n",
       "      <td>0.77</td>\n",
       "      <td>0.77</td>\n",
       "      <td>845.00</td>\n",
       "    </tr>\n",
       "    <tr>\n",
       "      <th>8</th>\n",
       "      <td>0.79</td>\n",
       "      <td>0.79</td>\n",
       "      <td>0.79</td>\n",
       "      <td>503.00</td>\n",
       "    </tr>\n",
       "    <tr>\n",
       "      <th>9</th>\n",
       "      <td>0.72</td>\n",
       "      <td>0.75</td>\n",
       "      <td>0.73</td>\n",
       "      <td>300.00</td>\n",
       "    </tr>\n",
       "    <tr>\n",
       "      <th>10</th>\n",
       "      <td>0.73</td>\n",
       "      <td>0.61</td>\n",
       "      <td>0.67</td>\n",
       "      <td>153.00</td>\n",
       "    </tr>\n",
       "    <tr>\n",
       "      <th>11</th>\n",
       "      <td>0.56</td>\n",
       "      <td>0.46</td>\n",
       "      <td>0.50</td>\n",
       "      <td>134.00</td>\n",
       "    </tr>\n",
       "    <tr>\n",
       "      <th>12</th>\n",
       "      <td>0.55</td>\n",
       "      <td>0.31</td>\n",
       "      <td>0.40</td>\n",
       "      <td>128.00</td>\n",
       "    </tr>\n",
       "    <tr>\n",
       "      <th>13</th>\n",
       "      <td>0.47</td>\n",
       "      <td>0.26</td>\n",
       "      <td>0.34</td>\n",
       "      <td>122.00</td>\n",
       "    </tr>\n",
       "    <tr>\n",
       "      <th>14</th>\n",
       "      <td>0.43</td>\n",
       "      <td>0.27</td>\n",
       "      <td>0.33</td>\n",
       "      <td>70.00</td>\n",
       "    </tr>\n",
       "    <tr>\n",
       "      <th>15</th>\n",
       "      <td>0.77</td>\n",
       "      <td>0.79</td>\n",
       "      <td>0.78</td>\n",
       "      <td>56.00</td>\n",
       "    </tr>\n",
       "    <tr>\n",
       "      <th>16</th>\n",
       "      <td>0.53</td>\n",
       "      <td>0.40</td>\n",
       "      <td>0.46</td>\n",
       "      <td>20.00</td>\n",
       "    </tr>\n",
       "    <tr>\n",
       "      <th>17</th>\n",
       "      <td>0.00</td>\n",
       "      <td>0.00</td>\n",
       "      <td>0.00</td>\n",
       "      <td>2.00</td>\n",
       "    </tr>\n",
       "    <tr>\n",
       "      <th>18</th>\n",
       "      <td>0.00</td>\n",
       "      <td>0.00</td>\n",
       "      <td>0.00</td>\n",
       "      <td>1.00</td>\n",
       "    </tr>\n",
       "    <tr>\n",
       "      <th>accuracy</th>\n",
       "      <td>0.73</td>\n",
       "      <td>0.73</td>\n",
       "      <td>0.73</td>\n",
       "      <td>0.73</td>\n",
       "    </tr>\n",
       "    <tr>\n",
       "      <th>macro avg</th>\n",
       "      <td>0.61</td>\n",
       "      <td>0.57</td>\n",
       "      <td>0.58</td>\n",
       "      <td>26359.00</td>\n",
       "    </tr>\n",
       "    <tr>\n",
       "      <th>weighted avg</th>\n",
       "      <td>0.73</td>\n",
       "      <td>0.73</td>\n",
       "      <td>0.73</td>\n",
       "      <td>26359.00</td>\n",
       "    </tr>\n",
       "  </tbody>\n",
       "</table>\n",
       "</div>"
      ],
      "text/plain": [
       "              precision  recall  f1-score   support\n",
       "0                  0.70    0.58      0.63   6817.00\n",
       "1                  0.75    0.80      0.77   6152.00\n",
       "2                  0.61    0.71      0.66   3038.00\n",
       "3                  0.82    0.90      0.86   2865.00\n",
       "4                  0.85    0.84      0.84   2146.00\n",
       "5                  0.73    0.82      0.78   1995.00\n",
       "6                  0.72    0.69      0.70   1012.00\n",
       "7                  0.77    0.77      0.77    845.00\n",
       "8                  0.79    0.79      0.79    503.00\n",
       "9                  0.72    0.75      0.73    300.00\n",
       "10                 0.73    0.61      0.67    153.00\n",
       "11                 0.56    0.46      0.50    134.00\n",
       "12                 0.55    0.31      0.40    128.00\n",
       "13                 0.47    0.26      0.34    122.00\n",
       "14                 0.43    0.27      0.33     70.00\n",
       "15                 0.77    0.79      0.78     56.00\n",
       "16                 0.53    0.40      0.46     20.00\n",
       "17                 0.00    0.00      0.00      2.00\n",
       "18                 0.00    0.00      0.00      1.00\n",
       "accuracy           0.73    0.73      0.73      0.73\n",
       "macro avg          0.61    0.57      0.58  26359.00\n",
       "weighted avg       0.73    0.73      0.73  26359.00"
      ]
     },
     "metadata": {
      "tags": []
     },
     "execution_count": 15
    }
   ]
  },
  {
   "cell_type": "markdown",
   "metadata": {
    "id": "Xv4N-nFgb0OT"
   },
   "source": [
    "## Save loggings"
   ]
  },
  {
   "cell_type": "code",
   "metadata": {
    "id": "jCtST7oUWcdx",
    "colab": {
     "base_uri": "https://localhost:8080/",
     "height": 1000,
     "referenced_widgets": [
      "a9beafc299b74065a79c73df6798be1a",
      "b1ee2fd5370644419b729c83f1a8fa38",
      "8eb59078c12b412ca2a08ca367e027aa",
      "9109cc47d62f427f96f6ca17e84a8479",
      "2cb9792868834fee87877de6b7872cd3",
      "20e46605fad7465d8edd8eb59ce51ffc",
      "822ede5fc9be421b9b4b71860c971322",
      "ea7c2aba14e84d5babe893fbd1ecd91e"
     ]
    },
    "executionInfo": {
     "status": "ok",
     "timestamp": 1622206101181,
     "user_tz": -120,
     "elapsed": 9457,
     "user": {
      "displayName": "Cedric Issel",
      "photoUrl": "",
      "userId": "07537599327357681724"
     }
    },
    "outputId": "b32195ac-5bae-4f2f-ac4b-095864a3b978"
   },
   "source": [
    "\"\"\" Submit results \"\"\"\n",
    "if PARAMS.logging:\n",
    "    run.join()\n",
    "    run.finish()"
   ],
   "execution_count": 16,
   "outputs": [
    {
     "output_type": "display_data",
     "data": {
      "text/html": [
       "<br/>Waiting for W&B process to finish, PID 328<br/>Program ended successfully."
      ],
      "text/plain": [
       "<IPython.core.display.HTML object>"
      ]
     },
     "metadata": {
      "tags": []
     }
    },
    {
     "output_type": "display_data",
     "data": {
      "application/vnd.jupyter.widget-view+json": {
       "model_id": "a9beafc299b74065a79c73df6798be1a",
       "version_minor": 0,
       "version_major": 2
      },
      "text/plain": [
       "VBox(children=(Label(value=' 0.03MB of 0.03MB uploaded (0.00MB deduped)\\r'), FloatProgress(value=1.0, max=1.0)…"
      ]
     },
     "metadata": {
      "tags": []
     }
    },
    {
     "output_type": "display_data",
     "data": {
      "text/html": [
       "Find user logs for this run at: <code>/content/wandb/run-20210528_121111-36qnu904/logs/debug.log</code>"
      ],
      "text/plain": [
       "<IPython.core.display.HTML object>"
      ]
     },
     "metadata": {
      "tags": []
     }
    },
    {
     "output_type": "display_data",
     "data": {
      "text/html": [
       "Find internal logs for this run at: <code>/content/wandb/run-20210528_121111-36qnu904/logs/debug-internal.log</code>"
      ],
      "text/plain": [
       "<IPython.core.display.HTML object>"
      ]
     },
     "metadata": {
      "tags": []
     }
    },
    {
     "output_type": "display_data",
     "data": {
      "text/html": [
       "<h3>Run summary:</h3><br/><style>\n",
       "    table.wandb td:nth-child(1) { padding: 0 10px; text-align: right }\n",
       "    </style><table class=\"wandb\">\n",
       "<tr><td>train/global_step</td><td>2</td></tr><tr><td>_timestamp</td><td>1622205967.03343</td></tr><tr><td>global_step</td><td>7416</td></tr><tr><td>_step</td><td>79</td></tr><tr><td>train/batch_loss</td><td>0.59152</td></tr><tr><td>train/batch_precision</td><td>0.8302</td></tr><tr><td>train/batch_accuracy</td><td>0.79278</td></tr><tr><td>train/batch_recall</td><td>0.75461</td></tr><tr><td>train/epoch_loss</td><td>0.59129</td></tr><tr><td>train/epoch_precision</td><td>0.83019</td></tr><tr><td>train/epoch_accuracy</td><td>0.7928</td></tr><tr><td>train/epoch_recall</td><td>0.75468</td></tr><tr><td>validation/global_step</td><td>2</td></tr><tr><td>validation/evaluation_loss_vs_iterations</td><td>0.83284</td></tr><tr><td>validation/evaluation_precision_vs_iterations</td><td>0.76255</td></tr><tr><td>validation/evaluation_accuracy_vs_iterations</td><td>0.73353</td></tr><tr><td>validation/evaluation_recall_vs_iterations</td><td>0.70845</td></tr><tr><td>validation/epoch_loss</td><td>0.83284</td></tr><tr><td>validation/epoch_precision</td><td>0.76255</td></tr><tr><td>validation/epoch_accuracy</td><td>0.73353</td></tr><tr><td>validation/epoch_recall</td><td>0.70845</td></tr><tr><td>_runtime</td><td>2219</td></tr></table>"
      ],
      "text/plain": [
       "<IPython.core.display.HTML object>"
      ]
     },
     "metadata": {
      "tags": []
     }
    },
    {
     "output_type": "display_data",
     "data": {
      "text/html": [
       "<h3>Run history:</h3><br/><style>\n",
       "    table.wandb td:nth-child(1) { padding: 0 10px; text-align: right }\n",
       "    </style><table class=\"wandb\">\n",
       "<tr><td>train/global_step</td><td>▁▁▁▁▂▂▂▂▂▃▃▃▃▁▄▄▄▄▄▅▅▅▅▅▅▆▁▆▆▆▆▇▇▇▇▇███▁</td></tr><tr><td>_timestamp</td><td>▁▁▁▁▁▁▂▂▂▂▂▂▃▃▃▄▄▄▄▄▄▅▅▅▅▆▆▆▆▆▇▇▇▇▇█████</td></tr><tr><td>global_step</td><td>▁▁▁▁▂▂▂▂▂▃▃▃▃▃▃▄▄▄▄▄▅▅▅▅▅▆▆▆▆▆▆▇▇▇▇▇████</td></tr><tr><td>_step</td><td>▁▁▁▂▂▂▂▂▂▃▃▃▃▃▃▄▄▄▄▄▅▅▅▅▅▅▆▆▆▆▆▆▇▇▇▇▇███</td></tr><tr><td>train/batch_loss</td><td>█▆▅▅▄▄▄▄▄▄▃▃▃▂▂▂▂▂▂▂▂▂▂▂▂▂▂▁▁▁▁▁▁▁▁▁▁▁▁▁</td></tr><tr><td>train/batch_precision</td><td>▁▃▄▄▄▄▄▄▄▅▅▅▅▆▆▆▆▆▆▆▆▆▆▆▆▇▇▇████████████</td></tr><tr><td>train/batch_accuracy</td><td>▁▃▄▄▅▅▅▅▅▅▅▅▆▇▇▇▇▇▇▇▇▇▇▇▇▇▇▇████████████</td></tr><tr><td>train/batch_recall</td><td>▁▃▄▄▅▅▅▅▅▅▆▆▆▇▇▇▇▇▇▇▇▇▇▇▇▇▇█████████████</td></tr><tr><td>train/epoch_loss</td><td>█▄▁</td></tr><tr><td>train/epoch_precision</td><td>▁▅█</td></tr><tr><td>train/epoch_accuracy</td><td>▁▅█</td></tr><tr><td>train/epoch_recall</td><td>▁▅█</td></tr><tr><td>validation/global_step</td><td>▁▅█</td></tr><tr><td>validation/evaluation_loss_vs_iterations</td><td>█▁▆</td></tr><tr><td>validation/evaluation_precision_vs_iterations</td><td>█▇▁</td></tr><tr><td>validation/evaluation_accuracy_vs_iterations</td><td>▁▆█</td></tr><tr><td>validation/evaluation_recall_vs_iterations</td><td>▁▅█</td></tr><tr><td>validation/epoch_loss</td><td>█▁▆</td></tr><tr><td>validation/epoch_precision</td><td>█▇▁</td></tr><tr><td>validation/epoch_accuracy</td><td>▁▆█</td></tr><tr><td>validation/epoch_recall</td><td>▁▅█</td></tr><tr><td>_runtime</td><td>▁█</td></tr></table><br/>"
      ],
      "text/plain": [
       "<IPython.core.display.HTML object>"
      ]
     },
     "metadata": {
      "tags": []
     }
    },
    {
     "output_type": "display_data",
     "data": {
      "text/html": [
       "Synced 5 W&B file(s), 0 media file(s), 0 artifact file(s) and 18 other file(s)"
      ],
      "text/plain": [
       "<IPython.core.display.HTML object>"
      ]
     },
     "metadata": {
      "tags": []
     }
    },
    {
     "output_type": "display_data",
     "data": {
      "text/html": [
       "\n",
       "                    <br/>Synced <strong style=\"color:#cdcd00\">effortless-vortex-27</strong>: <a href=\"https://wandb.ai/cdrc1103/thesis_multi-class/runs/36qnu904\" target=\"_blank\">https://wandb.ai/cdrc1103/thesis_multi-class/runs/36qnu904</a><br/>\n",
       "                "
      ],
      "text/plain": [
       "<IPython.core.display.HTML object>"
      ]
     },
     "metadata": {
      "tags": []
     }
    }
   ]
  }
 ]
}