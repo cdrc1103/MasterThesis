{
 "cells": [
  {
   "cell_type": "code",
   "execution_count": 2,
   "metadata": {
    "collapsed": true
   },
   "outputs": [],
   "source": [
    "# Load Huggingface transformer\n",
    "from transformers import TFBertModel, BertConfig, BertTokenizerFast, TFTrainer, TFTrainingArguments\n",
    "\n",
    "# Then what you need from tensorflow.keras\n",
    "import tensorflow as tf\n",
    "from tensorflow.keras.layers import Input, Dropout, Dense\n",
    "from tensorflow.keras.models import Model\n",
    "from tensorflow.keras.optimizers import Adam\n",
    "from tensorflow.keras.callbacks import EarlyStopping\n",
    "from tensorflow.keras.initializers import TruncatedNormal\n",
    "from tensorflow.keras.losses import CategoricalCrossentropy\n",
    "from tensorflow.keras.metrics import CategoricalAccuracy\n",
    "from tensorflow.keras.utils import get_file\n",
    "\n",
    "# Libraries to import and process the data set\n",
    "from Utilities import directories\n",
    "import pickle\n",
    "import pandas as pd\n",
    "from sklearn.model_selection import train_test_split\n",
    "from datetime import datetime\n",
    "\n",
    "# Visualization\n",
    "import matplotlib.pyplot as plt\n",
    "from keras.utils.vis_utils import plot_model\n",
    "\n",
    "# Utilities\n",
    "from Utilities.directories import lexis_abstract, savedModels\n",
    "from contextlib import redirect_stdout\n",
    "import pathlib\n",
    "\n",
    "# Stuff that makes notebooks look nicer\n",
    "import logging\n",
    "from tensorflow import get_logger\n",
    "get_logger().setLevel(logging.ERROR)"
   ]
  },
  {
   "cell_type": "code",
   "execution_count": 5,
   "outputs": [
    {
     "data": {
      "text/plain": "       Unnamed: 0                                           abstract  \\\n0         AP1665A  Disclosed is an oral dosage form comprising (i...   \n1         AP1904A  Light-converting material comprises a europium...   \n2         AP1937A  A flexible container (1) for holding a liquid ...   \n3  AP2015008920A0  The invention relates to transdermal therapeut...   \n4  AP2016009265A0  An antimicrobial composition is disclosed that...   \n\n         label  label_encoded  \n0    Skin care             13  \n1    Hair care              4  \n2    Packaging              9  \n3  Health care              5  \n4    Cleansing              0  ",
      "text/html": "<div>\n<style scoped>\n    .dataframe tbody tr th:only-of-type {\n        vertical-align: middle;\n    }\n\n    .dataframe tbody tr th {\n        vertical-align: top;\n    }\n\n    .dataframe thead th {\n        text-align: right;\n    }\n</style>\n<table border=\"1\" class=\"dataframe\">\n  <thead>\n    <tr style=\"text-align: right;\">\n      <th></th>\n      <th>Unnamed: 0</th>\n      <th>abstract</th>\n      <th>label</th>\n      <th>label_encoded</th>\n    </tr>\n  </thead>\n  <tbody>\n    <tr>\n      <th>0</th>\n      <td>AP1665A</td>\n      <td>Disclosed is an oral dosage form comprising (i...</td>\n      <td>Skin care</td>\n      <td>13</td>\n    </tr>\n    <tr>\n      <th>1</th>\n      <td>AP1904A</td>\n      <td>Light-converting material comprises a europium...</td>\n      <td>Hair care</td>\n      <td>4</td>\n    </tr>\n    <tr>\n      <th>2</th>\n      <td>AP1937A</td>\n      <td>A flexible container (1) for holding a liquid ...</td>\n      <td>Packaging</td>\n      <td>9</td>\n    </tr>\n    <tr>\n      <th>3</th>\n      <td>AP2015008920A0</td>\n      <td>The invention relates to transdermal therapeut...</td>\n      <td>Health care</td>\n      <td>5</td>\n    </tr>\n    <tr>\n      <th>4</th>\n      <td>AP2016009265A0</td>\n      <td>An antimicrobial composition is disclosed that...</td>\n      <td>Cleansing</td>\n      <td>0</td>\n    </tr>\n  </tbody>\n</table>\n</div>"
     },
     "execution_count": 5,
     "metadata": {},
     "output_type": "execute_result"
    }
   ],
   "source": [
    "# Load Data\n",
    "dataset = pd.read_csv(\"dataset2.csv\")\n",
    "dataset.head()"
   ],
   "metadata": {
    "collapsed": false,
    "pycharm": {
     "name": "#%%\n"
    }
   }
  },
  {
   "cell_type": "code",
   "execution_count": null,
   "outputs": [],
   "source": [
    "# Split\n",
    "train, test = train_test_split(dataset, test_size = 0.1)"
   ],
   "metadata": {
    "collapsed": false,
    "pycharm": {
     "name": "#%%\n"
    }
   }
  },
  {
   "cell_type": "code",
   "execution_count": null,
   "outputs": [],
   "source": [
    "# Setup model\n",
    "\n"
   ],
   "metadata": {
    "collapsed": false,
    "pycharm": {
     "name": "#%%\n"
    }
   }
  }
 ],
 "metadata": {
  "kernelspec": {
   "display_name": "Python 3",
   "language": "python",
   "name": "python3"
  },
  "language_info": {
   "codemirror_mode": {
    "name": "ipython",
    "version": 2
   },
   "file_extension": ".py",
   "mimetype": "text/x-python",
   "name": "python",
   "nbconvert_exporter": "python",
   "pygments_lexer": "ipython2",
   "version": "2.7.6"
  }
 },
 "nbformat": 4,
 "nbformat_minor": 0
}