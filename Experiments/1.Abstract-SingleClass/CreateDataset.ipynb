{
 "cells": [
  {
   "cell_type": "markdown",
   "source": [
    "### Experiment 1: Single class classification based on abstract texts"
   ],
   "metadata": {
    "collapsed": false,
    "pycharm": {
     "name": "#%% md\n"
    }
   }
  },
  {
   "cell_type": "code",
   "execution_count": 1,
   "metadata": {
    "collapsed": true
   },
   "outputs": [
    {
     "data": {
      "text/plain": "                                                     path  abstract  \\\nAP1605A  E:\\MLData\\thesis\\Datasets\\LexisNexis\\AP1605A.xml     False   \nAP1665A  E:\\MLData\\thesis\\Datasets\\LexisNexis\\AP1665A.xml      True   \nAP1682A  E:\\MLData\\thesis\\Datasets\\LexisNexis\\AP1682A.xml      True   \nAP1904A  E:\\MLData\\thesis\\Datasets\\LexisNexis\\AP1904A.xml      True   \nAP1937A  E:\\MLData\\thesis\\Datasets\\LexisNexis\\AP1937A.xml      True   \n\n         description  claims  label        level1labels  \nAP1605A        False   False      0                 NaN  \nAP1665A        False   False      1           Skin care  \nAP1682A        False   False      1  Active ingredients  \nAP1904A        False   False      1           Hair care  \nAP1937A        False   False      1           Packaging  ",
      "text/html": "<div>\n<style scoped>\n    .dataframe tbody tr th:only-of-type {\n        vertical-align: middle;\n    }\n\n    .dataframe tbody tr th {\n        vertical-align: top;\n    }\n\n    .dataframe thead th {\n        text-align: right;\n    }\n</style>\n<table border=\"1\" class=\"dataframe\">\n  <thead>\n    <tr style=\"text-align: right;\">\n      <th></th>\n      <th>path</th>\n      <th>abstract</th>\n      <th>description</th>\n      <th>claims</th>\n      <th>label</th>\n      <th>level1labels</th>\n    </tr>\n  </thead>\n  <tbody>\n    <tr>\n      <th>AP1605A</th>\n      <td>E:\\MLData\\thesis\\Datasets\\LexisNexis\\AP1605A.xml</td>\n      <td>False</td>\n      <td>False</td>\n      <td>False</td>\n      <td>0</td>\n      <td>NaN</td>\n    </tr>\n    <tr>\n      <th>AP1665A</th>\n      <td>E:\\MLData\\thesis\\Datasets\\LexisNexis\\AP1665A.xml</td>\n      <td>True</td>\n      <td>False</td>\n      <td>False</td>\n      <td>1</td>\n      <td>Skin care</td>\n    </tr>\n    <tr>\n      <th>AP1682A</th>\n      <td>E:\\MLData\\thesis\\Datasets\\LexisNexis\\AP1682A.xml</td>\n      <td>True</td>\n      <td>False</td>\n      <td>False</td>\n      <td>1</td>\n      <td>Active ingredients</td>\n    </tr>\n    <tr>\n      <th>AP1904A</th>\n      <td>E:\\MLData\\thesis\\Datasets\\LexisNexis\\AP1904A.xml</td>\n      <td>True</td>\n      <td>False</td>\n      <td>False</td>\n      <td>1</td>\n      <td>Hair care</td>\n    </tr>\n    <tr>\n      <th>AP1937A</th>\n      <td>E:\\MLData\\thesis\\Datasets\\LexisNexis\\AP1937A.xml</td>\n      <td>True</td>\n      <td>False</td>\n      <td>False</td>\n      <td>1</td>\n      <td>Packaging</td>\n    </tr>\n  </tbody>\n</table>\n</div>"
     },
     "execution_count": 1,
     "metadata": {},
     "output_type": "execute_result"
    }
   ],
   "source": [
    "import pandas as pd\n",
    "\n",
    "labels = pd.read_csv(\"level1_labels.csv\", index_col=0)\n",
    "features = pd.read_csv(\"../../Utilities/feature_stats.csv\", index_col=0)\n",
    "feature_stats = pd.concat([features, labels], axis=1)\n",
    "feature_stats.head()"
   ]
  },
  {
   "cell_type": "code",
   "execution_count": 2,
   "outputs": [
    {
     "name": "stdout",
     "output_type": "stream",
     "text": [
      "Number of examples: 220709\n",
      "Active ingredients              57205\n",
      "Skin care                       30095\n",
      "Packaging                       25063\n",
      "Health care                     21890\n",
      "Hair care                       21171\n",
      "Cleansing                       10824\n",
      "Sun                              8092\n",
      "Perfume                          5989\n",
      "Deo                              4243\n",
      "Non woven                        3185\n",
      "Devices                          1899\n",
      "Lip care                         1861\n",
      "Decorative cosmetic              1828\n",
      "Manufacturing technology         1737\n",
      "Shaving                           919\n",
      "Sustainability                    477\n",
      "Personalization                    86\n",
      "Artificial Intelligence (AI)        5\n",
      "no follow up                        3\n",
      "IP7 Beiersdorf                      2\n",
      "Name: level1labels, dtype: int64\n"
     ]
    }
   ],
   "source": [
    "feature_stats = feature_stats[feature_stats[\"level1labels\"].notna()] # drop unlabeled patents\n",
    "feature_stats = feature_stats[feature_stats[\"abstract\"] == 1] # drop patents that don't contain an abstract\n",
    "print(f\"Number of examples: {labels.size}\")\n",
    "print(feature_stats[\"level1labels\"].value_counts())"
   ],
   "metadata": {
    "collapsed": false,
    "pycharm": {
     "name": "#%%\n"
    }
   }
  },
  {
   "cell_type": "code",
   "execution_count": 3,
   "outputs": [
    {
     "data": {
      "text/plain": "Skin care                   30095\nPackaging                   25063\nHealth care                 21890\nHair care                   21171\nCleansing                   10824\nSun                          8092\nPerfume                      5989\nDeo                          4243\nNon woven                    3185\nDevices                      1899\nLip care                     1861\nDecorative cosmetic          1828\nManufacturing technology     1737\nShaving                       919\nSustainability                477\nPersonalization                86\nName: level1labels, dtype: int64"
     },
     "execution_count": 3,
     "metadata": {},
     "output_type": "execute_result"
    }
   ],
   "source": [
    "# define a set of classes that are excluded (AI has not enough instances, the others make no sense for classification here)\n",
    "exclude_list = [\"Artificial Intelligence (AI)\", \"no follow up\", \"IP7 Beiersdorf\", \"Active ingredients\"]\n",
    "mask = feature_stats['level1labels'].isin(exclude_list)\n",
    "feature_stats =feature_stats[~mask]\n",
    "feature_stats[\"level1labels\"].value_counts()"
   ],
   "metadata": {
    "collapsed": false,
    "pycharm": {
     "name": "#%%\n"
    }
   }
  },
  {
   "cell_type": "code",
   "execution_count": null,
   "outputs": [
    {
     "name": "stderr",
     "output_type": "stream",
     "text": [
      "  0%|          | 87/139359 [00:00<11:38, 199.26it/s] \n"
     ]
    }
   ],
   "source": [
    "# create dataset\n",
    "\n",
    "# parse xml files to get features\n",
    "from PipelineBricks.parse_feature import process_files\n",
    "dataset = pd.DataFrame\n",
    "if __name__ == \"__main__\":\n",
    "    feature_list = ['abstract']\n",
    "    dataset = process_files(feature_stats, feature_list)\n"
   ],
   "metadata": {
    "collapsed": false,
    "pycharm": {
     "name": "#%%\n",
     "is_executing": true
    }
   }
  },
  {
   "cell_type": "code",
   "execution_count": 13,
   "outputs": [
    {
     "name": "stdout",
     "output_type": "stream",
     "text": [
      "Empty DataFrame\n",
      "Columns: [abstract, label, label_encoded]\n",
      "Index: []\n"
     ]
    }
   ],
   "source": [
    "# Add labels to dataset\n",
    "dataset[\"label\"] = feature_stats[\"level1labels\"]\n",
    "# Check if there are empty cells in abstract colmn (abstract tag exists in document but no content)\n",
    "print(dataset[dataset[\"abstract\"].isna() == True])\n",
    "# drop nan rows once again\n",
    "dataset = dataset[dataset[\"abstract\"].notna()]"
   ],
   "metadata": {
    "collapsed": false,
    "pycharm": {
     "name": "#%%\n"
    }
   }
  },
  {
   "cell_type": "code",
   "execution_count": 15,
   "outputs": [
    {
     "name": "stdout",
     "output_type": "stream",
     "text": [
      "{0: 'Cleansing', 1: 'Decorative cosmetic', 2: 'Deo', 3: 'Devices', 4: 'Hair care', 5: 'Health care', 6: 'Lip care', 7: 'Manufacturing technology', 8: 'Non woven', 9: 'Packaging', 10: 'Perfume', 11: 'Personalization', 12: 'Shaving', 13: 'Skin care', 14: 'Sun', 15: 'Sustainability'}\n"
     ]
    }
   ],
   "source": [
    "# convert labels to categorical and create integer codes\n",
    "dataset[\"label\"] = pd.Categorical(dataset[\"label\"])\n",
    "dataset[\"label_encoded\"] = dataset[\"label\"].cat.codes\n",
    "# Assigned categories\n",
    "print(dict(enumerate(dataset[\"label\"].cat.categories)))\n",
    "dataset[[\"abstract\", \"label_encoded\"]].to_csv(\"dataset2.csv\")\n"
   ],
   "metadata": {
    "collapsed": false,
    "pycharm": {
     "name": "#%%\n"
    }
   }
  }
 ],
 "metadata": {
  "kernelspec": {
   "display_name": "Python 3",
   "language": "python",
   "name": "python3"
  },
  "language_info": {
   "codemirror_mode": {
    "name": "ipython",
    "version": 2
   },
   "file_extension": ".py",
   "mimetype": "text/x-python",
   "name": "python",
   "nbconvert_exporter": "python",
   "pygments_lexer": "ipython2",
   "version": "2.7.6"
  }
 },
 "nbformat": 4,
 "nbformat_minor": 0
}