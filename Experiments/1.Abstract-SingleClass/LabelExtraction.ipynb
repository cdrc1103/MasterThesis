{
 "cells": [
  {
   "cell_type": "code",
   "execution_count": null,
   "outputs": [],
   "source": [],
   "metadata": {
    "collapsed": false,
    "pycharm": {
     "name": "#%% Fix Labels\n"
    }
   }
  },
  {
   "cell_type": "code",
   "execution_count": 24,
   "metadata": {
    "collapsed": true,
    "pycharm": {
     "name": "#%%\n"
    }
   },
   "outputs": [
    {
     "name": "stderr",
     "output_type": "stream",
     "text": [
      "100%|█████████▉| 220708/220709 [00:26<00:00, 8336.26it/s] \n"
     ]
    },
    {
     "data": {
      "text/plain": "Active ingredients              57498\nSkin care                       30441\nPackaging                       25326\nHealth care                     22054\nHair care                       21552\nCleansing                       11061\nSun                              8247\nPerfume                          6021\nDeo                              4245\nNon woven                        3203\nDevices                          1887\nLip care                         1847\nDecorative cosmetic              1814\nManufacturing technology         1756\nShaving                           939\nSustainability                    480\nPersonalization                    81\nno follow up                        5\nIP7 Beiersdorf                      2\nArtificial Intelligence (AI)        2\nName: level1labels, dtype: int64"
     },
     "execution_count": 24,
     "metadata": {},
     "output_type": "execute_result"
    }
   ],
   "source": [
    "\"\"\"\n",
    "Experiment 1 Abstract BertBaseUncased SingleClass\n",
    "\n",
    "Parse label hierarchy and pick all level 1 classes that are assigned to a document.\n",
    "If there are several level 1 classes pick a random one and save in dataframe.\n",
    "\"\"\"\n",
    "from tqdm import tqdm\n",
    "import pandas as pd\n",
    "import numpy as np\n",
    "import re\n",
    "import random\n",
    "\n",
    "ip7data = pd.read_csv(\"ip7-data-updated.csv\", index_col=0)\n",
    "statistics = pd.read_csv(\"statistics.csv\", index_col=0)\n",
    "unwanted_classes = pd.read_csv(\"unwanted-classes.csv\")\n",
    "unwanted_classes = unwanted_classes['unwanted-classes'].tolist() # classes that are to be skipped\n",
    "\n",
    "level1_labels_list = []\n",
    "for doc_nr, label_available in zip(statistics.index, tqdm(statistics['labeled'])): # iterate over rows of df\n",
    "    if label_available: # if the respective document is in the statistics file\n",
    "        label_hierarchy = ip7data.loc[doc_nr, 'technology-field'] # get the row of the respective file number in the statistics file\n",
    "        level1_labels = set()\n",
    "        for ele in label_hierarchy.split(','): # split all classes\n",
    "            class_list = [re.sub(r'^\\s+|\\s+$|\"', '', h) for h in ele.split('/')] # split all hierarchies within respective class\n",
    "            # if not class_list[0] in unwanted_classes: # skip this one because it has no information\n",
    "            level1_labels.add(class_list[0]) # add highest level of hierarchy to set so that there are no duplicates\n",
    "        if level1_labels: # if there is a label in the set\n",
    "            random_label = random.sample(level1_labels, 1)[0]\n",
    "            level1_labels_list.append(random_label)\n",
    "        else:\n",
    "            level1_labels_list.append(0)\n",
    "    else:\n",
    "        level1_labels_list.append(0)\n",
    "labels = pd.DataFrame(level1_labels_list, index=statistics.index, columns=[\"level1labels\"])\n",
    "labels = labels.replace(0, np.nan)\n",
    "labels.to_csv(\"ex1_labels.csv\")"
   ]
  }
 ],
 "metadata": {
  "kernelspec": {
   "display_name": "Python 3",
   "language": "python",
   "name": "python3"
  },
  "language_info": {
   "codemirror_mode": {
    "name": "ipython",
    "version": 2
   },
   "file_extension": ".py",
   "mimetype": "text/x-python",
   "name": "python",
   "nbconvert_exporter": "python",
   "pygments_lexer": "ipython2",
   "version": "2.7.6"
  }
 },
 "nbformat": 4,
 "nbformat_minor": 0
}