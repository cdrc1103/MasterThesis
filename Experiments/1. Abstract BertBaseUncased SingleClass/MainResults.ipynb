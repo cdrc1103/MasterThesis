{
 "cells": [
  {
   "cell_type": "code",
   "execution_count": 7,
   "metadata": {
    "collapsed": true
   },
   "outputs": [],
   "source": [
    "import pandas as pd\n",
    "\n",
    "labels = pd.read_csv(\"ex1_labels.csv\", index_col=0)\n",
    "features = pd.read_csv(\"../../Utilities/statistics.csv\", index_col=0)\n",
    "patent_data = pd.concat([features, labels], axis=1)\n",
    "patent_data"
   ]
  },
  {
   "cell_type": "code",
   "execution_count": 9,
   "outputs": [
    {
     "name": "stdout",
     "output_type": "stream",
     "text": [
      "Number of examples: 220709\n",
      "Skin care                       35016\n",
      "Packaging                       25565\n",
      "Health care                     24507\n",
      "Hair care                       24115\n",
      "Cleansing                       11833\n",
      "Sun                              9177\n",
      "Perfume                          6703\n",
      "Deo                              4734\n",
      "Non woven                        3363\n",
      "Decorative cosmetic              2017\n",
      "Lip care                         1900\n",
      "Manufacturing technology         1890\n",
      "Shaving                          1108\n",
      "Sustainability                    665\n",
      "Personalization                   162\n",
      "Artificial Intelligence (AI)        6\n",
      "Name: level1labels, dtype: int64\n"
     ]
    }
   ],
   "source": [
    "patent_data = patent_data[patent_data[\"level1labels\"].notna()] # drop unlabeled patents\n",
    "patent_data = patent_data[patent_data[\"abstract\"] == 1] # drop patents that don't contain an abstract\n",
    "print(f\"Number of examples: {labels.size}\")\n",
    "print(patent_data[\"level1labels\"].value_counts())"
   ],
   "metadata": {
    "collapsed": false,
    "pycharm": {
     "name": "#%%\n"
    }
   }
  },
  {
   "cell_type": "code",
   "execution_count": 10,
   "outputs": [],
   "source": [
    "# drop AI because of the small number of instances\n",
    "patent_data = patent_data[patent_data[\"level1labels\"] != \"Artificial Intelligence (AI)\"]"
   ],
   "metadata": {
    "collapsed": false,
    "pycharm": {
     "name": "#%%\n"
    }
   }
  },
  {
   "cell_type": "code",
   "execution_count": 11,
   "outputs": [
    {
     "data": {
      "text/plain": "                                                             path  claim  \\\nAP1665A          E:\\MLData\\thesis\\Datasets\\LexisNexis\\AP1665A.xml  False   \nAP1904A          E:\\MLData\\thesis\\Datasets\\LexisNexis\\AP1904A.xml  False   \nAP1937A          E:\\MLData\\thesis\\Datasets\\LexisNexis\\AP1937A.xml  False   \nAP2011006030A0  E:\\MLData\\thesis\\Datasets\\LexisNexis\\AP2011006...  False   \nAP2015008920A0  E:\\MLData\\thesis\\Datasets\\LexisNexis\\AP2015008...  False   \n...                                                           ...    ...   \nYU75202A        E:\\MLData\\thesis\\Datasets\\LexisNexis\\YU75202A.xml  False   \nYU82803A        E:\\MLData\\thesis\\Datasets\\LexisNexis\\YU82803A.xml  False   \nYU86802A        E:\\MLData\\thesis\\Datasets\\LexisNexis\\YU86802A.xml  False   \nYU86902A        E:\\MLData\\thesis\\Datasets\\LexisNexis\\YU86902A.xml  False   \nYU96702A        E:\\MLData\\thesis\\Datasets\\LexisNexis\\YU96702A.xml  False   \n\n                description  abstract  citation  labeled level1labels  \\\nAP1665A               False      True      True     True    Skin care   \nAP1904A               False      True      True     True    Hair care   \nAP1937A               False      True      True     True    Packaging   \nAP2011006030A0        False      True     False     True          Sun   \nAP2015008920A0        False      True     False     True  Health care   \n...                     ...       ...       ...      ...          ...   \nYU75202A              False      True     False     True    Packaging   \nYU82803A              False      True     False     True    Packaging   \nYU86802A              False      True     False     True    Packaging   \nYU86902A              False      True     False     True    Packaging   \nYU96702A              False      True     False     True          Deo   \n\n                level1codes  \nAP1665A                  12  \nAP1904A                   3  \nAP1937A                   8  \nAP2011006030A0           13  \nAP2015008920A0            4  \n...                     ...  \nYU75202A                  8  \nYU82803A                  8  \nYU86802A                  8  \nYU86902A                  8  \nYU96702A                  2  \n\n[152755 rows x 8 columns]",
      "text/html": "<div>\n<style scoped>\n    .dataframe tbody tr th:only-of-type {\n        vertical-align: middle;\n    }\n\n    .dataframe tbody tr th {\n        vertical-align: top;\n    }\n\n    .dataframe thead th {\n        text-align: right;\n    }\n</style>\n<table border=\"1\" class=\"dataframe\">\n  <thead>\n    <tr style=\"text-align: right;\">\n      <th></th>\n      <th>path</th>\n      <th>claim</th>\n      <th>description</th>\n      <th>abstract</th>\n      <th>citation</th>\n      <th>labeled</th>\n      <th>level1labels</th>\n      <th>level1codes</th>\n    </tr>\n  </thead>\n  <tbody>\n    <tr>\n      <th>AP1665A</th>\n      <td>E:\\MLData\\thesis\\Datasets\\LexisNexis\\AP1665A.xml</td>\n      <td>False</td>\n      <td>False</td>\n      <td>True</td>\n      <td>True</td>\n      <td>True</td>\n      <td>Skin care</td>\n      <td>12</td>\n    </tr>\n    <tr>\n      <th>AP1904A</th>\n      <td>E:\\MLData\\thesis\\Datasets\\LexisNexis\\AP1904A.xml</td>\n      <td>False</td>\n      <td>False</td>\n      <td>True</td>\n      <td>True</td>\n      <td>True</td>\n      <td>Hair care</td>\n      <td>3</td>\n    </tr>\n    <tr>\n      <th>AP1937A</th>\n      <td>E:\\MLData\\thesis\\Datasets\\LexisNexis\\AP1937A.xml</td>\n      <td>False</td>\n      <td>False</td>\n      <td>True</td>\n      <td>True</td>\n      <td>True</td>\n      <td>Packaging</td>\n      <td>8</td>\n    </tr>\n    <tr>\n      <th>AP2011006030A0</th>\n      <td>E:\\MLData\\thesis\\Datasets\\LexisNexis\\AP2011006...</td>\n      <td>False</td>\n      <td>False</td>\n      <td>True</td>\n      <td>False</td>\n      <td>True</td>\n      <td>Sun</td>\n      <td>13</td>\n    </tr>\n    <tr>\n      <th>AP2015008920A0</th>\n      <td>E:\\MLData\\thesis\\Datasets\\LexisNexis\\AP2015008...</td>\n      <td>False</td>\n      <td>False</td>\n      <td>True</td>\n      <td>False</td>\n      <td>True</td>\n      <td>Health care</td>\n      <td>4</td>\n    </tr>\n    <tr>\n      <th>...</th>\n      <td>...</td>\n      <td>...</td>\n      <td>...</td>\n      <td>...</td>\n      <td>...</td>\n      <td>...</td>\n      <td>...</td>\n      <td>...</td>\n    </tr>\n    <tr>\n      <th>YU75202A</th>\n      <td>E:\\MLData\\thesis\\Datasets\\LexisNexis\\YU75202A.xml</td>\n      <td>False</td>\n      <td>False</td>\n      <td>True</td>\n      <td>False</td>\n      <td>True</td>\n      <td>Packaging</td>\n      <td>8</td>\n    </tr>\n    <tr>\n      <th>YU82803A</th>\n      <td>E:\\MLData\\thesis\\Datasets\\LexisNexis\\YU82803A.xml</td>\n      <td>False</td>\n      <td>False</td>\n      <td>True</td>\n      <td>False</td>\n      <td>True</td>\n      <td>Packaging</td>\n      <td>8</td>\n    </tr>\n    <tr>\n      <th>YU86802A</th>\n      <td>E:\\MLData\\thesis\\Datasets\\LexisNexis\\YU86802A.xml</td>\n      <td>False</td>\n      <td>False</td>\n      <td>True</td>\n      <td>False</td>\n      <td>True</td>\n      <td>Packaging</td>\n      <td>8</td>\n    </tr>\n    <tr>\n      <th>YU86902A</th>\n      <td>E:\\MLData\\thesis\\Datasets\\LexisNexis\\YU86902A.xml</td>\n      <td>False</td>\n      <td>False</td>\n      <td>True</td>\n      <td>False</td>\n      <td>True</td>\n      <td>Packaging</td>\n      <td>8</td>\n    </tr>\n    <tr>\n      <th>YU96702A</th>\n      <td>E:\\MLData\\thesis\\Datasets\\LexisNexis\\YU96702A.xml</td>\n      <td>False</td>\n      <td>False</td>\n      <td>True</td>\n      <td>False</td>\n      <td>True</td>\n      <td>Deo</td>\n      <td>2</td>\n    </tr>\n  </tbody>\n</table>\n<p>152755 rows × 8 columns</p>\n</div>"
     },
     "execution_count": 11,
     "metadata": {},
     "output_type": "execute_result"
    }
   ],
   "source": [
    "# convert labels to categorical and create integer codes\n",
    "patent_data[\"level1labels\"] = pd.Categorical(patent_data[\"level1labels\"])\n",
    "patent_data[\"level1codes\"] = patent_data[\"level1labels\"].cat.codes\n",
    "patent_data"
   ],
   "metadata": {
    "collapsed": false,
    "pycharm": {
     "name": "#%%\n"
    }
   }
  },
  {
   "cell_type": "code",
   "execution_count": 12,
   "outputs": [
    {
     "name": "stderr",
     "output_type": "stream",
     "text": [
      "100%|██████████| 3/3 [00:03<00:00,  1.14s/it]\n"
     ]
    },
    {
     "name": "stdout",
     "output_type": "stream",
     "text": [
      "Splitting train set into TFRecord shards...\n",
      "Splitting test set into TFRecord shards...\n",
      "Splitting validate set into TFRecord shards...\n",
      "Number of training examples: 122203\n",
      "Number of testing examples: 15276\n",
      "Number of validation examples: 15276\n",
      "TFRecord files saved to E:\\MLData\\thesis\\Datasets\\1. Abstract BertBaseUncased SingleClass\n"
     ]
    }
   ],
   "source": [
    "from concurrent.futures import ThreadPoolExecutor\n",
    "from tqdm import tqdm\n",
    "from Utilities.xml_parser import _re_xml\n",
    "\n",
    "def x(path_list):\n",
    "    with ThreadPoolExecutor(max_workers=8) as executor:\n",
    "        for i, abstract in enumerate(tqdm(executor.map(_re_xml, path_list), total=len(path_list))):\n",
    "            occurrences[i, :] = occ\n",
    "\n",
    "patent_data = patent_data.sample(frac=1, random_state=10000)"
   ],
   "metadata": {
    "collapsed": false,
    "pycharm": {
     "name": "#%%\n"
    }
   }
  },
  {
   "cell_type": "code",
   "execution_count": 1,
   "outputs": [],
   "source": [
    "a = []\n",
    "\n",
    "for b in a:\n",
    "    print(\"c\")"
   ],
   "metadata": {
    "collapsed": false,
    "pycharm": {
     "name": "#%%\n"
    }
   }
  }
 ],
 "metadata": {
  "kernelspec": {
   "display_name": "Python 3",
   "language": "python",
   "name": "python3"
  },
  "language_info": {
   "codemirror_mode": {
    "name": "ipython",
    "version": 2
   },
   "file_extension": ".py",
   "mimetype": "text/x-python",
   "name": "python",
   "nbconvert_exporter": "python",
   "pygments_lexer": "ipython2",
   "version": "2.7.6"
  }
 },
 "nbformat": 4,
 "nbformat_minor": 0
}