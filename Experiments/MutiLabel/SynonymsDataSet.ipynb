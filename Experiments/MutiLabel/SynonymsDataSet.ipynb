{
 "nbformat": 4,
 "nbformat_minor": 0,
 "metadata": {
  "colab": {
   "name": "Synonyms Data Set",
   "provenance": [],
   "machine_shape": "hm",
   "authorship_tag": "ABX9TyNxz2ITixjOnYwy3+ERtw+v"
  },
  "kernelspec": {
   "name": "python3",
   "display_name": "Python 3"
  },
  "language_info": {
   "name": "python"
  },
  "widgets": {
   "application/vnd.jupyter.widget-state+json": {
    "74d1f038153a41c28b5029ae9cd6a31c": {
     "model_module": "@jupyter-widgets/controls",
     "model_name": "HBoxModel",
     "state": {
      "_view_name": "HBoxView",
      "_dom_classes": [],
      "_model_name": "HBoxModel",
      "_view_module": "@jupyter-widgets/controls",
      "_model_module_version": "1.5.0",
      "_view_count": null,
      "_view_module_version": "1.5.0",
      "box_style": "",
      "layout": "IPY_MODEL_a2d1a1771e7341688d12d3d4d56d9250",
      "_model_module": "@jupyter-widgets/controls",
      "children": [
       "IPY_MODEL_3e3b49974c0e4933a7c997ab05c985cd",
       "IPY_MODEL_847f20052af7462cbeaef455d6cf9063"
      ]
     }
    },
    "a2d1a1771e7341688d12d3d4d56d9250": {
     "model_module": "@jupyter-widgets/base",
     "model_name": "LayoutModel",
     "state": {
      "_view_name": "LayoutView",
      "grid_template_rows": null,
      "right": null,
      "justify_content": null,
      "_view_module": "@jupyter-widgets/base",
      "overflow": null,
      "_model_module_version": "1.2.0",
      "_view_count": null,
      "flex_flow": null,
      "width": null,
      "min_width": null,
      "border": null,
      "align_items": null,
      "bottom": null,
      "_model_module": "@jupyter-widgets/base",
      "top": null,
      "grid_column": null,
      "overflow_y": null,
      "overflow_x": null,
      "grid_auto_flow": null,
      "grid_area": null,
      "grid_template_columns": null,
      "flex": null,
      "_model_name": "LayoutModel",
      "justify_items": null,
      "grid_row": null,
      "max_height": null,
      "align_content": null,
      "visibility": null,
      "align_self": null,
      "height": null,
      "min_height": null,
      "padding": null,
      "grid_auto_rows": null,
      "grid_gap": null,
      "max_width": null,
      "order": null,
      "_view_module_version": "1.2.0",
      "grid_template_areas": null,
      "object_position": null,
      "object_fit": null,
      "grid_auto_columns": null,
      "margin": null,
      "display": null,
      "left": null
     }
    },
    "3e3b49974c0e4933a7c997ab05c985cd": {
     "model_module": "@jupyter-widgets/controls",
     "model_name": "FloatProgressModel",
     "state": {
      "_view_name": "ProgressView",
      "style": "IPY_MODEL_def3076e653f4f74bbac275fc265884b",
      "_dom_classes": [],
      "description": "100%",
      "_model_name": "FloatProgressModel",
      "bar_style": "success",
      "max": 18,
      "_view_module": "@jupyter-widgets/controls",
      "_model_module_version": "1.5.0",
      "value": 18,
      "_view_count": null,
      "_view_module_version": "1.5.0",
      "orientation": "horizontal",
      "min": 0,
      "description_tooltip": null,
      "_model_module": "@jupyter-widgets/controls",
      "layout": "IPY_MODEL_19cd9a2813a74511826732b5ac9fe3e3"
     }
    },
    "847f20052af7462cbeaef455d6cf9063": {
     "model_module": "@jupyter-widgets/controls",
     "model_name": "HTMLModel",
     "state": {
      "_view_name": "HTMLView",
      "style": "IPY_MODEL_0ba5ac2a7f7943ecb00458b4a5502153",
      "_dom_classes": [],
      "description": "",
      "_model_name": "HTMLModel",
      "placeholder": "​",
      "_view_module": "@jupyter-widgets/controls",
      "_model_module_version": "1.5.0",
      "value": " 18/18 [08:45&lt;00:00, 29.20s/it]",
      "_view_count": null,
      "_view_module_version": "1.5.0",
      "description_tooltip": null,
      "_model_module": "@jupyter-widgets/controls",
      "layout": "IPY_MODEL_73286b4304d847e3a91ee40f72dea686"
     }
    },
    "def3076e653f4f74bbac275fc265884b": {
     "model_module": "@jupyter-widgets/controls",
     "model_name": "ProgressStyleModel",
     "state": {
      "_view_name": "StyleView",
      "_model_name": "ProgressStyleModel",
      "description_width": "initial",
      "_view_module": "@jupyter-widgets/base",
      "_model_module_version": "1.5.0",
      "_view_count": null,
      "_view_module_version": "1.2.0",
      "bar_color": null,
      "_model_module": "@jupyter-widgets/controls"
     }
    },
    "19cd9a2813a74511826732b5ac9fe3e3": {
     "model_module": "@jupyter-widgets/base",
     "model_name": "LayoutModel",
     "state": {
      "_view_name": "LayoutView",
      "grid_template_rows": null,
      "right": null,
      "justify_content": null,
      "_view_module": "@jupyter-widgets/base",
      "overflow": null,
      "_model_module_version": "1.2.0",
      "_view_count": null,
      "flex_flow": null,
      "width": null,
      "min_width": null,
      "border": null,
      "align_items": null,
      "bottom": null,
      "_model_module": "@jupyter-widgets/base",
      "top": null,
      "grid_column": null,
      "overflow_y": null,
      "overflow_x": null,
      "grid_auto_flow": null,
      "grid_area": null,
      "grid_template_columns": null,
      "flex": null,
      "_model_name": "LayoutModel",
      "justify_items": null,
      "grid_row": null,
      "max_height": null,
      "align_content": null,
      "visibility": null,
      "align_self": null,
      "height": null,
      "min_height": null,
      "padding": null,
      "grid_auto_rows": null,
      "grid_gap": null,
      "max_width": null,
      "order": null,
      "_view_module_version": "1.2.0",
      "grid_template_areas": null,
      "object_position": null,
      "object_fit": null,
      "grid_auto_columns": null,
      "margin": null,
      "display": null,
      "left": null
     }
    },
    "0ba5ac2a7f7943ecb00458b4a5502153": {
     "model_module": "@jupyter-widgets/controls",
     "model_name": "DescriptionStyleModel",
     "state": {
      "_view_name": "StyleView",
      "_model_name": "DescriptionStyleModel",
      "description_width": "",
      "_view_module": "@jupyter-widgets/base",
      "_model_module_version": "1.5.0",
      "_view_count": null,
      "_view_module_version": "1.2.0",
      "_model_module": "@jupyter-widgets/controls"
     }
    },
    "73286b4304d847e3a91ee40f72dea686": {
     "model_module": "@jupyter-widgets/base",
     "model_name": "LayoutModel",
     "state": {
      "_view_name": "LayoutView",
      "grid_template_rows": null,
      "right": null,
      "justify_content": null,
      "_view_module": "@jupyter-widgets/base",
      "overflow": null,
      "_model_module_version": "1.2.0",
      "_view_count": null,
      "flex_flow": null,
      "width": null,
      "min_width": null,
      "border": null,
      "align_items": null,
      "bottom": null,
      "_model_module": "@jupyter-widgets/base",
      "top": null,
      "grid_column": null,
      "overflow_y": null,
      "overflow_x": null,
      "grid_auto_flow": null,
      "grid_area": null,
      "grid_template_columns": null,
      "flex": null,
      "_model_name": "LayoutModel",
      "justify_items": null,
      "grid_row": null,
      "max_height": null,
      "align_content": null,
      "visibility": null,
      "align_self": null,
      "height": null,
      "min_height": null,
      "padding": null,
      "grid_auto_rows": null,
      "grid_gap": null,
      "max_width": null,
      "order": null,
      "_view_module_version": "1.2.0",
      "grid_template_areas": null,
      "object_position": null,
      "object_fit": null,
      "grid_auto_columns": null,
      "margin": null,
      "display": null,
      "left": null
     }
    },
    "7cc4f45121654d61a01ef7c5669678b3": {
     "model_module": "@jupyter-widgets/controls",
     "model_name": "HBoxModel",
     "state": {
      "_view_name": "HBoxView",
      "_dom_classes": [],
      "_model_name": "HBoxModel",
      "_view_module": "@jupyter-widgets/controls",
      "_model_module_version": "1.5.0",
      "_view_count": null,
      "_view_module_version": "1.5.0",
      "box_style": "",
      "layout": "IPY_MODEL_a6c401a064e9428c84db25db6d8221f7",
      "_model_module": "@jupyter-widgets/controls",
      "children": [
       "IPY_MODEL_1afd7807928a4ae686fbdd184b57fbbf",
       "IPY_MODEL_89f638f0711e4ce89f95e16d66085cb4"
      ]
     }
    },
    "a6c401a064e9428c84db25db6d8221f7": {
     "model_module": "@jupyter-widgets/base",
     "model_name": "LayoutModel",
     "state": {
      "_view_name": "LayoutView",
      "grid_template_rows": null,
      "right": null,
      "justify_content": null,
      "_view_module": "@jupyter-widgets/base",
      "overflow": null,
      "_model_module_version": "1.2.0",
      "_view_count": null,
      "flex_flow": null,
      "width": null,
      "min_width": null,
      "border": null,
      "align_items": null,
      "bottom": null,
      "_model_module": "@jupyter-widgets/base",
      "top": null,
      "grid_column": null,
      "overflow_y": null,
      "overflow_x": null,
      "grid_auto_flow": null,
      "grid_area": null,
      "grid_template_columns": null,
      "flex": null,
      "_model_name": "LayoutModel",
      "justify_items": null,
      "grid_row": null,
      "max_height": null,
      "align_content": null,
      "visibility": null,
      "align_self": null,
      "height": null,
      "min_height": null,
      "padding": null,
      "grid_auto_rows": null,
      "grid_gap": null,
      "max_width": null,
      "order": null,
      "_view_module_version": "1.2.0",
      "grid_template_areas": null,
      "object_position": null,
      "object_fit": null,
      "grid_auto_columns": null,
      "margin": null,
      "display": null,
      "left": null
     }
    },
    "1afd7807928a4ae686fbdd184b57fbbf": {
     "model_module": "@jupyter-widgets/controls",
     "model_name": "FloatProgressModel",
     "state": {
      "_view_name": "ProgressView",
      "style": "IPY_MODEL_a9fecdc06cfc4a1e88ff731a2976e96d",
      "_dom_classes": [],
      "description": "  0%",
      "_model_name": "FloatProgressModel",
      "bar_style": "danger",
      "max": 11788,
      "_view_module": "@jupyter-widgets/controls",
      "_model_module_version": "1.5.0",
      "value": 12,
      "_view_count": null,
      "_view_module_version": "1.5.0",
      "orientation": "horizontal",
      "min": 0,
      "description_tooltip": null,
      "_model_module": "@jupyter-widgets/controls",
      "layout": "IPY_MODEL_b9a96b9fe3b1463da6e7f0e9078d22a1"
     }
    },
    "89f638f0711e4ce89f95e16d66085cb4": {
     "model_module": "@jupyter-widgets/controls",
     "model_name": "HTMLModel",
     "state": {
      "_view_name": "HTMLView",
      "style": "IPY_MODEL_cde3cd1b82aa403a989185888cf2f27d",
      "_dom_classes": [],
      "description": "",
      "_model_name": "HTMLModel",
      "placeholder": "​",
      "_view_module": "@jupyter-widgets/controls",
      "_model_module_version": "1.5.0",
      "value": " 12/11788 [02:22&lt;48:49:57, 14.93s/it]",
      "_view_count": null,
      "_view_module_version": "1.5.0",
      "description_tooltip": null,
      "_model_module": "@jupyter-widgets/controls",
      "layout": "IPY_MODEL_7fdf551d3578450cac0799b4eefa7fee"
     }
    },
    "a9fecdc06cfc4a1e88ff731a2976e96d": {
     "model_module": "@jupyter-widgets/controls",
     "model_name": "ProgressStyleModel",
     "state": {
      "_view_name": "StyleView",
      "_model_name": "ProgressStyleModel",
      "description_width": "initial",
      "_view_module": "@jupyter-widgets/base",
      "_model_module_version": "1.5.0",
      "_view_count": null,
      "_view_module_version": "1.2.0",
      "bar_color": null,
      "_model_module": "@jupyter-widgets/controls"
     }
    },
    "b9a96b9fe3b1463da6e7f0e9078d22a1": {
     "model_module": "@jupyter-widgets/base",
     "model_name": "LayoutModel",
     "state": {
      "_view_name": "LayoutView",
      "grid_template_rows": null,
      "right": null,
      "justify_content": null,
      "_view_module": "@jupyter-widgets/base",
      "overflow": null,
      "_model_module_version": "1.2.0",
      "_view_count": null,
      "flex_flow": null,
      "width": null,
      "min_width": null,
      "border": null,
      "align_items": null,
      "bottom": null,
      "_model_module": "@jupyter-widgets/base",
      "top": null,
      "grid_column": null,
      "overflow_y": null,
      "overflow_x": null,
      "grid_auto_flow": null,
      "grid_area": null,
      "grid_template_columns": null,
      "flex": null,
      "_model_name": "LayoutModel",
      "justify_items": null,
      "grid_row": null,
      "max_height": null,
      "align_content": null,
      "visibility": null,
      "align_self": null,
      "height": null,
      "min_height": null,
      "padding": null,
      "grid_auto_rows": null,
      "grid_gap": null,
      "max_width": null,
      "order": null,
      "_view_module_version": "1.2.0",
      "grid_template_areas": null,
      "object_position": null,
      "object_fit": null,
      "grid_auto_columns": null,
      "margin": null,
      "display": null,
      "left": null
     }
    },
    "cde3cd1b82aa403a989185888cf2f27d": {
     "model_module": "@jupyter-widgets/controls",
     "model_name": "DescriptionStyleModel",
     "state": {
      "_view_name": "StyleView",
      "_model_name": "DescriptionStyleModel",
      "description_width": "",
      "_view_module": "@jupyter-widgets/base",
      "_model_module_version": "1.5.0",
      "_view_count": null,
      "_view_module_version": "1.2.0",
      "_model_module": "@jupyter-widgets/controls"
     }
    },
    "7fdf551d3578450cac0799b4eefa7fee": {
     "model_module": "@jupyter-widgets/base",
     "model_name": "LayoutModel",
     "state": {
      "_view_name": "LayoutView",
      "grid_template_rows": null,
      "right": null,
      "justify_content": null,
      "_view_module": "@jupyter-widgets/base",
      "overflow": null,
      "_model_module_version": "1.2.0",
      "_view_count": null,
      "flex_flow": null,
      "width": null,
      "min_width": null,
      "border": null,
      "align_items": null,
      "bottom": null,
      "_model_module": "@jupyter-widgets/base",
      "top": null,
      "grid_column": null,
      "overflow_y": null,
      "overflow_x": null,
      "grid_auto_flow": null,
      "grid_area": null,
      "grid_template_columns": null,
      "flex": null,
      "_model_name": "LayoutModel",
      "justify_items": null,
      "grid_row": null,
      "max_height": null,
      "align_content": null,
      "visibility": null,
      "align_self": null,
      "height": null,
      "min_height": null,
      "padding": null,
      "grid_auto_rows": null,
      "grid_gap": null,
      "max_width": null,
      "order": null,
      "_view_module_version": "1.2.0",
      "grid_template_areas": null,
      "object_position": null,
      "object_fit": null,
      "grid_auto_columns": null,
      "margin": null,
      "display": null,
      "left": null
     }
    }
   }
  }
 },
 "cells": [
  {
   "cell_type": "markdown",
   "source": [
    "[![Open In Colab](https://colab.research.google.com/assets/colab-badge.svg)](https://github.com/cdrc1103/MasterThesis/blob/master/Experiments/MultiLabel/SynonymsDataSet.ipynb)"
   ],
   "metadata": {
    "collapsed": false
   }
  },
  {
   "cell_type": "code",
   "metadata": {
    "colab": {
     "base_uri": "https://localhost:8080/"
    },
    "id": "BZN1P2PskYfI",
    "executionInfo": {
     "status": "ok",
     "timestamp": 1624458393321,
     "user_tz": -120,
     "elapsed": 16451,
     "user": {
      "displayName": "Cedric Issel",
      "photoUrl": "",
      "userId": "07537599327357681724"
     }
    },
    "outputId": "cd1f07e1-179c-49ed-f8cd-79482e5247b8"
   },
   "source": [
    "from google.colab import drive\n",
    "drive.mount('/content/gdrive', force_remount=True)"
   ],
   "execution_count": 1,
   "outputs": [
    {
     "output_type": "stream",
     "text": [
      "Mounted at /content/gdrive\n"
     ],
     "name": "stdout"
    }
   ]
  },
  {
   "cell_type": "code",
   "metadata": {
    "colab": {
     "base_uri": "https://localhost:8080/"
    },
    "id": "3Eg587makisv",
    "executionInfo": {
     "status": "ok",
     "timestamp": 1624458399613,
     "user_tz": -120,
     "elapsed": 3241,
     "user": {
      "displayName": "Cedric Issel",
      "photoUrl": "",
      "userId": "07537599327357681724"
     }
    },
    "outputId": "101f14bc-1472-4a3f-8098-450fbdd7c2ca"
   },
   "source": [
    "import json\n",
    "from pathlib import Path\n",
    "import pandas as pd\n",
    "\n",
    "# PARAMETERS FOR EXPERIMENT CONFIGURATION\n",
    "BASE_DIR = Path(f\"gdrive/MyDrive/Colab Notebooks/Thesis\")\n",
    "\n",
    "class Parameter():\n",
    "  def __init__(self):\n",
    "    self.__dict__ = {\n",
    "      \"project_name\": \"thesis_multi-label\",\n",
    "      \"train_dataset\": \"train_A0.csv\",\n",
    "      \"test_dataset\": \"test_A0.csv\",\n",
    "      \"embedding_dataset\": \"patent-300.vec\", # \n",
    "      \"max_token_length\": 100, # number of words/subwords, an instance is truncated to\n",
    "      \"max_tokens\": 39000, # vocabulary size\n",
    "      \"file_size\": 7084721, # or 999995 number of embedding vectors in file\n",
    "      \"embedding_dim\": 300, # dimension of the pre-trained embeddings\n",
    "      \"batch_size\": 128,\n",
    "      \"learning_rate\": 1e-3,\n",
    "      \"epochs\": 2,\n",
    "      \"seed\": 1, # random seed for reproducability\n",
    "      \"logging\": False, # whether to log to the wandb database (True) or to disk (False)\n",
    "      \"n_classes\": 18, # how many unique labels there are in the data set\n",
    "      \"in_feature\": \"abstract\", # feature used for training\n",
    "      \"out_feature\": \"label\", # feature to predict\n",
    "      \"output_size\": 128, # output size of the language processing layer, i.e. the CNN, GRU etc. layer\n",
    "      \"dropout_rate\": 0.1, # for regularization\n",
    "      \"kernel_size\": 5, # size of the CNN kernel\n",
    "      \"threshold\": 0.5\n",
    "    }\n",
    "\n",
    "PARAMS = Parameter()\n",
    "\n",
    "# Read data sets\n",
    "train_df = pd.read_csv(BASE_DIR / PARAMS.train_dataset, index_col=0)\n",
    "train_df = train_df.sample(frac=1, random_state=PARAMS.seed)\n",
    "\n",
    "# Filter relevant classes\n",
    "\n",
    "x_train = train_df[PARAMS.in_feature]\n",
    "y_train = train_df[train_df.columns.difference([PARAMS.in_feature], sort=False)].to_numpy()\n",
    "\n",
    "# Print stats\n",
    "print(f\"Train data set:{len(train_df)} instances\")"
   ],
   "execution_count": 2,
   "outputs": [
    {
     "output_type": "stream",
     "text": [
      "Train data set:102133 instances\n"
     ],
     "name": "stdout"
    }
   ]
  },
  {
   "cell_type": "code",
   "metadata": {
    "colab": {
     "base_uri": "https://localhost:8080/"
    },
    "id": "pbOAM6yQk2n-",
    "executionInfo": {
     "status": "ok",
     "timestamp": 1624034489807,
     "user_tz": -120,
     "elapsed": 6742,
     "user": {
      "displayName": "Cedric Issel",
      "photoUrl": "",
      "userId": "07537599327357681724"
     }
    },
    "outputId": "8fdee406-439b-468e-a581-9ee7bbcf915f"
   },
   "source": [
    "\"\"\" Dependencies \"\"\"\n",
    "import numpy as np\n",
    "import tensorflow as tf\n",
    "from tqdm.notebook import tqdm\n",
    "from tensorflow.keras.layers.experimental.preprocessing import TextVectorization\n",
    "from tensorflow.keras.preprocessing.sequence import pad_sequences\n",
    "\n",
    "\"\"\" Create TF datasets \"\"\"\n",
    "# Transform to tensorflow data set \n",
    "train_ds = tf.data.Dataset.from_tensor_slices((x_train, train_df.index))\\\n",
    "                                              .batch(PARAMS.batch_size)\\\n",
    "                                              .prefetch(tf.data.AUTOTUNE)\n",
    "\n",
    "\"\"\" Build embeddings \"\"\"\n",
    "# Parse file\n",
    "def get_coefs(word, *arr): \n",
    "  return word, np.asarray(arr, dtype='float32')\n",
    "#embeddings_index = dict(get_coefs(*o.rstrip().rsplit(' ')) for o in tqdm(open(BASE_DIR/PARAMS.embedding_dataset), total=PARAMS.file_size))\n",
    "print(\"Found %s word vectors in the embedding file.\" % len(embeddings_index))\n",
    "\n",
    "# Configure the tokenizer settings\n",
    "vectorizer = TextVectorization(max_tokens=PARAMS.max_tokens, output_sequence_length=PARAMS.max_token_length)\n",
    "vectorizer.adapt(train_ds.map(lambda text, index, *args: text))\n",
    "\n",
    "# Tokenize data set\n",
    "def tokenize_text(text, index, *args):\n",
    "  text = tf.expand_dims(text, -1)\n",
    "  return (vectorizer(text), index)\n",
    "train_ds = train_ds.map(tokenize_text)\n",
    "\n",
    "# Build lookup table of word/index mappings\n",
    "voc = vectorizer.get_vocabulary()\n",
    "word_index = dict(zip(voc, range(len(voc))))\n",
    "\n",
    "# Prepare embedding matrix\n",
    "num_tokens = len(voc)\n",
    "hits = 0\n",
    "misses = 0\n",
    "embedding_matrix = np.zeros((num_tokens, PARAMS.embedding_dim))\n",
    "for word, i in word_index.items():\n",
    "    embedding_vector = embeddings_index.get(word)\n",
    "    if embedding_vector is not None:\n",
    "        # Words not found in embedding index will be all-zeros.\n",
    "        # This includes the representation for \"padding\" and \"OOV\"\n",
    "        embedding_matrix[i] = embedding_vector\n",
    "        hits += 1\n",
    "    else:\n",
    "        misses += 1"
   ],
   "execution_count": null,
   "outputs": [
    {
     "output_type": "stream",
     "text": [
      "Found 7084721 word vectors in the embedding file.\n"
     ],
     "name": "stdout"
    }
   ]
  },
  {
   "cell_type": "code",
   "metadata": {
    "id": "w4N5TtK0Bz2c"
   },
   "source": [
    "# Create token index\n",
    "token_index = {v: k for k,v in word_index.items()}"
   ],
   "execution_count": null,
   "outputs": []
  },
  {
   "cell_type": "code",
   "metadata": {
    "id": "YeWVhnROmMAY"
   },
   "source": [
    "# convert tf dataset to numpy\n",
    "tokens = np.zeros([len(train_df),PARAMS.max_token_length], dtype=int)\n",
    "index = []\n",
    "counter = 0\n",
    "for element in train_ds.as_numpy_iterator():\n",
    "  tokens[counter: counter+element[0].shape[0], :] = element[0]\n",
    "  counter+=PARAMS.batch_size"
   ],
   "execution_count": null,
   "outputs": []
  },
  {
   "cell_type": "code",
   "metadata": {
    "id": "ACJx-00SrLvI",
    "colab": {
     "base_uri": "https://localhost:8080/"
    },
    "executionInfo": {
     "status": "ok",
     "timestamp": 1624037955303,
     "user_tz": -120,
     "elapsed": 232,
     "user": {
      "displayName": "Cedric Issel",
      "photoUrl": "",
      "userId": "07537599327357681724"
     }
    },
    "outputId": "1059e08a-2824-4009-a1be-9b47f9f5b276"
   },
   "source": [
    "# generate stopword list\n",
    "import nltk\n",
    "from nltk.corpus import stopwords\n",
    "nltk.download('stopwords')\n",
    "sp = stopwords.words('english')\n",
    "sp_vec = vectorizer(sp).numpy()[:,0]\n",
    "sp_vec = np.array([i for i in sp_vec if i != 1])\n",
    "sp_vec"
   ],
   "execution_count": null,
   "outputs": [
    {
     "output_type": "stream",
     "text": [
      "[nltk_data] Downloading package stopwords to /root/nltk_data...\n",
      "[nltk_data]   Package stopwords is already up-to-date!\n"
     ],
     "name": "stdout"
    },
    {
     "output_type": "execute_result",
     "data": {
      "text/plain": [
       "array([   91,  4194,  6477,  8613, 11440, 16133, 18130,  8016, 21617,\n",
       "        7534, 33036, 18255, 10916, 38210,   141,   193,   193,  2052,\n",
       "        1061,   839,   340,  5169,  5605,    23,  3708, 20980,   142,\n",
       "          26,   347,  1349,  2403,     7,    22,  1580,  3519,    19,\n",
       "         630,    89,   155,    31,  6779,    33,  1391,   433, 26963,\n",
       "       12791,     3,     9,     2,     5,   531,   852,    10,  1359,\n",
       "          21,  1177,   332,     4,    16,    12,    11,    17,    96,\n",
       "         483,   118,    87,   133,   372,   912,   158,   444,   800,\n",
       "           6,    18,   455,  1282,     8,   293,    36,   979,   502,\n",
       "         403,  3101,   143,   338,  2066,  4242,   610,   103,   236,\n",
       "       31002,  8363,   529,   442,   435,   132,  5275,    53,  1299,\n",
       "         123,   792,    51,   201,  4152,   119,   612,  4882,   188,\n",
       "         115,    93,  5361,   907,   772,  1118,    29,  1639,  4533,\n",
       "       33540, 29786,  4422,  8428,   215,  5233,   521,   784,  8252,\n",
       "        7728,   795, 20585,  3801])"
      ]
     },
     "metadata": {
      "tags": []
     },
     "execution_count": 182
    }
   ]
  },
  {
   "cell_type": "code",
   "metadata": {
    "id": "P5Zqk2bXpC4Z"
   },
   "source": [
    "# get nearest neighbor and create synonym dict\n",
    "from sklearn.neighbors import NearestNeighbors\n",
    "\n",
    "synonyms_number = 5\n",
    "word_number = embedding_matrix.shape[0]\n",
    "\n",
    "nn = NearestNeighbors(n_neighbors=synonyms_number+1, n_jobs=4).fit(embedding_matrix)\n",
    "neighbours_mat = nn.kneighbors(embedding_matrix[1:word_number])[1]\n"
   ],
   "execution_count": null,
   "outputs": []
  },
  {
   "cell_type": "code",
   "metadata": {
    "id": "KFMsjSy1GRYt"
   },
   "source": [
    ""
   ],
   "execution_count": null,
   "outputs": []
  },
  {
   "cell_type": "code",
   "metadata": {
    "id": "AuDtJpsos5Fb"
   },
   "source": [
    "# save synonym dict\n",
    "import pickle\n",
    "synonyms = {x[0]: x[0:] for x in neighbours_mat}\n",
    "with open(BASE_DIR/'synonyms.pickle', 'wb') as handle:\n",
    "    pickle.dump(synonyms, handle)"
   ],
   "execution_count": null,
   "outputs": []
  },
  {
   "cell_type": "code",
   "metadata": {
    "colab": {
     "base_uri": "https://localhost:8080/"
    },
    "id": "0M_h9QSb8R_P",
    "executionInfo": {
     "status": "ok",
     "timestamp": 1624037966344,
     "user_tz": -120,
     "elapsed": 204,
     "user": {
      "displayName": "Cedric Issel",
      "photoUrl": "",
      "userId": "07537599327357681724"
     }
    },
    "outputId": "065df351-a81d-4281-b717-03df0b79a107"
   },
   "source": [
    "#print(token_index.get(204))\n",
    "[token_index[t] for t in synonyms.get(206)]"
   ],
   "execution_count": null,
   "outputs": [
    {
     "output_type": "execute_result",
     "data": {
      "text/plain": [
       "['sheet', 'sheets', 'paper', 'sheetlike', 'sheetform', 'strip']"
      ]
     },
     "metadata": {
      "tags": []
     },
     "execution_count": 183
    }
   ]
  },
  {
   "cell_type": "code",
   "metadata": {
    "id": "Z9zxMwgBrouU"
   },
   "source": [
    "def get_synonyms(n, ids, tokens):\n",
    "  syn_sentences = []\n",
    "  syn_ids = []\n",
    "  r1 = np.random.randint(0, synonyms_number+1, size=[n, tokens.shape[1]]) # random synonym\n",
    "  r2 = np.random.randint(0,tokens.shape[0], size=n) # random sequence\n",
    "  for i in range(n):\n",
    "    sequence = tokens[r2[i],:]\n",
    "    for j in range(PARAMS.max_token_length):\n",
    "      word = sequence[j]\n",
    "      if not word in sp_vec:\n",
    "        syns = synonyms.get(word)\n",
    "        if syns is not None:\n",
    "          sequence[j] = syns[r1[i,j]]\n",
    "    syn_sentences.append(\" \".join([token_index.get(t) for t in sequence]).rstrip())\n",
    "    syn_ids.append(ids[r2[i]])\n",
    "  return syn_sentences, syn_ids"
   ],
   "execution_count": null,
   "outputs": []
  },
  {
   "cell_type": "code",
   "metadata": {
    "colab": {
     "base_uri": "https://localhost:8080/",
     "height": 66,
     "referenced_widgets": [
      "74d1f038153a41c28b5029ae9cd6a31c",
      "a2d1a1771e7341688d12d3d4d56d9250",
      "3e3b49974c0e4933a7c997ab05c985cd",
      "847f20052af7462cbeaef455d6cf9063",
      "def3076e653f4f74bbac275fc265884b",
      "19cd9a2813a74511826732b5ac9fe3e3",
      "0ba5ac2a7f7943ecb00458b4a5502153",
      "73286b4304d847e3a91ee40f72dea686"
     ]
    },
    "id": "tg1R3umwazLn",
    "executionInfo": {
     "status": "ok",
     "timestamp": 1624037981249,
     "user_tz": -120,
     "elapsed": 9420,
     "user": {
      "displayName": "Cedric Issel",
      "photoUrl": "",
      "userId": "07537599327357681724"
     }
    },
    "outputId": "e3f8e762-a7b5-45a6-ead4-8edc45c3839b"
   },
   "source": [
    "THRESHOLD = 3000\n",
    "FEATURE = \"abstract\"\n",
    "x_train = x_train.rename(FEATURE, inplace=True)\n",
    "subset_list = []\n",
    "for i in tqdm(np.arange(y_train.shape[1])):\n",
    "  ids = np.where(y_train[:,i]==1)[0]\n",
    "  token_subset = tokens[ids]\n",
    "  x_subset = x_train.iloc[ids].to_frame()\n",
    "  patent_ids = x_train.index\n",
    "  y_subset = pd.DataFrame(y_train[ids], index=patent_ids[ids])\n",
    "  if len(ids) < threshold:\n",
    "    n_samples = threshold-len(ids)\n",
    "    syn_sentences, syn_ids = get_synonyms(n_samples, ids, token_subset)\n",
    "    y_train_syn = pd.DataFrame(y_train[syn_ids], index=patent_ids[syn_ids])\n",
    "    x_train_syn = pd.DataFrame(syn_sentences, index=patent_ids[syn_ids], columns=[FEATURE])\n",
    "    x_subset = pd.concat([x_subset, x_train_syn], axis=0)\n",
    "    y_subset = pd.concat([y_subset, y_train_syn], axis=0)\n",
    "  subset = pd.concat([x_subset, y_subset], axis=1)\n",
    "  subset_list.append(subset)\n",
    "train_syn = pd.concat(subset_list, axis=0)"
   ],
   "execution_count": null,
   "outputs": [
    {
     "output_type": "display_data",
     "data": {
      "application/vnd.jupyter.widget-view+json": {
       "model_id": "74d1f038153a41c28b5029ae9cd6a31c",
       "version_minor": 0,
       "version_major": 2
      },
      "text/plain": [
       "HBox(children=(FloatProgress(value=0.0, max=18.0), HTML(value='')))"
      ]
     },
     "metadata": {
      "tags": []
     }
    },
    {
     "output_type": "stream",
     "text": [
      "\n"
     ],
     "name": "stdout"
    }
   ]
  },
  {
   "cell_type": "code",
   "metadata": {
    "colab": {
     "base_uri": "https://localhost:8080/"
    },
    "id": "yPTiA7JZLrvJ",
    "executionInfo": {
     "status": "ok",
     "timestamp": 1624037989060,
     "user_tz": -120,
     "elapsed": 247,
     "user": {
      "displayName": "Cedric Issel",
      "photoUrl": "",
      "userId": "07537599327357681724"
     }
    },
    "outputId": "5395af45-30f1-4abb-8e20-6a3f63051537"
   },
   "source": [
    "train_syn.abstract"
   ],
   "execution_count": null,
   "outputs": [
    {
     "output_type": "execute_result",
     "data": {
      "text/plain": [
       "patentid\n",
       "EP2216263A1         The package has a bottom wall for supporting a...\n",
       "AU2017203644B2      H1:\\aar r..rovenNRPorthlMCC\\AARU?:465115S2_1.d...\n",
       "WO2007015964A1      A laminated negative pressure wound dressing s...\n",
       "HK1256111A1         The present invention relates to exosomes with...\n",
       "CN109288738A        The invention relates to the technical field o...\n",
       "                                          ...                        \n",
       "EP3709637A1         in an some a that uppermost keratinisation whi...\n",
       "AU2006279800B2      71 some a further and a that representing swin...\n",
       "WO2020194365A1      this the for a a nutraceutically of customizab...\n",
       "US8271992B2         a because for insufficient deformable and a ea...\n",
       "BR112016026660A2    an hence the for the because of dermopharmaceu...\n",
       "Name: abstract, Length: 148202, dtype: object"
      ]
     },
     "metadata": {
      "tags": []
     },
     "execution_count": 186
    }
   ]
  },
  {
   "cell_type": "code",
   "metadata": {
    "colab": {
     "base_uri": "https://localhost:8080/",
     "height": 53
    },
    "id": "r-BQ2rI14uZ9",
    "executionInfo": {
     "status": "ok",
     "timestamp": 1624038091275,
     "user_tz": -120,
     "elapsed": 236,
     "user": {
      "displayName": "Cedric Issel",
      "photoUrl": "",
      "userId": "07537599327357681724"
     }
    },
    "outputId": "61fd2bf3-5c88-43d8-ecf8-0f39a399e20b"
   },
   "source": [
    "x_train.loc['EP3709637A1']"
   ],
   "execution_count": null,
   "outputs": [
    {
     "output_type": "execute_result",
     "data": {
      "application/vnd.google.colaboratory.intrinsic+json": {
       "type": "string"
      },
      "text/plain": [
       "\"In an embodiment, a virtual hair coloration system includes: a projector 22 configured to project digital content including a makeup application tutorial onto the user's hair; and a dynamic mapping unit 24; 30 operably coupled to the projector, wherein the dynamic mapping unit is configured to establish a dynamic correspondence between pixels of the projector 22 and features of the user's hair.\""
      ]
     },
     "metadata": {
      "tags": []
     },
     "execution_count": 189
    }
   ]
  },
  {
   "cell_type": "code",
   "metadata": {
    "id": "MUxYQ5gOAMIj"
   },
   "source": [
    "train_syn.to_csv(BASE_DIR / \"train_A3000SYN.csv\")"
   ],
   "execution_count": null,
   "outputs": []
  },
  {
   "cell_type": "code",
   "metadata": {
    "colab": {
     "base_uri": "https://localhost:8080/"
    },
    "id": "YxGgtrZlFr6p",
    "executionInfo": {
     "status": "ok",
     "timestamp": 1624037452801,
     "user_tz": -120,
     "elapsed": 225,
     "user": {
      "displayName": "Cedric Issel",
      "photoUrl": "",
      "userId": "07537599327357681724"
     }
    },
    "outputId": "2c48a638-79f6-40f3-a5ea-1cf208da3ade"
   },
   "source": [
    ""
   ],
   "execution_count": null,
   "outputs": [
    {
     "output_type": "execute_result",
     "data": {
      "text/plain": [
       "557"
      ]
     },
     "metadata": {
      "tags": []
     },
     "execution_count": 160
    }
   ]
  },
  {
   "cell_type": "code",
   "metadata": {
    "colab": {
     "base_uri": "https://localhost:8080/"
    },
    "id": "dWjGgRDhFvV2",
    "executionInfo": {
     "status": "ok",
     "timestamp": 1624038156801,
     "user_tz": -120,
     "elapsed": 227,
     "user": {
      "displayName": "Cedric Issel",
      "photoUrl": "",
      "userId": "07537599327357681724"
     }
    },
    "outputId": "1bc7461b-53ca-49d7-81a7-8419e8a6bbda"
   },
   "source": [
    "[token_index[t] for t in synonyms.get(word_index[\"virtual\"])]"
   ],
   "execution_count": null,
   "outputs": [
    {
     "output_type": "execute_result",
     "data": {
      "text/plain": [
       "['virtual', 'reality', 'real', 'configuring', 'shared', 'accessing']"
      ]
     },
     "metadata": {
      "tags": []
     },
     "execution_count": 191
    }
   ]
  },
  {
   "cell_type": "code",
   "metadata": {
    "id": "uJeItTKMPCgo",
    "executionInfo": {
     "status": "ok",
     "timestamp": 1624458419641,
     "user_tz": -120,
     "elapsed": 8209,
     "user": {
      "displayName": "Cedric Issel",
      "photoUrl": "",
      "userId": "07537599327357681724"
     }
    }
   },
   "source": [
    "%%capture\n",
    "pip install translators --upgrade"
   ],
   "execution_count": 3,
   "outputs": []
  },
  {
   "cell_type": "code",
   "metadata": {
    "colab": {
     "base_uri": "https://localhost:8080/",
     "height": 424
    },
    "id": "IE-mXv1ZRJTS",
    "executionInfo": {
     "status": "ok",
     "timestamp": 1624459191063,
     "user_tz": -120,
     "elapsed": 868,
     "user": {
      "displayName": "Cedric Issel",
      "photoUrl": "",
      "userId": "07537599327357681724"
     }
    },
    "outputId": "0571a3bf-e35c-45d1-88ea-32c78da34af3"
   },
   "source": [
    "import pandas as pd\n",
    "import requests\n",
    "\n",
    "url = 'https://free-proxy-list.net/'\n",
    "\n",
    "header = {\n",
    "  \"User-Agent\": \"Mozilla/5.0 (X11; Linux x86_64) AppleWebKit/537.36 (KHTML, like Gecko) Chrome/50.0.2661.75 Safari/537.36\",\n",
    "  \"X-Requested-With\": \"XMLHttpRequest\"\n",
    "}\n",
    "\n",
    "r = requests.get(url, headers=header)\n",
    "\n",
    "proxy_df = pd.read_html(r.text)[0].dropna()\n",
    "proxy_df"
   ],
   "execution_count": 14,
   "outputs": [
    {
     "output_type": "execute_result",
     "data": {
      "text/html": [
       "<div>\n",
       "<style scoped>\n",
       "    .dataframe tbody tr th:only-of-type {\n",
       "        vertical-align: middle;\n",
       "    }\n",
       "\n",
       "    .dataframe tbody tr th {\n",
       "        vertical-align: top;\n",
       "    }\n",
       "\n",
       "    .dataframe thead th {\n",
       "        text-align: right;\n",
       "    }\n",
       "</style>\n",
       "<table border=\"1\" class=\"dataframe\">\n",
       "  <thead>\n",
       "    <tr style=\"text-align: right;\">\n",
       "      <th></th>\n",
       "      <th>IP Address</th>\n",
       "      <th>Port</th>\n",
       "      <th>Code</th>\n",
       "      <th>Country</th>\n",
       "      <th>Anonymity</th>\n",
       "      <th>Google</th>\n",
       "      <th>Https</th>\n",
       "      <th>Last Checked</th>\n",
       "    </tr>\n",
       "  </thead>\n",
       "  <tbody>\n",
       "    <tr>\n",
       "      <th>0</th>\n",
       "      <td>129.146.249.135</td>\n",
       "      <td>80.0</td>\n",
       "      <td>US</td>\n",
       "      <td>United States</td>\n",
       "      <td>elite proxy</td>\n",
       "      <td>no</td>\n",
       "      <td>yes</td>\n",
       "      <td>1 minute ago</td>\n",
       "    </tr>\n",
       "    <tr>\n",
       "      <th>1</th>\n",
       "      <td>192.200.220.56</td>\n",
       "      <td>3128.0</td>\n",
       "      <td>US</td>\n",
       "      <td>United States</td>\n",
       "      <td>anonymous</td>\n",
       "      <td>no</td>\n",
       "      <td>yes</td>\n",
       "      <td>1 minute ago</td>\n",
       "    </tr>\n",
       "    <tr>\n",
       "      <th>2</th>\n",
       "      <td>161.202.226.194</td>\n",
       "      <td>80.0</td>\n",
       "      <td>JP</td>\n",
       "      <td>Japan</td>\n",
       "      <td>elite proxy</td>\n",
       "      <td>no</td>\n",
       "      <td>yes</td>\n",
       "      <td>1 minute ago</td>\n",
       "    </tr>\n",
       "    <tr>\n",
       "      <th>3</th>\n",
       "      <td>5.252.161.48</td>\n",
       "      <td>8080.0</td>\n",
       "      <td>GB</td>\n",
       "      <td>United Kingdom</td>\n",
       "      <td>anonymous</td>\n",
       "      <td>no</td>\n",
       "      <td>no</td>\n",
       "      <td>1 minute ago</td>\n",
       "    </tr>\n",
       "    <tr>\n",
       "      <th>4</th>\n",
       "      <td>175.143.37.162</td>\n",
       "      <td>80.0</td>\n",
       "      <td>MY</td>\n",
       "      <td>Malaysia</td>\n",
       "      <td>anonymous</td>\n",
       "      <td>no</td>\n",
       "      <td>no</td>\n",
       "      <td>1 minute ago</td>\n",
       "    </tr>\n",
       "    <tr>\n",
       "      <th>...</th>\n",
       "      <td>...</td>\n",
       "      <td>...</td>\n",
       "      <td>...</td>\n",
       "      <td>...</td>\n",
       "      <td>...</td>\n",
       "      <td>...</td>\n",
       "      <td>...</td>\n",
       "      <td>...</td>\n",
       "    </tr>\n",
       "    <tr>\n",
       "      <th>295</th>\n",
       "      <td>49.248.152.240</td>\n",
       "      <td>80.0</td>\n",
       "      <td>IN</td>\n",
       "      <td>India</td>\n",
       "      <td>anonymous</td>\n",
       "      <td>no</td>\n",
       "      <td>no</td>\n",
       "      <td>52 minutes ago</td>\n",
       "    </tr>\n",
       "    <tr>\n",
       "      <th>296</th>\n",
       "      <td>191.100.20.14</td>\n",
       "      <td>8080.0</td>\n",
       "      <td>EC</td>\n",
       "      <td>Ecuador</td>\n",
       "      <td>anonymous</td>\n",
       "      <td>no</td>\n",
       "      <td>yes</td>\n",
       "      <td>53 minutes ago</td>\n",
       "    </tr>\n",
       "    <tr>\n",
       "      <th>297</th>\n",
       "      <td>176.110.121.90</td>\n",
       "      <td>21776.0</td>\n",
       "      <td>RU</td>\n",
       "      <td>Russian Federation</td>\n",
       "      <td>anonymous</td>\n",
       "      <td>no</td>\n",
       "      <td>yes</td>\n",
       "      <td>53 minutes ago</td>\n",
       "    </tr>\n",
       "    <tr>\n",
       "      <th>298</th>\n",
       "      <td>119.82.252.122</td>\n",
       "      <td>36182.0</td>\n",
       "      <td>KH</td>\n",
       "      <td>Cambodia</td>\n",
       "      <td>elite proxy</td>\n",
       "      <td>no</td>\n",
       "      <td>no</td>\n",
       "      <td>53 minutes ago</td>\n",
       "    </tr>\n",
       "    <tr>\n",
       "      <th>299</th>\n",
       "      <td>110.74.199.16</td>\n",
       "      <td>63141.0</td>\n",
       "      <td>KH</td>\n",
       "      <td>Cambodia</td>\n",
       "      <td>elite proxy</td>\n",
       "      <td>no</td>\n",
       "      <td>no</td>\n",
       "      <td>53 minutes ago</td>\n",
       "    </tr>\n",
       "  </tbody>\n",
       "</table>\n",
       "<p>296 rows × 8 columns</p>\n",
       "</div>"
      ],
      "text/plain": [
       "          IP Address     Port Code  ... Google Https    Last Checked\n",
       "0    129.146.249.135     80.0   US  ...     no   yes    1 minute ago\n",
       "1     192.200.220.56   3128.0   US  ...     no   yes    1 minute ago\n",
       "2    161.202.226.194     80.0   JP  ...     no   yes    1 minute ago\n",
       "3       5.252.161.48   8080.0   GB  ...     no    no    1 minute ago\n",
       "4     175.143.37.162     80.0   MY  ...     no    no    1 minute ago\n",
       "..               ...      ...  ...  ...    ...   ...             ...\n",
       "295   49.248.152.240     80.0   IN  ...     no    no  52 minutes ago\n",
       "296    191.100.20.14   8080.0   EC  ...     no   yes  53 minutes ago\n",
       "297   176.110.121.90  21776.0   RU  ...     no   yes  53 minutes ago\n",
       "298   119.82.252.122  36182.0   KH  ...     no    no  53 minutes ago\n",
       "299    110.74.199.16  63141.0   KH  ...     no    no  53 minutes ago\n",
       "\n",
       "[296 rows x 8 columns]"
      ]
     },
     "metadata": {
      "tags": []
     },
     "execution_count": 14
    }
   ]
  },
  {
   "cell_type": "code",
   "metadata": {
    "colab": {
     "base_uri": "https://localhost:8080/",
     "height": 36
    },
    "id": "ggJa6AmJWiHb",
    "executionInfo": {
     "status": "ok",
     "timestamp": 1624459869030,
     "user_tz": -120,
     "elapsed": 388,
     "user": {
      "displayName": "Cedric Issel",
      "photoUrl": "",
      "userId": "07537599327357681724"
     }
    },
    "outputId": "7abae01c-8b4b-4931-bff0-febab5d75078"
   },
   "source": [
    "proxy_df[\"IP Address\"].iloc[r]"
   ],
   "execution_count": 21,
   "outputs": [
    {
     "output_type": "execute_result",
     "data": {
      "application/vnd.google.colaboratory.intrinsic+json": {
       "type": "string"
      },
      "text/plain": [
       "'45.234.5.82'"
      ]
     },
     "metadata": {
      "tags": []
     },
     "execution_count": 21
    }
   ]
  },
  {
   "cell_type": "code",
   "metadata": {
    "id": "PuDgARgjTdwA",
    "executionInfo": {
     "status": "ok",
     "timestamp": 1624461118122,
     "user_tz": -120,
     "elapsed": 186,
     "user": {
      "displayName": "Cedric Issel",
      "photoUrl": "",
      "userId": "07537599327357681724"
     }
    }
   },
   "source": [
    "import numpy as np\n",
    "subset_list = []\n",
    "for i in np.arange(y_train.shape[1]):\n",
    "  ids = np.where(y_train[:,i]==1)[0]\n",
    "  if len(ids) < 3000:\n",
    "    subset_list.append(x_train.iloc[ids])\n",
    "abstracts = pd.concat(subset_list)"
   ],
   "execution_count": 30,
   "outputs": []
  },
  {
   "cell_type": "code",
   "metadata": {
    "colab": {
     "base_uri": "https://localhost:8080/"
    },
    "id": "tAVWQCwubZfo",
    "executionInfo": {
     "status": "ok",
     "timestamp": 1624461127938,
     "user_tz": -120,
     "elapsed": 3,
     "user": {
      "displayName": "Cedric Issel",
      "photoUrl": "",
      "userId": "07537599327357681724"
     }
    },
    "outputId": "e39cde1d-fa48-454b-8b30-30a683b7fd86"
   },
   "source": [
    "len(abstracts)"
   ],
   "execution_count": 32,
   "outputs": [
    {
     "output_type": "execute_result",
     "data": {
      "text/plain": [
       "11788"
      ]
     },
     "metadata": {
      "tags": []
     },
     "execution_count": 32
    }
   ]
  },
  {
   "cell_type": "code",
   "metadata": {
    "colab": {
     "base_uri": "https://localhost:8080/"
    },
    "id": "nmfEnOzmcCoy",
    "executionInfo": {
     "status": "ok",
     "timestamp": 1624461292904,
     "user_tz": -120,
     "elapsed": 204,
     "user": {
      "displayName": "Cedric Issel",
      "photoUrl": "",
      "userId": "07537599327357681724"
     }
    },
    "outputId": "5e7e7e09-9377-451e-a716-ec8ca65882d0"
   },
   "source": [
    "r"
   ],
   "execution_count": 34,
   "outputs": [
    {
     "output_type": "execute_result",
     "data": {
      "text/plain": [
       "296"
      ]
     },
     "metadata": {
      "tags": []
     },
     "execution_count": 34
    }
   ]
  },
  {
   "cell_type": "code",
   "metadata": {
    "id": "aT6m7SlleboN"
   },
   "source": [
    "abstracts = abstracts.apply(lambda x: \" \".join(x.split()[0:100]))"
   ],
   "execution_count": null,
   "outputs": []
  },
  {
   "cell_type": "code",
   "metadata": {
    "colab": {
     "base_uri": "https://localhost:8080/",
     "height": 485,
     "referenced_widgets": [
      "7cc4f45121654d61a01ef7c5669678b3",
      "a6c401a064e9428c84db25db6d8221f7",
      "1afd7807928a4ae686fbdd184b57fbbf",
      "89f638f0711e4ce89f95e16d66085cb4",
      "a9fecdc06cfc4a1e88ff731a2976e96d",
      "b9a96b9fe3b1463da6e7f0e9078d22a1",
      "cde3cd1b82aa403a989185888cf2f27d",
      "7fdf551d3578450cac0799b4eefa7fee"
     ]
    },
    "id": "sRQwcJNyPIeD",
    "executionInfo": {
     "status": "error",
     "timestamp": 1624461735836,
     "user_tz": -120,
     "elapsed": 142453,
     "user": {
      "displayName": "Cedric Issel",
      "photoUrl": "",
      "userId": "07537599327357681724"
     }
    },
    "outputId": "000c584a-a82d-4c8d-e26b-d1c2cd825554"
   },
   "source": [
    "import translators as ts\n",
    "import random\n",
    "from tqdm.notebook import tqdm\n",
    "import asyncio\n",
    "\n",
    "r = random.randint(0,len(df))\n",
    "l_codes =  [\"fr\", \"it\", \"el\", \"es\", \"bg\", \"cs\", \"da\", \"zh-CN\"]\n",
    "translation_dict = {}\n",
    "abstracts = abstracts.apply(lambda x: \" \".join(x.split()[0:100]))\n",
    "for a, id in zip(abstracts, tqdm(abstracts.index)):\n",
    "  re_translation = []\n",
    "  for l in l_codes:\n",
    "    r = random.randint(0,len(df)-1)\n",
    "    random_proxy=proxy_df[\"IP Address\"].iloc[r]\n",
    "    translation = ts.google(a, from_language=\"en\", to_language=l, proxies={\"http\":f\"http://{random_proxy}\"}, sleep_seconds=0)\n",
    "    re_translation.append(ts.google(translation, to_language=\"en\"))\n",
    "  translation_dict[id] = re_translation\n",
    "\n",
    "async def main():\n",
    "    print(await translator.translate(text, target_lang=deepl.TargetLang.Japanese))\n",
    "\n",
    "if __name__ == '__main__':\n",
    "    loop = asyncio.get_event_loop()\n",
    "    loop.run_until_complete(main())"
   ],
   "execution_count": 37,
   "outputs": [
    {
     "output_type": "display_data",
     "data": {
      "application/vnd.jupyter.widget-view+json": {
       "model_id": "7cc4f45121654d61a01ef7c5669678b3",
       "version_minor": 0,
       "version_major": 2
      },
      "text/plain": [
       "HBox(children=(FloatProgress(value=0.0, max=11788.0), HTML(value='')))"
      ]
     },
     "metadata": {
      "tags": []
     }
    },
    {
     "output_type": "error",
     "ename": "KeyboardInterrupt",
     "evalue": "ignored",
     "traceback": [
      "\u001B[0;31m---------------------------------------------------------------------------\u001B[0m",
      "\u001B[0;31mTypeError\u001B[0m                                 Traceback (most recent call last)",
      "\u001B[0;32m/usr/local/lib/python3.7/dist-packages/urllib3/connectionpool.py\u001B[0m in \u001B[0;36m_make_request\u001B[0;34m(self, conn, method, url, timeout, chunked, **httplib_request_kw)\u001B[0m\n\u001B[1;32m    376\u001B[0m             \u001B[0;32mtry\u001B[0m\u001B[0;34m:\u001B[0m  \u001B[0;31m# Python 2.7, use buffering of HTTP responses\u001B[0m\u001B[0;34m\u001B[0m\u001B[0;34m\u001B[0m\u001B[0m\n\u001B[0;32m--> 377\u001B[0;31m                 \u001B[0mhttplib_response\u001B[0m \u001B[0;34m=\u001B[0m \u001B[0mconn\u001B[0m\u001B[0;34m.\u001B[0m\u001B[0mgetresponse\u001B[0m\u001B[0;34m(\u001B[0m\u001B[0mbuffering\u001B[0m\u001B[0;34m=\u001B[0m\u001B[0;32mTrue\u001B[0m\u001B[0;34m)\u001B[0m\u001B[0;34m\u001B[0m\u001B[0;34m\u001B[0m\u001B[0m\n\u001B[0m\u001B[1;32m    378\u001B[0m             \u001B[0;32mexcept\u001B[0m \u001B[0mTypeError\u001B[0m\u001B[0;34m:\u001B[0m  \u001B[0;31m# Python 3\u001B[0m\u001B[0;34m\u001B[0m\u001B[0;34m\u001B[0m\u001B[0m\n",
      "\u001B[0;31mTypeError\u001B[0m: getresponse() got an unexpected keyword argument 'buffering'",
      "\nDuring handling of the above exception, another exception occurred:\n",
      "\u001B[0;31mKeyboardInterrupt\u001B[0m                         Traceback (most recent call last)",
      "\u001B[0;32m<ipython-input-37-4fea1003cc0a>\u001B[0m in \u001B[0;36m<module>\u001B[0;34m()\u001B[0m\n\u001B[1;32m     13\u001B[0m     \u001B[0mrandom_proxy\u001B[0m\u001B[0;34m=\u001B[0m\u001B[0mproxy_df\u001B[0m\u001B[0;34m[\u001B[0m\u001B[0;34m\"IP Address\"\u001B[0m\u001B[0;34m]\u001B[0m\u001B[0;34m.\u001B[0m\u001B[0miloc\u001B[0m\u001B[0;34m[\u001B[0m\u001B[0mr\u001B[0m\u001B[0;34m]\u001B[0m\u001B[0;34m\u001B[0m\u001B[0;34m\u001B[0m\u001B[0m\n\u001B[1;32m     14\u001B[0m     \u001B[0mtranslation\u001B[0m \u001B[0;34m=\u001B[0m \u001B[0mts\u001B[0m\u001B[0;34m.\u001B[0m\u001B[0mgoogle\u001B[0m\u001B[0;34m(\u001B[0m\u001B[0ma\u001B[0m\u001B[0;34m,\u001B[0m \u001B[0mfrom_language\u001B[0m\u001B[0;34m=\u001B[0m\u001B[0;34m\"en\"\u001B[0m\u001B[0;34m,\u001B[0m \u001B[0mto_language\u001B[0m\u001B[0;34m=\u001B[0m\u001B[0ml\u001B[0m\u001B[0;34m,\u001B[0m \u001B[0mproxies\u001B[0m\u001B[0;34m=\u001B[0m\u001B[0;34m{\u001B[0m\u001B[0;34m\"http\"\u001B[0m\u001B[0;34m:\u001B[0m\u001B[0;34mf\"http://{random_proxy}\"\u001B[0m\u001B[0;34m}\u001B[0m\u001B[0;34m,\u001B[0m \u001B[0msleep_seconds\u001B[0m\u001B[0;34m=\u001B[0m\u001B[0;36m0\u001B[0m\u001B[0;34m)\u001B[0m\u001B[0;34m\u001B[0m\u001B[0;34m\u001B[0m\u001B[0m\n\u001B[0;32m---> 15\u001B[0;31m     \u001B[0mre_translation\u001B[0m\u001B[0;34m.\u001B[0m\u001B[0mappend\u001B[0m\u001B[0;34m(\u001B[0m\u001B[0mts\u001B[0m\u001B[0;34m.\u001B[0m\u001B[0mgoogle\u001B[0m\u001B[0;34m(\u001B[0m\u001B[0mtranslation\u001B[0m\u001B[0;34m,\u001B[0m \u001B[0mto_language\u001B[0m\u001B[0;34m=\u001B[0m\u001B[0;34m\"en\"\u001B[0m\u001B[0;34m)\u001B[0m\u001B[0;34m)\u001B[0m\u001B[0;34m\u001B[0m\u001B[0;34m\u001B[0m\u001B[0m\n\u001B[0m\u001B[1;32m     16\u001B[0m   \u001B[0mtranslation_dict\u001B[0m\u001B[0;34m[\u001B[0m\u001B[0mid\u001B[0m\u001B[0;34m]\u001B[0m \u001B[0;34m=\u001B[0m \u001B[0mre_translation\u001B[0m\u001B[0;34m\u001B[0m\u001B[0;34m\u001B[0m\u001B[0m\n",
      "\u001B[0;32m/usr/local/lib/python3.7/dist-packages/translators/apis.py\u001B[0m in \u001B[0;36mgoogle_api\u001B[0;34m(self, query_text, from_language, to_language, **kwargs)\u001B[0m\n\u001B[1;32m    368\u001B[0m \u001B[0;34m\u001B[0m\u001B[0m\n\u001B[1;32m    369\u001B[0m             \u001B[0mrpc_data\u001B[0m \u001B[0;34m=\u001B[0m \u001B[0mself\u001B[0m\u001B[0;34m.\u001B[0m\u001B[0mget_rpc\u001B[0m\u001B[0;34m(\u001B[0m\u001B[0mquery_text\u001B[0m\u001B[0;34m,\u001B[0m \u001B[0mfrom_language\u001B[0m\u001B[0;34m,\u001B[0m \u001B[0mto_language\u001B[0m\u001B[0;34m)\u001B[0m\u001B[0;34m\u001B[0m\u001B[0;34m\u001B[0m\u001B[0m\n\u001B[0;32m--> 370\u001B[0;31m             \u001B[0mr\u001B[0m \u001B[0;34m=\u001B[0m \u001B[0mss\u001B[0m\u001B[0;34m.\u001B[0m\u001B[0mpost\u001B[0m\u001B[0;34m(\u001B[0m\u001B[0mself\u001B[0m\u001B[0;34m.\u001B[0m\u001B[0mapi_url\u001B[0m\u001B[0;34m,\u001B[0m \u001B[0mheaders\u001B[0m\u001B[0;34m=\u001B[0m\u001B[0mself\u001B[0m\u001B[0;34m.\u001B[0m\u001B[0mapi_headers\u001B[0m\u001B[0;34m,\u001B[0m \u001B[0mdata\u001B[0m\u001B[0;34m=\u001B[0m\u001B[0murllib\u001B[0m\u001B[0;34m.\u001B[0m\u001B[0mparse\u001B[0m\u001B[0;34m.\u001B[0m\u001B[0murlencode\u001B[0m\u001B[0;34m(\u001B[0m\u001B[0mrpc_data\u001B[0m\u001B[0;34m)\u001B[0m\u001B[0;34m,\u001B[0m \u001B[0mproxies\u001B[0m\u001B[0;34m=\u001B[0m\u001B[0mproxies\u001B[0m\u001B[0;34m)\u001B[0m\u001B[0;34m\u001B[0m\u001B[0;34m\u001B[0m\u001B[0m\n\u001B[0m\u001B[1;32m    371\u001B[0m             \u001B[0mr\u001B[0m\u001B[0;34m.\u001B[0m\u001B[0mraise_for_status\u001B[0m\u001B[0;34m(\u001B[0m\u001B[0;34m)\u001B[0m\u001B[0;34m\u001B[0m\u001B[0;34m\u001B[0m\u001B[0m\n\u001B[1;32m    372\u001B[0m             \u001B[0mjson_data\u001B[0m \u001B[0;34m=\u001B[0m \u001B[0mjson\u001B[0m\u001B[0;34m.\u001B[0m\u001B[0mloads\u001B[0m\u001B[0;34m(\u001B[0m\u001B[0mr\u001B[0m\u001B[0;34m.\u001B[0m\u001B[0mtext\u001B[0m\u001B[0;34m[\u001B[0m\u001B[0;36m6\u001B[0m\u001B[0;34m:\u001B[0m\u001B[0;34m]\u001B[0m\u001B[0;34m)\u001B[0m\u001B[0;34m\u001B[0m\u001B[0;34m\u001B[0m\u001B[0m\n",
      "\u001B[0;32m/usr/local/lib/python3.7/dist-packages/requests/sessions.py\u001B[0m in \u001B[0;36mpost\u001B[0;34m(self, url, data, json, **kwargs)\u001B[0m\n\u001B[1;32m    588\u001B[0m         \"\"\"\n\u001B[1;32m    589\u001B[0m \u001B[0;34m\u001B[0m\u001B[0m\n\u001B[0;32m--> 590\u001B[0;31m         \u001B[0;32mreturn\u001B[0m \u001B[0mself\u001B[0m\u001B[0;34m.\u001B[0m\u001B[0mrequest\u001B[0m\u001B[0;34m(\u001B[0m\u001B[0;34m'POST'\u001B[0m\u001B[0;34m,\u001B[0m \u001B[0murl\u001B[0m\u001B[0;34m,\u001B[0m \u001B[0mdata\u001B[0m\u001B[0;34m=\u001B[0m\u001B[0mdata\u001B[0m\u001B[0;34m,\u001B[0m \u001B[0mjson\u001B[0m\u001B[0;34m=\u001B[0m\u001B[0mjson\u001B[0m\u001B[0;34m,\u001B[0m \u001B[0;34m**\u001B[0m\u001B[0mkwargs\u001B[0m\u001B[0;34m)\u001B[0m\u001B[0;34m\u001B[0m\u001B[0;34m\u001B[0m\u001B[0m\n\u001B[0m\u001B[1;32m    591\u001B[0m \u001B[0;34m\u001B[0m\u001B[0m\n\u001B[1;32m    592\u001B[0m     \u001B[0;32mdef\u001B[0m \u001B[0mput\u001B[0m\u001B[0;34m(\u001B[0m\u001B[0mself\u001B[0m\u001B[0;34m,\u001B[0m \u001B[0murl\u001B[0m\u001B[0;34m,\u001B[0m \u001B[0mdata\u001B[0m\u001B[0;34m=\u001B[0m\u001B[0;32mNone\u001B[0m\u001B[0;34m,\u001B[0m \u001B[0;34m**\u001B[0m\u001B[0mkwargs\u001B[0m\u001B[0;34m)\u001B[0m\u001B[0;34m:\u001B[0m\u001B[0;34m\u001B[0m\u001B[0;34m\u001B[0m\u001B[0m\n",
      "\u001B[0;32m/usr/local/lib/python3.7/dist-packages/requests/sessions.py\u001B[0m in \u001B[0;36mrequest\u001B[0;34m(self, method, url, params, data, headers, cookies, files, auth, timeout, allow_redirects, proxies, hooks, stream, verify, cert, json)\u001B[0m\n\u001B[1;32m    540\u001B[0m         }\n\u001B[1;32m    541\u001B[0m         \u001B[0msend_kwargs\u001B[0m\u001B[0;34m.\u001B[0m\u001B[0mupdate\u001B[0m\u001B[0;34m(\u001B[0m\u001B[0msettings\u001B[0m\u001B[0;34m)\u001B[0m\u001B[0;34m\u001B[0m\u001B[0;34m\u001B[0m\u001B[0m\n\u001B[0;32m--> 542\u001B[0;31m         \u001B[0mresp\u001B[0m \u001B[0;34m=\u001B[0m \u001B[0mself\u001B[0m\u001B[0;34m.\u001B[0m\u001B[0msend\u001B[0m\u001B[0;34m(\u001B[0m\u001B[0mprep\u001B[0m\u001B[0;34m,\u001B[0m \u001B[0;34m**\u001B[0m\u001B[0msend_kwargs\u001B[0m\u001B[0;34m)\u001B[0m\u001B[0;34m\u001B[0m\u001B[0;34m\u001B[0m\u001B[0m\n\u001B[0m\u001B[1;32m    543\u001B[0m \u001B[0;34m\u001B[0m\u001B[0m\n\u001B[1;32m    544\u001B[0m         \u001B[0;32mreturn\u001B[0m \u001B[0mresp\u001B[0m\u001B[0;34m\u001B[0m\u001B[0;34m\u001B[0m\u001B[0m\n",
      "\u001B[0;32m/usr/local/lib/python3.7/dist-packages/requests/sessions.py\u001B[0m in \u001B[0;36msend\u001B[0;34m(self, request, **kwargs)\u001B[0m\n\u001B[1;32m    653\u001B[0m \u001B[0;34m\u001B[0m\u001B[0m\n\u001B[1;32m    654\u001B[0m         \u001B[0;31m# Send the request\u001B[0m\u001B[0;34m\u001B[0m\u001B[0;34m\u001B[0m\u001B[0;34m\u001B[0m\u001B[0m\n\u001B[0;32m--> 655\u001B[0;31m         \u001B[0mr\u001B[0m \u001B[0;34m=\u001B[0m \u001B[0madapter\u001B[0m\u001B[0;34m.\u001B[0m\u001B[0msend\u001B[0m\u001B[0;34m(\u001B[0m\u001B[0mrequest\u001B[0m\u001B[0;34m,\u001B[0m \u001B[0;34m**\u001B[0m\u001B[0mkwargs\u001B[0m\u001B[0;34m)\u001B[0m\u001B[0;34m\u001B[0m\u001B[0;34m\u001B[0m\u001B[0m\n\u001B[0m\u001B[1;32m    656\u001B[0m \u001B[0;34m\u001B[0m\u001B[0m\n\u001B[1;32m    657\u001B[0m         \u001B[0;31m# Total elapsed time of the request (approximately)\u001B[0m\u001B[0;34m\u001B[0m\u001B[0;34m\u001B[0m\u001B[0;34m\u001B[0m\u001B[0m\n",
      "\u001B[0;32m/usr/local/lib/python3.7/dist-packages/requests/adapters.py\u001B[0m in \u001B[0;36msend\u001B[0;34m(self, request, stream, timeout, verify, cert, proxies)\u001B[0m\n\u001B[1;32m    447\u001B[0m                     \u001B[0mdecode_content\u001B[0m\u001B[0;34m=\u001B[0m\u001B[0;32mFalse\u001B[0m\u001B[0;34m,\u001B[0m\u001B[0;34m\u001B[0m\u001B[0;34m\u001B[0m\u001B[0m\n\u001B[1;32m    448\u001B[0m                     \u001B[0mretries\u001B[0m\u001B[0;34m=\u001B[0m\u001B[0mself\u001B[0m\u001B[0;34m.\u001B[0m\u001B[0mmax_retries\u001B[0m\u001B[0;34m,\u001B[0m\u001B[0;34m\u001B[0m\u001B[0;34m\u001B[0m\u001B[0m\n\u001B[0;32m--> 449\u001B[0;31m                     \u001B[0mtimeout\u001B[0m\u001B[0;34m=\u001B[0m\u001B[0mtimeout\u001B[0m\u001B[0;34m\u001B[0m\u001B[0;34m\u001B[0m\u001B[0m\n\u001B[0m\u001B[1;32m    450\u001B[0m                 )\n\u001B[1;32m    451\u001B[0m \u001B[0;34m\u001B[0m\u001B[0m\n",
      "\u001B[0;32m/usr/local/lib/python3.7/dist-packages/urllib3/connectionpool.py\u001B[0m in \u001B[0;36murlopen\u001B[0;34m(self, method, url, body, headers, retries, redirect, assert_same_host, timeout, pool_timeout, release_conn, chunked, body_pos, **response_kw)\u001B[0m\n\u001B[1;32m    598\u001B[0m                                                   \u001B[0mtimeout\u001B[0m\u001B[0;34m=\u001B[0m\u001B[0mtimeout_obj\u001B[0m\u001B[0;34m,\u001B[0m\u001B[0;34m\u001B[0m\u001B[0;34m\u001B[0m\u001B[0m\n\u001B[1;32m    599\u001B[0m                                                   \u001B[0mbody\u001B[0m\u001B[0;34m=\u001B[0m\u001B[0mbody\u001B[0m\u001B[0;34m,\u001B[0m \u001B[0mheaders\u001B[0m\u001B[0;34m=\u001B[0m\u001B[0mheaders\u001B[0m\u001B[0;34m,\u001B[0m\u001B[0;34m\u001B[0m\u001B[0;34m\u001B[0m\u001B[0m\n\u001B[0;32m--> 600\u001B[0;31m                                                   chunked=chunked)\n\u001B[0m\u001B[1;32m    601\u001B[0m \u001B[0;34m\u001B[0m\u001B[0m\n\u001B[1;32m    602\u001B[0m             \u001B[0;31m# If we're going to release the connection in ``finally:``, then\u001B[0m\u001B[0;34m\u001B[0m\u001B[0;34m\u001B[0m\u001B[0;34m\u001B[0m\u001B[0m\n",
      "\u001B[0;32m/usr/local/lib/python3.7/dist-packages/urllib3/connectionpool.py\u001B[0m in \u001B[0;36m_make_request\u001B[0;34m(self, conn, method, url, timeout, chunked, **httplib_request_kw)\u001B[0m\n\u001B[1;32m    378\u001B[0m             \u001B[0;32mexcept\u001B[0m \u001B[0mTypeError\u001B[0m\u001B[0;34m:\u001B[0m  \u001B[0;31m# Python 3\u001B[0m\u001B[0;34m\u001B[0m\u001B[0;34m\u001B[0m\u001B[0m\n\u001B[1;32m    379\u001B[0m                 \u001B[0;32mtry\u001B[0m\u001B[0;34m:\u001B[0m\u001B[0;34m\u001B[0m\u001B[0;34m\u001B[0m\u001B[0m\n\u001B[0;32m--> 380\u001B[0;31m                     \u001B[0mhttplib_response\u001B[0m \u001B[0;34m=\u001B[0m \u001B[0mconn\u001B[0m\u001B[0;34m.\u001B[0m\u001B[0mgetresponse\u001B[0m\u001B[0;34m(\u001B[0m\u001B[0;34m)\u001B[0m\u001B[0;34m\u001B[0m\u001B[0;34m\u001B[0m\u001B[0m\n\u001B[0m\u001B[1;32m    381\u001B[0m                 \u001B[0;32mexcept\u001B[0m \u001B[0mException\u001B[0m \u001B[0;32mas\u001B[0m \u001B[0me\u001B[0m\u001B[0;34m:\u001B[0m\u001B[0;34m\u001B[0m\u001B[0;34m\u001B[0m\u001B[0m\n\u001B[1;32m    382\u001B[0m                     \u001B[0;31m# Remove the TypeError from the exception chain in Python 3;\u001B[0m\u001B[0;34m\u001B[0m\u001B[0;34m\u001B[0m\u001B[0;34m\u001B[0m\u001B[0m\n",
      "\u001B[0;32m/usr/lib/python3.7/http/client.py\u001B[0m in \u001B[0;36mgetresponse\u001B[0;34m(self)\u001B[0m\n\u001B[1;32m   1367\u001B[0m         \u001B[0;32mtry\u001B[0m\u001B[0;34m:\u001B[0m\u001B[0;34m\u001B[0m\u001B[0;34m\u001B[0m\u001B[0m\n\u001B[1;32m   1368\u001B[0m             \u001B[0;32mtry\u001B[0m\u001B[0;34m:\u001B[0m\u001B[0;34m\u001B[0m\u001B[0;34m\u001B[0m\u001B[0m\n\u001B[0;32m-> 1369\u001B[0;31m                 \u001B[0mresponse\u001B[0m\u001B[0;34m.\u001B[0m\u001B[0mbegin\u001B[0m\u001B[0;34m(\u001B[0m\u001B[0;34m)\u001B[0m\u001B[0;34m\u001B[0m\u001B[0;34m\u001B[0m\u001B[0m\n\u001B[0m\u001B[1;32m   1370\u001B[0m             \u001B[0;32mexcept\u001B[0m \u001B[0mConnectionError\u001B[0m\u001B[0;34m:\u001B[0m\u001B[0;34m\u001B[0m\u001B[0;34m\u001B[0m\u001B[0m\n\u001B[1;32m   1371\u001B[0m                 \u001B[0mself\u001B[0m\u001B[0;34m.\u001B[0m\u001B[0mclose\u001B[0m\u001B[0;34m(\u001B[0m\u001B[0;34m)\u001B[0m\u001B[0;34m\u001B[0m\u001B[0;34m\u001B[0m\u001B[0m\n",
      "\u001B[0;32m/usr/lib/python3.7/http/client.py\u001B[0m in \u001B[0;36mbegin\u001B[0;34m(self)\u001B[0m\n\u001B[1;32m    308\u001B[0m         \u001B[0;31m# read until we get a non-100 response\u001B[0m\u001B[0;34m\u001B[0m\u001B[0;34m\u001B[0m\u001B[0;34m\u001B[0m\u001B[0m\n\u001B[1;32m    309\u001B[0m         \u001B[0;32mwhile\u001B[0m \u001B[0;32mTrue\u001B[0m\u001B[0;34m:\u001B[0m\u001B[0;34m\u001B[0m\u001B[0;34m\u001B[0m\u001B[0m\n\u001B[0;32m--> 310\u001B[0;31m             \u001B[0mversion\u001B[0m\u001B[0;34m,\u001B[0m \u001B[0mstatus\u001B[0m\u001B[0;34m,\u001B[0m \u001B[0mreason\u001B[0m \u001B[0;34m=\u001B[0m \u001B[0mself\u001B[0m\u001B[0;34m.\u001B[0m\u001B[0m_read_status\u001B[0m\u001B[0;34m(\u001B[0m\u001B[0;34m)\u001B[0m\u001B[0;34m\u001B[0m\u001B[0;34m\u001B[0m\u001B[0m\n\u001B[0m\u001B[1;32m    311\u001B[0m             \u001B[0;32mif\u001B[0m \u001B[0mstatus\u001B[0m \u001B[0;34m!=\u001B[0m \u001B[0mCONTINUE\u001B[0m\u001B[0;34m:\u001B[0m\u001B[0;34m\u001B[0m\u001B[0;34m\u001B[0m\u001B[0m\n\u001B[1;32m    312\u001B[0m                 \u001B[0;32mbreak\u001B[0m\u001B[0;34m\u001B[0m\u001B[0;34m\u001B[0m\u001B[0m\n",
      "\u001B[0;32m/usr/lib/python3.7/http/client.py\u001B[0m in \u001B[0;36m_read_status\u001B[0;34m(self)\u001B[0m\n\u001B[1;32m    269\u001B[0m \u001B[0;34m\u001B[0m\u001B[0m\n\u001B[1;32m    270\u001B[0m     \u001B[0;32mdef\u001B[0m \u001B[0m_read_status\u001B[0m\u001B[0;34m(\u001B[0m\u001B[0mself\u001B[0m\u001B[0;34m)\u001B[0m\u001B[0;34m:\u001B[0m\u001B[0;34m\u001B[0m\u001B[0;34m\u001B[0m\u001B[0m\n\u001B[0;32m--> 271\u001B[0;31m         \u001B[0mline\u001B[0m \u001B[0;34m=\u001B[0m \u001B[0mstr\u001B[0m\u001B[0;34m(\u001B[0m\u001B[0mself\u001B[0m\u001B[0;34m.\u001B[0m\u001B[0mfp\u001B[0m\u001B[0;34m.\u001B[0m\u001B[0mreadline\u001B[0m\u001B[0;34m(\u001B[0m\u001B[0m_MAXLINE\u001B[0m \u001B[0;34m+\u001B[0m \u001B[0;36m1\u001B[0m\u001B[0;34m)\u001B[0m\u001B[0;34m,\u001B[0m \u001B[0;34m\"iso-8859-1\"\u001B[0m\u001B[0;34m)\u001B[0m\u001B[0;34m\u001B[0m\u001B[0;34m\u001B[0m\u001B[0m\n\u001B[0m\u001B[1;32m    272\u001B[0m         \u001B[0;32mif\u001B[0m \u001B[0mlen\u001B[0m\u001B[0;34m(\u001B[0m\u001B[0mline\u001B[0m\u001B[0;34m)\u001B[0m \u001B[0;34m>\u001B[0m \u001B[0m_MAXLINE\u001B[0m\u001B[0;34m:\u001B[0m\u001B[0;34m\u001B[0m\u001B[0;34m\u001B[0m\u001B[0m\n\u001B[1;32m    273\u001B[0m             \u001B[0;32mraise\u001B[0m \u001B[0mLineTooLong\u001B[0m\u001B[0;34m(\u001B[0m\u001B[0;34m\"status line\"\u001B[0m\u001B[0;34m)\u001B[0m\u001B[0;34m\u001B[0m\u001B[0;34m\u001B[0m\u001B[0m\n",
      "\u001B[0;32m/usr/lib/python3.7/socket.py\u001B[0m in \u001B[0;36mreadinto\u001B[0;34m(self, b)\u001B[0m\n\u001B[1;32m    587\u001B[0m         \u001B[0;32mwhile\u001B[0m \u001B[0;32mTrue\u001B[0m\u001B[0;34m:\u001B[0m\u001B[0;34m\u001B[0m\u001B[0;34m\u001B[0m\u001B[0m\n\u001B[1;32m    588\u001B[0m             \u001B[0;32mtry\u001B[0m\u001B[0;34m:\u001B[0m\u001B[0;34m\u001B[0m\u001B[0;34m\u001B[0m\u001B[0m\n\u001B[0;32m--> 589\u001B[0;31m                 \u001B[0;32mreturn\u001B[0m \u001B[0mself\u001B[0m\u001B[0;34m.\u001B[0m\u001B[0m_sock\u001B[0m\u001B[0;34m.\u001B[0m\u001B[0mrecv_into\u001B[0m\u001B[0;34m(\u001B[0m\u001B[0mb\u001B[0m\u001B[0;34m)\u001B[0m\u001B[0;34m\u001B[0m\u001B[0;34m\u001B[0m\u001B[0m\n\u001B[0m\u001B[1;32m    590\u001B[0m             \u001B[0;32mexcept\u001B[0m \u001B[0mtimeout\u001B[0m\u001B[0;34m:\u001B[0m\u001B[0;34m\u001B[0m\u001B[0;34m\u001B[0m\u001B[0m\n\u001B[1;32m    591\u001B[0m                 \u001B[0mself\u001B[0m\u001B[0;34m.\u001B[0m\u001B[0m_timeout_occurred\u001B[0m \u001B[0;34m=\u001B[0m \u001B[0;32mTrue\u001B[0m\u001B[0;34m\u001B[0m\u001B[0;34m\u001B[0m\u001B[0m\n",
      "\u001B[0;32m/usr/lib/python3.7/ssl.py\u001B[0m in \u001B[0;36mrecv_into\u001B[0;34m(self, buffer, nbytes, flags)\u001B[0m\n\u001B[1;32m   1069\u001B[0m                   \u001B[0;34m\"non-zero flags not allowed in calls to recv_into() on %s\"\u001B[0m \u001B[0;34m%\u001B[0m\u001B[0;34m\u001B[0m\u001B[0;34m\u001B[0m\u001B[0m\n\u001B[1;32m   1070\u001B[0m                   self.__class__)\n\u001B[0;32m-> 1071\u001B[0;31m             \u001B[0;32mreturn\u001B[0m \u001B[0mself\u001B[0m\u001B[0;34m.\u001B[0m\u001B[0mread\u001B[0m\u001B[0;34m(\u001B[0m\u001B[0mnbytes\u001B[0m\u001B[0;34m,\u001B[0m \u001B[0mbuffer\u001B[0m\u001B[0;34m)\u001B[0m\u001B[0;34m\u001B[0m\u001B[0;34m\u001B[0m\u001B[0m\n\u001B[0m\u001B[1;32m   1072\u001B[0m         \u001B[0;32melse\u001B[0m\u001B[0;34m:\u001B[0m\u001B[0;34m\u001B[0m\u001B[0;34m\u001B[0m\u001B[0m\n\u001B[1;32m   1073\u001B[0m             \u001B[0;32mreturn\u001B[0m \u001B[0msuper\u001B[0m\u001B[0;34m(\u001B[0m\u001B[0;34m)\u001B[0m\u001B[0;34m.\u001B[0m\u001B[0mrecv_into\u001B[0m\u001B[0;34m(\u001B[0m\u001B[0mbuffer\u001B[0m\u001B[0;34m,\u001B[0m \u001B[0mnbytes\u001B[0m\u001B[0;34m,\u001B[0m \u001B[0mflags\u001B[0m\u001B[0;34m)\u001B[0m\u001B[0;34m\u001B[0m\u001B[0;34m\u001B[0m\u001B[0m\n",
      "\u001B[0;32m/usr/lib/python3.7/ssl.py\u001B[0m in \u001B[0;36mread\u001B[0;34m(self, len, buffer)\u001B[0m\n\u001B[1;32m    927\u001B[0m         \u001B[0;32mtry\u001B[0m\u001B[0;34m:\u001B[0m\u001B[0;34m\u001B[0m\u001B[0;34m\u001B[0m\u001B[0m\n\u001B[1;32m    928\u001B[0m             \u001B[0;32mif\u001B[0m \u001B[0mbuffer\u001B[0m \u001B[0;32mis\u001B[0m \u001B[0;32mnot\u001B[0m \u001B[0;32mNone\u001B[0m\u001B[0;34m:\u001B[0m\u001B[0;34m\u001B[0m\u001B[0;34m\u001B[0m\u001B[0m\n\u001B[0;32m--> 929\u001B[0;31m                 \u001B[0;32mreturn\u001B[0m \u001B[0mself\u001B[0m\u001B[0;34m.\u001B[0m\u001B[0m_sslobj\u001B[0m\u001B[0;34m.\u001B[0m\u001B[0mread\u001B[0m\u001B[0;34m(\u001B[0m\u001B[0mlen\u001B[0m\u001B[0;34m,\u001B[0m \u001B[0mbuffer\u001B[0m\u001B[0;34m)\u001B[0m\u001B[0;34m\u001B[0m\u001B[0;34m\u001B[0m\u001B[0m\n\u001B[0m\u001B[1;32m    930\u001B[0m             \u001B[0;32melse\u001B[0m\u001B[0;34m:\u001B[0m\u001B[0;34m\u001B[0m\u001B[0;34m\u001B[0m\u001B[0m\n\u001B[1;32m    931\u001B[0m                 \u001B[0;32mreturn\u001B[0m \u001B[0mself\u001B[0m\u001B[0;34m.\u001B[0m\u001B[0m_sslobj\u001B[0m\u001B[0;34m.\u001B[0m\u001B[0mread\u001B[0m\u001B[0;34m(\u001B[0m\u001B[0mlen\u001B[0m\u001B[0;34m)\u001B[0m\u001B[0;34m\u001B[0m\u001B[0;34m\u001B[0m\u001B[0m\n",
      "\u001B[0;31mKeyboardInterrupt\u001B[0m: "
     ]
    }
   ]
  },
  {
   "cell_type": "code",
   "metadata": {
    "id": "ylDjmXm7d-HK"
   },
   "source": [
    "\n",
    "import asyncio\n",
    "\n",
    "import deepl\n",
    "\n",
    "text = 'I have a pen.'\n",
    "\n",
    "translator = deepl.Translator(deepl.AiohttpAdapter('Your API key'))\n",
    "\n",
    "\n",
    "async def main():\n",
    "    print(await translator.translate(text, target_lang=deepl.TargetLang.Japanese))\n",
    "\n",
    "if __name__ == '__main__':\n",
    "    loop = asyncio.get_event_loop()\n",
    "    loop.run_until_complete(main())"
   ],
   "execution_count": null,
   "outputs": []
  },
  {
   "cell_type": "code",
   "metadata": {
    "colab": {
     "base_uri": "https://localhost:8080/"
    },
    "id": "cQpXeEaYcxfJ",
    "executionInfo": {
     "status": "ok",
     "timestamp": 1624461490051,
     "user_tz": -120,
     "elapsed": 293,
     "user": {
      "displayName": "Cedric Issel",
      "photoUrl": "",
      "userId": "07537599327357681724"
     }
    },
    "outputId": "2a3276a2-c33b-43e4-a399-cb2cf92a4c96"
   },
   "source": [
    "help(ts.google)"
   ],
   "execution_count": 35,
   "outputs": [
    {
     "output_type": "stream",
     "text": [
      "Help on method google_api in module translators.apis:\n",
      "\n",
      "google_api(query_text: str, from_language: str = 'auto', to_language: str = 'en', **kwargs) -> Union[str, list] method of translators.apis.GoogleV2 instance\n",
      "    https://translate.google.com, https://translate.google.cn.\n",
      "    :param query_text: str, must.\n",
      "    :param from_language: str, default 'auto'.\n",
      "    :param to_language: str, default 'en'.\n",
      "    :param **kwargs:\n",
      "            :param if_use_cn_host: boolean, default None.\n",
      "            :param if_ignore_limit_of_length: boolean, default False.\n",
      "            :param is_detail_result: boolean, default False.\n",
      "            :param proxies: dict, default None.\n",
      "            :param sleep_seconds: float, default `random.random()`.\n",
      "    :return: str or list\n",
      "\n"
     ],
     "name": "stdout"
    }
   ]
  },
  {
   "cell_type": "code",
   "metadata": {
    "colab": {
     "base_uri": "https://localhost:8080/"
    },
    "id": "fTG-FiFOWD2c",
    "executionInfo": {
     "status": "ok",
     "timestamp": 1624460217422,
     "user_tz": -120,
     "elapsed": 218,
     "user": {
      "displayName": "Cedric Issel",
      "photoUrl": "",
      "userId": "07537599327357681724"
     }
    },
    "outputId": "97ea0922-6ab9-464b-c08e-34a8c6f30680"
   },
   "source": [
    "translation_dict"
   ],
   "execution_count": 26,
   "outputs": [
    {
     "output_type": "execute_result",
     "data": {
      "text/plain": [
       "{'CN107714559A': ['The invention proposes a skin care product without deeply moisturizing antispical. The skin care product comprises a humectant conditioning agent and the skin. Humacy includes isomeric saccharides and sodium hyaluronate.Skin packaging comprises hydrolyzed silk proteins.The saccharide isomer, sodium hyaluronate and hydrolysed silk proteins are used for internal hydration and externalskins. The skin care product can penetrate the lipid layer of hair follicles.The skin to provide protein and water from the skin through the conditioning of hydrolyzed silk proteins and sodium hyaluronate, the elasticity of the skin is improved and the skin becomes soft and smooth.The saccharides isomer.can lock the',\n",
       "  'The invention provides a product for deeply moisturizing antiseptic skin. The product for skin care includes a humectant and a skin conditioning agent. The umination includes isomers of saccharides and sodium ialoronta.The conditioning agent of theLeather includes hydrolysis silk proteins. Saccharide isomers, sodium ealaryta and hydrolyzed silk proteins are used to hydrate internal and external eyes. The skin care product can penetrate the lipid layer of skin hair follicles forProvide proteins and water for the skin through the conditioning of hydrolyzed silk proteins and ialoruta sodium, skin elasticity has improved, and the skin becomes soft and smooth. Saccharide isomers can block the',\n",
       "  'The invention provides an antiseptic free deep skin care product. The skin care product comprises a hygroscopic and a skin airway factor. Hyecuroscopic includes saccharides isomeric and hyaluronate sodium. The skin regulating agent comprises hydrolyzed silk proteins. Socker isomer, hyaluronate Sodium and hydrolyzed silk proteins are used to hydrate inland and exterior and exterior. Skin care product can penetrate the lipid layer of skin pockets to provide proteins and water to the skin through the preparation of hydrolyzed silk proteins And sodium hyaluronate, the elasticity of Theskin and the skin gets soft and smooth. Sacchaides Isomer can lock it',\n",
       "  'The invention provides a skin care product without antiseptic moisture without moisture.The skin care product comprises a moisturizing and skin conditioning agent. The moisturizer comprises the isomer of saccharides and sodium hyaluronate. The conditioning agentof the skin comprises hydrolyzed silk proteins.The isomer of saccharides, sodium hyaluronate and hydrolyzed silk proteins are used to hydrate internal and outer kines.The skin care product can penetrate the lipid layer of follicleshair from the skin to supply proteins and water to the skin through the conditioning of hydrolyzed silk proteins and sodium hyaluronate, the elasticity of the skin is improved, and the skin becomes smooth and smooth. Isomer can be blocked',\n",
       "  'The invention provides an antiseptic free deep moisturizing skin care product. The skin care product includes moisture and conditioning of the skin. The system includes an isomer of saccharides and sodium hyaluronate.Condication of the skin includes hydrolysed silk proteins. are used to moisture internal and external. The skin care product may penetrate into the lipid layer of skin follicles to feed proteins and water to the skin by conditioning hydrolysed silk proteins and sodium hyaluronate, pressed the graft elasticity improves and The skin becomes soft and smooth. The isomer can lock',\n",
       "  'The invention provides an antiseptic without depths of the moisturizing product. Skin care Skin care contains a humidifier and skin conditioning agentThey use the moisture of internal and externals',\n",
       "  'The invention provides an antiseptically free deeply moisturizing skin care product.The lipid layer of skin follicles to deliver proteins and water to skin through conditioning of hydrolyzed silk proteins and sodium hyaluronate, theskinelasticity is improved and the skin becomes soft and smooth.saccharides isomer can lock',\n",
       "  'The present invention provides a preservative moisture skin care product.Skin care products include moisturizing agents and skin conditioners.The moisturizing agent comprises a sugar isomer and sodium hyaluronic acid.Skin conditioners include hydrolyzed proteins.Sugar isomers, sodium hyaluronate and hydrolyze proteins are used in moisturizing interior and external funds.Skin care products can penetrate the lipid layer of the skin hair follicle, supplies proteins and water by a hydrolyzed protein and sodium hyaluronate, improve skin elasticity, and the skin is soft and smooth.Sugar isomers can be locked'],\n",
       " 'CN111450203A': ['The invention describes a plant composition to embellish the skin and eliminate the chloasma and a process for preparation and their application.The vegetable composition includes the main raw materials: Crocus Sativus, Radix Salviae Miltiorrhize, Semen Coicis, Poria Cocos and RadixGlycyrrhizae.All 100 g of the plant composition contain the following functional components: 1130 mg of total flavonoids, 1020 mg gross polysaccharides and 220 mg glycyrrhizic acid. A formula is developed by a combination with a theory of care ofTraditional health of traditional medicine of Chinese medicine and improvement or eliminate cutaneous pigmented spots under the direction of a traditional',\n",
       "  'The invention describes a composition of the plant to embellish the skin and removal of Chloasma as well as a method of preparation and its application. The composition of the system includes the following main raw materials: Crocus sativus, radix salviae miltiorrhizae, sperm coicis,Cocos and Radix Pooria GlicirriZae.ogni 100 g of the composition of the plant contains the following functional components: 1130 mg of total flavonoids, 1020 mg of raw polysaccharides and 220 mg of glycoristic acid. A formula is developed by the combination with a modern cure theoryTraditional Chinese medicine and experience to improve or eliminate pigmented skin points under the guidance of a traditional traditional',\n",
       "  'The invention discloses a plant composition for the beauty of the skin and the removal of the grassa as well as a method of preparation and application of them. The composition of the plants includes the following main raw materials: Crocus sativus, Radix salviae miltiorrhizae, Semen Coicis, Poria Cocos and Radix Glycyrhizae. 100 g of the plant composition contains the following functional components: 1130 mg of total flavonoids, 1020 mg of crude polysaccharides and 220 mg of glyciric acid. Formula developed by combining with a modern traditional Chinese healthcare theory and the experience of improvement or of the elimination of stain pigments under the guidance of a traditional',\n",
       "  'The invention describes a composition of the plant to beautify the skin and eliminate Chloasma, as well as a method of preparation and its application. The composition of the plant comprises the following main raw materials: Crocus Sativus, Radix Salviae MiltiRhizae, semen coicis, poriaCoacos and Radix glycyrrhizae.cada 100 g of the composition of the plant contains the following functional components: 1130 mg of total flavonoids, 1020 mg of raw polysaccharides and 220 mg of glycirrotic acid.A formula is developed by a combination with a theory of theHealth of modern medical medicine health and the experience of improving or eliminating pigmented skin spots under the guidance of a traditional',\n",
       "  'The invention discloses a plant composition for the beautification of the skin and the removal of chlorasm as well as a method of preparation and their application. The composition of the plants contains the following main raw materials: Crocus sativus, Radix Salviae Miltiorrhizae, SEMEN COICIS, POIA COCOS and RADIX GLYCYRRHIZAE. Each 100 g of the Plant composition contains the following functional components: 1130 mg of total flavonoids, 1020 mg of raw polysaccharides and 220 mg glycyrryic acid. The form is developed by combination with modern traditional Chinese medicine health theory and experience to improve or eliminate pigmented spots under the guidance of traditional',\n",
       "  'The invention discloses a plant composition for skin beautification and chloasma removal, as well as a method of preparation and use thereofComponents: 1130 mg of total flavonoids, 1020 mg crude polysaccharides and 220 mg of glycyrrhizic acid',\n",
       "  'The invention describes a plant composition for the beauty of the skin and removal of Chloasma as well as a manufacturing method and application thereof.The plant composition comprises the following main materials: Crocus sativus, Radix Saltiorrhizae, semen COICIS, Poria Cocos and Radix glycyrrhizae. Other plant composition contains the following functional components: 1130 mg of total flavonoids, 1020 mg of crude polysaccharides and 220 mg glycyrrhizic acid.a formula is developed by combination with a modern traditional Chinese medicine health care theory and the experience of improving or eliminating skin pigmented spots under the guidance of a traditional',\n",
       "  'The present invention discloses a plant composition for beautifying the skin, removes the larteris and its preparation methods and applications.The plant composition comprises the main raw materials: crocuses, Salvian bacteria, Miltiorrohizae, Semenco, Poria Cocos, and Radix Glycyrhizae.Each 100 grams of plant composition contains the following functional components: 1130 mg total odor, 1020 mg of crude polysaccharide and 220 mg glycyrrhizic acid.Develop formulas through the combination of modern Chinese medicine health care theory and improve or eliminate skin pigment spots under traditional guidance.'],\n",
       " 'CN202897104U': ['The utility model relates to a container with an easy dispensability of the liquid product.A container (2) for a dining liquid is provided, which comprises an elongated body (4) for containing the liquid and closure (10). The closure (10).) includes a fitness (12) and a hood (14) attached to the adjustment (12) .The Fill (12) has an upper end (16) having an elliptical terrace (18) with an angular point.A highest part and surrounded by a skirt (28) with upper (30), lower (32) and lateral (34) and side (32) and side (34).) Regions, the bridge (18) putting inFeatured an opening of distribution (24), a longitudinal',\n",
       "  'The utility model refers to a container with easy dispensability of the liquid product. A container (2) for a liquid is supplied that includes an elongated body (4) to contain the liquid and a closure (10). The closure (10) Includes a mounting (12) and a integrated integrated hood (12) integrated for mounting (12). The mounting (12) has a upper end (16) having an elliptical bridge (18) with a pointed angular end to oneHighest portion and surrounded by a skirt (28) with upper (30), lower (32) and lateral (34) regions, the bridge (18) with a dispensing opening (24), a longitudinal',\n",
       "  'The utility model refers to a container with a liquid product dependence. A container (2) for a rotating fluid is provided which comprises an elongated body (4) for which the liquid and a closure (10) is closed (10). ) includes a component (12) and a lid (14) connected to rotators to the component (12). The component (12) has an upper end (16) having an elliptical deck (18) with a corner visited end to a A supreme part and is surrounded by a skirt (28) with the upper (30), lower (32) and lateral (34) regions, the deck (18) having a distribution opening (24), a longitudinal',\n",
       "  'The utility model is related to a container with the dispensability capacity of liquid products. A container (2) is provided for a pourable liquid that includes an elongated body (4) to contain the liquid and a closure (10).Closure (10) includes an accessory (12) and a pivotable lid (14) to adjustment (12). The adjustment (12) has an upper end (16) having an elliptical cover (18) with an angularly pointed end ofA superior portion and surrounded by a skirt (28) with upper (30), lower (32) and lateral (34)) regions, the cover (18) with an opening of dispensing (24), a longitudinal',\n",
       "  'The utility model refers to a container with a facial dispensation of the liquid product. A container (2) for fluid intake, which includes an elongated body (4) for the liquid and closure (10), closure (10) comprises a device (10). 12) and cap (14) attached to the attachment (12). (12) has an upper end (16) with an elliptical deck (18) with an angular tapered end of the top and surrounded by gender (28) with upper ( 30), lower (32) and side (34) and lateral (34) and lateral (34)) regions, deck (18) with dosing detection (24), longitudinal',\n",
       "  'The utility model concerns a container with the defense of liquid product. There is a recycling liquid container (2), which comprises an elongate body (4) for the liquid and closure (10) of the liquid (10).14) rotatably attached to the assembly (12) .Fitment (12) has an upper end (16) having an elliptical deck (18) with an angle pointed end at the top and surrounded by a skirt (28) with upper (30), lower (32) andSide (34)) Regions, Deck (18) Featuring a dispensing opening (24), longitudinal',\n",
       "  'The utility model relates to a container with ease of liquid product. It container (2) to a pourable liquid is provided which includes an elongated body (4) to contain the liquid and a closure (10). Closure (10) includes a fitment (12) and a cap (14) pivotally attached to the fit (12). Adaptation (12) has an upper end (16) having an elliptical tire (18) with an angular-resistant end at an upper part and surrounded by a skirt (28) with upper (30), lower (32) and lateral (34)) regions, covered (18) with a dispensing opening (24), a longitudinal',\n",
       "  'The utility model relates to a container having a dispensedable liquid product.A container (2) which provides a pouring liquid comprises an elongate body (4) comprising a liquid and a closure (10).The closure (10) includes a fitting (12) and a cap (14) that is pivotally attached to the fitting (12).The fitting (12) has an upper end (16) having an elliptical deck (18) having an angular tip end, and is surrounded by a skirt (28), lower (32)) And horizontal (34) (34) area, deck (18) has a dispensing opening (24), longitudinal direction'],\n",
       " 'JP2004509170A': ['An emulsion composition for the topical application comprising: (a) a polymer oily phase; (b) a polymeric emulsifier; (c) an aqueous phase; (d) a polymer antimicrobial and possibly one or more components chosen from the trainerspolymeric films, inorganic stabilizers and polymers, other inorganic or polymeric excipients and mixtures thereof.',\n",
       "  'A composition of emulsion for the topical application comprising: (a) an oily polymeric phase; (b) a polymeric emulsifier; (c) an aqueous phase; (d) a polymeric antimicrobic and optionally one or more components selected by film trainersPolymeric, inorganic and polymeric stabilizers, other inorganic or polymeric excipients and their mixtures.',\n",
       "  'An emulsion composition for the topical application comprising: (a) a polymeric oil phase. (B) Polymeric emulsifier.c) aqueous phase; (d) a polymeric antimicrobial and optionally one or more components selected from polymeric film formers, inorganic andPolymer stabilizers, other inorganic or polymeric excipients and mixtures thereof.',\n",
       "  'An emulsion composition for topical application comprising: (a) a polymeric oil phase; (b) a polymeric emulsifier; (c) an aqueous phase; (d) a polymeric antimicrobial and optionally one or more selected components of film trainersPolymer, inorganic and polymeric stabilizers, other inorganic or polymeric excipients and mixtures thereof.',\n",
       "  'Local administration emulsion composition comprising: (a) polymeric oil phase; (b) a polymer emulsifier; B) aqueous phase (d) polymer antimicrobial and optionally one or more components selected from polymer films, inorganic and polymer stabilizers, other inorganicor polymeric excipients and mixtures thereof.',\n",
       "  'Emulsion compositions for local administration comprising: (a) polymeric oil phase; b) a polymeric emulsifier; c) aqueous phase; d) polymer antimicrobial and optionally one or more components selected from polymer films, inorganic and polymer stabilizers, other inorganic or polymer excipients andto their mixtures.',\n",
       "  'An emulsion composition for the topical application comprising: (a) a polymer oily phase; (b) a polymeric emulsifier (c) an aqueous phase (d) a polymer antimicrobial and optionally one or more components selected from polymer film formers, inorganic and polymeric stabilizers, othersinorganic or polymeric excipients and mixtures thereof.',\n",
       "  'Partially applied emulsion composition comprising: (a) polymer oil phase; (b) polymer emulsifier; (c) aqueous phase; (d) polymer antimicrobial and optional one or morePolymer thin film preparation, inorganic and polymer stabilizer, other inorganic or polymer excipients and mixtures thereof.'],\n",
       " 'JP2008132394A': ['Problem to be solved: Provide a process for producing solid microparticles or liquid microparticles intended for use as an emulsion used in the food industry, the production of drugs and cosmetics, etc.or an emulsion for the DDS (drug distribution system).',\n",
       "  'Problem to be solved: provide a process for the production of microspheres that are solid microparticles or liquid microparticles for use as an emulsion used in the food industry, production of medicine and cosmetics, etc.O Emulsion for DDS (drug delivery system).',\n",
       "  'Problem to be resolved: To provide a process for the production of microspheres that are solid microparticles or liquid microparticles for use as an emulsion used in the food industry, producing medicines and cosmetics, etc. or an emulsion for DDS (drug delivery system).',\n",
       "  'Problem to be solved: To provide a process to produce microparticles that are solid microparticles or liquid microparticles for use as an emulsion used in the food industry, the production of medicines and cosmetics, etc.o An emulsion for DDS (drug management system).',\n",
       "  'The problem to be solved: to provide a process for producing microparticles that are solid microparticles or liquid microparticles for use as an emulsion used in the food industry, the manufacture of medicine and cosmetic, and so on.or an emulsion for DDS (drug delivery system).',\n",
       "  'The problem to be resolved: provide a method for producing microspheres that are solid microspheres or liquid microparticles for use as an emulsion used in the food industry, medicine and cosmetics production, etc. or DDS emulsion (drug delivery system).',\n",
       "  'Problems to be solved: In order to provide a method for producing microspheres, which are solid microparticles or liquid microparticles for use as an emulsion used in the food industry, production of medicine and cosmetic, etc.Or an emulsion to DDS (drug delivery system).',\n",
       "  'The problem to be solved: Provides a method of producing a microsphere used to use solid particles or liquid particles used in a food industry, a drug or DDS emulsion (drug delivery system).'],\n",
       " 'US7748563B2': ['An end element (130) for a container has a central panel (12) extending radially outwardly from a central axis.A first panel radius (114) is located along withA peripheral edge of the central panel (12) .A milling (16) is an integral part of the first radius of the panel (114) .Afrucquet (15) extends upward from milling (16) to a sewing border (14) Located at an external perimeter of the end element (130). An approach point (134) is defined by a lower outer position of a second end end element stacked end (132) .un .unturn (108) is located on the chuckwall (15).',\n",
       "  'A final member (130) for a container has a central panel (12) which extends radially outwardly from a central axis. A first panel radius (114) is located along a peripheral edge of the central panel (12) .unBackground (16) is integrated with the first radius of the panel (114). A chuckwall (15) extends upwards from the substrate (16) to a curl of stitching (14) located at an external perimeter of the final member (130). A point of approach (134) is defined by a lower external position of a secondly stacked second final name member (132) .a curve (108) is located on the chuckwall (15). The curve',\n",
       "  'A final member (130) for a container has a central frame (12) which extends radially outwardly from a central axis. A ray of first panel (114) is located along a peripheral edge of the central panel (12). Counterersink ( 16) It is integral with the first frame radius (114). Chuckwall (15) extends upstream from Counterersink (16) to a seam curl (14) located on an external perimeter of the final member (130). (134) is defined by a lower external position of an axially stacked second final member (132). Bending (108) is located in Chuckwall (15).',\n",
       "  'A final member (130) for a container has a central panel (12) that extends radially outwardly from a central axis. A first panel radius (114) is located along a peripheral edge of the central panel (12). A countershel (16) is an integral part with the first panel radius (114) .Un Chuckwall (15) extends up from the container (16) to a sewing curl (14) located in an outer perimeter of the final member(130). A higher external position of a second-end axially stacked member (132). A curve (108) is located in Chuckwall (15). The curve',\n",
       "  'The final container element (130) has a central panel (12) that extends out of the central axis. The first radius of the panel (114) is located on the peripheral edge of the central panel (12). (16) is an integral part of the firstRadius of the panel (114). (15) extends upward from the counter (16) to the slag (14) located on an outdoor perimeter of the final element (130). The approach (134) is determined by a lower external positionon an axially arranged second end element (132). (108) is located on Chuckwall (15) .Way',\n",
       "  'The end member (130) for the container has a central panel (12) extending radially outwardly from the central axis.) .Chuckwall (15) extends upwards from the adjusting seam (16) on the toring seams (14) located on the outer circumference of the end member (130).Ohyb (108) is located on chuckwall (15) .ohyb',\n",
       "  'An end portion (130) for a container has a central panel (12) extending radially outwardly from a central axis. The first panel stradius (114) is located along a peripheral edge of the central panel (12) .en recess (16)is integrated with the first panel radius (114). The chuckwall (15) extends upwardly from recessed (16) to a nailing curl (14) located in an outer circumference of the end element (130). A).Defined by a lower outer position of an axially stacked second end element (132). A bending (108) is placed on the chuckwall (15) .bjøjning.',\n",
       "  'The end members (130) for the container have a central panel (12) extending radially outward from the central axis.The first panel radius (114) is positioned along the peripheral edge of the center panel (12).Countersink (16) is integral with the first panel radius (114).The cavity (15) extends upwardly from the buried bore (16) to the seam roll (14) located outside the outer periphery of the end member (130).The proximity point (134) is defined by the lower outer position of the second end member (132) axially stacked.Bend (108) is located on Chuckwall (15).Curve'],\n",
       " 'WO2016108357A1': ['The present invention relates to a liquid lipped container having an applicator, the surface of which has been subjected to a flocking so as to improve the spread of a liquid lipstick and having a symmetrical propagation hole formed of such as red.liquid lipstick can be applied evenly.',\n",
       "  'The present invention relates to a liquid lipstick container having an applicator, whose surface was subjected to flocking so as to improve the spread of a liquid lipstick and having a symmetrical diffusion hole formed on such that liquid lipstick can be applied inUniform way.',\n",
       "  'The present invention relates to a liquid lipstick container having an applicator, the surface of which has been shrinking so as to improve the distinction of a liquid lipstick and possessing a symmetrical spread hole formed on that that the liquid lipstick can be applieduniformly.',\n",
       "  'The present invention relates to a liquid lipstick container having an applicator, whose surface has been flocked to improve the distribution capacity of a liquid lipstick, and having a symmetric extension orifice formed in suchThat the liquid lipstick can be applied uniformly.',\n",
       "  'The present invention relates to a liquid lipstick container having an acid whose surface is subjected to flocking so as to improve the spread of liquid lipstick and have a symmetrical spraying opening that the liquid lipstick can be applied evenly.',\n",
       "  '[0001] The present invention relates to a liquid container lipstick having a applicator whose surface was subjected to flocking to improve the soluble liquid lipstick and having a symmetrical spreading opening formed such that the liquid lipstick can be applied evenly.',\n",
       "  'The present invention relates to a liquid lipstick container having an applicator whose surface has been exposed to flock to improve the spreadability of a liquid lipstick and with a symmetrical spreading hole formed thereon so that the liquid lipstick can be applied evenly.',\n",
       "  'The present invention relates to a liquid lipstick having an applicator, which has been subjected to flocking to improve the spreadability of liquid lipstick and form a symmetrical diffusion hole thereon such that liquid lip balm can be uniformly applied.']}"
      ]
     },
     "metadata": {
      "tags": []
     },
     "execution_count": 26
    }
   ]
  },
  {
   "cell_type": "code",
   "metadata": {
    "id": "gmMznljBXD19"
   },
   "source": [
    "pd.set_option('display.max_colwidth', 500)"
   ],
   "execution_count": null,
   "outputs": []
  },
  {
   "cell_type": "code",
   "metadata": {
    "colab": {
     "base_uri": "https://localhost:8080/"
    },
    "id": "q9KD5nG_XMnJ",
    "executionInfo": {
     "status": "ok",
     "timestamp": 1624040593786,
     "user_tz": -120,
     "elapsed": 228,
     "user": {
      "displayName": "Cedric Issel",
      "photoUrl": "",
      "userId": "07537599327357681724"
     }
    },
    "outputId": "2e5b8e74-b445-4c55-cc06-7b4f4191892d"
   },
   "source": [
    "print(a)"
   ],
   "execution_count": null,
   "outputs": [
    {
     "output_type": "stream",
     "text": [
      "The present invention relates to a liquid lipstick container having an applicator, the surface of which has been subjected to flocking so as to improve the spreadability of a liquid lipstick, and having a symmetric spreading hole formed thereon such that the liquid lipstick can be applied evenly.\n"
     ],
     "name": "stdout"
    }
   ]
  },
  {
   "cell_type": "code",
   "metadata": {
    "colab": {
     "base_uri": "https://localhost:8080/",
     "height": 335
    },
    "id": "lptItQaiV5t_",
    "executionInfo": {
     "status": "ok",
     "timestamp": 1624040562184,
     "user_tz": -120,
     "elapsed": 214,
     "user": {
      "displayName": "Cedric Issel",
      "photoUrl": "",
      "userId": "07537599327357681724"
     }
    },
    "outputId": "e76cd1e3-2aec-46a0-b068-afa85cd600b8"
   },
   "source": [
    "pd.DataFrame(re_translation)"
   ],
   "execution_count": null,
   "outputs": [
    {
     "output_type": "execute_result",
     "data": {
      "text/html": [
       "<div>\n",
       "<style scoped>\n",
       "    .dataframe tbody tr th:only-of-type {\n",
       "        vertical-align: middle;\n",
       "    }\n",
       "\n",
       "    .dataframe tbody tr th {\n",
       "        vertical-align: top;\n",
       "    }\n",
       "\n",
       "    .dataframe thead th {\n",
       "        text-align: right;\n",
       "    }\n",
       "</style>\n",
       "<table border=\"1\" class=\"dataframe\">\n",
       "  <thead>\n",
       "    <tr style=\"text-align: right;\">\n",
       "      <th></th>\n",
       "      <th>0</th>\n",
       "    </tr>\n",
       "  </thead>\n",
       "  <tbody>\n",
       "    <tr>\n",
       "      <th>0</th>\n",
       "      <td>The rumor of liquid lepics is composed of the lypsy converter that the driver of driving deficiency in such a consistent consequences of the distribution of the distribution of the distribution of the distribution of the distribution of the distribution of agreement.</td>\n",
       "    </tr>\n",
       "    <tr>\n",
       "      <th>1</th>\n",
       "      <td>The current invention is a liquid lipstick container having a rod, and the surface that brings him flows to improve the spread of lipstick lipstick.</td>\n",
       "    </tr>\n",
       "    <tr>\n",
       "      <th>2</th>\n",
       "      <td>This inventory contains liquid lips that are limited liquid liquid liquid liquid, then grumps to spread the liquid liquid and make a liquid liper to make a chip lipstry.</td>\n",
       "    </tr>\n",
       "    <tr>\n",
       "      <th>3</th>\n",
       "      <td>The present invention relates to a liquid lipstick container with an applicator whose surface has been subjected to neat to improve the spread of liquid lipstick and formed a symmetrical spreading hole so that liquid lipstick can be applied evenly.</td>\n",
       "    </tr>\n",
       "    <tr>\n",
       "      <th>4</th>\n",
       "      <td>The current invention refers to the container of liquid lipstick, the surface in which the surface was transferred to improve the lipstick of liquid lipstick, and it has a symmetrical spreading hole created equally.</td>\n",
       "    </tr>\n",
       "    <tr>\n",
       "      <th>5</th>\n",
       "      <td>The present invention relates to a liquid lipstick container having an applicator, wherein the surface has a symmetrical spreading hole having a symmetric spreading hole having a symmetrical spread hole for improving the spread of liquid lipstick and can be applied evenly to a liquid lipstickOn ....</td>\n",
       "    </tr>\n",
       "    <tr>\n",
       "      <th>6</th>\n",
       "      <td>A labeling of the label forms a fluent container, which is an applicator having a surfacing expansion in order to improve the transferring fluorescence and, after being aimed at one-simmetric agents, whether the liquid rust can be applied equally.</td>\n",
       "    </tr>\n",
       "    <tr>\n",
       "      <th>7</th>\n",
       "      <td>The present invention relates to a liquid lipstick having an applicator, which has been subjected to flocking to improve the spreadability of liquid lipstick and form a symmetrical diffusion hole thereon such that liquid lip balm can be uniformly applied.</td>\n",
       "    </tr>\n",
       "  </tbody>\n",
       "</table>\n",
       "</div>"
      ],
      "text/plain": [
       "                                                                                                                                                                                                                                                                                                              0\n",
       "0                                   The rumor of liquid lepics is composed of the lypsy converter that the driver of driving deficiency in such a consistent consequences of the distribution of the distribution of the distribution of the distribution of the distribution of the distribution of agreement.\n",
       "1                                                                                                                                                          The current invention is a liquid lipstick container having a rod, and the surface that brings him flows to improve the spread of lipstick lipstick.\n",
       "2                                                                                                                                     This inventory contains liquid lips that are limited liquid liquid liquid liquid, then grumps to spread the liquid liquid and make a liquid liper to make a chip lipstry.\n",
       "3                                                      The present invention relates to a liquid lipstick container with an applicator whose surface has been subjected to neat to improve the spread of liquid lipstick and formed a symmetrical spreading hole so that liquid lipstick can be applied evenly.\n",
       "4                                                                                       The current invention refers to the container of liquid lipstick, the surface in which the surface was transferred to improve the lipstick of liquid lipstick, and it has a symmetrical spreading hole created equally.\n",
       "5  The present invention relates to a liquid lipstick container having an applicator, wherein the surface has a symmetrical spreading hole having a symmetric spreading hole having a symmetrical spread hole for improving the spread of liquid lipstick and can be applied evenly to a liquid lipstickOn ....\n",
       "6                                                       A labeling of the label forms a fluent container, which is an applicator having a surfacing expansion in order to improve the transferring fluorescence and, after being aimed at one-simmetric agents, whether the liquid rust can be applied equally.\n",
       "7                                               The present invention relates to a liquid lipstick having an applicator, which has been subjected to flocking to improve the spreadability of liquid lipstick and form a symmetrical diffusion hole thereon such that liquid lip balm can be uniformly applied."
      ]
     },
     "metadata": {
      "tags": []
     },
     "execution_count": 214
    }
   ]
  }
 ]
}