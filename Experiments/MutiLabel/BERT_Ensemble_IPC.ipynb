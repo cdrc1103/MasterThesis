{
 "cells": [
  {
   "cell_type": "markdown",
   "metadata": {},
   "source": [
    "[![Open In Colab](https://colab.research.google.com/assets/colab-badge.svg)](https://colab.research.google.com/github/cdrc1103/MasterThesis/blob/master/Experiments/MutiLabel/BERT_Ensemble_IPC.ipynb)"
   ]
  },
  {
   "cell_type": "markdown",
   "metadata": {
    "id": "QZfYS_c4AvIL"
   },
   "source": [
    "### Setup Notebook"
   ]
  },
  {
   "cell_type": "code",
   "execution_count": null,
   "metadata": {
    "colab": {
     "base_uri": "https://localhost:8080/"
    },
    "executionInfo": {
     "elapsed": 9606,
     "status": "ok",
     "timestamp": 1624827119223,
     "user": {
      "displayName": "Cedric Issel",
      "photoUrl": "",
      "userId": "07537599327357681724"
     },
     "user_tz": -120
    },
    "id": "4kryQhZfMxu2",
    "outputId": "b19d790c-6bdc-48b9-8b2c-c9aac44cf2dc"
   },
   "outputs": [],
   "source": [
    "import tensorflow as tf\n",
    "import os\n",
    "\n",
    "TPU_WORKER = 'grpc://' + os.environ['COLAB_TPU_ADDR']\n",
    "resolver = tf.distribute.cluster_resolver.TPUClusterResolver(tpu=TPU_WORKER)\n",
    "tf.config.experimental_connect_to_cluster(resolver)\n",
    "# This is the TPU initialization code that has to be at the beginning.\n",
    "tf.tpu.experimental.initialize_tpu_system(resolver)\n",
    "print(\"All devices: \", tf.config.list_logical_devices('TPU'))\n",
    "strategy = tf.distribute.TPUStrategy(resolver)"
   ]
  },
  {
   "cell_type": "code",
   "execution_count": 2,
   "metadata": {
    "executionInfo": {
     "elapsed": 21984,
     "status": "ok",
     "timestamp": 1624821198817,
     "user": {
      "displayName": "Cedric Issel",
      "photoUrl": "",
      "userId": "07537599327357681724"
     },
     "user_tz": -120
    },
    "id": "fJCzGfbwJvjM"
   },
   "outputs": [],
   "source": [
    "%%capture\n",
    "%matplotlib inline\n",
    "!pip install wandb\n",
    "!pip install -qq transformers\n",
    "!pip install datasets"
   ]
  },
  {
   "cell_type": "code",
   "execution_count": 3,
   "metadata": {
    "colab": {
     "base_uri": "https://localhost:8080/"
    },
    "executionInfo": {
     "elapsed": 36274,
     "status": "ok",
     "timestamp": 1624821235089,
     "user": {
      "displayName": "Cedric Issel",
      "photoUrl": "",
      "userId": "07537599327357681724"
     },
     "user_tz": -120
    },
    "id": "bd8hN16VJ72r",
    "outputId": "a371a89d-7eb0-4ca3-cf3e-89415a68f5ae"
   },
   "outputs": [
    {
     "name": "stdout",
     "output_type": "stream",
     "text": [
      "Mounted at /content/gdrive\n"
     ]
    }
   ],
   "source": [
    "from google.colab import drive\n",
    "drive.mount('/content/gdrive', force_remount=True)"
   ]
  },
  {
   "cell_type": "markdown",
   "metadata": {
    "id": "XjrnXGQYA5Mg"
   },
   "source": [
    "## Data & Parameters\n",
    "\n"
   ]
  },
  {
   "cell_type": "code",
   "execution_count": 4,
   "metadata": {
    "colab": {
     "base_uri": "https://localhost:8080/"
    },
    "executionInfo": {
     "elapsed": 11526,
     "status": "ok",
     "timestamp": 1624821246608,
     "user": {
      "displayName": "Cedric Issel",
      "photoUrl": "",
      "userId": "07537599327357681724"
     },
     "user_tz": -120
    },
    "id": "KSUYkbL8G0Vh",
    "outputId": "e171a2b2-4ec7-4ebe-b504-800a7170022a"
   },
   "outputs": [
    {
     "name": "stdout",
     "output_type": "stream",
     "text": [
      "Train data set:213157 instances\n",
      "Test data set:46464 instances\n"
     ]
    }
   ],
   "source": [
    "import json\n",
    "from pathlib import Path\n",
    "import pandas as pd\n",
    "import pickle\n",
    "pd.options.mode.chained_assignment = None  # default='warn'\n",
    "\n",
    "RUN_ID = \"2.3_ATCI5000MIX\"\n",
    "BASE_DIR = Path(f\"gdrive/MyDrive/Colab Notebooks/Thesis\")\n",
    "RUN_DIR = BASE_DIR / \"MultiLabel/Runs\"\n",
    "\n",
    "# Load parameters\n",
    "class Parameter():\n",
    "  def __init__(self):\n",
    "    self.__dict__ = {\n",
    "      \"project_name\": \"thesis_multi-label\",\n",
    "      \"train_dataset\": \"train_ATCI5000MIX.csv\",\n",
    "      \"test_dataset\": \"test_ATCI5000MIX.csv\",\n",
    "      \"embedding_dataset\": \"bert-for-patents\",\n",
    "      \"max_tokens\": 39000, # vocabulary size\n",
    "      \"embedding_dim\": 1024,\n",
    "      \"batch_size\": 32,\n",
    "      \"learning_rate\": 3e-5,\n",
    "      \"epochs\": 2,\n",
    "      \"seed\": 1, # random seed for reproducability\n",
    "      \"logging\": True, # whether to log to the wandb database (True) or to disk (False)\n",
    "      \"n_classes\": 18,\n",
    "      \"text_feature\": [\"abstract\", \"title\", \"claim\"], # feature used for training\n",
    "      \"meta_feature\": \"ipc\",\n",
    "      \"max_token_length\": 30, # number of words/subwords, an instance is truncated to\n",
    "      \"out_feature\": \"label\", # feature to predict\n",
    "      \"output_size\": 1024, # output size of the language processing layer, i.e. the CNN, GRU etc. layer\n",
    "      \"dropout_rate\": 0.1, # for regularization\n",
    "      \"threshold\": 0.5,\n",
    "      \"ipc_file\": \"ipc_embeddings.p\",\n",
    "      \"ipc_embedding_dim\": 128,\n",
    "      \"ipc_token_length\":7,\n",
    "      \"kernel_size\": 3\n",
    "    }\n",
    "\n",
    "# Save to disk          \n",
    "PARAMS = Parameter()\n",
    "with open(RUN_DIR / f\"{RUN_ID}.json\", \"w\") as f:\n",
    "  json.dump(PARAMS.__dict__, f)\n",
    "\n",
    "all_features = PARAMS.text_feature.copy()\n",
    "all_features.append(PARAMS.meta_feature)\n",
    "# Read data sets\n",
    "train_df = pd.read_csv(BASE_DIR / PARAMS.train_dataset, index_col=0)\n",
    "train_df = train_df.sample(frac=1, random_state=PARAMS.seed).dropna()\n",
    "ipc_train = train_df[PARAMS.meta_feature].apply(lambda x: eval(x))\n",
    "x_train = train_df[PARAMS.text_feature]\n",
    "y_train = train_df[train_df.columns.difference(all_features, sort=False)].to_numpy()\n",
    "test_df = pd.read_csv(BASE_DIR / PARAMS.test_dataset, index_col=0)\n",
    "test_df = test_df.sample(frac=1, random_state=PARAMS.seed).dropna()\n",
    "ipc_test = test_df[PARAMS.meta_feature].apply(lambda x: eval(x))\n",
    "x_test = test_df[PARAMS.text_feature]\n",
    "y_test = test_df[test_df.columns.difference(all_features, sort=False)].to_numpy()\n",
    "\n",
    "with open(BASE_DIR/PARAMS.ipc_file, \"rb\") as f:\n",
    "    ipc_dict = pickle.load(f)\n",
    "\n",
    "# Print stats\n",
    "print(f\"Train data set:{len(train_df)} instances\")\n",
    "print(f\"Test data set:{len(test_df)} instances\")"
   ]
  },
  {
   "cell_type": "markdown",
   "metadata": {
    "id": "fxkr8VbgTtl4"
   },
   "source": [
    "## Configure logging"
   ]
  },
  {
   "cell_type": "code",
   "execution_count": 40,
   "metadata": {
    "colab": {
     "base_uri": "https://localhost:8080/",
     "height": 141
    },
    "executionInfo": {
     "elapsed": 5377,
     "status": "ok",
     "timestamp": 1624826860122,
     "user": {
      "displayName": "Cedric Issel",
      "photoUrl": "",
      "userId": "07537599327357681724"
     },
     "user_tz": -120
    },
    "id": "R-5Yz7jHTo3W",
    "outputId": "8ef4fd48-1b5b-473c-b2dd-1da55e211a20"
   },
   "outputs": [
    {
     "name": "stdout",
     "output_type": "stream",
     "text": [
      "\u001b[34m\u001b[1mwandb\u001b[0m: Currently logged in as: \u001b[33mcdrc1103\u001b[0m (use `wandb login --relogin` to force relogin)\n"
     ]
    },
    {
     "data": {
      "text/html": [
       "\n",
       "                Tracking run with wandb version 0.10.32<br/>\n",
       "                Syncing run <strong style=\"color:#cdcd00\">ethereal-silence-49</strong> to <a href=\"https://wandb.ai\" target=\"_blank\">Weights & Biases</a> <a href=\"https://docs.wandb.com/integrations/jupyter.html\" target=\"_blank\">(Documentation)</a>.<br/>\n",
       "                Project page: <a href=\"https://wandb.ai/cdrc1103/thesis_multi-label\" target=\"_blank\">https://wandb.ai/cdrc1103/thesis_multi-label</a><br/>\n",
       "                Run page: <a href=\"https://wandb.ai/cdrc1103/thesis_multi-label/runs/2z9lmyv6\" target=\"_blank\">https://wandb.ai/cdrc1103/thesis_multi-label/runs/2z9lmyv6</a><br/>\n",
       "                Run data is saved locally in <code>/content/wandb/run-20210627_204735-2z9lmyv6</code><br/><br/>\n",
       "            "
      ],
      "text/plain": [
       "<IPython.core.display.HTML object>"
      ]
     },
     "metadata": {
      "tags": []
     },
     "output_type": "display_data"
    }
   ],
   "source": [
    "# Logging\n",
    "import wandb\n",
    "\n",
    "# log to wandb\n",
    "if PARAMS.logging:\n",
    "    !wandb login\n",
    "    run = wandb.init(project=PARAMS.project_name)\n",
    "    run.name = RUN_ID\n",
    "    log_dir = Path(wandb.run.dir)\n",
    "    wandb.config.update(PARAMS.__dict__)\n",
    "# log to disk\n",
    "else:\n",
    "    log_dir = RUN_DIR"
   ]
  },
  {
   "cell_type": "markdown",
   "metadata": {
    "id": "oilWdVtbYiDd"
   },
   "source": [
    "## Model"
   ]
  },
  {
   "cell_type": "code",
   "execution_count": 6,
   "metadata": {
    "colab": {
     "base_uri": "https://localhost:8080/",
     "height": 376,
     "referenced_widgets": [
      "4a061d08d81f4879b431981bc66454c4",
      "b59a083ccd1843989b6178dd3bfc9ed6",
      "7b4523e1f1cc4b0db142d4dc2be534d1",
      "50f1acfd52dd466bb686f2a47bf9830f",
      "5437150c67ec462ab195b40a236506c5",
      "8012bbf611a74b14a0bc921a6ca2e4ae",
      "4db5d7da40974ef6bb48a8a3cc7edce0",
      "094c3cce4bf74e01aae0968de20c05d1",
      "97662e6348d945a380ddae09a5344a3a",
      "a3703cac9f1e44848c9c1cc99862f72a",
      "cd6ccc05e9d74df7834faee0d3a11b14",
      "240de8249c924b7088faf791da794722",
      "baf689803ca542899ab5f374a9f112fb",
      "cc84d0234bda48fd8ada3a01f7403d05",
      "3c59f3aadb45498da40b2f1a70a8715f",
      "f7cc07a126d340cd9dd3017ceac2d248",
      "1cf91a4e23fc4e3998dea8af4d01bc40",
      "36983cb23ed64ad3aa5883fd17d40c2c",
      "8b16c977d97c4a80a5e9ab82e35f2788",
      "b14749446c334b61b1cb05923971727f",
      "3bb9fff794bb41caa26654cd4eb90505",
      "f23fa2050f0141109699aec2b3068249",
      "7a21b3f70ae544e9bf2a59dd98ae4f8d",
      "b97e59d030e44ec69a3ad5c2ea8eca4c",
      "991de84f5eb342eb9e87069adc84f762",
      "96150bbcd8cd4f6caf5183caaa7184c1",
      "0a2b4c7d61794c86a19de15a1a1d1d45",
      "9d30b257731740d59c7c85e225369d5e",
      "e1b03c1dc2ae43bf9e91dfe3a4b2c708",
      "0e85d62cbb8a4247a176d635d7cc8fd5",
      "019e7b1a020a4f098ad6da964d3c641f",
      "b27d402471224af8a13eee7c3e382f6c",
      "d16aa00d286841c8a5025a917a58d6d2",
      "0ef853d7a7ad49cd946a91a33020b804",
      "7288fee93d1c4bf0b8bcb8503a8f3685",
      "33c779992f9b4ad38697ce3cbe59b666",
      "5fa3b7a7d5554e34b9fddf7ef89b737d",
      "e5b33f0c6fb14da3b0422b9f40e6189e",
      "9118d83a84684bf3bd665f90b416c31d",
      "8c0d86f0902a41588f6a2a739dda4560",
      "a48fa238834445409d04320f3011547c",
      "43e2361d1fa64c5aa4caf1a0d56af18e",
      "1b43b505415f468db3efcea977b6405b",
      "c8ff0fcb1c8e420aa58cdb1ba85b6ae1",
      "3d9f9bb1ce3f40c4a84f6fc679c63cfc",
      "4159d3fabe544d54ad55c712c44fd631",
      "36a65137f3c244c695faf904a12ccc67",
      "7fe507f1cf8c4597ab15b9e38e9a9c54"
     ]
    },
    "executionInfo": {
     "elapsed": 489316,
     "status": "ok",
     "timestamp": 1624821755421,
     "user": {
      "displayName": "Cedric Issel",
      "photoUrl": "",
      "userId": "07537599327357681724"
     },
     "user_tz": -120
    },
    "id": "J9V8W_rGZtgl",
    "outputId": "649be31c-dd51-4fd7-f0cf-0ef626db6bbf"
   },
   "outputs": [
    {
     "data": {
      "application/vnd.jupyter.widget-view+json": {
       "model_id": "4a061d08d81f4879b431981bc66454c4",
       "version_major": 2,
       "version_minor": 0
      },
      "text/plain": [
       "HBox(children=(FloatProgress(value=0.0, max=6662.0), HTML(value='')))"
      ]
     },
     "metadata": {
      "tags": []
     },
     "output_type": "display_data"
    },
    {
     "name": "stdout",
     "output_type": "stream",
     "text": [
      "\n"
     ]
    },
    {
     "data": {
      "application/vnd.jupyter.widget-view+json": {
       "model_id": "97662e6348d945a380ddae09a5344a3a",
       "version_major": 2,
       "version_minor": 0
      },
      "text/plain": [
       "HBox(children=(FloatProgress(value=0.0, max=1452.0), HTML(value='')))"
      ]
     },
     "metadata": {
      "tags": []
     },
     "output_type": "display_data"
    },
    {
     "name": "stdout",
     "output_type": "stream",
     "text": [
      "\n"
     ]
    },
    {
     "data": {
      "application/vnd.jupyter.widget-view+json": {
       "model_id": "1cf91a4e23fc4e3998dea8af4d01bc40",
       "version_major": 2,
       "version_minor": 0
      },
      "text/plain": [
       "HBox(children=(FloatProgress(value=0.0, max=6662.0), HTML(value='')))"
      ]
     },
     "metadata": {
      "tags": []
     },
     "output_type": "display_data"
    },
    {
     "name": "stdout",
     "output_type": "stream",
     "text": [
      "\n"
     ]
    },
    {
     "data": {
      "application/vnd.jupyter.widget-view+json": {
       "model_id": "991de84f5eb342eb9e87069adc84f762",
       "version_major": 2,
       "version_minor": 0
      },
      "text/plain": [
       "HBox(children=(FloatProgress(value=0.0, max=1452.0), HTML(value='')))"
      ]
     },
     "metadata": {
      "tags": []
     },
     "output_type": "display_data"
    },
    {
     "name": "stdout",
     "output_type": "stream",
     "text": [
      "\n"
     ]
    },
    {
     "data": {
      "application/vnd.jupyter.widget-view+json": {
       "model_id": "d16aa00d286841c8a5025a917a58d6d2",
       "version_major": 2,
       "version_minor": 0
      },
      "text/plain": [
       "HBox(children=(FloatProgress(value=0.0, max=6662.0), HTML(value='')))"
      ]
     },
     "metadata": {
      "tags": []
     },
     "output_type": "display_data"
    },
    {
     "name": "stdout",
     "output_type": "stream",
     "text": [
      "\n"
     ]
    },
    {
     "data": {
      "application/vnd.jupyter.widget-view+json": {
       "model_id": "a48fa238834445409d04320f3011547c",
       "version_major": 2,
       "version_minor": 0
      },
      "text/plain": [
       "HBox(children=(FloatProgress(value=0.0, max=1452.0), HTML(value='')))"
      ]
     },
     "metadata": {
      "tags": []
     },
     "output_type": "display_data"
    },
    {
     "name": "stdout",
     "output_type": "stream",
     "text": [
      "\n"
     ]
    },
    {
     "name": "stderr",
     "output_type": "stream",
     "text": [
      "/usr/local/lib/python3.7/dist-packages/datasets/formatting/formatting.py:164: VisibleDeprecationWarning: Creating an ndarray from ragged nested sequences (which is a list-or-tuple of lists-or-tuples-or ndarrays with different lengths or shapes) is deprecated. If you meant to do this, you must specify 'dtype=object' when creating the ndarray\n",
      "  return np.array(array, copy=False, **self.np_array_kwargs)\n"
     ]
    }
   ],
   "source": [
    "\"\"\" Dependencies \"\"\"\n",
    "import numpy as np\n",
    "import tensorflow as tf\n",
    "from tensorflow.keras.layers import Input, Dropout, Dense, Concatenate, Embedding, Conv1D, GlobalMaxPooling1D\n",
    "from tensorflow.keras.layers.experimental.preprocessing import TextVectorization\n",
    "from tensorflow.keras.models import Model\n",
    "from tensorflow.keras.optimizers import Adam\n",
    "from tensorflow.keras.losses import BinaryCrossentropy\n",
    "from tensorflow.keras.metrics import Precision, Recall\n",
    "from tensorflow.keras.utils import plot_model\n",
    "from transformers import TFBertModel, BertTokenizerFast, BertConfig\n",
    "from datasets import Dataset\n",
    "from tensorflow.keras.initializers import Constant\n",
    "\n",
    "\"\"\" Configure tokenizer \"\"\"\n",
    "config = BertConfig.from_json_file(BASE_DIR/\"bert_for_patents_large_config.json\")\n",
    "config.num_labels=PARAMS.n_classes\n",
    "tokenizer = BertTokenizerFast(BASE_DIR/\"bert_for_patents_vocab_39k.txt\", config=config)\n",
    "\n",
    "\"\"\" Create TF datasets \"\"\"\n",
    "# Aggregate features\n",
    "x_train = Dataset.from_pandas(pd.DataFrame(x_train))\n",
    "x_test = Dataset.from_pandas(pd.DataFrame(x_test))\n",
    "\n",
    "# Tokenize\n",
    "def tokenize(batch):\n",
    "    return tokenizer(batch, truncation=True, padding=True, max_length=PARAMS.max_token_length)\n",
    "\n",
    "x_train_tok = []\n",
    "x_test_tok = []\n",
    "for i, f in enumerate(PARAMS.text_feature):\n",
    "  x_train_tok.append(x_train.map(tokenize, batched=True, batch_size=PARAMS.batch_size, input_columns=f))\n",
    "  x_train_tok[i] = x_train_tok[i].rename_column(\"attention_mask\", f\"attention_mask{i}\")\n",
    "  x_train_tok[i] = x_train_tok[i].rename_column(\"input_ids\", f\"input_ids{i}\")\n",
    "  x_test_tok.append(x_test.map(tokenize, batched=True, batch_size=PARAMS.batch_size, input_columns=f))\n",
    "  x_test_tok[i] = x_test_tok[i].rename_column(\"attention_mask\", f\"attention_mask{i}\")\n",
    "  x_test_tok[i] = x_test_tok[i].rename_column(\"input_ids\", f\"input_ids{i}\")\n",
    "\n",
    "# Create ipc embedding matrix\n",
    "ipc_embedding_matrix = np.zeros([len(ipc_dict)+1, PARAMS.ipc_embedding_dim])\n",
    "ipc_embedding_matrix[1:,:] = np.array(list(ipc_dict.values()))\n",
    "# Index lookup\n",
    "ipc_embedding_index = {k: v+1 for k, v in zip(ipc_dict.keys(), np.arange(0,len(ipc_dict)+1))}\n",
    "# Tokenize ipc codes\n",
    "def tokenize_ipc(row):\n",
    "  token_array = np.zeros(PARAMS.ipc_token_length, dtype=np.int32)\n",
    "  for i in range(PARAMS.ipc_token_length):\n",
    "    if i == len(row):\n",
    "      break\n",
    "    token = ipc_embedding_index.get(row[i])\n",
    "    if token:\n",
    "      token_array[i] = token\n",
    "  return token_array\n",
    "\n",
    "ipc_train_tok = np.stack(ipc_train.apply(tokenize_ipc).values)\n",
    "ipc_test_tok = np.stack(ipc_test.apply(tokenize_ipc).values)\n",
    "\n",
    "# Create TF datasets\n",
    "x_train_ds = {}\n",
    "x_test_ds = {}\n",
    "\n",
    "for i,f in enumerate(PARAMS.text_feature):\n",
    "  # Transform to tensorflow data set\n",
    "  x_train_tok[i].set_format(type='tensorflow', columns=[f'attention_mask{i}',f'input_ids{i}'])\n",
    "  x_train_ds.update({x: x_train_tok[i][x].to_tensor(default_value=0) for x in [f'input_ids{i}', f'attention_mask{i}']})\n",
    "  # Transform validation data set\n",
    "  x_test_tok[i].set_format(type='tensorflow', columns=[f'attention_mask{i}',f'input_ids{i}'])\n",
    "  x_test_ds.update({x: x_test_tok[i][x].to_tensor(default_value=0) for x in [f'input_ids{i}', f'attention_mask{i}']})\n",
    "\n",
    "# Add ipc feature to x data set\n",
    "x_train_ds.update({PARAMS.meta_feature: tf.convert_to_tensor(ipc_train_tok)})\n",
    "x_test_ds.update({PARAMS.meta_feature: tf.convert_to_tensor(ipc_test_tok)})\n",
    "\n",
    "train_ds = tf.data.Dataset.from_tensor_slices((x_train_ds, y_train)).batch(PARAMS.batch_size)\n",
    "test_ds = tf.data.Dataset.from_tensor_slices((x_test_ds, y_test)).batch(PARAMS.batch_size)\n",
    "\n",
    "def build_model():\n",
    "\n",
    "  # Textual features\n",
    "  input_ids = []\n",
    "  attention_mask = []\n",
    "  embedding = []\n",
    "  dropout = []\n",
    "  input = {}\n",
    "\n",
    "  transformer_model = TFBertModel.from_pretrained(BASE_DIR/\"pytorch_model.bin\", config=config, from_pt=True)\n",
    "\n",
    "  for i, f in enumerate(PARAMS.text_feature):\n",
    "    input_ids.append(Input(shape=PARAMS.max_token_length, name=f'input_ids{i}', dtype='int32'))\n",
    "    attention_mask.append(Input(shape=PARAMS.max_token_length, name=f'attention_mask{i}', dtype='int32'))\n",
    "    input[f\"input_ids{i}\"] = input_ids[i]\n",
    "    input[f\"attention_mask{i}\"] = attention_mask[i]\n",
    "    embedding.append(transformer_model.layers[0](input_ids[i], attention_mask=attention_mask[i])[1])\n",
    "    dropout.append(Dropout(PARAMS.dropout_rate)(embedding[i]))\n",
    "  \n",
    "  # Meta features\n",
    "  ipc_embedding = Embedding(\n",
    "    ipc_embedding_matrix.shape[0],\n",
    "    PARAMS.ipc_embedding_dim,\n",
    "    embeddings_initializer=Constant(ipc_embedding_matrix),\n",
    "    trainable=False\n",
    "  )\n",
    "  ipc_input = Input(shape=PARAMS.ipc_token_length, name=PARAMS.meta_feature, dtype='int32')\n",
    "  input[PARAMS.meta_feature] = ipc_input\n",
    "  embedded_sequences = ipc_embedding(ipc_input)\n",
    "  x1 = Conv1D(PARAMS.output_size, PARAMS.kernel_size, activation=\"relu\", padding='same')(embedded_sequences)\n",
    "  x1 = GlobalMaxPooling1D()(x1)\n",
    "  x1 = Dense(PARAMS.output_size, activation=\"relu\")(x1)\n",
    "  dropout.append(Dropout(PARAMS.dropout_rate)(x1))\n",
    "\n",
    "  concat = Concatenate(axis=1)(dropout)\n",
    "  output = Dense(PARAMS.n_classes, activation='sigmoid')(concat)\n",
    "  return Model(inputs=input, outputs=output)"
   ]
  },
  {
   "cell_type": "code",
   "execution_count": 25,
   "metadata": {
    "colab": {
     "base_uri": "https://localhost:8080/"
    },
    "executionInfo": {
     "elapsed": 220,
     "status": "ok",
     "timestamp": 1624825885369,
     "user": {
      "displayName": "Cedric Issel",
      "photoUrl": "",
      "userId": "07537599327357681724"
     },
     "user_tz": -120
    },
    "id": "O9L1zDKSKNmq",
    "outputId": "59267010-e452-43e2-d46a-e85c0f80b240"
   },
   "outputs": [
    {
     "data": {
      "text/plain": [
       "133"
      ]
     },
     "execution_count": 25,
     "metadata": {
      "tags": []
     },
     "output_type": "execute_result"
    }
   ],
   "source": [
    "ipc_train.apply(lambda x: len(x)).max()"
   ]
  },
  {
   "cell_type": "code",
   "execution_count": 26,
   "metadata": {
    "executionInfo": {
     "elapsed": 1848,
     "status": "ok",
     "timestamp": 1624825939668,
     "user": {
      "displayName": "Cedric Issel",
      "photoUrl": "",
      "userId": "07537599327357681724"
     },
     "user_tz": -120
    },
    "id": "ifXam6eZJj8k"
   },
   "outputs": [],
   "source": [
    "# Create ipc embedding matrix\n",
    "ipc_embedding_matrix = np.zeros([len(ipc_dict)+1, PARAMS.ipc_embedding_dim])\n",
    "ipc_embedding_matrix[1:,:] = np.array(list(ipc_dict.values()))\n",
    "# Index lookup\n",
    "ipc_embedding_index = {k: v+1 for k, v in zip(ipc_dict.keys(), np.arange(0,len(ipc_dict)+1))}\n",
    "# Tokenize ipc codes\n",
    "def tokenize_ipc(row):\n",
    "  token_array = np.zeros(133, dtype=np.int32)\n",
    "  for i in range(PARAMS.ipc_token_length):\n",
    "    if i == len(row):\n",
    "      break\n",
    "    token = ipc_embedding_index.get(row[i])\n",
    "    if token:\n",
    "      token_array[i] = token\n",
    "  return token_array\n",
    "\n",
    "ipc_train_tok = np.stack(ipc_train.apply(tokenize_ipc).values)\n",
    "ipc_test_tok = np.stack(ipc_test.apply(tokenize_ipc).values)"
   ]
  },
  {
   "cell_type": "code",
   "execution_count": 28,
   "metadata": {
    "executionInfo": {
     "elapsed": 1800,
     "status": "ok",
     "timestamp": 1624826023665,
     "user": {
      "displayName": "Cedric Issel",
      "photoUrl": "",
      "userId": "07537599327357681724"
     },
     "user_tz": -120
    },
    "id": "j9e4uiTqLE9D"
   },
   "outputs": [],
   "source": [
    "# Add ipc feature to x data set\n",
    "x_train_ds.update({PARAMS.meta_feature: tf.convert_to_tensor(ipc_train_tok)})\n",
    "x_test_ds.update({PARAMS.meta_feature: tf.convert_to_tensor(ipc_test_tok)})\n",
    "\n",
    "train_ds = tf.data.Dataset.from_tensor_slices((x_train_ds, y_train)).batch(PARAMS.batch_size)\n",
    "test_ds = tf.data.Dataset.from_tensor_slices((x_test_ds, y_test)).batch(PARAMS.batch_size)"
   ]
  },
  {
   "cell_type": "code",
   "execution_count": 30,
   "metadata": {
    "executionInfo": {
     "elapsed": 212,
     "status": "ok",
     "timestamp": 1624826098851,
     "user": {
      "displayName": "Cedric Issel",
      "photoUrl": "",
      "userId": "07537599327357681724"
     },
     "user_tz": -120
    },
    "id": "18tgtxEALn0h"
   },
   "outputs": [],
   "source": [
    "from tensorflow.keras.layers import Average"
   ]
  },
  {
   "cell_type": "code",
   "execution_count": 43,
   "metadata": {
    "executionInfo": {
     "elapsed": 229,
     "status": "ok",
     "timestamp": 1624827104095,
     "user": {
      "displayName": "Cedric Issel",
      "photoUrl": "",
      "userId": "07537599327357681724"
     },
     "user_tz": -120
    },
    "id": "cdEPzw067VC5"
   },
   "outputs": [],
   "source": [
    "def build_model():\n",
    "\n",
    "  # Textual features\n",
    "  input_ids = []\n",
    "  attention_mask = []\n",
    "  embedding = []\n",
    "  dropout = []\n",
    "  input = {}\n",
    "\n",
    "  transformer_model = TFBertModel.from_pretrained(BASE_DIR/\"pytorch_model.bin\", config=config, from_pt=True)\n",
    "\n",
    "  for i, f in enumerate(PARAMS.text_feature):\n",
    "    input_ids.append(Input(shape=PARAMS.max_token_length, name=f'input_ids{i}', dtype='int32'))\n",
    "    attention_mask.append(Input(shape=PARAMS.max_token_length, name=f'attention_mask{i}', dtype='int32'))\n",
    "    input[f\"input_ids{i}\"] = input_ids[i]\n",
    "    input[f\"attention_mask{i}\"] = attention_mask[i]\n",
    "    embedding.append(transformer_model.layers[0](input_ids[i], attention_mask=attention_mask[i])[1])\n",
    "    dropout.append(Dropout(PARAMS.dropout_rate)(embedding[i]))\n",
    "  \n",
    "  # Meta features\n",
    "  ipc_embedding = Embedding(\n",
    "    ipc_embedding_matrix.shape[0],\n",
    "    PARAMS.ipc_embedding_dim,\n",
    "    embeddings_initializer=Constant(ipc_embedding_matrix),\n",
    "    trainable=False\n",
    "  )\n",
    "  ipc_input = Input(shape=133, name=PARAMS.meta_feature, dtype='int32')\n",
    "  input[PARAMS.meta_feature] = ipc_input\n",
    "  embedded_sequences = ipc_embedding(ipc_input)\n",
    "  embedded_average = GlobalAveragePooling1D()(embedded_sequences)\n",
    "  embedded_dense = Dense(PARAMS.ipc_embedding_dim)(embedded_average)\n",
    "  dropout.append(Dropout(PARAMS.dropout_rate)(embedded_dense))\n",
    "\n",
    "  concat = Concatenate(axis=1)(dropout)\n",
    "  output = Dense(PARAMS.n_classes, activation='sigmoid')(concat)\n",
    "  return Model(inputs=input, outputs=output)"
   ]
  },
  {
   "cell_type": "code",
   "execution_count": 39,
   "metadata": {
    "colab": {
     "base_uri": "https://localhost:8080/"
    },
    "executionInfo": {
     "elapsed": 207,
     "status": "ok",
     "timestamp": 1624826661277,
     "user": {
      "displayName": "Cedric Issel",
      "photoUrl": "",
      "userId": "07537599327357681724"
     },
     "user_tz": -120
    },
    "id": "MdYVB6q8Nv5E",
    "outputId": "a0ad229f-0536-4f74-8f35-7712b7dfb696"
   },
   "outputs": [
    {
     "data": {
      "text/plain": [
       "TensorShape([213157, 133])"
      ]
     },
     "execution_count": 39,
     "metadata": {
      "tags": []
     },
     "output_type": "execute_result"
    }
   ],
   "source": [
    "x_train_ds[\"ipc\"].shape"
   ]
  },
  {
   "cell_type": "code",
   "execution_count": 37,
   "metadata": {
    "colab": {
     "base_uri": "https://localhost:8080/"
    },
    "executionInfo": {
     "elapsed": 246,
     "status": "ok",
     "timestamp": 1624826539731,
     "user": {
      "displayName": "Cedric Issel",
      "photoUrl": "",
      "userId": "07537599327357681724"
     },
     "user_tz": -120
    },
    "id": "IUpGWeDGMQpc",
    "outputId": "159307e7-5c26-4306-be4c-c0a2af815526"
   },
   "outputs": [
    {
     "name": "stdout",
     "output_type": "stream",
     "text": [
      "tf.Tensor(\n",
      "[[[ 1.2561612   0.0814938   1.0053171  -0.7171143 ]\n",
      "  [ 0.6295626   0.13979322 -2.7576678  -0.68654716]\n",
      "  [-0.6656722   0.32839003 -0.77239513  0.44500697]]\n",
      "\n",
      " [[ 1.6547111   0.5826045   0.59905446 -0.2332386 ]\n",
      "  [ 0.98633677 -0.96623826  0.05785945 -2.7172744 ]\n",
      "  [-0.16769885  0.37430897  0.42950562 -0.37113473]]], shape=(2, 3, 4), dtype=float32)\n",
      "(2, 4)\n",
      "tf.Tensor(\n",
      "[[ 0.4066839   0.18322568 -0.841582   -0.3195515 ]\n",
      " [ 0.8244497  -0.00310825  0.36213982 -1.107216  ]], shape=(2, 4), dtype=float32)\n"
     ]
    }
   ],
   "source": [
    "from tensorflow.keras.layers import GlobalAveragePooling1D\n",
    "input_shape = (2, 3,4)\n",
    "x = tf.random.normal(input_shape)\n",
    "print(x)\n",
    "y = tf.keras.layers.GlobalAveragePooling1D()(x)\n",
    "print(y.shape)\n",
    "print(y)"
   ]
  },
  {
   "cell_type": "markdown",
   "metadata": {
    "id": "Eg4kGvJ3zQJ6"
   },
   "source": [
    "## Training"
   ]
  },
  {
   "cell_type": "code",
   "execution_count": 45,
   "metadata": {
    "colab": {
     "base_uri": "https://localhost:8080/"
    },
    "executionInfo": {
     "elapsed": 3565436,
     "status": "ok",
     "timestamp": 1624830684656,
     "user": {
      "displayName": "Cedric Issel",
      "photoUrl": "",
      "userId": "07537599327357681724"
     },
     "user_tz": -120
    },
    "id": "KNncK2M-vEAo",
    "outputId": "85d90f61-40de-4528-c6a9-efc9627a9983"
   },
   "outputs": [
    {
     "name": "stderr",
     "output_type": "stream",
     "text": [
      "Some weights of the PyTorch model were not used when initializing the TF 2.0 model TFBertModel: ['cls.predictions.transform.LayerNorm.weight', 'bert.embeddings.position_ids', 'cls.predictions.decoder.weight', 'cls.predictions.transform.LayerNorm.bias', 'cls.predictions.transform.dense.weight', 'cls.predictions.decoder.bias', 'cls.seq_relationship.weight', 'cls.seq_relationship.bias', 'cls.predictions.bias', 'cls.predictions.transform.dense.bias']\n",
      "- This IS expected if you are initializing TFBertModel from a PyTorch model trained on another task or with another architecture (e.g. initializing a TFBertForSequenceClassification model from a BertForPreTraining model).\n",
      "- This IS NOT expected if you are initializing TFBertModel from a PyTorch model that you expect to be exactly identical (e.g. initializing a TFBertForSequenceClassification model from a BertForSequenceClassification model).\n",
      "All the weights of TFBertModel were initialized from the PyTorch model.\n",
      "If your task is similar to the task the model of the checkpoint was trained on, you can already use TFBertModel for predictions without further training.\n"
     ]
    },
    {
     "name": "stdout",
     "output_type": "stream",
     "text": [
      "Epoch 1/2\n"
     ]
    },
    {
     "name": "stderr",
     "output_type": "stream",
     "text": [
      "INFO:absl:TPU has inputs with dynamic shapes: [<tf.Tensor 'Const:0' shape=() dtype=int32>, <tf.Tensor 'cond_8/Identity:0' shape=(None, 30) dtype=int64>, <tf.Tensor 'cond_8/Identity_1:0' shape=(None, 30) dtype=int32>, <tf.Tensor 'cond_8/Identity_2:0' shape=(None, 30) dtype=int64>, <tf.Tensor 'cond_8/Identity_3:0' shape=(None, 30) dtype=int64>, <tf.Tensor 'cond_8/Identity_4:0' shape=(None, 30) dtype=int32>, <tf.Tensor 'cond_8/Identity_5:0' shape=(None, 30) dtype=int64>, <tf.Tensor 'cond_8/Identity_6:0' shape=(None, 133) dtype=int32>, <tf.Tensor 'cond_8/Identity_7:0' shape=(None, 18) dtype=int64>]\n",
      "INFO:absl:TPU has inputs with dynamic shapes: [<tf.Tensor 'Const:0' shape=() dtype=int32>, <tf.Tensor 'cond_8/Identity:0' shape=(None, 30) dtype=int64>, <tf.Tensor 'cond_8/Identity_1:0' shape=(None, 30) dtype=int32>, <tf.Tensor 'cond_8/Identity_2:0' shape=(None, 30) dtype=int64>, <tf.Tensor 'cond_8/Identity_3:0' shape=(None, 30) dtype=int64>, <tf.Tensor 'cond_8/Identity_4:0' shape=(None, 30) dtype=int32>, <tf.Tensor 'cond_8/Identity_5:0' shape=(None, 30) dtype=int64>, <tf.Tensor 'cond_8/Identity_6:0' shape=(None, 133) dtype=int32>, <tf.Tensor 'cond_8/Identity_7:0' shape=(None, 18) dtype=int64>]\n"
     ]
    },
    {
     "name": "stdout",
     "output_type": "stream",
     "text": [
      "6662/6662 [==============================] - ETA: 0s - loss: 0.1023 - precision: 0.8459 - recall: 0.7393"
     ]
    },
    {
     "name": "stderr",
     "output_type": "stream",
     "text": [
      "INFO:absl:TPU has inputs with dynamic shapes: [<tf.Tensor 'Const:0' shape=() dtype=int32>, <tf.Tensor 'cond_8/Identity:0' shape=(None, 30) dtype=int64>, <tf.Tensor 'cond_8/Identity_1:0' shape=(None, 30) dtype=int32>, <tf.Tensor 'cond_8/Identity_2:0' shape=(None, 30) dtype=int64>, <tf.Tensor 'cond_8/Identity_3:0' shape=(None, 30) dtype=int64>, <tf.Tensor 'cond_8/Identity_4:0' shape=(None, 30) dtype=int32>, <tf.Tensor 'cond_8/Identity_5:0' shape=(None, 30) dtype=int64>, <tf.Tensor 'cond_8/Identity_6:0' shape=(None, 133) dtype=int32>, <tf.Tensor 'cond_8/Identity_7:0' shape=(None, 18) dtype=int64>]\n"
     ]
    },
    {
     "name": "stdout",
     "output_type": "stream",
     "text": [
      "\b\b\b\b\b\b\b\b\b\b\b\b\b\b\b\b\b\b\b\b\b\b\b\b\b\b\b\b\b\b\b\b\b\b\b\b\b\b\b\b\b\b\b\b\b\b\b\b\b\b\b\b\b\b\b\b\b\b\b\b\b\b\b\b\b\b\b\b\b\b\b\b\b\b\b\b\b\b\b\b\b\b\b\b\b\b\b\b\b\b\b\b\b\b\b\b\b\b\b\b\b\b\b\b\r",
      "6662/6662 [==============================] - 1995s 250ms/step - loss: 0.1023 - precision: 0.8459 - recall: 0.7393 - val_loss: 0.0831 - val_precision: 0.8064 - val_recall: 0.7745\n",
      "Epoch 2/2\n",
      "6662/6662 [==============================] - 1449s 217ms/step - loss: 0.0514 - precision: 0.9181 - recall: 0.8861 - val_loss: 0.0774 - val_precision: 0.8299 - val_recall: 0.8075\n"
     ]
    }
   ],
   "source": [
    "from tensorflow.keras.callbacks import TensorBoard\n",
    "from wandb.keras import WandbCallback\n",
    "\n",
    "\"\"\" Transfer to TPU \"\"\"\n",
    "with strategy.scope():\n",
    "  model = build_model()\n",
    "  optimizer = tf.keras.optimizers.Adam(learning_rate=PARAMS.learning_rate, epsilon=1e-08, clipnorm=1.0)\n",
    "  loss = BinaryCrossentropy()\n",
    "  metrics = [\n",
    "    Precision(name='precision', thresholds=PARAMS.threshold), # Precision is the percentage of predicted positives that were correctly classified\n",
    "    Recall(name='recall', thresholds=PARAMS.threshold) # Recall is the percentage of actual positives that were correctly classified\n",
    "  ]\n",
    "\n",
    "  model.compile(optimizer=optimizer, loss=loss, metrics=metrics)\n",
    "\n",
    "  # train the model\n",
    "  history = model.fit(\n",
    "    x=train_ds,\n",
    "    epochs=PARAMS.epochs,\n",
    "    verbose=1,\n",
    "    validation_data=test_ds\n",
    "    )\n",
    "\n",
    "pd.DataFrame(history.history).to_csv(log_dir/\"history.csv\")"
   ]
  },
  {
   "cell_type": "code",
   "execution_count": 46,
   "metadata": {
    "colab": {
     "base_uri": "https://localhost:8080/"
    },
    "executionInfo": {
     "elapsed": 222,
     "status": "ok",
     "timestamp": 1624830713834,
     "user": {
      "displayName": "Cedric Issel",
      "photoUrl": "",
      "userId": "07537599327357681724"
     },
     "user_tz": -120
    },
    "id": "ZTQ7qAxVyzx0",
    "outputId": "c37395ea-f0d2-4566-92cc-6bf91bd61178"
   },
   "outputs": [
    {
     "name": "stdout",
     "output_type": "stream",
     "text": [
      "Model: \"model_2\"\n",
      "__________________________________________________________________________________________________\n",
      "Layer (type)                    Output Shape         Param #     Connected to                     \n",
      "==================================================================================================\n",
      "ipc (InputLayer)                [(None, 133)]        0                                            \n",
      "__________________________________________________________________________________________________\n",
      "embedding_2 (Embedding)         (None, 133, 128)     2124544     ipc[0][0]                        \n",
      "__________________________________________________________________________________________________\n",
      "input_ids0 (InputLayer)         [(None, 30)]         0                                            \n",
      "__________________________________________________________________________________________________\n",
      "attention_mask0 (InputLayer)    [(None, 30)]         0                                            \n",
      "__________________________________________________________________________________________________\n",
      "input_ids1 (InputLayer)         [(None, 30)]         0                                            \n",
      "__________________________________________________________________________________________________\n",
      "attention_mask1 (InputLayer)    [(None, 30)]         0                                            \n",
      "__________________________________________________________________________________________________\n",
      "input_ids2 (InputLayer)         [(None, 30)]         0                                            \n",
      "__________________________________________________________________________________________________\n",
      "attention_mask2 (InputLayer)    [(None, 30)]         0                                            \n",
      "__________________________________________________________________________________________________\n",
      "global_average_pooling1d_5 (Glo (None, 128)          0           embedding_2[0][0]                \n",
      "__________________________________________________________________________________________________\n",
      "bert (TFBertMainLayer)          TFBaseModelOutputWit 344702976   input_ids0[0][0]                 \n",
      "                                                                 attention_mask0[0][0]            \n",
      "                                                                 input_ids1[0][0]                 \n",
      "                                                                 attention_mask1[0][0]            \n",
      "                                                                 input_ids2[0][0]                 \n",
      "                                                                 attention_mask2[0][0]            \n",
      "__________________________________________________________________________________________________\n",
      "dense_4 (Dense)                 (None, 128)          16512       global_average_pooling1d_5[0][0] \n",
      "__________________________________________________________________________________________________\n",
      "dropout_300 (Dropout)           (None, 1024)         0           bert[0][1]                       \n",
      "__________________________________________________________________________________________________\n",
      "dropout_301 (Dropout)           (None, 1024)         0           bert[1][1]                       \n",
      "__________________________________________________________________________________________________\n",
      "dropout_302 (Dropout)           (None, 1024)         0           bert[2][1]                       \n",
      "__________________________________________________________________________________________________\n",
      "dropout_303 (Dropout)           (None, 128)          0           dense_4[0][0]                    \n",
      "__________________________________________________________________________________________________\n",
      "concatenate_2 (Concatenate)     (None, 3200)         0           dropout_300[0][0]                \n",
      "                                                                 dropout_301[0][0]                \n",
      "                                                                 dropout_302[0][0]                \n",
      "                                                                 dropout_303[0][0]                \n",
      "__________________________________________________________________________________________________\n",
      "dense_5 (Dense)                 (None, 18)           57618       concatenate_2[0][0]              \n",
      "==================================================================================================\n",
      "Total params: 346,901,650\n",
      "Trainable params: 344,777,106\n",
      "Non-trainable params: 2,124,544\n",
      "__________________________________________________________________________________________________\n",
      "None\n"
     ]
    }
   ],
   "source": [
    "from contextlib import redirect_stdout\n",
    "\n",
    "\"\"\" Generate model summary \"\"\"\n",
    "print(model.summary())\n",
    "with open(log_dir/'model_summary.txt', 'w') as file:\n",
    "    # Pass the file handle in as a lambda function to make it callable\n",
    "    model.summary(print_fn=lambda x: file.write(x + '\\n'))"
   ]
  },
  {
   "cell_type": "markdown",
   "metadata": {
    "id": "SPXL4D8e1Ne5"
   },
   "source": [
    "## Evaluate"
   ]
  },
  {
   "cell_type": "code",
   "execution_count": 47,
   "metadata": {
    "executionInfo": {
     "elapsed": 7,
     "status": "ok",
     "timestamp": 1624830714041,
     "user": {
      "displayName": "Cedric Issel",
      "photoUrl": "",
      "userId": "07537599327357681724"
     },
     "user_tz": -120
    },
    "id": "uqa0yf5jGo0n"
   },
   "outputs": [],
   "source": [
    "import matplotlib.pyplot as plt\n",
    "plt.rcParams.update({\n",
    "    \"font.family\": \"serif\",\n",
    "    \"font.sans-serif\": [\"Computer Modern\"]})\n",
    "import numpy as np\n",
    "from sklearn.metrics import confusion_matrix, classification_report, brier_score_loss, roc_curve, auc, precision_recall_curve, average_precision_score\n",
    "import seaborn as sns\n",
    "import math"
   ]
  },
  {
   "cell_type": "code",
   "execution_count": 48,
   "metadata": {
    "colab": {
     "base_uri": "https://localhost:8080/"
    },
    "executionInfo": {
     "elapsed": 117732,
     "status": "ok",
     "timestamp": 1624830831767,
     "user": {
      "displayName": "Cedric Issel",
      "photoUrl": "",
      "userId": "07537599327357681724"
     },
     "user_tz": -120
    },
    "id": "cyZE4sdH1LRk",
    "outputId": "446aaf1f-d989-4e6e-f522-e695b53b07cd"
   },
   "outputs": [
    {
     "name": "stderr",
     "output_type": "stream",
     "text": [
      "INFO:absl:TPU has inputs with dynamic shapes: [<tf.Tensor 'Const:0' shape=() dtype=int32>, <tf.Tensor 'cond_8/Identity:0' shape=(None, 30) dtype=int64>, <tf.Tensor 'cond_8/Identity_1:0' shape=(None, 30) dtype=int32>, <tf.Tensor 'cond_8/Identity_2:0' shape=(None, 30) dtype=int64>, <tf.Tensor 'cond_8/Identity_3:0' shape=(None, 30) dtype=int64>, <tf.Tensor 'cond_8/Identity_4:0' shape=(None, 30) dtype=int32>, <tf.Tensor 'cond_8/Identity_5:0' shape=(None, 30) dtype=int64>, <tf.Tensor 'cond_8/Identity_6:0' shape=(None, 133) dtype=int32>, <tf.Tensor 'cond_8/Identity_7:0' shape=(None, 18) dtype=int64>]\n"
     ]
    },
    {
     "name": "stdout",
     "output_type": "stream",
     "text": [
      "1452/1452 [==============================] - 116s 62ms/step\n"
     ]
    }
   ],
   "source": [
    "# Get predictions on test dataset\n",
    "with strategy.scope():\n",
    "  predictions = model.predict(\n",
    "      x=test_ds,\n",
    "      verbose=1,\n",
    "      batch_size=PARAMS.batch_size\n",
    "  ) # Probability distribution over the labels\n",
    "np.savetxt(log_dir/\"predictions.txt\", predictions)"
   ]
  },
  {
   "cell_type": "code",
   "execution_count": 49,
   "metadata": {
    "executionInfo": {
     "elapsed": 326,
     "status": "ok",
     "timestamp": 1624830832088,
     "user": {
      "displayName": "Cedric Issel",
      "photoUrl": "",
      "userId": "07537599327357681724"
     },
     "user_tz": -120
    },
    "id": "MYPafVYuAArr"
   },
   "outputs": [],
   "source": [
    "ptopk = predictions.copy()\n",
    "ptopk[ptopk > PARAMS.threshold] = 1\n",
    "ptopk[ptopk <= PARAMS.threshold] = 0\n",
    "\n",
    "metric_funcs = {\n",
    "    \"precision\": Precision(thresholds=PARAMS.threshold),\n",
    "    \"recall\" : Recall(thresholds=PARAMS.threshold)\n",
    "}\n",
    "\n",
    "metric_results ={}\n",
    "for key, m in metric_funcs.items():\n",
    "    m.update_state(y_test, ptopk)\n",
    "    metric_results[key] = m.result().numpy()\n",
    "if PARAMS.logging:\n",
    "  wandb.log(metric_results)"
   ]
  },
  {
   "cell_type": "code",
   "execution_count": 50,
   "metadata": {
    "executionInfo": {
     "elapsed": 24,
     "status": "ok",
     "timestamp": 1624830832091,
     "user": {
      "displayName": "Cedric Issel",
      "photoUrl": "",
      "userId": "07537599327357681724"
     },
     "user_tz": -120
    },
    "id": "CMh8scc6FB_Q"
   },
   "outputs": [],
   "source": [
    "# Hamming loss\n",
    "def hamming_loss(pred_topk, truth):\n",
    "    equals = pred_topk - truth\n",
    "    equals = np.sum(1 - np.isin(equals, 0))\n",
    "    return 1/(truth.shape[0]*truth.shape[1])*equals\n",
    "if PARAMS.logging:\n",
    "  wandb.log({\"hamming_loss\": hamming_loss(ptopk, y_test)})\n"
   ]
  },
  {
   "cell_type": "code",
   "execution_count": 51,
   "metadata": {
    "executionInfo": {
     "elapsed": 21,
     "status": "ok",
     "timestamp": 1624830832093,
     "user": {
      "displayName": "Cedric Issel",
      "photoUrl": "",
      "userId": "07537599327357681724"
     },
     "user_tz": -120
    },
    "id": "cBWEcz-IFDK2"
   },
   "outputs": [],
   "source": [
    "# Exact match\n",
    "def exact_match(pred_topk, truth):\n",
    "    equals = pred_topk - truth\n",
    "    equals = np.sum(equals, axis=1)\n",
    "    return 1 - (np.count_nonzero(equals) / truth.shape[0])\n",
    "if PARAMS.logging:\n",
    "  wandb.log({\"exact_match\": exact_match(ptopk, y_test)})"
   ]
  },
  {
   "cell_type": "code",
   "execution_count": 52,
   "metadata": {
    "colab": {
     "base_uri": "https://localhost:8080/",
     "height": 332
    },
    "executionInfo": {
     "elapsed": 699,
     "status": "ok",
     "timestamp": 1624830832776,
     "user": {
      "displayName": "Cedric Issel",
      "photoUrl": "",
      "userId": "07537599327357681724"
     },
     "user_tz": -120
    },
    "id": "aDikodZYGXge",
    "outputId": "084ac0c8-21cf-4f78-9b9c-c6cf2a60a07c"
   },
   "outputs": [
    {
     "data": {
      "image/png": "[encoded data removed]",
      "text/plain": [
       "<Figure size 720x360 with 1 Axes>"
      ]
     },
     "metadata": {
      "needs_background": "light",
      "tags": []
     },
     "output_type": "display_data"
    }
   ],
   "source": [
    "def count_labels(pred_topk, truth):\n",
    "    # difference between number of predicted and true labels\n",
    "    pred_sum = np.sum(pred_topk, 1)\n",
    "    truth_sum = np.sum(truth, 1)\n",
    "    fig, ax = plt.subplots(figsize=(10,5))\n",
    "    width = 0.4\n",
    "    pred_labels, pred_counts = np.unique(pred_sum, return_counts=True)\n",
    "    pred_labels = pred_labels.astype(int)\n",
    "    truth_labels, truth_counts = np.unique(truth_sum, return_counts=True)\n",
    "    all_labels = np.arange(0, max(max(pred_labels), max(truth_labels))+1)\n",
    "    new_pred_counts = np.zeros(len(all_labels))\n",
    "    new_pred_counts[pred_labels] = pred_counts\n",
    "    new_truth_counts = np.zeros(len(all_labels))\n",
    "    new_truth_counts[truth_labels] = truth_counts \n",
    "    bars1 = ax.bar(all_labels - width/2, new_pred_counts, width=width, align='center')\n",
    "    bars2 = ax.bar(all_labels + width/2, new_truth_counts, width=width, align='center')\n",
    "    ax.set_xticks(all_labels)\n",
    "    plt.legend([\"prediction\", \"truth\"])\n",
    "    plt.xlabel(\"Labels per patent\")\n",
    "    plt.ylabel(\"Number of patents\")\n",
    "\n",
    "    def autolabel(rects):\n",
    "        \"\"\"Attach a text label above each bar in *rects*, displaying its height.\"\"\"\n",
    "        for rect in rects:\n",
    "            height = rect.get_height()\n",
    "            ax.annotate('{}'.format(int(height)),\n",
    "                        xy=(rect.get_x() + rect.get_width() / 2, height),\n",
    "                        xytext=(0, 3),  # 3 points vertical offset\n",
    "                        textcoords=\"offset points\",\n",
    "                        ha='center', va='bottom')\n",
    "    autolabel(bars1)\n",
    "    autolabel(bars2)\n",
    "    plt.savefig(log_dir/\"label_counts.png\", dpi=150)\n",
    "count_labels(ptopk, y_test)"
   ]
  },
  {
   "cell_type": "code",
   "execution_count": 53,
   "metadata": {
    "colab": {
     "base_uri": "https://localhost:8080/",
     "height": 624
    },
    "executionInfo": {
     "elapsed": 4538,
     "status": "ok",
     "timestamp": 1624830837309,
     "user": {
      "displayName": "Cedric Issel",
      "photoUrl": "",
      "userId": "07537599327357681724"
     },
     "user_tz": -120
    },
    "id": "T49dIRh4HLrV",
    "outputId": "84bd7a3f-72a6-4b5f-d384-2172682112ec"
   },
   "outputs": [
    {
     "data": {
      "image/png": "[encoded data removed]",
      "text/plain": [
       "<Figure size 1440x360 with 2 Axes>"
      ]
     },
     "metadata": {
      "needs_background": "light",
      "tags": []
     },
     "output_type": "display_data"
    },
    {
     "data": {
      "image/png": "[encoded data removed]",
      "text/plain": [
       "<Figure size 1440x360 with 2 Axes>"
      ]
     },
     "metadata": {
      "needs_background": "light",
      "tags": []
     },
     "output_type": "display_data"
    }
   ],
   "source": [
    "def plot_prediction_probs(pred_raw):\n",
    "    # full set of predictions\n",
    "    pic = pred_raw.transpose()\n",
    "    fig = plt.figure(figsize=(20,5))\n",
    "    im = plt.imshow(pic, aspect='auto')\n",
    "    plt.colorbar(im)\n",
    "    plt.savefig(log_dir/\"prediction_probs.png\", dpi=150)\n",
    "\n",
    "    # subset of randomly selected predictions\n",
    "    ids = np.random.randint(0,len(pred_raw),100)\n",
    "    pic = pred_raw[ids,:].transpose()\n",
    "    fig = plt.figure(figsize=(20,5))\n",
    "    im = plt.imshow(pic, aspect='auto')\n",
    "    plt.colorbar(im)\n",
    "    plt.savefig(log_dir/\"prediction_probs_100.png\", dpi=150)\n",
    "plot_prediction_probs(predictions)"
   ]
  },
  {
   "cell_type": "code",
   "execution_count": 54,
   "metadata": {
    "colab": {
     "base_uri": "https://localhost:8080/",
     "height": 796
    },
    "executionInfo": {
     "elapsed": 36,
     "status": "ok",
     "timestamp": 1624830837311,
     "user": {
      "displayName": "Cedric Issel",
      "photoUrl": "",
      "userId": "07537599327357681724"
     },
     "user_tz": -120
    },
    "id": "bMUSPtPVHrEz",
    "outputId": "53e81978-81c4-49c4-f9e0-a4208fd0001b"
   },
   "outputs": [
    {
     "name": "stderr",
     "output_type": "stream",
     "text": [
      "/usr/local/lib/python3.7/dist-packages/sklearn/metrics/_classification.py:1272: UndefinedMetricWarning: Precision and F-score are ill-defined and being set to 0.0 in samples with no predicted labels. Use `zero_division` parameter to control this behavior.\n",
      "  _warn_prf(average, modifier, msg_start, len(result))\n"
     ]
    },
    {
     "data": {
      "text/html": [
       "<div>\n",
       "<style scoped>\n",
       "    .dataframe tbody tr th:only-of-type {\n",
       "        vertical-align: middle;\n",
       "    }\n",
       "\n",
       "    .dataframe tbody tr th {\n",
       "        vertical-align: top;\n",
       "    }\n",
       "\n",
       "    .dataframe thead th {\n",
       "        text-align: right;\n",
       "    }\n",
       "</style>\n",
       "<table border=\"1\" class=\"dataframe\">\n",
       "  <thead>\n",
       "    <tr style=\"text-align: right;\">\n",
       "      <th></th>\n",
       "      <th>precision</th>\n",
       "      <th>recall</th>\n",
       "      <th>f1-score</th>\n",
       "      <th>support</th>\n",
       "    </tr>\n",
       "  </thead>\n",
       "  <tbody>\n",
       "    <tr>\n",
       "      <th>0</th>\n",
       "      <td>0.86</td>\n",
       "      <td>0.60</td>\n",
       "      <td>0.71</td>\n",
       "      <td>9044.0</td>\n",
       "    </tr>\n",
       "    <tr>\n",
       "      <th>1</th>\n",
       "      <td>0.89</td>\n",
       "      <td>0.82</td>\n",
       "      <td>0.85</td>\n",
       "      <td>14172.0</td>\n",
       "    </tr>\n",
       "    <tr>\n",
       "      <th>2</th>\n",
       "      <td>0.77</td>\n",
       "      <td>0.83</td>\n",
       "      <td>0.80</td>\n",
       "      <td>9448.0</td>\n",
       "    </tr>\n",
       "    <tr>\n",
       "      <th>3</th>\n",
       "      <td>0.89</td>\n",
       "      <td>0.90</td>\n",
       "      <td>0.89</td>\n",
       "      <td>5099.0</td>\n",
       "    </tr>\n",
       "    <tr>\n",
       "      <th>4</th>\n",
       "      <td>0.85</td>\n",
       "      <td>0.87</td>\n",
       "      <td>0.86</td>\n",
       "      <td>6151.0</td>\n",
       "    </tr>\n",
       "    <tr>\n",
       "      <th>5</th>\n",
       "      <td>0.80</td>\n",
       "      <td>0.93</td>\n",
       "      <td>0.86</td>\n",
       "      <td>4658.0</td>\n",
       "    </tr>\n",
       "    <tr>\n",
       "      <th>6</th>\n",
       "      <td>0.78</td>\n",
       "      <td>0.82</td>\n",
       "      <td>0.80</td>\n",
       "      <td>3680.0</td>\n",
       "    </tr>\n",
       "    <tr>\n",
       "      <th>7</th>\n",
       "      <td>0.87</td>\n",
       "      <td>0.78</td>\n",
       "      <td>0.82</td>\n",
       "      <td>2234.0</td>\n",
       "    </tr>\n",
       "    <tr>\n",
       "      <th>8</th>\n",
       "      <td>0.86</td>\n",
       "      <td>0.89</td>\n",
       "      <td>0.87</td>\n",
       "      <td>1575.0</td>\n",
       "    </tr>\n",
       "    <tr>\n",
       "      <th>9</th>\n",
       "      <td>0.86</td>\n",
       "      <td>0.83</td>\n",
       "      <td>0.84</td>\n",
       "      <td>1356.0</td>\n",
       "    </tr>\n",
       "    <tr>\n",
       "      <th>10</th>\n",
       "      <td>0.73</td>\n",
       "      <td>0.82</td>\n",
       "      <td>0.77</td>\n",
       "      <td>650.0</td>\n",
       "    </tr>\n",
       "    <tr>\n",
       "      <th>11</th>\n",
       "      <td>0.82</td>\n",
       "      <td>0.77</td>\n",
       "      <td>0.79</td>\n",
       "      <td>1246.0</td>\n",
       "    </tr>\n",
       "    <tr>\n",
       "      <th>12</th>\n",
       "      <td>0.63</td>\n",
       "      <td>0.76</td>\n",
       "      <td>0.69</td>\n",
       "      <td>641.0</td>\n",
       "    </tr>\n",
       "    <tr>\n",
       "      <th>13</th>\n",
       "      <td>0.64</td>\n",
       "      <td>0.79</td>\n",
       "      <td>0.71</td>\n",
       "      <td>610.0</td>\n",
       "    </tr>\n",
       "    <tr>\n",
       "      <th>14</th>\n",
       "      <td>0.59</td>\n",
       "      <td>0.81</td>\n",
       "      <td>0.69</td>\n",
       "      <td>673.0</td>\n",
       "    </tr>\n",
       "    <tr>\n",
       "      <th>15</th>\n",
       "      <td>0.91</td>\n",
       "      <td>0.80</td>\n",
       "      <td>0.85</td>\n",
       "      <td>283.0</td>\n",
       "    </tr>\n",
       "    <tr>\n",
       "      <th>16</th>\n",
       "      <td>0.63</td>\n",
       "      <td>0.78</td>\n",
       "      <td>0.69</td>\n",
       "      <td>149.0</td>\n",
       "    </tr>\n",
       "    <tr>\n",
       "      <th>17</th>\n",
       "      <td>0.88</td>\n",
       "      <td>0.75</td>\n",
       "      <td>0.81</td>\n",
       "      <td>40.0</td>\n",
       "    </tr>\n",
       "    <tr>\n",
       "      <th>micro avg</th>\n",
       "      <td>0.83</td>\n",
       "      <td>0.81</td>\n",
       "      <td>0.82</td>\n",
       "      <td>61709.0</td>\n",
       "    </tr>\n",
       "    <tr>\n",
       "      <th>macro avg</th>\n",
       "      <td>0.79</td>\n",
       "      <td>0.81</td>\n",
       "      <td>0.80</td>\n",
       "      <td>61709.0</td>\n",
       "    </tr>\n",
       "    <tr>\n",
       "      <th>weighted avg</th>\n",
       "      <td>0.84</td>\n",
       "      <td>0.81</td>\n",
       "      <td>0.82</td>\n",
       "      <td>61709.0</td>\n",
       "    </tr>\n",
       "    <tr>\n",
       "      <th>samples avg</th>\n",
       "      <td>0.80</td>\n",
       "      <td>0.81</td>\n",
       "      <td>0.79</td>\n",
       "      <td>61709.0</td>\n",
       "    </tr>\n",
       "  </tbody>\n",
       "</table>\n",
       "</div>"
      ],
      "text/plain": [
       "              precision  recall  f1-score  support\n",
       "0                  0.86    0.60      0.71   9044.0\n",
       "1                  0.89    0.82      0.85  14172.0\n",
       "2                  0.77    0.83      0.80   9448.0\n",
       "3                  0.89    0.90      0.89   5099.0\n",
       "4                  0.85    0.87      0.86   6151.0\n",
       "5                  0.80    0.93      0.86   4658.0\n",
       "6                  0.78    0.82      0.80   3680.0\n",
       "7                  0.87    0.78      0.82   2234.0\n",
       "8                  0.86    0.89      0.87   1575.0\n",
       "9                  0.86    0.83      0.84   1356.0\n",
       "10                 0.73    0.82      0.77    650.0\n",
       "11                 0.82    0.77      0.79   1246.0\n",
       "12                 0.63    0.76      0.69    641.0\n",
       "13                 0.64    0.79      0.71    610.0\n",
       "14                 0.59    0.81      0.69    673.0\n",
       "15                 0.91    0.80      0.85    283.0\n",
       "16                 0.63    0.78      0.69    149.0\n",
       "17                 0.88    0.75      0.81     40.0\n",
       "micro avg          0.83    0.81      0.82  61709.0\n",
       "macro avg          0.79    0.81      0.80  61709.0\n",
       "weighted avg       0.84    0.81      0.82  61709.0\n",
       "samples avg        0.80    0.81      0.79  61709.0"
      ]
     },
     "execution_count": 54,
     "metadata": {
      "tags": []
     },
     "output_type": "execute_result"
    }
   ],
   "source": [
    "# Calculate metrics per label\n",
    "def create_report(true_label, pred_label, n_classes):\n",
    "  cls_names =[str(cls) for cls in np.arange(0, n_classes)]\n",
    "  cls_report = classification_report(true_label, pred_label, target_names=cls_names, output_dict=True)\n",
    "  return pd.DataFrame(cls_report).round(2).transpose()\n",
    "\n",
    "cls_report = create_report(y_test, ptopk, PARAMS.n_classes)\n",
    "cls_report.to_csv(log_dir/\"cls_report.csv\")\n",
    "if PARAMS.logging:\n",
    "  wandb.log({\"f1-score\": cls_report[\"f1-score\"].to_dict()})\n",
    "cls_report"
   ]
  },
  {
   "cell_type": "markdown",
   "metadata": {
    "id": "Xv4N-nFgb0OT"
   },
   "source": [
    "## Save loggings"
   ]
  },
  {
   "cell_type": "code",
   "execution_count": 55,
   "metadata": {
    "colab": {
     "base_uri": "https://localhost:8080/",
     "height": 595,
     "referenced_widgets": [
      "7d0fa32d6f72496c8271609cc8709cd7",
      "7e17a954e8c14c2ca390a7fb2033141d",
      "ec802a5ccc7343148bbb69b07a80abe9",
      "f2f8a347c3a04db8a93a0d0883c2fedb",
      "e7f6fb754a224b50a870d6de72801dfb",
      "f9a632e1f23b40c9aaca0e7c99eb2aa1",
      "e35b430b2dd947d2b6a92651c3510f08",
      "8b5b699052794eab9d96ffc53dfc3ef6"
     ]
    },
    "executionInfo": {
     "elapsed": 25655,
     "status": "ok",
     "timestamp": 1624830862945,
     "user": {
      "displayName": "Cedric Issel",
      "photoUrl": "",
      "userId": "07537599327357681724"
     },
     "user_tz": -120
    },
    "id": "jCtST7oUWcdx",
    "outputId": "8b495c6f-32b9-4862-fcdb-eee67fb29d35"
   },
   "outputs": [
    {
     "data": {
      "text/html": [
       "<br/>Waiting for W&B process to finish, PID 7296<br/>Program ended successfully."
      ],
      "text/plain": [
       "<IPython.core.display.HTML object>"
      ]
     },
     "metadata": {
      "tags": []
     },
     "output_type": "display_data"
    },
    {
     "data": {
      "application/vnd.jupyter.widget-view+json": {
       "model_id": "7d0fa32d6f72496c8271609cc8709cd7",
       "version_major": 2,
       "version_minor": 0
      },
      "text/plain": [
       "VBox(children=(Label(value=' 0.00MB of 0.00MB uploaded (0.00MB deduped)\\r'), FloatProgress(value=1.0, max=1.0)…"
      ]
     },
     "metadata": {
      "tags": []
     },
     "output_type": "display_data"
    },
    {
     "data": {
      "text/html": [
       "Find user logs for this run at: <code>/content/wandb/run-20210627_204735-2z9lmyv6/logs/debug.log</code>"
      ],
      "text/plain": [
       "<IPython.core.display.HTML object>"
      ]
     },
     "metadata": {
      "tags": []
     },
     "output_type": "display_data"
    },
    {
     "data": {
      "text/html": [
       "Find internal logs for this run at: <code>/content/wandb/run-20210627_204735-2z9lmyv6/logs/debug-internal.log</code>"
      ],
      "text/plain": [
       "<IPython.core.display.HTML object>"
      ]
     },
     "metadata": {
      "tags": []
     },
     "output_type": "display_data"
    },
    {
     "data": {
      "text/html": [
       "<h3>Run summary:</h3><br/><style>\n",
       "    table.wandb td:nth-child(1) { padding: 0 10px; text-align: right }\n",
       "    </style><table class=\"wandb\">\n",
       "<tr><td>precision</td><td>0.82995</td></tr><tr><td>recall</td><td>0.80752</td></tr><tr><td>_runtime</td><td>3981</td></tr><tr><td>_timestamp</td><td>1624830836</td></tr><tr><td>_step</td><td>3</td></tr><tr><td>hamming_loss</td><td>0.02641</td></tr><tr><td>exact_match</td><td>0.7848</td></tr></table>"
      ],
      "text/plain": [
       "<IPython.core.display.HTML object>"
      ]
     },
     "metadata": {
      "tags": []
     },
     "output_type": "display_data"
    },
    {
     "data": {
      "text/html": [
       "<h3>Run history:</h3><br/><style>\n",
       "    table.wandb td:nth-child(1) { padding: 0 10px; text-align: right }\n",
       "    </style><table class=\"wandb\">\n",
       "<tr><td>precision</td><td>▁</td></tr><tr><td>recall</td><td>▁</td></tr><tr><td>_runtime</td><td>▁▁▁█</td></tr><tr><td>_timestamp</td><td>▁▁▁█</td></tr><tr><td>_step</td><td>▁▃▆█</td></tr><tr><td>hamming_loss</td><td>▁</td></tr><tr><td>exact_match</td><td>▁</td></tr></table><br/>"
      ],
      "text/plain": [
       "<IPython.core.display.HTML object>"
      ]
     },
     "metadata": {
      "tags": []
     },
     "output_type": "display_data"
    },
    {
     "data": {
      "text/html": [
       "Synced 5 W&B file(s), 0 media file(s), 0 artifact file(s) and 7 other file(s)"
      ],
      "text/plain": [
       "<IPython.core.display.HTML object>"
      ]
     },
     "metadata": {
      "tags": []
     },
     "output_type": "display_data"
    },
    {
     "data": {
      "text/html": [
       "\n",
       "                    <br/>Synced <strong style=\"color:#cdcd00\">ethereal-silence-49</strong>: <a href=\"https://wandb.ai/cdrc1103/thesis_multi-label/runs/2z9lmyv6\" target=\"_blank\">https://wandb.ai/cdrc1103/thesis_multi-label/runs/2z9lmyv6</a><br/>\n",
       "                "
      ],
      "text/plain": [
       "<IPython.core.display.HTML object>"
      ]
     },
     "metadata": {
      "tags": []
     },
     "output_type": "display_data"
    }
   ],
   "source": [
    "\"\"\" Submit results \"\"\"\n",
    "if PARAMS.logging:\n",
    "    run.join()\n",
    "    run.finish()"
   ]
  },
  {
   "cell_type": "code",
   "execution_count": 56,
   "metadata": {
    "executionInfo": {
     "elapsed": 9420,
     "status": "ok",
     "timestamp": 1624830872540,
     "user": {
      "displayName": "Cedric Issel",
      "photoUrl": "",
      "userId": "07537599327357681724"
     },
     "user_tz": -120
    },
    "id": "DOaTZ4jofgGX"
   },
   "outputs": [],
   "source": [
    "model.save_weights(RUN_DIR/\"ATC5000MIX.h5\")\n"
   ]
  }
 ],
 "metadata": {
  "accelerator": "TPU",
  "colab": {
   "authorship_tag": "ABX9TyNmlnVoMEhI6KYR1+1wRH0s",
   "collapsed_sections": [],
   "machine_shape": "hm",
   "name": "BERT_Ensemble_IPC.com",
   "provenance": []
  },
  "kernelspec": {
   "display_name": "Python 3",
   "language": "python",
   "name": "python3"
  },
  "language_info": {
   "codemirror_mode": {
    "name": "ipython",
    "version": 3
   },
   "file_extension": ".py",
   "mimetype": "text/x-python",
   "name": "python",
   "nbconvert_exporter": "python",
   "pygments_lexer": "ipython3",
   "version": "3.8.5"
  },
  "widgets": {
   "application/vnd.jupyter.widget-state+json": {
    "019e7b1a020a4f098ad6da964d3c641f": {
     "model_module": "@jupyter-widgets/controls",
     "model_name": "DescriptionStyleModel",
     "state": {
      "_model_module": "@jupyter-widgets/controls",
      "_model_module_version": "1.5.0",
      "_model_name": "DescriptionStyleModel",
      "_view_count": null,
      "_view_module": "@jupyter-widgets/base",
      "_view_module_version": "1.2.0",
      "_view_name": "StyleView",
      "description_width": ""
     }
    },
    "094c3cce4bf74e01aae0968de20c05d1": {
     "model_module": "@jupyter-widgets/base",
     "model_name": "LayoutModel",
     "state": {
      "_model_module": "@jupyter-widgets/base",
      "_model_module_version": "1.2.0",
      "_model_name": "LayoutModel",
      "_view_count": null,
      "_view_module": "@jupyter-widgets/base",
      "_view_module_version": "1.2.0",
      "_view_name": "LayoutView",
      "align_content": null,
      "align_items": null,
      "align_self": null,
      "border": null,
      "bottom": null,
      "display": null,
      "flex": null,
      "flex_flow": null,
      "grid_area": null,
      "grid_auto_columns": null,
      "grid_auto_flow": null,
      "grid_auto_rows": null,
      "grid_column": null,
      "grid_gap": null,
      "grid_row": null,
      "grid_template_areas": null,
      "grid_template_columns": null,
      "grid_template_rows": null,
      "height": null,
      "justify_content": null,
      "justify_items": null,
      "left": null,
      "margin": null,
      "max_height": null,
      "max_width": null,
      "min_height": null,
      "min_width": null,
      "object_fit": null,
      "object_position": null,
      "order": null,
      "overflow": null,
      "overflow_x": null,
      "overflow_y": null,
      "padding": null,
      "right": null,
      "top": null,
      "visibility": null,
      "width": null
     }
    },
    "0a2b4c7d61794c86a19de15a1a1d1d45": {
     "model_module": "@jupyter-widgets/controls",
     "model_name": "FloatProgressModel",
     "state": {
      "_dom_classes": [],
      "_model_module": "@jupyter-widgets/controls",
      "_model_module_version": "1.5.0",
      "_model_name": "FloatProgressModel",
      "_view_count": null,
      "_view_module": "@jupyter-widgets/controls",
      "_view_module_version": "1.5.0",
      "_view_name": "ProgressView",
      "bar_style": "success",
      "description": "100%",
      "description_tooltip": null,
      "layout": "IPY_MODEL_0e85d62cbb8a4247a176d635d7cc8fd5",
      "max": 1452,
      "min": 0,
      "orientation": "horizontal",
      "style": "IPY_MODEL_e1b03c1dc2ae43bf9e91dfe3a4b2c708",
      "value": 1452
     }
    },
    "0e85d62cbb8a4247a176d635d7cc8fd5": {
     "model_module": "@jupyter-widgets/base",
     "model_name": "LayoutModel",
     "state": {
      "_model_module": "@jupyter-widgets/base",
      "_model_module_version": "1.2.0",
      "_model_name": "LayoutModel",
      "_view_count": null,
      "_view_module": "@jupyter-widgets/base",
      "_view_module_version": "1.2.0",
      "_view_name": "LayoutView",
      "align_content": null,
      "align_items": null,
      "align_self": null,
      "border": null,
      "bottom": null,
      "display": null,
      "flex": null,
      "flex_flow": null,
      "grid_area": null,
      "grid_auto_columns": null,
      "grid_auto_flow": null,
      "grid_auto_rows": null,
      "grid_column": null,
      "grid_gap": null,
      "grid_row": null,
      "grid_template_areas": null,
      "grid_template_columns": null,
      "grid_template_rows": null,
      "height": null,
      "justify_content": null,
      "justify_items": null,
      "left": null,
      "margin": null,
      "max_height": null,
      "max_width": null,
      "min_height": null,
      "min_width": null,
      "object_fit": null,
      "object_position": null,
      "order": null,
      "overflow": null,
      "overflow_x": null,
      "overflow_y": null,
      "padding": null,
      "right": null,
      "top": null,
      "visibility": null,
      "width": null
     }
    },
    "0ef853d7a7ad49cd946a91a33020b804": {
     "model_module": "@jupyter-widgets/base",
     "model_name": "LayoutModel",
     "state": {
      "_model_module": "@jupyter-widgets/base",
      "_model_module_version": "1.2.0",
      "_model_name": "LayoutModel",
      "_view_count": null,
      "_view_module": "@jupyter-widgets/base",
      "_view_module_version": "1.2.0",
      "_view_name": "LayoutView",
      "align_content": null,
      "align_items": null,
      "align_self": null,
      "border": null,
      "bottom": null,
      "display": null,
      "flex": null,
      "flex_flow": null,
      "grid_area": null,
      "grid_auto_columns": null,
      "grid_auto_flow": null,
      "grid_auto_rows": null,
      "grid_column": null,
      "grid_gap": null,
      "grid_row": null,
      "grid_template_areas": null,
      "grid_template_columns": null,
      "grid_template_rows": null,
      "height": null,
      "justify_content": null,
      "justify_items": null,
      "left": null,
      "margin": null,
      "max_height": null,
      "max_width": null,
      "min_height": null,
      "min_width": null,
      "object_fit": null,
      "object_position": null,
      "order": null,
      "overflow": null,
      "overflow_x": null,
      "overflow_y": null,
      "padding": null,
      "right": null,
      "top": null,
      "visibility": null,
      "width": null
     }
    },
    "1b43b505415f468db3efcea977b6405b": {
     "model_module": "@jupyter-widgets/controls",
     "model_name": "FloatProgressModel",
     "state": {
      "_dom_classes": [],
      "_model_module": "@jupyter-widgets/controls",
      "_model_module_version": "1.5.0",
      "_model_name": "FloatProgressModel",
      "_view_count": null,
      "_view_module": "@jupyter-widgets/controls",
      "_view_module_version": "1.5.0",
      "_view_name": "ProgressView",
      "bar_style": "success",
      "description": "100%",
      "description_tooltip": null,
      "layout": "IPY_MODEL_4159d3fabe544d54ad55c712c44fd631",
      "max": 1452,
      "min": 0,
      "orientation": "horizontal",
      "style": "IPY_MODEL_3d9f9bb1ce3f40c4a84f6fc679c63cfc",
      "value": 1452
     }
    },
    "1cf91a4e23fc4e3998dea8af4d01bc40": {
     "model_module": "@jupyter-widgets/controls",
     "model_name": "HBoxModel",
     "state": {
      "_dom_classes": [],
      "_model_module": "@jupyter-widgets/controls",
      "_model_module_version": "1.5.0",
      "_model_name": "HBoxModel",
      "_view_count": null,
      "_view_module": "@jupyter-widgets/controls",
      "_view_module_version": "1.5.0",
      "_view_name": "HBoxView",
      "box_style": "",
      "children": [
       "IPY_MODEL_8b16c977d97c4a80a5e9ab82e35f2788",
       "IPY_MODEL_b14749446c334b61b1cb05923971727f"
      ],
      "layout": "IPY_MODEL_36983cb23ed64ad3aa5883fd17d40c2c"
     }
    },
    "240de8249c924b7088faf791da794722": {
     "model_module": "@jupyter-widgets/controls",
     "model_name": "HTMLModel",
     "state": {
      "_dom_classes": [],
      "_model_module": "@jupyter-widgets/controls",
      "_model_module_version": "1.5.0",
      "_model_name": "HTMLModel",
      "_view_count": null,
      "_view_module": "@jupyter-widgets/controls",
      "_view_module_version": "1.5.0",
      "_view_name": "HTMLView",
      "description": "",
      "description_tooltip": null,
      "layout": "IPY_MODEL_f7cc07a126d340cd9dd3017ceac2d248",
      "placeholder": "​",
      "style": "IPY_MODEL_3c59f3aadb45498da40b2f1a70a8715f",
      "value": " 1452/1452 [03:38&lt;00:00,  6.65ba/s]"
     }
    },
    "33c779992f9b4ad38697ce3cbe59b666": {
     "model_module": "@jupyter-widgets/controls",
     "model_name": "HTMLModel",
     "state": {
      "_dom_classes": [],
      "_model_module": "@jupyter-widgets/controls",
      "_model_module_version": "1.5.0",
      "_model_name": "HTMLModel",
      "_view_count": null,
      "_view_module": "@jupyter-widgets/controls",
      "_view_module_version": "1.5.0",
      "_view_name": "HTMLView",
      "description": "",
      "description_tooltip": null,
      "layout": "IPY_MODEL_8c0d86f0902a41588f6a2a739dda4560",
      "placeholder": "​",
      "style": "IPY_MODEL_9118d83a84684bf3bd665f90b416c31d",
      "value": " 6662/6662 [02:11&lt;00:00, 50.79ba/s]"
     }
    },
    "36983cb23ed64ad3aa5883fd17d40c2c": {
     "model_module": "@jupyter-widgets/base",
     "model_name": "LayoutModel",
     "state": {
      "_model_module": "@jupyter-widgets/base",
      "_model_module_version": "1.2.0",
      "_model_name": "LayoutModel",
      "_view_count": null,
      "_view_module": "@jupyter-widgets/base",
      "_view_module_version": "1.2.0",
      "_view_name": "LayoutView",
      "align_content": null,
      "align_items": null,
      "align_self": null,
      "border": null,
      "bottom": null,
      "display": null,
      "flex": null,
      "flex_flow": null,
      "grid_area": null,
      "grid_auto_columns": null,
      "grid_auto_flow": null,
      "grid_auto_rows": null,
      "grid_column": null,
      "grid_gap": null,
      "grid_row": null,
      "grid_template_areas": null,
      "grid_template_columns": null,
      "grid_template_rows": null,
      "height": null,
      "justify_content": null,
      "justify_items": null,
      "left": null,
      "margin": null,
      "max_height": null,
      "max_width": null,
      "min_height": null,
      "min_width": null,
      "object_fit": null,
      "object_position": null,
      "order": null,
      "overflow": null,
      "overflow_x": null,
      "overflow_y": null,
      "padding": null,
      "right": null,
      "top": null,
      "visibility": null,
      "width": null
     }
    },
    "36a65137f3c244c695faf904a12ccc67": {
     "model_module": "@jupyter-widgets/controls",
     "model_name": "DescriptionStyleModel",
     "state": {
      "_model_module": "@jupyter-widgets/controls",
      "_model_module_version": "1.5.0",
      "_model_name": "DescriptionStyleModel",
      "_view_count": null,
      "_view_module": "@jupyter-widgets/base",
      "_view_module_version": "1.2.0",
      "_view_name": "StyleView",
      "description_width": ""
     }
    },
    "3bb9fff794bb41caa26654cd4eb90505": {
     "model_module": "@jupyter-widgets/controls",
     "model_name": "ProgressStyleModel",
     "state": {
      "_model_module": "@jupyter-widgets/controls",
      "_model_module_version": "1.5.0",
      "_model_name": "ProgressStyleModel",
      "_view_count": null,
      "_view_module": "@jupyter-widgets/base",
      "_view_module_version": "1.2.0",
      "_view_name": "StyleView",
      "bar_color": null,
      "description_width": "initial"
     }
    },
    "3c59f3aadb45498da40b2f1a70a8715f": {
     "model_module": "@jupyter-widgets/controls",
     "model_name": "DescriptionStyleModel",
     "state": {
      "_model_module": "@jupyter-widgets/controls",
      "_model_module_version": "1.5.0",
      "_model_name": "DescriptionStyleModel",
      "_view_count": null,
      "_view_module": "@jupyter-widgets/base",
      "_view_module_version": "1.2.0",
      "_view_name": "StyleView",
      "description_width": ""
     }
    },
    "3d9f9bb1ce3f40c4a84f6fc679c63cfc": {
     "model_module": "@jupyter-widgets/controls",
     "model_name": "ProgressStyleModel",
     "state": {
      "_model_module": "@jupyter-widgets/controls",
      "_model_module_version": "1.5.0",
      "_model_name": "ProgressStyleModel",
      "_view_count": null,
      "_view_module": "@jupyter-widgets/base",
      "_view_module_version": "1.2.0",
      "_view_name": "StyleView",
      "bar_color": null,
      "description_width": "initial"
     }
    },
    "4159d3fabe544d54ad55c712c44fd631": {
     "model_module": "@jupyter-widgets/base",
     "model_name": "LayoutModel",
     "state": {
      "_model_module": "@jupyter-widgets/base",
      "_model_module_version": "1.2.0",
      "_model_name": "LayoutModel",
      "_view_count": null,
      "_view_module": "@jupyter-widgets/base",
      "_view_module_version": "1.2.0",
      "_view_name": "LayoutView",
      "align_content": null,
      "align_items": null,
      "align_self": null,
      "border": null,
      "bottom": null,
      "display": null,
      "flex": null,
      "flex_flow": null,
      "grid_area": null,
      "grid_auto_columns": null,
      "grid_auto_flow": null,
      "grid_auto_rows": null,
      "grid_column": null,
      "grid_gap": null,
      "grid_row": null,
      "grid_template_areas": null,
      "grid_template_columns": null,
      "grid_template_rows": null,
      "height": null,
      "justify_content": null,
      "justify_items": null,
      "left": null,
      "margin": null,
      "max_height": null,
      "max_width": null,
      "min_height": null,
      "min_width": null,
      "object_fit": null,
      "object_position": null,
      "order": null,
      "overflow": null,
      "overflow_x": null,
      "overflow_y": null,
      "padding": null,
      "right": null,
      "top": null,
      "visibility": null,
      "width": null
     }
    },
    "43e2361d1fa64c5aa4caf1a0d56af18e": {
     "model_module": "@jupyter-widgets/base",
     "model_name": "LayoutModel",
     "state": {
      "_model_module": "@jupyter-widgets/base",
      "_model_module_version": "1.2.0",
      "_model_name": "LayoutModel",
      "_view_count": null,
      "_view_module": "@jupyter-widgets/base",
      "_view_module_version": "1.2.0",
      "_view_name": "LayoutView",
      "align_content": null,
      "align_items": null,
      "align_self": null,
      "border": null,
      "bottom": null,
      "display": null,
      "flex": null,
      "flex_flow": null,
      "grid_area": null,
      "grid_auto_columns": null,
      "grid_auto_flow": null,
      "grid_auto_rows": null,
      "grid_column": null,
      "grid_gap": null,
      "grid_row": null,
      "grid_template_areas": null,
      "grid_template_columns": null,
      "grid_template_rows": null,
      "height": null,
      "justify_content": null,
      "justify_items": null,
      "left": null,
      "margin": null,
      "max_height": null,
      "max_width": null,
      "min_height": null,
      "min_width": null,
      "object_fit": null,
      "object_position": null,
      "order": null,
      "overflow": null,
      "overflow_x": null,
      "overflow_y": null,
      "padding": null,
      "right": null,
      "top": null,
      "visibility": null,
      "width": null
     }
    },
    "4a061d08d81f4879b431981bc66454c4": {
     "model_module": "@jupyter-widgets/controls",
     "model_name": "HBoxModel",
     "state": {
      "_dom_classes": [],
      "_model_module": "@jupyter-widgets/controls",
      "_model_module_version": "1.5.0",
      "_model_name": "HBoxModel",
      "_view_count": null,
      "_view_module": "@jupyter-widgets/controls",
      "_view_module_version": "1.5.0",
      "_view_name": "HBoxView",
      "box_style": "",
      "children": [
       "IPY_MODEL_7b4523e1f1cc4b0db142d4dc2be534d1",
       "IPY_MODEL_50f1acfd52dd466bb686f2a47bf9830f"
      ],
      "layout": "IPY_MODEL_b59a083ccd1843989b6178dd3bfc9ed6"
     }
    },
    "4db5d7da40974ef6bb48a8a3cc7edce0": {
     "model_module": "@jupyter-widgets/controls",
     "model_name": "DescriptionStyleModel",
     "state": {
      "_model_module": "@jupyter-widgets/controls",
      "_model_module_version": "1.5.0",
      "_model_name": "DescriptionStyleModel",
      "_view_count": null,
      "_view_module": "@jupyter-widgets/base",
      "_view_module_version": "1.2.0",
      "_view_name": "StyleView",
      "description_width": ""
     }
    },
    "50f1acfd52dd466bb686f2a47bf9830f": {
     "model_module": "@jupyter-widgets/controls",
     "model_name": "HTMLModel",
     "state": {
      "_dom_classes": [],
      "_model_module": "@jupyter-widgets/controls",
      "_model_module_version": "1.5.0",
      "_model_name": "HTMLModel",
      "_view_count": null,
      "_view_module": "@jupyter-widgets/controls",
      "_view_module_version": "1.5.0",
      "_view_name": "HTMLView",
      "description": "",
      "description_tooltip": null,
      "layout": "IPY_MODEL_094c3cce4bf74e01aae0968de20c05d1",
      "placeholder": "​",
      "style": "IPY_MODEL_4db5d7da40974ef6bb48a8a3cc7edce0",
      "value": " 6662/6662 [05:47&lt;00:00, 19.19ba/s]"
     }
    },
    "5437150c67ec462ab195b40a236506c5": {
     "model_module": "@jupyter-widgets/controls",
     "model_name": "ProgressStyleModel",
     "state": {
      "_model_module": "@jupyter-widgets/controls",
      "_model_module_version": "1.5.0",
      "_model_name": "ProgressStyleModel",
      "_view_count": null,
      "_view_module": "@jupyter-widgets/base",
      "_view_module_version": "1.2.0",
      "_view_name": "StyleView",
      "bar_color": null,
      "description_width": "initial"
     }
    },
    "5fa3b7a7d5554e34b9fddf7ef89b737d": {
     "model_module": "@jupyter-widgets/controls",
     "model_name": "ProgressStyleModel",
     "state": {
      "_model_module": "@jupyter-widgets/controls",
      "_model_module_version": "1.5.0",
      "_model_name": "ProgressStyleModel",
      "_view_count": null,
      "_view_module": "@jupyter-widgets/base",
      "_view_module_version": "1.2.0",
      "_view_name": "StyleView",
      "bar_color": null,
      "description_width": "initial"
     }
    },
    "7288fee93d1c4bf0b8bcb8503a8f3685": {
     "model_module": "@jupyter-widgets/controls",
     "model_name": "FloatProgressModel",
     "state": {
      "_dom_classes": [],
      "_model_module": "@jupyter-widgets/controls",
      "_model_module_version": "1.5.0",
      "_model_name": "FloatProgressModel",
      "_view_count": null,
      "_view_module": "@jupyter-widgets/controls",
      "_view_module_version": "1.5.0",
      "_view_name": "ProgressView",
      "bar_style": "success",
      "description": "100%",
      "description_tooltip": null,
      "layout": "IPY_MODEL_e5b33f0c6fb14da3b0422b9f40e6189e",
      "max": 6662,
      "min": 0,
      "orientation": "horizontal",
      "style": "IPY_MODEL_5fa3b7a7d5554e34b9fddf7ef89b737d",
      "value": 6662
     }
    },
    "7a21b3f70ae544e9bf2a59dd98ae4f8d": {
     "model_module": "@jupyter-widgets/controls",
     "model_name": "DescriptionStyleModel",
     "state": {
      "_model_module": "@jupyter-widgets/controls",
      "_model_module_version": "1.5.0",
      "_model_name": "DescriptionStyleModel",
      "_view_count": null,
      "_view_module": "@jupyter-widgets/base",
      "_view_module_version": "1.2.0",
      "_view_name": "StyleView",
      "description_width": ""
     }
    },
    "7b4523e1f1cc4b0db142d4dc2be534d1": {
     "model_module": "@jupyter-widgets/controls",
     "model_name": "FloatProgressModel",
     "state": {
      "_dom_classes": [],
      "_model_module": "@jupyter-widgets/controls",
      "_model_module_version": "1.5.0",
      "_model_name": "FloatProgressModel",
      "_view_count": null,
      "_view_module": "@jupyter-widgets/controls",
      "_view_module_version": "1.5.0",
      "_view_name": "ProgressView",
      "bar_style": "success",
      "description": "100%",
      "description_tooltip": null,
      "layout": "IPY_MODEL_8012bbf611a74b14a0bc921a6ca2e4ae",
      "max": 6662,
      "min": 0,
      "orientation": "horizontal",
      "style": "IPY_MODEL_5437150c67ec462ab195b40a236506c5",
      "value": 6662
     }
    },
    "7d0fa32d6f72496c8271609cc8709cd7": {
     "model_module": "@jupyter-widgets/controls",
     "model_name": "VBoxModel",
     "state": {
      "_dom_classes": [],
      "_model_module": "@jupyter-widgets/controls",
      "_model_module_version": "1.5.0",
      "_model_name": "VBoxModel",
      "_view_count": null,
      "_view_module": "@jupyter-widgets/controls",
      "_view_module_version": "1.5.0",
      "_view_name": "VBoxView",
      "box_style": "",
      "children": [
       "IPY_MODEL_ec802a5ccc7343148bbb69b07a80abe9",
       "IPY_MODEL_f2f8a347c3a04db8a93a0d0883c2fedb"
      ],
      "layout": "IPY_MODEL_7e17a954e8c14c2ca390a7fb2033141d"
     }
    },
    "7e17a954e8c14c2ca390a7fb2033141d": {
     "model_module": "@jupyter-widgets/base",
     "model_name": "LayoutModel",
     "state": {
      "_model_module": "@jupyter-widgets/base",
      "_model_module_version": "1.2.0",
      "_model_name": "LayoutModel",
      "_view_count": null,
      "_view_module": "@jupyter-widgets/base",
      "_view_module_version": "1.2.0",
      "_view_name": "LayoutView",
      "align_content": null,
      "align_items": null,
      "align_self": null,
      "border": null,
      "bottom": null,
      "display": null,
      "flex": null,
      "flex_flow": null,
      "grid_area": null,
      "grid_auto_columns": null,
      "grid_auto_flow": null,
      "grid_auto_rows": null,
      "grid_column": null,
      "grid_gap": null,
      "grid_row": null,
      "grid_template_areas": null,
      "grid_template_columns": null,
      "grid_template_rows": null,
      "height": null,
      "justify_content": null,
      "justify_items": null,
      "left": null,
      "margin": null,
      "max_height": null,
      "max_width": null,
      "min_height": null,
      "min_width": null,
      "object_fit": null,
      "object_position": null,
      "order": null,
      "overflow": null,
      "overflow_x": null,
      "overflow_y": null,
      "padding": null,
      "right": null,
      "top": null,
      "visibility": null,
      "width": null
     }
    },
    "7fe507f1cf8c4597ab15b9e38e9a9c54": {
     "model_module": "@jupyter-widgets/base",
     "model_name": "LayoutModel",
     "state": {
      "_model_module": "@jupyter-widgets/base",
      "_model_module_version": "1.2.0",
      "_model_name": "LayoutModel",
      "_view_count": null,
      "_view_module": "@jupyter-widgets/base",
      "_view_module_version": "1.2.0",
      "_view_name": "LayoutView",
      "align_content": null,
      "align_items": null,
      "align_self": null,
      "border": null,
      "bottom": null,
      "display": null,
      "flex": null,
      "flex_flow": null,
      "grid_area": null,
      "grid_auto_columns": null,
      "grid_auto_flow": null,
      "grid_auto_rows": null,
      "grid_column": null,
      "grid_gap": null,
      "grid_row": null,
      "grid_template_areas": null,
      "grid_template_columns": null,
      "grid_template_rows": null,
      "height": null,
      "justify_content": null,
      "justify_items": null,
      "left": null,
      "margin": null,
      "max_height": null,
      "max_width": null,
      "min_height": null,
      "min_width": null,
      "object_fit": null,
      "object_position": null,
      "order": null,
      "overflow": null,
      "overflow_x": null,
      "overflow_y": null,
      "padding": null,
      "right": null,
      "top": null,
      "visibility": null,
      "width": null
     }
    },
    "8012bbf611a74b14a0bc921a6ca2e4ae": {
     "model_module": "@jupyter-widgets/base",
     "model_name": "LayoutModel",
     "state": {
      "_model_module": "@jupyter-widgets/base",
      "_model_module_version": "1.2.0",
      "_model_name": "LayoutModel",
      "_view_count": null,
      "_view_module": "@jupyter-widgets/base",
      "_view_module_version": "1.2.0",
      "_view_name": "LayoutView",
      "align_content": null,
      "align_items": null,
      "align_self": null,
      "border": null,
      "bottom": null,
      "display": null,
      "flex": null,
      "flex_flow": null,
      "grid_area": null,
      "grid_auto_columns": null,
      "grid_auto_flow": null,
      "grid_auto_rows": null,
      "grid_column": null,
      "grid_gap": null,
      "grid_row": null,
      "grid_template_areas": null,
      "grid_template_columns": null,
      "grid_template_rows": null,
      "height": null,
      "justify_content": null,
      "justify_items": null,
      "left": null,
      "margin": null,
      "max_height": null,
      "max_width": null,
      "min_height": null,
      "min_width": null,
      "object_fit": null,
      "object_position": null,
      "order": null,
      "overflow": null,
      "overflow_x": null,
      "overflow_y": null,
      "padding": null,
      "right": null,
      "top": null,
      "visibility": null,
      "width": null
     }
    },
    "8b16c977d97c4a80a5e9ab82e35f2788": {
     "model_module": "@jupyter-widgets/controls",
     "model_name": "FloatProgressModel",
     "state": {
      "_dom_classes": [],
      "_model_module": "@jupyter-widgets/controls",
      "_model_module_version": "1.5.0",
      "_model_name": "FloatProgressModel",
      "_view_count": null,
      "_view_module": "@jupyter-widgets/controls",
      "_view_module_version": "1.5.0",
      "_view_name": "ProgressView",
      "bar_style": "success",
      "description": "100%",
      "description_tooltip": null,
      "layout": "IPY_MODEL_f23fa2050f0141109699aec2b3068249",
      "max": 6662,
      "min": 0,
      "orientation": "horizontal",
      "style": "IPY_MODEL_3bb9fff794bb41caa26654cd4eb90505",
      "value": 6662
     }
    },
    "8b5b699052794eab9d96ffc53dfc3ef6": {
     "model_module": "@jupyter-widgets/base",
     "model_name": "LayoutModel",
     "state": {
      "_model_module": "@jupyter-widgets/base",
      "_model_module_version": "1.2.0",
      "_model_name": "LayoutModel",
      "_view_count": null,
      "_view_module": "@jupyter-widgets/base",
      "_view_module_version": "1.2.0",
      "_view_name": "LayoutView",
      "align_content": null,
      "align_items": null,
      "align_self": null,
      "border": null,
      "bottom": null,
      "display": null,
      "flex": null,
      "flex_flow": null,
      "grid_area": null,
      "grid_auto_columns": null,
      "grid_auto_flow": null,
      "grid_auto_rows": null,
      "grid_column": null,
      "grid_gap": null,
      "grid_row": null,
      "grid_template_areas": null,
      "grid_template_columns": null,
      "grid_template_rows": null,
      "height": null,
      "justify_content": null,
      "justify_items": null,
      "left": null,
      "margin": null,
      "max_height": null,
      "max_width": null,
      "min_height": null,
      "min_width": null,
      "object_fit": null,
      "object_position": null,
      "order": null,
      "overflow": null,
      "overflow_x": null,
      "overflow_y": null,
      "padding": null,
      "right": null,
      "top": null,
      "visibility": null,
      "width": null
     }
    },
    "8c0d86f0902a41588f6a2a739dda4560": {
     "model_module": "@jupyter-widgets/base",
     "model_name": "LayoutModel",
     "state": {
      "_model_module": "@jupyter-widgets/base",
      "_model_module_version": "1.2.0",
      "_model_name": "LayoutModel",
      "_view_count": null,
      "_view_module": "@jupyter-widgets/base",
      "_view_module_version": "1.2.0",
      "_view_name": "LayoutView",
      "align_content": null,
      "align_items": null,
      "align_self": null,
      "border": null,
      "bottom": null,
      "display": null,
      "flex": null,
      "flex_flow": null,
      "grid_area": null,
      "grid_auto_columns": null,
      "grid_auto_flow": null,
      "grid_auto_rows": null,
      "grid_column": null,
      "grid_gap": null,
      "grid_row": null,
      "grid_template_areas": null,
      "grid_template_columns": null,
      "grid_template_rows": null,
      "height": null,
      "justify_content": null,
      "justify_items": null,
      "left": null,
      "margin": null,
      "max_height": null,
      "max_width": null,
      "min_height": null,
      "min_width": null,
      "object_fit": null,
      "object_position": null,
      "order": null,
      "overflow": null,
      "overflow_x": null,
      "overflow_y": null,
      "padding": null,
      "right": null,
      "top": null,
      "visibility": null,
      "width": null
     }
    },
    "9118d83a84684bf3bd665f90b416c31d": {
     "model_module": "@jupyter-widgets/controls",
     "model_name": "DescriptionStyleModel",
     "state": {
      "_model_module": "@jupyter-widgets/controls",
      "_model_module_version": "1.5.0",
      "_model_name": "DescriptionStyleModel",
      "_view_count": null,
      "_view_module": "@jupyter-widgets/base",
      "_view_module_version": "1.2.0",
      "_view_name": "StyleView",
      "description_width": ""
     }
    },
    "96150bbcd8cd4f6caf5183caaa7184c1": {
     "model_module": "@jupyter-widgets/base",
     "model_name": "LayoutModel",
     "state": {
      "_model_module": "@jupyter-widgets/base",
      "_model_module_version": "1.2.0",
      "_model_name": "LayoutModel",
      "_view_count": null,
      "_view_module": "@jupyter-widgets/base",
      "_view_module_version": "1.2.0",
      "_view_name": "LayoutView",
      "align_content": null,
      "align_items": null,
      "align_self": null,
      "border": null,
      "bottom": null,
      "display": null,
      "flex": null,
      "flex_flow": null,
      "grid_area": null,
      "grid_auto_columns": null,
      "grid_auto_flow": null,
      "grid_auto_rows": null,
      "grid_column": null,
      "grid_gap": null,
      "grid_row": null,
      "grid_template_areas": null,
      "grid_template_columns": null,
      "grid_template_rows": null,
      "height": null,
      "justify_content": null,
      "justify_items": null,
      "left": null,
      "margin": null,
      "max_height": null,
      "max_width": null,
      "min_height": null,
      "min_width": null,
      "object_fit": null,
      "object_position": null,
      "order": null,
      "overflow": null,
      "overflow_x": null,
      "overflow_y": null,
      "padding": null,
      "right": null,
      "top": null,
      "visibility": null,
      "width": null
     }
    },
    "97662e6348d945a380ddae09a5344a3a": {
     "model_module": "@jupyter-widgets/controls",
     "model_name": "HBoxModel",
     "state": {
      "_dom_classes": [],
      "_model_module": "@jupyter-widgets/controls",
      "_model_module_version": "1.5.0",
      "_model_name": "HBoxModel",
      "_view_count": null,
      "_view_module": "@jupyter-widgets/controls",
      "_view_module_version": "1.5.0",
      "_view_name": "HBoxView",
      "box_style": "",
      "children": [
       "IPY_MODEL_cd6ccc05e9d74df7834faee0d3a11b14",
       "IPY_MODEL_240de8249c924b7088faf791da794722"
      ],
      "layout": "IPY_MODEL_a3703cac9f1e44848c9c1cc99862f72a"
     }
    },
    "991de84f5eb342eb9e87069adc84f762": {
     "model_module": "@jupyter-widgets/controls",
     "model_name": "HBoxModel",
     "state": {
      "_dom_classes": [],
      "_model_module": "@jupyter-widgets/controls",
      "_model_module_version": "1.5.0",
      "_model_name": "HBoxModel",
      "_view_count": null,
      "_view_module": "@jupyter-widgets/controls",
      "_view_module_version": "1.5.0",
      "_view_name": "HBoxView",
      "box_style": "",
      "children": [
       "IPY_MODEL_0a2b4c7d61794c86a19de15a1a1d1d45",
       "IPY_MODEL_9d30b257731740d59c7c85e225369d5e"
      ],
      "layout": "IPY_MODEL_96150bbcd8cd4f6caf5183caaa7184c1"
     }
    },
    "9d30b257731740d59c7c85e225369d5e": {
     "model_module": "@jupyter-widgets/controls",
     "model_name": "HTMLModel",
     "state": {
      "_dom_classes": [],
      "_model_module": "@jupyter-widgets/controls",
      "_model_module_version": "1.5.0",
      "_model_name": "HTMLModel",
      "_view_count": null,
      "_view_module": "@jupyter-widgets/controls",
      "_view_module_version": "1.5.0",
      "_view_name": "HTMLView",
      "description": "",
      "description_tooltip": null,
      "layout": "IPY_MODEL_b27d402471224af8a13eee7c3e382f6c",
      "placeholder": "​",
      "style": "IPY_MODEL_019e7b1a020a4f098ad6da964d3c641f",
      "value": " 1452/1452 [00:08&lt;00:00, 171.36ba/s]"
     }
    },
    "a3703cac9f1e44848c9c1cc99862f72a": {
     "model_module": "@jupyter-widgets/base",
     "model_name": "LayoutModel",
     "state": {
      "_model_module": "@jupyter-widgets/base",
      "_model_module_version": "1.2.0",
      "_model_name": "LayoutModel",
      "_view_count": null,
      "_view_module": "@jupyter-widgets/base",
      "_view_module_version": "1.2.0",
      "_view_name": "LayoutView",
      "align_content": null,
      "align_items": null,
      "align_self": null,
      "border": null,
      "bottom": null,
      "display": null,
      "flex": null,
      "flex_flow": null,
      "grid_area": null,
      "grid_auto_columns": null,
      "grid_auto_flow": null,
      "grid_auto_rows": null,
      "grid_column": null,
      "grid_gap": null,
      "grid_row": null,
      "grid_template_areas": null,
      "grid_template_columns": null,
      "grid_template_rows": null,
      "height": null,
      "justify_content": null,
      "justify_items": null,
      "left": null,
      "margin": null,
      "max_height": null,
      "max_width": null,
      "min_height": null,
      "min_width": null,
      "object_fit": null,
      "object_position": null,
      "order": null,
      "overflow": null,
      "overflow_x": null,
      "overflow_y": null,
      "padding": null,
      "right": null,
      "top": null,
      "visibility": null,
      "width": null
     }
    },
    "a48fa238834445409d04320f3011547c": {
     "model_module": "@jupyter-widgets/controls",
     "model_name": "HBoxModel",
     "state": {
      "_dom_classes": [],
      "_model_module": "@jupyter-widgets/controls",
      "_model_module_version": "1.5.0",
      "_model_name": "HBoxModel",
      "_view_count": null,
      "_view_module": "@jupyter-widgets/controls",
      "_view_module_version": "1.5.0",
      "_view_name": "HBoxView",
      "box_style": "",
      "children": [
       "IPY_MODEL_1b43b505415f468db3efcea977b6405b",
       "IPY_MODEL_c8ff0fcb1c8e420aa58cdb1ba85b6ae1"
      ],
      "layout": "IPY_MODEL_43e2361d1fa64c5aa4caf1a0d56af18e"
     }
    },
    "b14749446c334b61b1cb05923971727f": {
     "model_module": "@jupyter-widgets/controls",
     "model_name": "HTMLModel",
     "state": {
      "_dom_classes": [],
      "_model_module": "@jupyter-widgets/controls",
      "_model_module_version": "1.5.0",
      "_model_name": "HTMLModel",
      "_view_count": null,
      "_view_module": "@jupyter-widgets/controls",
      "_view_module_version": "1.5.0",
      "_view_name": "HTMLView",
      "description": "",
      "description_tooltip": null,
      "layout": "IPY_MODEL_b97e59d030e44ec69a3ad5c2ea8eca4c",
      "placeholder": "​",
      "style": "IPY_MODEL_7a21b3f70ae544e9bf2a59dd98ae4f8d",
      "value": " 6662/6662 [03:10&lt;00:00, 34.91ba/s]"
     }
    },
    "b27d402471224af8a13eee7c3e382f6c": {
     "model_module": "@jupyter-widgets/base",
     "model_name": "LayoutModel",
     "state": {
      "_model_module": "@jupyter-widgets/base",
      "_model_module_version": "1.2.0",
      "_model_name": "LayoutModel",
      "_view_count": null,
      "_view_module": "@jupyter-widgets/base",
      "_view_module_version": "1.2.0",
      "_view_name": "LayoutView",
      "align_content": null,
      "align_items": null,
      "align_self": null,
      "border": null,
      "bottom": null,
      "display": null,
      "flex": null,
      "flex_flow": null,
      "grid_area": null,
      "grid_auto_columns": null,
      "grid_auto_flow": null,
      "grid_auto_rows": null,
      "grid_column": null,
      "grid_gap": null,
      "grid_row": null,
      "grid_template_areas": null,
      "grid_template_columns": null,
      "grid_template_rows": null,
      "height": null,
      "justify_content": null,
      "justify_items": null,
      "left": null,
      "margin": null,
      "max_height": null,
      "max_width": null,
      "min_height": null,
      "min_width": null,
      "object_fit": null,
      "object_position": null,
      "order": null,
      "overflow": null,
      "overflow_x": null,
      "overflow_y": null,
      "padding": null,
      "right": null,
      "top": null,
      "visibility": null,
      "width": null
     }
    },
    "b59a083ccd1843989b6178dd3bfc9ed6": {
     "model_module": "@jupyter-widgets/base",
     "model_name": "LayoutModel",
     "state": {
      "_model_module": "@jupyter-widgets/base",
      "_model_module_version": "1.2.0",
      "_model_name": "LayoutModel",
      "_view_count": null,
      "_view_module": "@jupyter-widgets/base",
      "_view_module_version": "1.2.0",
      "_view_name": "LayoutView",
      "align_content": null,
      "align_items": null,
      "align_self": null,
      "border": null,
      "bottom": null,
      "display": null,
      "flex": null,
      "flex_flow": null,
      "grid_area": null,
      "grid_auto_columns": null,
      "grid_auto_flow": null,
      "grid_auto_rows": null,
      "grid_column": null,
      "grid_gap": null,
      "grid_row": null,
      "grid_template_areas": null,
      "grid_template_columns": null,
      "grid_template_rows": null,
      "height": null,
      "justify_content": null,
      "justify_items": null,
      "left": null,
      "margin": null,
      "max_height": null,
      "max_width": null,
      "min_height": null,
      "min_width": null,
      "object_fit": null,
      "object_position": null,
      "order": null,
      "overflow": null,
      "overflow_x": null,
      "overflow_y": null,
      "padding": null,
      "right": null,
      "top": null,
      "visibility": null,
      "width": null
     }
    },
    "b97e59d030e44ec69a3ad5c2ea8eca4c": {
     "model_module": "@jupyter-widgets/base",
     "model_name": "LayoutModel",
     "state": {
      "_model_module": "@jupyter-widgets/base",
      "_model_module_version": "1.2.0",
      "_model_name": "LayoutModel",
      "_view_count": null,
      "_view_module": "@jupyter-widgets/base",
      "_view_module_version": "1.2.0",
      "_view_name": "LayoutView",
      "align_content": null,
      "align_items": null,
      "align_self": null,
      "border": null,
      "bottom": null,
      "display": null,
      "flex": null,
      "flex_flow": null,
      "grid_area": null,
      "grid_auto_columns": null,
      "grid_auto_flow": null,
      "grid_auto_rows": null,
      "grid_column": null,
      "grid_gap": null,
      "grid_row": null,
      "grid_template_areas": null,
      "grid_template_columns": null,
      "grid_template_rows": null,
      "height": null,
      "justify_content": null,
      "justify_items": null,
      "left": null,
      "margin": null,
      "max_height": null,
      "max_width": null,
      "min_height": null,
      "min_width": null,
      "object_fit": null,
      "object_position": null,
      "order": null,
      "overflow": null,
      "overflow_x": null,
      "overflow_y": null,
      "padding": null,
      "right": null,
      "top": null,
      "visibility": null,
      "width": null
     }
    },
    "baf689803ca542899ab5f374a9f112fb": {
     "model_module": "@jupyter-widgets/controls",
     "model_name": "ProgressStyleModel",
     "state": {
      "_model_module": "@jupyter-widgets/controls",
      "_model_module_version": "1.5.0",
      "_model_name": "ProgressStyleModel",
      "_view_count": null,
      "_view_module": "@jupyter-widgets/base",
      "_view_module_version": "1.2.0",
      "_view_name": "StyleView",
      "bar_color": null,
      "description_width": "initial"
     }
    },
    "c8ff0fcb1c8e420aa58cdb1ba85b6ae1": {
     "model_module": "@jupyter-widgets/controls",
     "model_name": "HTMLModel",
     "state": {
      "_dom_classes": [],
      "_model_module": "@jupyter-widgets/controls",
      "_model_module_version": "1.5.0",
      "_model_name": "HTMLModel",
      "_view_count": null,
      "_view_module": "@jupyter-widgets/controls",
      "_view_module_version": "1.5.0",
      "_view_name": "HTMLView",
      "description": "",
      "description_tooltip": null,
      "layout": "IPY_MODEL_7fe507f1cf8c4597ab15b9e38e9a9c54",
      "placeholder": "​",
      "style": "IPY_MODEL_36a65137f3c244c695faf904a12ccc67",
      "value": " 1452/1452 [00:33&lt;00:00, 43.20ba/s]"
     }
    },
    "cc84d0234bda48fd8ada3a01f7403d05": {
     "model_module": "@jupyter-widgets/base",
     "model_name": "LayoutModel",
     "state": {
      "_model_module": "@jupyter-widgets/base",
      "_model_module_version": "1.2.0",
      "_model_name": "LayoutModel",
      "_view_count": null,
      "_view_module": "@jupyter-widgets/base",
      "_view_module_version": "1.2.0",
      "_view_name": "LayoutView",
      "align_content": null,
      "align_items": null,
      "align_self": null,
      "border": null,
      "bottom": null,
      "display": null,
      "flex": null,
      "flex_flow": null,
      "grid_area": null,
      "grid_auto_columns": null,
      "grid_auto_flow": null,
      "grid_auto_rows": null,
      "grid_column": null,
      "grid_gap": null,
      "grid_row": null,
      "grid_template_areas": null,
      "grid_template_columns": null,
      "grid_template_rows": null,
      "height": null,
      "justify_content": null,
      "justify_items": null,
      "left": null,
      "margin": null,
      "max_height": null,
      "max_width": null,
      "min_height": null,
      "min_width": null,
      "object_fit": null,
      "object_position": null,
      "order": null,
      "overflow": null,
      "overflow_x": null,
      "overflow_y": null,
      "padding": null,
      "right": null,
      "top": null,
      "visibility": null,
      "width": null
     }
    },
    "cd6ccc05e9d74df7834faee0d3a11b14": {
     "model_module": "@jupyter-widgets/controls",
     "model_name": "FloatProgressModel",
     "state": {
      "_dom_classes": [],
      "_model_module": "@jupyter-widgets/controls",
      "_model_module_version": "1.5.0",
      "_model_name": "FloatProgressModel",
      "_view_count": null,
      "_view_module": "@jupyter-widgets/controls",
      "_view_module_version": "1.5.0",
      "_view_name": "ProgressView",
      "bar_style": "success",
      "description": "100%",
      "description_tooltip": null,
      "layout": "IPY_MODEL_cc84d0234bda48fd8ada3a01f7403d05",
      "max": 1452,
      "min": 0,
      "orientation": "horizontal",
      "style": "IPY_MODEL_baf689803ca542899ab5f374a9f112fb",
      "value": 1452
     }
    },
    "d16aa00d286841c8a5025a917a58d6d2": {
     "model_module": "@jupyter-widgets/controls",
     "model_name": "HBoxModel",
     "state": {
      "_dom_classes": [],
      "_model_module": "@jupyter-widgets/controls",
      "_model_module_version": "1.5.0",
      "_model_name": "HBoxModel",
      "_view_count": null,
      "_view_module": "@jupyter-widgets/controls",
      "_view_module_version": "1.5.0",
      "_view_name": "HBoxView",
      "box_style": "",
      "children": [
       "IPY_MODEL_7288fee93d1c4bf0b8bcb8503a8f3685",
       "IPY_MODEL_33c779992f9b4ad38697ce3cbe59b666"
      ],
      "layout": "IPY_MODEL_0ef853d7a7ad49cd946a91a33020b804"
     }
    },
    "e1b03c1dc2ae43bf9e91dfe3a4b2c708": {
     "model_module": "@jupyter-widgets/controls",
     "model_name": "ProgressStyleModel",
     "state": {
      "_model_module": "@jupyter-widgets/controls",
      "_model_module_version": "1.5.0",
      "_model_name": "ProgressStyleModel",
      "_view_count": null,
      "_view_module": "@jupyter-widgets/base",
      "_view_module_version": "1.2.0",
      "_view_name": "StyleView",
      "bar_color": null,
      "description_width": "initial"
     }
    },
    "e35b430b2dd947d2b6a92651c3510f08": {
     "model_module": "@jupyter-widgets/controls",
     "model_name": "ProgressStyleModel",
     "state": {
      "_model_module": "@jupyter-widgets/controls",
      "_model_module_version": "1.5.0",
      "_model_name": "ProgressStyleModel",
      "_view_count": null,
      "_view_module": "@jupyter-widgets/base",
      "_view_module_version": "1.2.0",
      "_view_name": "StyleView",
      "bar_color": null,
      "description_width": ""
     }
    },
    "e5b33f0c6fb14da3b0422b9f40e6189e": {
     "model_module": "@jupyter-widgets/base",
     "model_name": "LayoutModel",
     "state": {
      "_model_module": "@jupyter-widgets/base",
      "_model_module_version": "1.2.0",
      "_model_name": "LayoutModel",
      "_view_count": null,
      "_view_module": "@jupyter-widgets/base",
      "_view_module_version": "1.2.0",
      "_view_name": "LayoutView",
      "align_content": null,
      "align_items": null,
      "align_self": null,
      "border": null,
      "bottom": null,
      "display": null,
      "flex": null,
      "flex_flow": null,
      "grid_area": null,
      "grid_auto_columns": null,
      "grid_auto_flow": null,
      "grid_auto_rows": null,
      "grid_column": null,
      "grid_gap": null,
      "grid_row": null,
      "grid_template_areas": null,
      "grid_template_columns": null,
      "grid_template_rows": null,
      "height": null,
      "justify_content": null,
      "justify_items": null,
      "left": null,
      "margin": null,
      "max_height": null,
      "max_width": null,
      "min_height": null,
      "min_width": null,
      "object_fit": null,
      "object_position": null,
      "order": null,
      "overflow": null,
      "overflow_x": null,
      "overflow_y": null,
      "padding": null,
      "right": null,
      "top": null,
      "visibility": null,
      "width": null
     }
    },
    "e7f6fb754a224b50a870d6de72801dfb": {
     "model_module": "@jupyter-widgets/controls",
     "model_name": "DescriptionStyleModel",
     "state": {
      "_model_module": "@jupyter-widgets/controls",
      "_model_module_version": "1.5.0",
      "_model_name": "DescriptionStyleModel",
      "_view_count": null,
      "_view_module": "@jupyter-widgets/base",
      "_view_module_version": "1.2.0",
      "_view_name": "StyleView",
      "description_width": ""
     }
    },
    "ec802a5ccc7343148bbb69b07a80abe9": {
     "model_module": "@jupyter-widgets/controls",
     "model_name": "LabelModel",
     "state": {
      "_dom_classes": [],
      "_model_module": "@jupyter-widgets/controls",
      "_model_module_version": "1.5.0",
      "_model_name": "LabelModel",
      "_view_count": null,
      "_view_module": "@jupyter-widgets/controls",
      "_view_module_version": "1.5.0",
      "_view_name": "LabelView",
      "description": "",
      "description_tooltip": null,
      "layout": "IPY_MODEL_f9a632e1f23b40c9aaca0e7c99eb2aa1",
      "placeholder": "​",
      "style": "IPY_MODEL_e7f6fb754a224b50a870d6de72801dfb",
      "value": " 20.51MB of 20.51MB uploaded (0.00MB deduped)\r"
     }
    },
    "f23fa2050f0141109699aec2b3068249": {
     "model_module": "@jupyter-widgets/base",
     "model_name": "LayoutModel",
     "state": {
      "_model_module": "@jupyter-widgets/base",
      "_model_module_version": "1.2.0",
      "_model_name": "LayoutModel",
      "_view_count": null,
      "_view_module": "@jupyter-widgets/base",
      "_view_module_version": "1.2.0",
      "_view_name": "LayoutView",
      "align_content": null,
      "align_items": null,
      "align_self": null,
      "border": null,
      "bottom": null,
      "display": null,
      "flex": null,
      "flex_flow": null,
      "grid_area": null,
      "grid_auto_columns": null,
      "grid_auto_flow": null,
      "grid_auto_rows": null,
      "grid_column": null,
      "grid_gap": null,
      "grid_row": null,
      "grid_template_areas": null,
      "grid_template_columns": null,
      "grid_template_rows": null,
      "height": null,
      "justify_content": null,
      "justify_items": null,
      "left": null,
      "margin": null,
      "max_height": null,
      "max_width": null,
      "min_height": null,
      "min_width": null,
      "object_fit": null,
      "object_position": null,
      "order": null,
      "overflow": null,
      "overflow_x": null,
      "overflow_y": null,
      "padding": null,
      "right": null,
      "top": null,
      "visibility": null,
      "width": null
     }
    },
    "f2f8a347c3a04db8a93a0d0883c2fedb": {
     "model_module": "@jupyter-widgets/controls",
     "model_name": "FloatProgressModel",
     "state": {
      "_dom_classes": [],
      "_model_module": "@jupyter-widgets/controls",
      "_model_module_version": "1.5.0",
      "_model_name": "FloatProgressModel",
      "_view_count": null,
      "_view_module": "@jupyter-widgets/controls",
      "_view_module_version": "1.5.0",
      "_view_name": "ProgressView",
      "bar_style": "",
      "description": "",
      "description_tooltip": null,
      "layout": "IPY_MODEL_8b5b699052794eab9d96ffc53dfc3ef6",
      "max": 1,
      "min": 0,
      "orientation": "horizontal",
      "style": "IPY_MODEL_e35b430b2dd947d2b6a92651c3510f08",
      "value": 1
     }
    },
    "f7cc07a126d340cd9dd3017ceac2d248": {
     "model_module": "@jupyter-widgets/base",
     "model_name": "LayoutModel",
     "state": {
      "_model_module": "@jupyter-widgets/base",
      "_model_module_version": "1.2.0",
      "_model_name": "LayoutModel",
      "_view_count": null,
      "_view_module": "@jupyter-widgets/base",
      "_view_module_version": "1.2.0",
      "_view_name": "LayoutView",
      "align_content": null,
      "align_items": null,
      "align_self": null,
      "border": null,
      "bottom": null,
      "display": null,
      "flex": null,
      "flex_flow": null,
      "grid_area": null,
      "grid_auto_columns": null,
      "grid_auto_flow": null,
      "grid_auto_rows": null,
      "grid_column": null,
      "grid_gap": null,
      "grid_row": null,
      "grid_template_areas": null,
      "grid_template_columns": null,
      "grid_template_rows": null,
      "height": null,
      "justify_content": null,
      "justify_items": null,
      "left": null,
      "margin": null,
      "max_height": null,
      "max_width": null,
      "min_height": null,
      "min_width": null,
      "object_fit": null,
      "object_position": null,
      "order": null,
      "overflow": null,
      "overflow_x": null,
      "overflow_y": null,
      "padding": null,
      "right": null,
      "top": null,
      "visibility": null,
      "width": null
     }
    },
    "f9a632e1f23b40c9aaca0e7c99eb2aa1": {
     "model_module": "@jupyter-widgets/base",
     "model_name": "LayoutModel",
     "state": {
      "_model_module": "@jupyter-widgets/base",
      "_model_module_version": "1.2.0",
      "_model_name": "LayoutModel",
      "_view_count": null,
      "_view_module": "@jupyter-widgets/base",
      "_view_module_version": "1.2.0",
      "_view_name": "LayoutView",
      "align_content": null,
      "align_items": null,
      "align_self": null,
      "border": null,
      "bottom": null,
      "display": null,
      "flex": null,
      "flex_flow": null,
      "grid_area": null,
      "grid_auto_columns": null,
      "grid_auto_flow": null,
      "grid_auto_rows": null,
      "grid_column": null,
      "grid_gap": null,
      "grid_row": null,
      "grid_template_areas": null,
      "grid_template_columns": null,
      "grid_template_rows": null,
      "height": null,
      "justify_content": null,
      "justify_items": null,
      "left": null,
      "margin": null,
      "max_height": null,
      "max_width": null,
      "min_height": null,
      "min_width": null,
      "object_fit": null,
      "object_position": null,
      "order": null,
      "overflow": null,
      "overflow_x": null,
      "overflow_y": null,
      "padding": null,
      "right": null,
      "top": null,
      "visibility": null,
      "width": null
     }
    }
   }
  }
 },
 "nbformat": 4,
 "nbformat_minor": 1
}
