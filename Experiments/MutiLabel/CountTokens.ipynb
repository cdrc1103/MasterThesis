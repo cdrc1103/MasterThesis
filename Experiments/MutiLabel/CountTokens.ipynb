{
 "cells": [
  {
   "cell_type": "code",
   "execution_count": 26,
   "metadata": {
    "collapsed": true
   },
   "outputs": [],
   "source": [
    "from transformers import BertTokenizerFast, BertConfig\n",
    "import pandas as pd\n",
    "import numpy as np\n",
    "import seaborn as sns\n",
    "import matplotlib.pyplot as plt\n",
    "from tqdm import tqdm"
   ]
  },
  {
   "cell_type": "markdown",
   "source": [
    "# Bert based tokenizer"
   ],
   "metadata": {
    "collapsed": false,
    "pycharm": {
     "name": "#%% md\n"
    }
   }
  },
  {
   "cell_type": "code",
   "execution_count": 27,
   "outputs": [
    {
     "name": "stderr",
     "output_type": "stream",
     "text": [
      "  0%|          | 0/139357 [00:00<?, ?it/s]Truncation was not explicitly activated but `max_length` is provided a specific value, please use `truncation=True` to explicitly truncate examples to max length. Defaulting to 'longest_first' truncation strategy. If you encode pairs of sequences (GLUE-style) with the tokenizer you can select this strategy more precisely by providing a specific strategy to `truncation`.\n",
      "100%|██████████| 139357/139357 [01:02<00:00, 2213.46it/s]\n"
     ]
    }
   ],
   "source": [
    "model_name = 'bert-base-uncased'\n",
    "config = BertConfig.from_pretrained(model_name)\n",
    "dataset = pd.read_csv(\"../Experiments/1. SingleLabel/dataset.csv\")\n",
    "\n",
    "tokenizer = BertTokenizerFast.from_pretrained(pretrained_model_name_or_path=model_name, config=config)\n",
    "token_lens = []\n",
    "for text in tqdm(dataset[\"abstract\"]):\n",
    "    tokens = tokenizer.encode(text, max_length=512)\n",
    "    token_lens.append(len(tokens))"
   ],
   "metadata": {
    "collapsed": false,
    "pycharm": {
     "name": "#%%\n"
    }
   }
  },
  {
   "cell_type": "code",
   "execution_count": 25,
   "outputs": [
    {
     "data": {
      "text/plain": "[]"
     },
     "execution_count": 25,
     "metadata": {},
     "output_type": "execute_result"
    },
    {
     "data": {
      "text/plain": "<Figure size 432x288 with 0 Axes>"
     },
     "metadata": {},
     "output_type": "display_data"
    },
    {
     "data": {
      "text/plain": "<Figure size 360x360 with 1 Axes>",
      "image/png": "[encoded data removed]"
     },
     "metadata": {},
     "output_type": "display_data"
    }
   ],
   "source": [
    "# plot it\n",
    "sns.set(palette=\"tab10\", style=\"white\", font_scale=1)\n",
    "fig = plt.figure()\n",
    "sns.displot(token_lens)\n",
    "plt.xlim([0, 512])\n",
    "plt.xlabel('Token Count')\n",
    "plt.ylabel(\"Document count\")\n",
    "plt.grid()\n",
    "textstr = '\\n'.join((\n",
    "    f\"median: {int(np.median(token_lens))}\",\n",
    "    f\"75%-percentile: {int(np.percentile(token_lens, 75))}\"\n",
    "))\n",
    "plt.text(500, 3500, textstr, ha='right')\n",
    "plt.savefig(\"bert_base_token_count.png\", dpi=150, transparent=True)\n",
    "plt.plot()"
   ],
   "metadata": {
    "collapsed": false,
    "pycharm": {
     "name": "#%%\n"
    }
   }
  },
  {
   "cell_type": "code",
   "execution_count": 28,
   "outputs": [
    {
     "name": "stdout",
     "output_type": "stream",
     "text": [
      "Disclosed is an oral dosage form comprising (i) an opioid agonists in releasable form and (ii) a sequestered opioid antagonist which is substantially not released when the dosage form is administered intact, such that the ratio of the amount of antagonist released from said dosage form after tampering to the amount of said antagonist released from said intact dosage form is about 4:1 or greater, based on the in-vitro dissolution at 1 hour of said dosage form in 900ml of Simulated Gastric Fluid using a USP Type II (paddle) apparatus at 75 rpm at 37 degrees C wherein said agonist and antagonist are interdispersed and are not isolated from each other in two distinct layers.\n",
      "[101, 21362, 2003, 2019, 8700, 9998, 4270, 2433, 9605, 102]\n",
      "['[CLS]', 'disclosed', 'is', 'an', 'oral', 'dos', '##age', 'form', 'comprising', '[SEP]']\n"
     ]
    }
   ],
   "source": [
    "text = dataset[\"abstract\"][0]\n",
    "print(text)\n",
    "enc_text = tokenizer.encode(text, max_length=10)\n",
    "print(enc_text)\n",
    "dec_text = tokenizer.convert_ids_to_tokens(enc_text)\n",
    "print(dec_text)\n"
   ],
   "metadata": {
    "collapsed": false,
    "pycharm": {
     "name": "#%%\n"
    }
   }
  }
 ],
 "metadata": {
  "kernelspec": {
   "display_name": "Python 3",
   "language": "python",
   "name": "python3"
  },
  "language_info": {
   "codemirror_mode": {
    "name": "ipython",
    "version": 2
   },
   "file_extension": ".py",
   "mimetype": "text/x-python",
   "name": "python",
   "nbconvert_exporter": "python",
   "pygments_lexer": "ipython2",
   "version": "2.7.6"
  }
 },
 "nbformat": 4,
 "nbformat_minor": 0
}