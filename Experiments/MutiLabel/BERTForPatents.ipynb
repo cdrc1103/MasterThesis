{
 "cells": [
  {
   "cell_type": "markdown",
   "metadata": {},
   "source": [
    "[![Open In Colab](https://colab.research.google.com/assets/colab-badge.svg)](https://colab.research.google.com/github/cdrc1103/MasterThesis/blob/master/Experiments/MutiLabel/BERTForPatents.ipynb)"
   ]
  },
  {
   "cell_type": "markdown",
   "metadata": {
    "id": "QZfYS_c4AvIL"
   },
   "source": [
    "### Setup Notebook"
   ]
  },
  {
   "cell_type": "code",
   "execution_count": 1,
   "metadata": {
    "colab": {
     "base_uri": "https://localhost:8080/"
    },
    "executionInfo": {
     "elapsed": 14187,
     "status": "ok",
     "timestamp": 1624624655916,
     "user": {
      "displayName": "Cedric Issel",
      "photoUrl": "",
      "userId": "07537599327357681724"
     },
     "user_tz": -120
    },
    "id": "4kryQhZfMxu2",
    "outputId": "aa16215b-45a6-4d29-c9c2-79c933fa5e58"
   },
   "outputs": [
    {
     "name": "stdout",
     "output_type": "stream",
     "text": [
      "INFO:tensorflow:Initializing the TPU system: grpc://10.10.58.234:8470\n"
     ]
    },
    {
     "name": "stderr",
     "output_type": "stream",
     "text": [
      "INFO:tensorflow:Initializing the TPU system: grpc://10.10.58.234:8470\n"
     ]
    },
    {
     "name": "stdout",
     "output_type": "stream",
     "text": [
      "INFO:tensorflow:Clearing out eager caches\n"
     ]
    },
    {
     "name": "stderr",
     "output_type": "stream",
     "text": [
      "INFO:tensorflow:Clearing out eager caches\n"
     ]
    },
    {
     "name": "stdout",
     "output_type": "stream",
     "text": [
      "INFO:tensorflow:Finished initializing TPU system.\n"
     ]
    },
    {
     "name": "stderr",
     "output_type": "stream",
     "text": [
      "INFO:tensorflow:Finished initializing TPU system.\n"
     ]
    },
    {
     "name": "stdout",
     "output_type": "stream",
     "text": [
      "All devices:  [LogicalDevice(name='/job:worker/replica:0/task:0/device:TPU:7', device_type='TPU'), LogicalDevice(name='/job:worker/replica:0/task:0/device:TPU:6', device_type='TPU'), LogicalDevice(name='/job:worker/replica:0/task:0/device:TPU:5', device_type='TPU'), LogicalDevice(name='/job:worker/replica:0/task:0/device:TPU:4', device_type='TPU'), LogicalDevice(name='/job:worker/replica:0/task:0/device:TPU:3', device_type='TPU'), LogicalDevice(name='/job:worker/replica:0/task:0/device:TPU:0', device_type='TPU'), LogicalDevice(name='/job:worker/replica:0/task:0/device:TPU:1', device_type='TPU'), LogicalDevice(name='/job:worker/replica:0/task:0/device:TPU:2', device_type='TPU')]\n",
      "INFO:tensorflow:Found TPU system:\n"
     ]
    },
    {
     "name": "stderr",
     "output_type": "stream",
     "text": [
      "INFO:tensorflow:Found TPU system:\n"
     ]
    },
    {
     "name": "stdout",
     "output_type": "stream",
     "text": [
      "INFO:tensorflow:*** Num TPU Cores: 8\n"
     ]
    },
    {
     "name": "stderr",
     "output_type": "stream",
     "text": [
      "INFO:tensorflow:*** Num TPU Cores: 8\n"
     ]
    },
    {
     "name": "stdout",
     "output_type": "stream",
     "text": [
      "INFO:tensorflow:*** Num TPU Workers: 1\n"
     ]
    },
    {
     "name": "stderr",
     "output_type": "stream",
     "text": [
      "INFO:tensorflow:*** Num TPU Workers: 1\n"
     ]
    },
    {
     "name": "stdout",
     "output_type": "stream",
     "text": [
      "INFO:tensorflow:*** Num TPU Cores Per Worker: 8\n"
     ]
    },
    {
     "name": "stderr",
     "output_type": "stream",
     "text": [
      "INFO:tensorflow:*** Num TPU Cores Per Worker: 8\n"
     ]
    },
    {
     "name": "stdout",
     "output_type": "stream",
     "text": [
      "INFO:tensorflow:*** Available Device: _DeviceAttributes(/job:localhost/replica:0/task:0/device:CPU:0, CPU, 0, 0)\n"
     ]
    },
    {
     "name": "stderr",
     "output_type": "stream",
     "text": [
      "INFO:tensorflow:*** Available Device: _DeviceAttributes(/job:localhost/replica:0/task:0/device:CPU:0, CPU, 0, 0)\n"
     ]
    },
    {
     "name": "stdout",
     "output_type": "stream",
     "text": [
      "INFO:tensorflow:*** Available Device: _DeviceAttributes(/job:worker/replica:0/task:0/device:CPU:0, CPU, 0, 0)\n"
     ]
    },
    {
     "name": "stderr",
     "output_type": "stream",
     "text": [
      "INFO:tensorflow:*** Available Device: _DeviceAttributes(/job:worker/replica:0/task:0/device:CPU:0, CPU, 0, 0)\n"
     ]
    },
    {
     "name": "stdout",
     "output_type": "stream",
     "text": [
      "INFO:tensorflow:*** Available Device: _DeviceAttributes(/job:worker/replica:0/task:0/device:TPU:0, TPU, 0, 0)\n"
     ]
    },
    {
     "name": "stderr",
     "output_type": "stream",
     "text": [
      "INFO:tensorflow:*** Available Device: _DeviceAttributes(/job:worker/replica:0/task:0/device:TPU:0, TPU, 0, 0)\n"
     ]
    },
    {
     "name": "stdout",
     "output_type": "stream",
     "text": [
      "INFO:tensorflow:*** Available Device: _DeviceAttributes(/job:worker/replica:0/task:0/device:TPU:1, TPU, 0, 0)\n"
     ]
    },
    {
     "name": "stderr",
     "output_type": "stream",
     "text": [
      "INFO:tensorflow:*** Available Device: _DeviceAttributes(/job:worker/replica:0/task:0/device:TPU:1, TPU, 0, 0)\n"
     ]
    },
    {
     "name": "stdout",
     "output_type": "stream",
     "text": [
      "INFO:tensorflow:*** Available Device: _DeviceAttributes(/job:worker/replica:0/task:0/device:TPU:2, TPU, 0, 0)\n"
     ]
    },
    {
     "name": "stderr",
     "output_type": "stream",
     "text": [
      "INFO:tensorflow:*** Available Device: _DeviceAttributes(/job:worker/replica:0/task:0/device:TPU:2, TPU, 0, 0)\n"
     ]
    },
    {
     "name": "stdout",
     "output_type": "stream",
     "text": [
      "INFO:tensorflow:*** Available Device: _DeviceAttributes(/job:worker/replica:0/task:0/device:TPU:3, TPU, 0, 0)\n"
     ]
    },
    {
     "name": "stderr",
     "output_type": "stream",
     "text": [
      "INFO:tensorflow:*** Available Device: _DeviceAttributes(/job:worker/replica:0/task:0/device:TPU:3, TPU, 0, 0)\n"
     ]
    },
    {
     "name": "stdout",
     "output_type": "stream",
     "text": [
      "INFO:tensorflow:*** Available Device: _DeviceAttributes(/job:worker/replica:0/task:0/device:TPU:4, TPU, 0, 0)\n"
     ]
    },
    {
     "name": "stderr",
     "output_type": "stream",
     "text": [
      "INFO:tensorflow:*** Available Device: _DeviceAttributes(/job:worker/replica:0/task:0/device:TPU:4, TPU, 0, 0)\n"
     ]
    },
    {
     "name": "stdout",
     "output_type": "stream",
     "text": [
      "INFO:tensorflow:*** Available Device: _DeviceAttributes(/job:worker/replica:0/task:0/device:TPU:5, TPU, 0, 0)\n"
     ]
    },
    {
     "name": "stderr",
     "output_type": "stream",
     "text": [
      "INFO:tensorflow:*** Available Device: _DeviceAttributes(/job:worker/replica:0/task:0/device:TPU:5, TPU, 0, 0)\n"
     ]
    },
    {
     "name": "stdout",
     "output_type": "stream",
     "text": [
      "INFO:tensorflow:*** Available Device: _DeviceAttributes(/job:worker/replica:0/task:0/device:TPU:6, TPU, 0, 0)\n"
     ]
    },
    {
     "name": "stderr",
     "output_type": "stream",
     "text": [
      "INFO:tensorflow:*** Available Device: _DeviceAttributes(/job:worker/replica:0/task:0/device:TPU:6, TPU, 0, 0)\n"
     ]
    },
    {
     "name": "stdout",
     "output_type": "stream",
     "text": [
      "INFO:tensorflow:*** Available Device: _DeviceAttributes(/job:worker/replica:0/task:0/device:TPU:7, TPU, 0, 0)\n"
     ]
    },
    {
     "name": "stderr",
     "output_type": "stream",
     "text": [
      "INFO:tensorflow:*** Available Device: _DeviceAttributes(/job:worker/replica:0/task:0/device:TPU:7, TPU, 0, 0)\n"
     ]
    },
    {
     "name": "stdout",
     "output_type": "stream",
     "text": [
      "INFO:tensorflow:*** Available Device: _DeviceAttributes(/job:worker/replica:0/task:0/device:TPU_SYSTEM:0, TPU_SYSTEM, 0, 0)\n"
     ]
    },
    {
     "name": "stderr",
     "output_type": "stream",
     "text": [
      "INFO:tensorflow:*** Available Device: _DeviceAttributes(/job:worker/replica:0/task:0/device:TPU_SYSTEM:0, TPU_SYSTEM, 0, 0)\n"
     ]
    },
    {
     "name": "stdout",
     "output_type": "stream",
     "text": [
      "INFO:tensorflow:*** Available Device: _DeviceAttributes(/job:worker/replica:0/task:0/device:XLA_CPU:0, XLA_CPU, 0, 0)\n"
     ]
    },
    {
     "name": "stderr",
     "output_type": "stream",
     "text": [
      "INFO:tensorflow:*** Available Device: _DeviceAttributes(/job:worker/replica:0/task:0/device:XLA_CPU:0, XLA_CPU, 0, 0)\n"
     ]
    }
   ],
   "source": [
    "import tensorflow as tf\n",
    "import os\n",
    "\n",
    "TPU_WORKER = 'grpc://' + os.environ['COLAB_TPU_ADDR']\n",
    "resolver = tf.distribute.cluster_resolver.TPUClusterResolver(tpu=TPU_WORKER)\n",
    "tf.config.experimental_connect_to_cluster(resolver)\n",
    "# This is the TPU initialization code that has to be at the beginning.\n",
    "tf.tpu.experimental.initialize_tpu_system(resolver)\n",
    "print(\"All devices: \", tf.config.list_logical_devices('TPU'))\n",
    "strategy = tf.distribute.TPUStrategy(resolver)"
   ]
  },
  {
   "cell_type": "code",
   "execution_count": 2,
   "metadata": {
    "executionInfo": {
     "elapsed": 21699,
     "status": "ok",
     "timestamp": 1624624677596,
     "user": {
      "displayName": "Cedric Issel",
      "photoUrl": "",
      "userId": "07537599327357681724"
     },
     "user_tz": -120
    },
    "id": "fJCzGfbwJvjM"
   },
   "outputs": [],
   "source": [
    "%%capture\n",
    "%matplotlib inline\n",
    "!pip install wandb\n",
    "!pip install -qq transformers\n",
    "!pip install datasets"
   ]
  },
  {
   "cell_type": "code",
   "execution_count": 3,
   "metadata": {
    "colab": {
     "base_uri": "https://localhost:8080/"
    },
    "executionInfo": {
     "elapsed": 553752,
     "status": "ok",
     "timestamp": 1624625231334,
     "user": {
      "displayName": "Cedric Issel",
      "photoUrl": "",
      "userId": "07537599327357681724"
     },
     "user_tz": -120
    },
    "id": "bd8hN16VJ72r",
    "outputId": "add82a90-ad8a-4bc5-a1be-0b1fe854e047"
   },
   "outputs": [
    {
     "name": "stdout",
     "output_type": "stream",
     "text": [
      "Mounted at /content/gdrive\n"
     ]
    }
   ],
   "source": [
    "from google.colab import drive\n",
    "drive.mount('/content/gdrive', force_remount=True)"
   ]
  },
  {
   "cell_type": "markdown",
   "metadata": {
    "id": "XjrnXGQYA5Mg"
   },
   "source": [
    "## Data & Parameters\n",
    "\n"
   ]
  },
  {
   "cell_type": "code",
   "execution_count": 4,
   "metadata": {
    "colab": {
     "base_uri": "https://localhost:8080/"
    },
    "executionInfo": {
     "elapsed": 4857,
     "status": "ok",
     "timestamp": 1624625236168,
     "user": {
      "displayName": "Cedric Issel",
      "photoUrl": "",
      "userId": "07537599327357681724"
     },
     "user_tz": -120
    },
    "id": "KSUYkbL8G0Vh",
    "outputId": "978eb9cb-efc3-4711-e62e-90f303f058bf"
   },
   "outputs": [
    {
     "name": "stdout",
     "output_type": "stream",
     "text": [
      "Train data set:168245 instances\n",
      "Test data set:34100 instances\n"
     ]
    }
   ],
   "source": [
    "import json\n",
    "from pathlib import Path\n",
    "import pandas as pd\n",
    "\n",
    "RUN_ID = \"2.2_A5000MIX\"\n",
    "BASE_DIR = Path(f\"gdrive/MyDrive/Colab Notebooks/Thesis\")\n",
    "RUN_DIR = BASE_DIR / \"MultiLabel/Runs\"\n",
    "\n",
    "# Load parameters\n",
    "class Parameter():\n",
    "  def __init__(self):\n",
    "    self.__dict__ = {\n",
    "      \"project_name\": \"thesis_multi-label\",\n",
    "      \"train_dataset\": \"train_A5000MIX.csv\",\n",
    "      \"test_dataset\": \"test_A5000MIX.csv\",\n",
    "      \"embedding_dataset\": \"bert-for-patents\",\n",
    "      \"max_tokens\": 39000, # vocabulary size\n",
    "      \"embedding_dim\": 1024,\n",
    "      \"batch_size\": 32,\n",
    "      \"learning_rate\": 3e-5,\n",
    "      \"epochs\": 2,\n",
    "      \"seed\": 1, # random seed for reproducability\n",
    "      \"logging\": True, # whether to log to the wandb database (True) or to disk (False)\n",
    "      \"n_classes\": 18,\n",
    "      \"in_feature\": \"abstract\", # feature used for training\n",
    "      \"max_token_length\": 30, # number of words/subwords, an instance is truncated to\n",
    "      \"out_feature\": \"label\", # feature to predict\n",
    "      \"output_size\": 1024, # output size of the language processing layer, i.e. the CNN, GRU etc. layer\n",
    "      \"dropout_rate\": 0.1, # for regularization\n",
    "      \"threshold\": 0.5,\n",
    "      \"add_special_token\": None, # add indicator for patent part as special token, can be: None, abstract, invention, claim, summary, cpc\n",
    "    }\n",
    "\n",
    "# Save to disk          \n",
    "PARAMS = Parameter()\n",
    "with open(RUN_DIR / f\"{RUN_ID}.json\", \"w\") as f:\n",
    "  json.dump(PARAMS.__dict__, f)\n",
    "\n",
    "# Read data sets\n",
    "train_df = pd.read_csv(BASE_DIR / PARAMS.train_dataset, index_col=0)\n",
    "train_df = train_df.sample(frac=1, random_state=PARAMS.seed)\n",
    "x_train = train_df[PARAMS.in_feature]\n",
    "y_train = train_df[train_df.columns.difference([PARAMS.in_feature], sort=False)].to_numpy()\n",
    "test_df = pd.read_csv(BASE_DIR / PARAMS.test_dataset, index_col=0)\n",
    "test_df = test_df.sample(frac=1, random_state=PARAMS.seed)\n",
    "x_test = test_df[PARAMS.in_feature]\n",
    "y_test = test_df[test_df.columns.difference([PARAMS.in_feature], sort=False)].to_numpy()\n",
    "\n",
    "# Print stats\n",
    "print(f\"Train data set:{len(train_df)} instances\")\n",
    "print(f\"Test data set:{len(test_df)} instances\")"
   ]
  },
  {
   "cell_type": "markdown",
   "metadata": {
    "id": "fxkr8VbgTtl4"
   },
   "source": [
    "## Configure logging"
   ]
  },
  {
   "cell_type": "code",
   "execution_count": 5,
   "metadata": {
    "colab": {
     "base_uri": "https://localhost:8080/",
     "height": 191
    },
    "executionInfo": {
     "elapsed": 32634,
     "status": "ok",
     "timestamp": 1624625268780,
     "user": {
      "displayName": "Cedric Issel",
      "photoUrl": "",
      "userId": "07537599327357681724"
     },
     "user_tz": -120
    },
    "id": "R-5Yz7jHTo3W",
    "outputId": "dc18ff61-c106-4e52-f1ca-4fee5f21c778"
   },
   "outputs": [
    {
     "name": "stdout",
     "output_type": "stream",
     "text": [
      "\u001b[34m\u001b[1mwandb\u001b[0m: You can find your API key in your browser here: https://wandb.ai/authorize\n",
      "\u001b[34m\u001b[1mwandb\u001b[0m: Paste an API key from your profile and hit enter: \n",
      "\u001b[34m\u001b[1mwandb\u001b[0m: Appending key for api.wandb.ai to your netrc file: /root/.netrc\n"
     ]
    },
    {
     "name": "stderr",
     "output_type": "stream",
     "text": [
      "\u001b[34m\u001b[1mwandb\u001b[0m: Currently logged in as: \u001b[33mcdrc1103\u001b[0m (use `wandb login --relogin` to force relogin)\n"
     ]
    },
    {
     "data": {
      "text/html": [
       "\n",
       "                Tracking run with wandb version 0.10.32<br/>\n",
       "                Syncing run <strong style=\"color:#cdcd00\">chocolate-smoke-39</strong> to <a href=\"https://wandb.ai\" target=\"_blank\">Weights & Biases</a> <a href=\"https://docs.wandb.com/integrations/jupyter.html\" target=\"_blank\">(Documentation)</a>.<br/>\n",
       "                Project page: <a href=\"https://wandb.ai/cdrc1103/thesis_multi-label\" target=\"_blank\">https://wandb.ai/cdrc1103/thesis_multi-label</a><br/>\n",
       "                Run page: <a href=\"https://wandb.ai/cdrc1103/thesis_multi-label/runs/1qh4cyqn\" target=\"_blank\">https://wandb.ai/cdrc1103/thesis_multi-label/runs/1qh4cyqn</a><br/>\n",
       "                Run data is saved locally in <code>/content/wandb/run-20210625_124745-1qh4cyqn</code><br/><br/>\n",
       "            "
      ],
      "text/plain": [
       "<IPython.core.display.HTML object>"
      ]
     },
     "metadata": {
      "tags": []
     },
     "output_type": "display_data"
    }
   ],
   "source": [
    "# Logging\n",
    "import wandb\n",
    "\n",
    "# log to wandb\n",
    "if PARAMS.logging:\n",
    "    !wandb login\n",
    "    run = wandb.init(project=PARAMS.project_name)\n",
    "    run.name = RUN_ID\n",
    "    log_dir = Path(wandb.run.dir)\n",
    "    wandb.config.update(PARAMS.__dict__)\n",
    "# log to disk\n",
    "else:\n",
    "    log_dir = RUN_DIR"
   ]
  },
  {
   "cell_type": "markdown",
   "metadata": {
    "id": "oilWdVtbYiDd"
   },
   "source": [
    "## Model"
   ]
  },
  {
   "cell_type": "code",
   "execution_count": 6,
   "metadata": {
    "colab": {
     "base_uri": "https://localhost:8080/",
     "height": 116,
     "referenced_widgets": [
      "b337b9a31c5e46458e033a2e80dcadc7",
      "3798327145fa4ca9bc310a4de11871f2",
      "add239caedec48f08d058e19f44ad3d0",
      "cfbdd852eaa44b6bbdb7ed530c75ac16",
      "13a470cfc02e496f8f4ec6358ddcaad0",
      "f8ebd79d83ce432ba40315b4d74f806d",
      "93d22cfd67cf4cc1adbd9d075d4ed60c",
      "3d405128ca5945edb1b77bde5f916d89",
      "9129655e365848ba9aaf7c5439d2098c",
      "e439c9f6558947dab6d08799a0b124c4",
      "2a7023a904ec4023bcd97063ac2e28d4",
      "96e99a176e5d49ab8f0dc70eee05801d",
      "12df7ff6e4074600b897988afe5bac23",
      "d04e57378efe4795a77c2754b38f6a76",
      "7a1ec1729ba949639600a53c6669c86e",
      "4f8c70de74984fc8acb0e68370a60ac0"
     ]
    },
    "executionInfo": {
     "elapsed": 150056,
     "status": "ok",
     "timestamp": 1624625418822,
     "user": {
      "displayName": "Cedric Issel",
      "photoUrl": "",
      "userId": "07537599327357681724"
     },
     "user_tz": -120
    },
    "id": "yAy8wMPlKO9-",
    "outputId": "86678a8b-5cce-4ade-9647-84e4eef57113"
   },
   "outputs": [
    {
     "data": {
      "application/vnd.jupyter.widget-view+json": {
       "model_id": "b337b9a31c5e46458e033a2e80dcadc7",
       "version_major": 2,
       "version_minor": 0
      },
      "text/plain": [
       "HBox(children=(FloatProgress(value=0.0, max=5258.0), HTML(value='')))"
      ]
     },
     "metadata": {
      "tags": []
     },
     "output_type": "display_data"
    },
    {
     "name": "stdout",
     "output_type": "stream",
     "text": [
      "\n"
     ]
    },
    {
     "data": {
      "application/vnd.jupyter.widget-view+json": {
       "model_id": "9129655e365848ba9aaf7c5439d2098c",
       "version_major": 2,
       "version_minor": 0
      },
      "text/plain": [
       "HBox(children=(FloatProgress(value=0.0, max=1066.0), HTML(value='')))"
      ]
     },
     "metadata": {
      "tags": []
     },
     "output_type": "display_data"
    },
    {
     "name": "stdout",
     "output_type": "stream",
     "text": [
      "\n"
     ]
    }
   ],
   "source": [
    "\"\"\" Dependencies \"\"\"\n",
    "import numpy as np\n",
    "import tensorflow as tf\n",
    "from tensorflow.keras.layers import Input, Dropout, Dense\n",
    "from tensorflow.keras.layers.experimental.preprocessing import TextVectorization\n",
    "from tensorflow.keras.models import Model\n",
    "from tensorflow.keras.optimizers import Adam\n",
    "from tensorflow.keras.losses import BinaryCrossentropy\n",
    "from tensorflow.keras.metrics import Precision, Recall\n",
    "from tensorflow.keras.preprocessing.sequence import pad_sequences\n",
    "from tensorflow.keras.utils import plot_model\n",
    "from transformers import TFBertModel, BertTokenizerFast, BertConfig\n",
    "from datasets import Dataset\n",
    "\n",
    "\"\"\" Configure tokenizer \"\"\"\n",
    "config = BertConfig.from_json_file(BASE_DIR/\"bert_for_patents_large_config.json\")\n",
    "config.num_labels=PARAMS.n_classes\n",
    "tokenizer = BertTokenizerFast(BASE_DIR/\"bert_for_patents_vocab_39k.txt\", config=config)\n",
    "if PARAMS.add_special_token:\n",
    "  tokenizer.add_special_tokens({\"additional_special_tokens\": [f\"[{PARAMS.in_feature}]\"]})\n",
    "\n",
    "\"\"\" Create TF datasets \"\"\"\n",
    "\n",
    "if PARAMS.add_special_token:\n",
    "  # Add special tokens\n",
    "  x_train = x_train.apply(lambda x: f\"[{PARAMS.in_feature}] {x}\")\n",
    "  x_test = x_test.apply(lambda x: f\"[{PARAMS.in_feature}] {x}\")\n",
    "\n",
    "# Aggregate features\n",
    "x_train = Dataset.from_pandas(pd.DataFrame(x_train))\n",
    "x_test = Dataset.from_pandas(pd.DataFrame(x_test))\n",
    "\n",
    "# Tokenize\n",
    "def tokenize(batch):\n",
    "    return tokenizer(batch[PARAMS.in_feature], truncation=True, padding=True, max_length=PARAMS.max_token_length)\n",
    "x_train = x_train.map(tokenize, batched=True, batch_size=PARAMS.batch_size)\n",
    "x_test = x_test.map(tokenize, batched=True, batch_size=PARAMS.batch_size)\n",
    "\n",
    "# Transform to tensorflow data set \n",
    "x_train.set_format(type='tensorflow', columns=['attention_mask','input_ids'])\n",
    "x_train = {x: x_train[x].to_tensor(default_value=0) for x in ['input_ids', 'attention_mask']}\n",
    "train_ds = tf.data.Dataset.from_tensor_slices((x_train, y_train)).batch(PARAMS.batch_size)\n",
    "# Transform validation data set\n",
    "x_test.set_format(type='tensorflow', columns=['attention_mask','input_ids'])\n",
    "x_test = {x: x_test[x].to_tensor(default_value=0) for x in ['input_ids', 'attention_mask']}\n",
    "test_ds = tf.data.Dataset.from_tensor_slices((x_test, y_test)).batch(PARAMS.batch_size)\n",
    "\n",
    "\"\"\" Define model architecture \"\"\"\n",
    "def build_model():\n",
    "  input_ids = Input(shape=PARAMS.max_token_length, name='input_ids', dtype='int32')\n",
    "  attention_mask = Input(shape=PARAMS.max_token_length, name='attention_mask', dtype='int32')\n",
    "  transformer_model = TFBertModel.from_pretrained(BASE_DIR/\"pytorch_model.bin\", config=config, from_pt=True)\n",
    "  embedding = transformer_model.layers[0](input_ids, attention_mask=attention_mask)[1]\n",
    "  dropout = Dropout(PARAMS.dropout_rate)(embedding)\n",
    "  output = Dense(PARAMS.n_classes, activation='sigmoid')(dropout)\n",
    "  return Model(inputs={\"input_ids\": input_ids, \"attention_mask\": attention_mask}, outputs=output)"
   ]
  },
  {
   "cell_type": "markdown",
   "metadata": {
    "id": "Eg4kGvJ3zQJ6"
   },
   "source": [
    "## Training"
   ]
  },
  {
   "cell_type": "code",
   "execution_count": 7,
   "metadata": {
    "colab": {
     "base_uri": "https://localhost:8080/"
    },
    "executionInfo": {
     "elapsed": 1985340,
     "status": "ok",
     "timestamp": 1624627404149,
     "user": {
      "displayName": "Cedric Issel",
      "photoUrl": "",
      "userId": "07537599327357681724"
     },
     "user_tz": -120
    },
    "id": "KNncK2M-vEAo",
    "outputId": "0ca0451a-ecc0-40f5-f674-a4944d711091"
   },
   "outputs": [
    {
     "name": "stderr",
     "output_type": "stream",
     "text": [
      "Some weights of the PyTorch model were not used when initializing the TF 2.0 model TFBertModel: ['cls.predictions.decoder.bias', 'cls.predictions.transform.LayerNorm.bias', 'cls.seq_relationship.weight', 'cls.predictions.transform.LayerNorm.weight', 'cls.predictions.transform.dense.bias', 'cls.seq_relationship.bias', 'cls.predictions.transform.dense.weight', 'bert.embeddings.position_ids', 'cls.predictions.decoder.weight', 'cls.predictions.bias']\n",
      "- This IS expected if you are initializing TFBertModel from a PyTorch model trained on another task or with another architecture (e.g. initializing a TFBertForSequenceClassification model from a BertForPreTraining model).\n",
      "- This IS NOT expected if you are initializing TFBertModel from a PyTorch model that you expect to be exactly identical (e.g. initializing a TFBertForSequenceClassification model from a BertForSequenceClassification model).\n",
      "All the weights of TFBertModel were initialized from the PyTorch model.\n",
      "If your task is similar to the task the model of the checkpoint was trained on, you can already use TFBertModel for predictions without further training.\n"
     ]
    },
    {
     "name": "stdout",
     "output_type": "stream",
     "text": [
      "WARNING:tensorflow:From /usr/local/lib/python3.7/dist-packages/tensorflow/python/ops/array_ops.py:5049: calling gather (from tensorflow.python.ops.array_ops) with validate_indices is deprecated and will be removed in a future version.\n",
      "Instructions for updating:\n",
      "The `validate_indices` argument has no effect. Indices are always validated on CPU and never validated on GPU.\n"
     ]
    },
    {
     "name": "stderr",
     "output_type": "stream",
     "text": [
      "WARNING:tensorflow:From /usr/local/lib/python3.7/dist-packages/tensorflow/python/ops/array_ops.py:5049: calling gather (from tensorflow.python.ops.array_ops) with validate_indices is deprecated and will be removed in a future version.\n",
      "Instructions for updating:\n",
      "The `validate_indices` argument has no effect. Indices are always validated on CPU and never validated on GPU.\n"
     ]
    },
    {
     "name": "stdout",
     "output_type": "stream",
     "text": [
      "Epoch 1/2\n"
     ]
    },
    {
     "name": "stderr",
     "output_type": "stream",
     "text": [
      "INFO:absl:TPU has inputs with dynamic shapes: [<tf.Tensor 'Const:0' shape=() dtype=int32>, <tf.Tensor 'cond_8/Identity:0' shape=(None, 30) dtype=int64>, <tf.Tensor 'cond_8/Identity_1:0' shape=(None, 30) dtype=int64>, <tf.Tensor 'cond_8/Identity_2:0' shape=(None, 18) dtype=int64>]\n",
      "INFO:absl:TPU has inputs with dynamic shapes: [<tf.Tensor 'Const:0' shape=() dtype=int32>, <tf.Tensor 'cond_8/Identity:0' shape=(None, 30) dtype=int64>, <tf.Tensor 'cond_8/Identity_1:0' shape=(None, 30) dtype=int64>, <tf.Tensor 'cond_8/Identity_2:0' shape=(None, 18) dtype=int64>]\n"
     ]
    },
    {
     "name": "stdout",
     "output_type": "stream",
     "text": [
      "5258/5258 [==============================] - ETA: 0s - loss: 0.1402 - precision: 0.7793 - recall: 0.6208"
     ]
    },
    {
     "name": "stderr",
     "output_type": "stream",
     "text": [
      "INFO:absl:TPU has inputs with dynamic shapes: [<tf.Tensor 'Const:0' shape=() dtype=int32>, <tf.Tensor 'cond_8/Identity:0' shape=(None, 30) dtype=int64>, <tf.Tensor 'cond_8/Identity_1:0' shape=(None, 30) dtype=int64>, <tf.Tensor 'cond_8/Identity_2:0' shape=(None, 18) dtype=int64>]\n"
     ]
    },
    {
     "name": "stdout",
     "output_type": "stream",
     "text": [
      "5258/5258 [==============================] - 1056s 171ms/step - loss: 0.1402 - precision: 0.7793 - recall: 0.6208 - val_loss: 0.1061 - val_precision: 0.7310 - val_recall: 0.6863\n",
      "Epoch 2/2\n",
      "5258/5258 [==============================] - 788s 150ms/step - loss: 0.0852 - precision: 0.8610 - recall: 0.7943 - val_loss: 0.1064 - val_precision: 0.7469 - val_recall: 0.7175\n"
     ]
    }
   ],
   "source": [
    "from tensorflow.keras.callbacks import TensorBoard\n",
    "from wandb.keras import WandbCallback\n",
    "\n",
    "\"\"\" Transfer to TPU \"\"\"\n",
    "with strategy.scope():\n",
    "  model = build_model()\n",
    "  optimizer = tf.keras.optimizers.Adam(learning_rate=PARAMS.learning_rate, epsilon=1e-08, clipnorm=1.0)\n",
    "  loss = BinaryCrossentropy()\n",
    "  metrics = [\n",
    "    Precision(name='precision', thresholds=PARAMS.threshold), # Precision is the percentage of predicted positives that were correctly classified\n",
    "    Recall(name='recall', thresholds=PARAMS.threshold), # Recall is the percentage of actual positives that were correctly classified\n",
    "  ]\n",
    "  model.compile(optimizer=optimizer, loss=loss, metrics=metrics)\n",
    "\n",
    "  # train the model\n",
    "  history = model.fit(\n",
    "    x=train_ds,\n",
    "    epochs=PARAMS.epochs,\n",
    "    verbose=1,\n",
    "    validation_data=test_ds\n",
    "    )\n",
    "\n",
    "pd.DataFrame(history.history).to_csv(log_dir/\"history.csv\")"
   ]
  },
  {
   "cell_type": "code",
   "execution_count": 8,
   "metadata": {
    "colab": {
     "base_uri": "https://localhost:8080/"
    },
    "executionInfo": {
     "elapsed": 36,
     "status": "ok",
     "timestamp": 1624627404152,
     "user": {
      "displayName": "Cedric Issel",
      "photoUrl": "",
      "userId": "07537599327357681724"
     },
     "user_tz": -120
    },
    "id": "ZTQ7qAxVyzx0",
    "outputId": "c6381f4f-e41c-4a4d-9926-15e0f6460833"
   },
   "outputs": [
    {
     "name": "stdout",
     "output_type": "stream",
     "text": [
      "Model: \"model\"\n",
      "__________________________________________________________________________________________________\n",
      "Layer (type)                    Output Shape         Param #     Connected to                     \n",
      "==================================================================================================\n",
      "input_ids (InputLayer)          [(None, 30)]         0                                            \n",
      "__________________________________________________________________________________________________\n",
      "attention_mask (InputLayer)     [(None, 30)]         0                                            \n",
      "__________________________________________________________________________________________________\n",
      "bert (TFBertMainLayer)          TFBaseModelOutputWit 344702976   input_ids[0][0]                  \n",
      "                                                                 attention_mask[0][0]             \n",
      "__________________________________________________________________________________________________\n",
      "dropout_73 (Dropout)            (None, 1024)         0           bert[0][1]                       \n",
      "__________________________________________________________________________________________________\n",
      "dense (Dense)                   (None, 18)           18450       dropout_73[0][0]                 \n",
      "==================================================================================================\n",
      "Total params: 344,721,426\n",
      "Trainable params: 344,721,426\n",
      "Non-trainable params: 0\n",
      "__________________________________________________________________________________________________\n",
      "None\n"
     ]
    }
   ],
   "source": [
    "from contextlib import redirect_stdout\n",
    "\n",
    "\"\"\" Generate model summary \"\"\"\n",
    "print(model.summary())\n",
    "with open(log_dir/'model_summary.txt', 'w') as file:\n",
    "    # Pass the file handle in as a lambda function to make it callable\n",
    "    model.summary(print_fn=lambda x: file.write(x + '\\n'))"
   ]
  },
  {
   "cell_type": "markdown",
   "metadata": {
    "id": "SPXL4D8e1Ne5"
   },
   "source": [
    "## Evaluate"
   ]
  },
  {
   "cell_type": "code",
   "execution_count": 9,
   "metadata": {
    "executionInfo": {
     "elapsed": 924,
     "status": "ok",
     "timestamp": 1624627405063,
     "user": {
      "displayName": "Cedric Issel",
      "photoUrl": "",
      "userId": "07537599327357681724"
     },
     "user_tz": -120
    },
    "id": "uqa0yf5jGo0n"
   },
   "outputs": [],
   "source": [
    "import matplotlib.pyplot as plt\n",
    "import numpy as np\n",
    "from sklearn.metrics import confusion_matrix, classification_report, brier_score_loss, roc_curve, auc, precision_recall_curve, average_precision_score\n",
    "import seaborn as sns\n",
    "import math"
   ]
  },
  {
   "cell_type": "code",
   "execution_count": 10,
   "metadata": {
    "colab": {
     "base_uri": "https://localhost:8080/"
    },
    "executionInfo": {
     "elapsed": 44864,
     "status": "ok",
     "timestamp": 1624627449925,
     "user": {
      "displayName": "Cedric Issel",
      "photoUrl": "",
      "userId": "07537599327357681724"
     },
     "user_tz": -120
    },
    "id": "cyZE4sdH1LRk",
    "outputId": "10e1a7b1-9b88-47d4-f697-4dd062ac25e8"
   },
   "outputs": [
    {
     "name": "stderr",
     "output_type": "stream",
     "text": [
      "INFO:absl:TPU has inputs with dynamic shapes: [<tf.Tensor 'Const:0' shape=() dtype=int32>, <tf.Tensor 'cond_8/Identity:0' shape=(None, 30) dtype=int64>, <tf.Tensor 'cond_8/Identity_1:0' shape=(None, 30) dtype=int64>, <tf.Tensor 'cond_8/Identity_2:0' shape=(None, 18) dtype=int64>]\n"
     ]
    },
    {
     "name": "stdout",
     "output_type": "stream",
     "text": [
      "1066/1066 [==============================] - 44s 35ms/step\n"
     ]
    }
   ],
   "source": [
    "# Get predictions on test dataset\n",
    "with strategy.scope():\n",
    "  predictions = model.predict(\n",
    "      x=test_ds,\n",
    "      verbose=1,\n",
    "      batch_size=PARAMS.batch_size\n",
    "  ) # Probability distribution over the labels\n",
    "np.savetxt(log_dir/\"predictions.txt\", predictions)"
   ]
  },
  {
   "cell_type": "code",
   "execution_count": 11,
   "metadata": {
    "executionInfo": {
     "elapsed": 329,
     "status": "ok",
     "timestamp": 1624627450246,
     "user": {
      "displayName": "Cedric Issel",
      "photoUrl": "",
      "userId": "07537599327357681724"
     },
     "user_tz": -120
    },
    "id": "MYPafVYuAArr"
   },
   "outputs": [],
   "source": [
    "ptopk = predictions.copy()\n",
    "ptopk[ptopk > PARAMS.threshold] = 1\n",
    "ptopk[ptopk <= PARAMS.threshold] = 0\n",
    "\n",
    "metric_funcs = {\n",
    "    \"Precision\": Precision(name='precision', thresholds=PARAMS.threshold), # Precision is the percentage of predicted positives that were correctly classified\n",
    "    \"Recall\": Recall(name='recall', thresholds=PARAMS.threshold) # Recall is the percentage of actual positives that were correctly classified\n",
    "}\n",
    "\n",
    "metric_results ={}\n",
    "for key, m in metric_funcs.items():\n",
    "    m.update_state(y_test, ptopk)\n",
    "    metric_results[key] = m.result().numpy()\n",
    "if PARAMS.logging:\n",
    "  wandb.log(metric_results)"
   ]
  },
  {
   "cell_type": "code",
   "execution_count": 12,
   "metadata": {
    "executionInfo": {
     "elapsed": 28,
     "status": "ok",
     "timestamp": 1624627450250,
     "user": {
      "displayName": "Cedric Issel",
      "photoUrl": "",
      "userId": "07537599327357681724"
     },
     "user_tz": -120
    },
    "id": "CMh8scc6FB_Q"
   },
   "outputs": [],
   "source": [
    "# Hamming loss\n",
    "def hamming_loss(pred_topk, truth):\n",
    "    equals = pred_topk - truth\n",
    "    equals = np.sum(1 - np.isin(equals, 0))\n",
    "    return 1/(truth.shape[0]*truth.shape[1])*equals\n",
    "if PARAMS.logging:\n",
    "  wandb.log({\"hamming_loss\": hamming_loss(ptopk, y_test)})\n"
   ]
  },
  {
   "cell_type": "code",
   "execution_count": 13,
   "metadata": {
    "executionInfo": {
     "elapsed": 25,
     "status": "ok",
     "timestamp": 1624627450253,
     "user": {
      "displayName": "Cedric Issel",
      "photoUrl": "",
      "userId": "07537599327357681724"
     },
     "user_tz": -120
    },
    "id": "cBWEcz-IFDK2"
   },
   "outputs": [],
   "source": [
    "# Exact match\n",
    "def exact_match(pred_topk, truth):\n",
    "    equals = pred_topk - truth\n",
    "    equals = np.sum(equals, axis=1)\n",
    "    return 1 - (np.count_nonzero(equals) / truth.shape[0])\n",
    "if PARAMS.logging:\n",
    "  wandb.log({\"exact_match\": exact_match(ptopk, y_test)})"
   ]
  },
  {
   "cell_type": "code",
   "execution_count": 14,
   "metadata": {
    "colab": {
     "base_uri": "https://localhost:8080/",
     "height": 334
    },
    "executionInfo": {
     "elapsed": 584,
     "status": "ok",
     "timestamp": 1624627450817,
     "user": {
      "displayName": "Cedric Issel",
      "photoUrl": "",
      "userId": "07537599327357681724"
     },
     "user_tz": -120
    },
    "id": "aDikodZYGXge",
    "outputId": "865884b8-85a9-4cd0-be30-8f2be81c3693"
   },
   "outputs": [
    {
     "data": {
      "image/png": "[encoded data removed]",
      "text/plain": [
       "<Figure size 720x360 with 1 Axes>"
      ]
     },
     "metadata": {
      "needs_background": "light",
      "tags": []
     },
     "output_type": "display_data"
    }
   ],
   "source": [
    "def count_labels(pred_topk, truth):\n",
    "    # difference between number of predicted and true labels\n",
    "    pred_sum = np.sum(pred_topk, 1)\n",
    "    truth_sum = np.sum(truth, 1)\n",
    "    fig, ax = plt.subplots(figsize=(10,5))\n",
    "    width = 0.4\n",
    "    pred_labels, pred_counts = np.unique(pred_sum, return_counts=True)\n",
    "    pred_labels = pred_labels.astype(int)\n",
    "    truth_labels, truth_counts = np.unique(truth_sum, return_counts=True)\n",
    "    all_labels = np.arange(0, max(max(pred_labels), max(truth_labels))+1)\n",
    "    new_pred_counts = np.zeros(len(all_labels))\n",
    "    new_pred_counts[pred_labels] = pred_counts\n",
    "    new_truth_counts = np.zeros(len(all_labels))\n",
    "    new_truth_counts[truth_labels] = truth_counts \n",
    "    bars1 = ax.bar(all_labels - width/2, new_pred_counts, width=width, align='center')\n",
    "    bars2 = ax.bar(all_labels + width/2, new_truth_counts, width=width, align='center')\n",
    "    ax.set_xticks(all_labels)\n",
    "    plt.legend([\"Prediction\", \"Truth\"])\n",
    "    plt.xlabel(\"Labels per Patent\")\n",
    "    plt.ylabel(\"Number of Patents\")\n",
    "\n",
    "    def autolabel(rects):\n",
    "        \"\"\"Attach a text label above each bar in *rects*, displaying its height.\"\"\"\n",
    "        for rect in rects:\n",
    "            height = rect.get_height()\n",
    "            ax.annotate('{}'.format(int(height)),\n",
    "                        xy=(rect.get_x() + rect.get_width() / 2, height),\n",
    "                        xytext=(0, 3),  # 3 points vertical offset\n",
    "                        textcoords=\"offset points\",\n",
    "                        ha='center', va='bottom')\n",
    "    autolabel(bars1)\n",
    "    autolabel(bars2)\n",
    "    plt.savefig(log_dir/\"label_counts.png\", dpi=150)\n",
    "count_labels(ptopk, y_test)"
   ]
  },
  {
   "cell_type": "code",
   "execution_count": 15,
   "metadata": {
    "colab": {
     "base_uri": "https://localhost:8080/",
     "height": 623
    },
    "executionInfo": {
     "elapsed": 4100,
     "status": "ok",
     "timestamp": 1624627454904,
     "user": {
      "displayName": "Cedric Issel",
      "photoUrl": "",
      "userId": "07537599327357681724"
     },
     "user_tz": -120
    },
    "id": "T49dIRh4HLrV",
    "outputId": "cd2b7fc7-a22a-4d65-d7af-5d5fcf06b824"
   },
   "outputs": [
    {
     "data": {
      "image/png": "[encoded data removed]",
      "text/plain": [
       "<Figure size 1440x360 with 2 Axes>"
      ]
     },
     "metadata": {
      "needs_background": "light",
      "tags": []
     },
     "output_type": "display_data"
    },
    {
     "data": {
      "image/png": "[encoded data removed]",
      "text/plain": [
       "<Figure size 1440x360 with 2 Axes>"
      ]
     },
     "metadata": {
      "needs_background": "light",
      "tags": []
     },
     "output_type": "display_data"
    }
   ],
   "source": [
    "def plot_prediction_probs(pred_raw):\n",
    "    # full set of predictions\n",
    "    pic = pred_raw.transpose()\n",
    "    fig = plt.figure(figsize=(20,5))\n",
    "    im = plt.imshow(pic, aspect='auto')\n",
    "    plt.colorbar(im)\n",
    "    plt.savefig(log_dir/\"prediction_probs.png\", dpi=150)\n",
    "\n",
    "    # subset of randomly selected predictions\n",
    "    ids = np.random.randint(0,len(pred_raw),100)\n",
    "    pic = pred_raw[ids,:].transpose()\n",
    "    fig = plt.figure(figsize=(20,5))\n",
    "    im = plt.imshow(pic, aspect='auto')\n",
    "    plt.colorbar(im)\n",
    "    plt.savefig(log_dir/\"prediction_probs_100.png\", dpi=150)\n",
    "plot_prediction_probs(predictions)"
   ]
  },
  {
   "cell_type": "code",
   "execution_count": 16,
   "metadata": {
    "colab": {
     "base_uri": "https://localhost:8080/",
     "height": 794
    },
    "executionInfo": {
     "elapsed": 13,
     "status": "ok",
     "timestamp": 1624627454905,
     "user": {
      "displayName": "Cedric Issel",
      "photoUrl": "",
      "userId": "07537599327357681724"
     },
     "user_tz": -120
    },
    "id": "bMUSPtPVHrEz",
    "outputId": "0db849e1-9cde-48f1-8e4f-c91deb11f8a7"
   },
   "outputs": [
    {
     "name": "stderr",
     "output_type": "stream",
     "text": [
      "/usr/local/lib/python3.7/dist-packages/sklearn/metrics/_classification.py:1272: UndefinedMetricWarning: Precision and F-score are ill-defined and being set to 0.0 in samples with no predicted labels. Use `zero_division` parameter to control this behavior.\n",
      "  _warn_prf(average, modifier, msg_start, len(result))\n"
     ]
    },
    {
     "data": {
      "text/html": [
       "<div>\n",
       "<style scoped>\n",
       "    .dataframe tbody tr th:only-of-type {\n",
       "        vertical-align: middle;\n",
       "    }\n",
       "\n",
       "    .dataframe tbody tr th {\n",
       "        vertical-align: top;\n",
       "    }\n",
       "\n",
       "    .dataframe thead th {\n",
       "        text-align: right;\n",
       "    }\n",
       "</style>\n",
       "<table border=\"1\" class=\"dataframe\">\n",
       "  <thead>\n",
       "    <tr style=\"text-align: right;\">\n",
       "      <th></th>\n",
       "      <th>precision</th>\n",
       "      <th>recall</th>\n",
       "      <th>f1-score</th>\n",
       "      <th>support</th>\n",
       "    </tr>\n",
       "  </thead>\n",
       "  <tbody>\n",
       "    <tr>\n",
       "      <th>0</th>\n",
       "      <td>0.75</td>\n",
       "      <td>0.53</td>\n",
       "      <td>0.62</td>\n",
       "      <td>6817.0</td>\n",
       "    </tr>\n",
       "    <tr>\n",
       "      <th>1</th>\n",
       "      <td>0.79</td>\n",
       "      <td>0.77</td>\n",
       "      <td>0.78</td>\n",
       "      <td>10321.0</td>\n",
       "    </tr>\n",
       "    <tr>\n",
       "      <th>2</th>\n",
       "      <td>0.68</td>\n",
       "      <td>0.71</td>\n",
       "      <td>0.69</td>\n",
       "      <td>6934.0</td>\n",
       "    </tr>\n",
       "    <tr>\n",
       "      <th>3</th>\n",
       "      <td>0.78</td>\n",
       "      <td>0.91</td>\n",
       "      <td>0.84</td>\n",
       "      <td>3610.0</td>\n",
       "    </tr>\n",
       "    <tr>\n",
       "      <th>4</th>\n",
       "      <td>0.81</td>\n",
       "      <td>0.77</td>\n",
       "      <td>0.79</td>\n",
       "      <td>4493.0</td>\n",
       "    </tr>\n",
       "    <tr>\n",
       "      <th>5</th>\n",
       "      <td>0.70</td>\n",
       "      <td>0.84</td>\n",
       "      <td>0.77</td>\n",
       "      <td>2836.0</td>\n",
       "    </tr>\n",
       "    <tr>\n",
       "      <th>6</th>\n",
       "      <td>0.74</td>\n",
       "      <td>0.70</td>\n",
       "      <td>0.72</td>\n",
       "      <td>2739.0</td>\n",
       "    </tr>\n",
       "    <tr>\n",
       "      <th>7</th>\n",
       "      <td>0.71</td>\n",
       "      <td>0.70</td>\n",
       "      <td>0.71</td>\n",
       "      <td>1629.0</td>\n",
       "    </tr>\n",
       "    <tr>\n",
       "      <th>8</th>\n",
       "      <td>0.78</td>\n",
       "      <td>0.77</td>\n",
       "      <td>0.77</td>\n",
       "      <td>1024.0</td>\n",
       "    </tr>\n",
       "    <tr>\n",
       "      <th>9</th>\n",
       "      <td>0.84</td>\n",
       "      <td>0.65</td>\n",
       "      <td>0.73</td>\n",
       "      <td>945.0</td>\n",
       "    </tr>\n",
       "    <tr>\n",
       "      <th>10</th>\n",
       "      <td>0.70</td>\n",
       "      <td>0.68</td>\n",
       "      <td>0.69</td>\n",
       "      <td>456.0</td>\n",
       "    </tr>\n",
       "    <tr>\n",
       "      <th>11</th>\n",
       "      <td>0.65</td>\n",
       "      <td>0.67</td>\n",
       "      <td>0.66</td>\n",
       "      <td>875.0</td>\n",
       "    </tr>\n",
       "    <tr>\n",
       "      <th>12</th>\n",
       "      <td>0.68</td>\n",
       "      <td>0.52</td>\n",
       "      <td>0.59</td>\n",
       "      <td>506.0</td>\n",
       "    </tr>\n",
       "    <tr>\n",
       "      <th>13</th>\n",
       "      <td>0.63</td>\n",
       "      <td>0.49</td>\n",
       "      <td>0.55</td>\n",
       "      <td>410.0</td>\n",
       "    </tr>\n",
       "    <tr>\n",
       "      <th>14</th>\n",
       "      <td>0.61</td>\n",
       "      <td>0.49</td>\n",
       "      <td>0.54</td>\n",
       "      <td>431.0</td>\n",
       "    </tr>\n",
       "    <tr>\n",
       "      <th>15</th>\n",
       "      <td>0.69</td>\n",
       "      <td>0.81</td>\n",
       "      <td>0.74</td>\n",
       "      <td>187.0</td>\n",
       "    </tr>\n",
       "    <tr>\n",
       "      <th>16</th>\n",
       "      <td>0.62</td>\n",
       "      <td>0.41</td>\n",
       "      <td>0.49</td>\n",
       "      <td>93.0</td>\n",
       "    </tr>\n",
       "    <tr>\n",
       "      <th>17</th>\n",
       "      <td>0.94</td>\n",
       "      <td>0.54</td>\n",
       "      <td>0.68</td>\n",
       "      <td>28.0</td>\n",
       "    </tr>\n",
       "    <tr>\n",
       "      <th>micro avg</th>\n",
       "      <td>0.75</td>\n",
       "      <td>0.72</td>\n",
       "      <td>0.73</td>\n",
       "      <td>44334.0</td>\n",
       "    </tr>\n",
       "    <tr>\n",
       "      <th>macro avg</th>\n",
       "      <td>0.73</td>\n",
       "      <td>0.66</td>\n",
       "      <td>0.69</td>\n",
       "      <td>44334.0</td>\n",
       "    </tr>\n",
       "    <tr>\n",
       "      <th>weighted avg</th>\n",
       "      <td>0.75</td>\n",
       "      <td>0.72</td>\n",
       "      <td>0.73</td>\n",
       "      <td>44334.0</td>\n",
       "    </tr>\n",
       "    <tr>\n",
       "      <th>samples avg</th>\n",
       "      <td>0.73</td>\n",
       "      <td>0.73</td>\n",
       "      <td>0.72</td>\n",
       "      <td>44334.0</td>\n",
       "    </tr>\n",
       "  </tbody>\n",
       "</table>\n",
       "</div>"
      ],
      "text/plain": [
       "              precision  recall  f1-score  support\n",
       "0                  0.75    0.53      0.62   6817.0\n",
       "1                  0.79    0.77      0.78  10321.0\n",
       "2                  0.68    0.71      0.69   6934.0\n",
       "3                  0.78    0.91      0.84   3610.0\n",
       "4                  0.81    0.77      0.79   4493.0\n",
       "5                  0.70    0.84      0.77   2836.0\n",
       "6                  0.74    0.70      0.72   2739.0\n",
       "7                  0.71    0.70      0.71   1629.0\n",
       "8                  0.78    0.77      0.77   1024.0\n",
       "9                  0.84    0.65      0.73    945.0\n",
       "10                 0.70    0.68      0.69    456.0\n",
       "11                 0.65    0.67      0.66    875.0\n",
       "12                 0.68    0.52      0.59    506.0\n",
       "13                 0.63    0.49      0.55    410.0\n",
       "14                 0.61    0.49      0.54    431.0\n",
       "15                 0.69    0.81      0.74    187.0\n",
       "16                 0.62    0.41      0.49     93.0\n",
       "17                 0.94    0.54      0.68     28.0\n",
       "micro avg          0.75    0.72      0.73  44334.0\n",
       "macro avg          0.73    0.66      0.69  44334.0\n",
       "weighted avg       0.75    0.72      0.73  44334.0\n",
       "samples avg        0.73    0.73      0.72  44334.0"
      ]
     },
     "execution_count": 16,
     "metadata": {
      "tags": []
     },
     "output_type": "execute_result"
    }
   ],
   "source": [
    "# Calculate metrics per label\n",
    "def create_report(true_label, pred_label, n_classes):\n",
    "  cls_names =[str(cls) for cls in np.arange(0, n_classes)]\n",
    "  cls_report = classification_report(true_label, pred_label, target_names=cls_names, output_dict=True)\n",
    "  return pd.DataFrame(cls_report).round(2).transpose()\n",
    "\n",
    "cls_report = create_report(y_test, ptopk, PARAMS.n_classes)\n",
    "cls_report.to_csv(log_dir/\"cls_report.csv\")\n",
    "if PARAMS.logging:\n",
    "  wandb.log({\"f1-score\": cls_report[\"f1-score\"].to_dict()})\n",
    "cls_report"
   ]
  },
  {
   "cell_type": "markdown",
   "metadata": {
    "id": "Xv4N-nFgb0OT"
   },
   "source": [
    "## Save loggings"
   ]
  },
  {
   "cell_type": "code",
   "execution_count": 17,
   "metadata": {
    "colab": {
     "base_uri": "https://localhost:8080/",
     "height": 593,
     "referenced_widgets": [
      "0e4e67a3122441dba10998cc099f8106",
      "be815f8cb1a145cf847bd23d9a5df255",
      "46a3aa8ac4d84b419527d90efb24eafc",
      "a8b6974cd4fe4ef38948bb8e25bdface",
      "f8d6310bbe2b4c8b9c68e48393b42dec",
      "9ebe217525584488ad4d83cbdb489993",
      "7f0a0bc5fb3c46829ecd76f025640dca",
      "a56b303102b845d8adfd8c4b65e9b1b7"
     ]
    },
    "executionInfo": {
     "elapsed": 13274,
     "status": "ok",
     "timestamp": 1624627468170,
     "user": {
      "displayName": "Cedric Issel",
      "photoUrl": "",
      "userId": "07537599327357681724"
     },
     "user_tz": -120
    },
    "id": "jCtST7oUWcdx",
    "outputId": "26f3fefa-31ac-4c71-d125-bf990134564b"
   },
   "outputs": [
    {
     "data": {
      "text/html": [
       "<br/>Waiting for W&B process to finish, PID 1981<br/>Program ended successfully."
      ],
      "text/plain": [
       "<IPython.core.display.HTML object>"
      ]
     },
     "metadata": {
      "tags": []
     },
     "output_type": "display_data"
    },
    {
     "data": {
      "application/vnd.jupyter.widget-view+json": {
       "model_id": "0e4e67a3122441dba10998cc099f8106",
       "version_major": 2,
       "version_minor": 0
      },
      "text/plain": [
       "VBox(children=(Label(value=' 0.00MB of 0.00MB uploaded (0.00MB deduped)\\r'), FloatProgress(value=1.0, max=1.0)…"
      ]
     },
     "metadata": {
      "tags": []
     },
     "output_type": "display_data"
    },
    {
     "data": {
      "text/html": [
       "Find user logs for this run at: <code>/content/wandb/run-20210625_124745-1qh4cyqn/logs/debug.log</code>"
      ],
      "text/plain": [
       "<IPython.core.display.HTML object>"
      ]
     },
     "metadata": {
      "tags": []
     },
     "output_type": "display_data"
    },
    {
     "data": {
      "text/html": [
       "Find internal logs for this run at: <code>/content/wandb/run-20210625_124745-1qh4cyqn/logs/debug-internal.log</code>"
      ],
      "text/plain": [
       "<IPython.core.display.HTML object>"
      ]
     },
     "metadata": {
      "tags": []
     },
     "output_type": "display_data"
    },
    {
     "data": {
      "text/html": [
       "<h3>Run summary:</h3><br/><style>\n",
       "    table.wandb td:nth-child(1) { padding: 0 10px; text-align: right }\n",
       "    </style><table class=\"wandb\">\n",
       "<tr><td>Precision</td><td>0.74687</td></tr><tr><td>Recall</td><td>0.71749</td></tr><tr><td>_runtime</td><td>2189</td></tr><tr><td>_timestamp</td><td>1624627454</td></tr><tr><td>_step</td><td>3</td></tr><tr><td>hamming_loss</td><td>0.03797</td></tr><tr><td>exact_match</td><td>0.73032</td></tr></table>"
      ],
      "text/plain": [
       "<IPython.core.display.HTML object>"
      ]
     },
     "metadata": {
      "tags": []
     },
     "output_type": "display_data"
    },
    {
     "data": {
      "text/html": [
       "<h3>Run history:</h3><br/><style>\n",
       "    table.wandb td:nth-child(1) { padding: 0 10px; text-align: right }\n",
       "    </style><table class=\"wandb\">\n",
       "<tr><td>Precision</td><td>▁</td></tr><tr><td>Recall</td><td>▁</td></tr><tr><td>_runtime</td><td>▁▁▁█</td></tr><tr><td>_timestamp</td><td>▁▁▁█</td></tr><tr><td>_step</td><td>▁▃▆█</td></tr><tr><td>hamming_loss</td><td>▁</td></tr><tr><td>exact_match</td><td>▁</td></tr></table><br/>"
      ],
      "text/plain": [
       "<IPython.core.display.HTML object>"
      ]
     },
     "metadata": {
      "tags": []
     },
     "output_type": "display_data"
    },
    {
     "data": {
      "text/html": [
       "Synced 5 W&B file(s), 0 media file(s), 0 artifact file(s) and 7 other file(s)"
      ],
      "text/plain": [
       "<IPython.core.display.HTML object>"
      ]
     },
     "metadata": {
      "tags": []
     },
     "output_type": "display_data"
    },
    {
     "data": {
      "text/html": [
       "\n",
       "                    <br/>Synced <strong style=\"color:#cdcd00\">chocolate-smoke-39</strong>: <a href=\"https://wandb.ai/cdrc1103/thesis_multi-label/runs/1qh4cyqn\" target=\"_blank\">https://wandb.ai/cdrc1103/thesis_multi-label/runs/1qh4cyqn</a><br/>\n",
       "                "
      ],
      "text/plain": [
       "<IPython.core.display.HTML object>"
      ]
     },
     "metadata": {
      "tags": []
     },
     "output_type": "display_data"
    }
   ],
   "source": [
    "\"\"\" Submit results \"\"\"\n",
    "if PARAMS.logging:\n",
    "    run.join()\n",
    "    run.finish()"
   ]
  }
 ],
 "metadata": {
  "accelerator": "TPU",
  "colab": {
   "authorship_tag": "ABX9TyOq240mlFXPM4TzASZJSw1r",
   "collapsed_sections": [],
   "machine_shape": "hm",
   "name": "BertForPatents",
   "provenance": []
  },
  "kernelspec": {
   "display_name": "Python 3",
   "language": "python",
   "name": "python3"
  },
  "language_info": {
   "codemirror_mode": {
    "name": "ipython",
    "version": 3
   },
   "file_extension": ".py",
   "mimetype": "text/x-python",
   "name": "python",
   "nbconvert_exporter": "python",
   "pygments_lexer": "ipython3",
   "version": "3.8.5"
  },
  "widgets": {
   "application/vnd.jupyter.widget-state+json": {
    "0e4e67a3122441dba10998cc099f8106": {
     "model_module": "@jupyter-widgets/controls",
     "model_name": "VBoxModel",
     "state": {
      "_dom_classes": [],
      "_model_module": "@jupyter-widgets/controls",
      "_model_module_version": "1.5.0",
      "_model_name": "VBoxModel",
      "_view_count": null,
      "_view_module": "@jupyter-widgets/controls",
      "_view_module_version": "1.5.0",
      "_view_name": "VBoxView",
      "box_style": "",
      "children": [
       "IPY_MODEL_46a3aa8ac4d84b419527d90efb24eafc",
       "IPY_MODEL_a8b6974cd4fe4ef38948bb8e25bdface"
      ],
      "layout": "IPY_MODEL_be815f8cb1a145cf847bd23d9a5df255"
     }
    },
    "12df7ff6e4074600b897988afe5bac23": {
     "model_module": "@jupyter-widgets/controls",
     "model_name": "ProgressStyleModel",
     "state": {
      "_model_module": "@jupyter-widgets/controls",
      "_model_module_version": "1.5.0",
      "_model_name": "ProgressStyleModel",
      "_view_count": null,
      "_view_module": "@jupyter-widgets/base",
      "_view_module_version": "1.2.0",
      "_view_name": "StyleView",
      "bar_color": null,
      "description_width": "initial"
     }
    },
    "13a470cfc02e496f8f4ec6358ddcaad0": {
     "model_module": "@jupyter-widgets/controls",
     "model_name": "ProgressStyleModel",
     "state": {
      "_model_module": "@jupyter-widgets/controls",
      "_model_module_version": "1.5.0",
      "_model_name": "ProgressStyleModel",
      "_view_count": null,
      "_view_module": "@jupyter-widgets/base",
      "_view_module_version": "1.2.0",
      "_view_name": "StyleView",
      "bar_color": null,
      "description_width": "initial"
     }
    },
    "2a7023a904ec4023bcd97063ac2e28d4": {
     "model_module": "@jupyter-widgets/controls",
     "model_name": "FloatProgressModel",
     "state": {
      "_dom_classes": [],
      "_model_module": "@jupyter-widgets/controls",
      "_model_module_version": "1.5.0",
      "_model_name": "FloatProgressModel",
      "_view_count": null,
      "_view_module": "@jupyter-widgets/controls",
      "_view_module_version": "1.5.0",
      "_view_name": "ProgressView",
      "bar_style": "success",
      "description": "100%",
      "description_tooltip": null,
      "layout": "IPY_MODEL_d04e57378efe4795a77c2754b38f6a76",
      "max": 1066,
      "min": 0,
      "orientation": "horizontal",
      "style": "IPY_MODEL_12df7ff6e4074600b897988afe5bac23",
      "value": 1066
     }
    },
    "3798327145fa4ca9bc310a4de11871f2": {
     "model_module": "@jupyter-widgets/base",
     "model_name": "LayoutModel",
     "state": {
      "_model_module": "@jupyter-widgets/base",
      "_model_module_version": "1.2.0",
      "_model_name": "LayoutModel",
      "_view_count": null,
      "_view_module": "@jupyter-widgets/base",
      "_view_module_version": "1.2.0",
      "_view_name": "LayoutView",
      "align_content": null,
      "align_items": null,
      "align_self": null,
      "border": null,
      "bottom": null,
      "display": null,
      "flex": null,
      "flex_flow": null,
      "grid_area": null,
      "grid_auto_columns": null,
      "grid_auto_flow": null,
      "grid_auto_rows": null,
      "grid_column": null,
      "grid_gap": null,
      "grid_row": null,
      "grid_template_areas": null,
      "grid_template_columns": null,
      "grid_template_rows": null,
      "height": null,
      "justify_content": null,
      "justify_items": null,
      "left": null,
      "margin": null,
      "max_height": null,
      "max_width": null,
      "min_height": null,
      "min_width": null,
      "object_fit": null,
      "object_position": null,
      "order": null,
      "overflow": null,
      "overflow_x": null,
      "overflow_y": null,
      "padding": null,
      "right": null,
      "top": null,
      "visibility": null,
      "width": null
     }
    },
    "3d405128ca5945edb1b77bde5f916d89": {
     "model_module": "@jupyter-widgets/base",
     "model_name": "LayoutModel",
     "state": {
      "_model_module": "@jupyter-widgets/base",
      "_model_module_version": "1.2.0",
      "_model_name": "LayoutModel",
      "_view_count": null,
      "_view_module": "@jupyter-widgets/base",
      "_view_module_version": "1.2.0",
      "_view_name": "LayoutView",
      "align_content": null,
      "align_items": null,
      "align_self": null,
      "border": null,
      "bottom": null,
      "display": null,
      "flex": null,
      "flex_flow": null,
      "grid_area": null,
      "grid_auto_columns": null,
      "grid_auto_flow": null,
      "grid_auto_rows": null,
      "grid_column": null,
      "grid_gap": null,
      "grid_row": null,
      "grid_template_areas": null,
      "grid_template_columns": null,
      "grid_template_rows": null,
      "height": null,
      "justify_content": null,
      "justify_items": null,
      "left": null,
      "margin": null,
      "max_height": null,
      "max_width": null,
      "min_height": null,
      "min_width": null,
      "object_fit": null,
      "object_position": null,
      "order": null,
      "overflow": null,
      "overflow_x": null,
      "overflow_y": null,
      "padding": null,
      "right": null,
      "top": null,
      "visibility": null,
      "width": null
     }
    },
    "46a3aa8ac4d84b419527d90efb24eafc": {
     "model_module": "@jupyter-widgets/controls",
     "model_name": "LabelModel",
     "state": {
      "_dom_classes": [],
      "_model_module": "@jupyter-widgets/controls",
      "_model_module_version": "1.5.0",
      "_model_name": "LabelModel",
      "_view_count": null,
      "_view_module": "@jupyter-widgets/controls",
      "_view_module_version": "1.5.0",
      "_view_name": "LabelView",
      "description": "",
      "description_tooltip": null,
      "layout": "IPY_MODEL_9ebe217525584488ad4d83cbdb489993",
      "placeholder": "​",
      "style": "IPY_MODEL_f8d6310bbe2b4c8b9c68e48393b42dec",
      "value": " 15.20MB of 15.20MB uploaded (0.00MB deduped)\r"
     }
    },
    "4f8c70de74984fc8acb0e68370a60ac0": {
     "model_module": "@jupyter-widgets/base",
     "model_name": "LayoutModel",
     "state": {
      "_model_module": "@jupyter-widgets/base",
      "_model_module_version": "1.2.0",
      "_model_name": "LayoutModel",
      "_view_count": null,
      "_view_module": "@jupyter-widgets/base",
      "_view_module_version": "1.2.0",
      "_view_name": "LayoutView",
      "align_content": null,
      "align_items": null,
      "align_self": null,
      "border": null,
      "bottom": null,
      "display": null,
      "flex": null,
      "flex_flow": null,
      "grid_area": null,
      "grid_auto_columns": null,
      "grid_auto_flow": null,
      "grid_auto_rows": null,
      "grid_column": null,
      "grid_gap": null,
      "grid_row": null,
      "grid_template_areas": null,
      "grid_template_columns": null,
      "grid_template_rows": null,
      "height": null,
      "justify_content": null,
      "justify_items": null,
      "left": null,
      "margin": null,
      "max_height": null,
      "max_width": null,
      "min_height": null,
      "min_width": null,
      "object_fit": null,
      "object_position": null,
      "order": null,
      "overflow": null,
      "overflow_x": null,
      "overflow_y": null,
      "padding": null,
      "right": null,
      "top": null,
      "visibility": null,
      "width": null
     }
    },
    "7a1ec1729ba949639600a53c6669c86e": {
     "model_module": "@jupyter-widgets/controls",
     "model_name": "DescriptionStyleModel",
     "state": {
      "_model_module": "@jupyter-widgets/controls",
      "_model_module_version": "1.5.0",
      "_model_name": "DescriptionStyleModel",
      "_view_count": null,
      "_view_module": "@jupyter-widgets/base",
      "_view_module_version": "1.2.0",
      "_view_name": "StyleView",
      "description_width": ""
     }
    },
    "7f0a0bc5fb3c46829ecd76f025640dca": {
     "model_module": "@jupyter-widgets/controls",
     "model_name": "ProgressStyleModel",
     "state": {
      "_model_module": "@jupyter-widgets/controls",
      "_model_module_version": "1.5.0",
      "_model_name": "ProgressStyleModel",
      "_view_count": null,
      "_view_module": "@jupyter-widgets/base",
      "_view_module_version": "1.2.0",
      "_view_name": "StyleView",
      "bar_color": null,
      "description_width": ""
     }
    },
    "9129655e365848ba9aaf7c5439d2098c": {
     "model_module": "@jupyter-widgets/controls",
     "model_name": "HBoxModel",
     "state": {
      "_dom_classes": [],
      "_model_module": "@jupyter-widgets/controls",
      "_model_module_version": "1.5.0",
      "_model_name": "HBoxModel",
      "_view_count": null,
      "_view_module": "@jupyter-widgets/controls",
      "_view_module_version": "1.5.0",
      "_view_name": "HBoxView",
      "box_style": "",
      "children": [
       "IPY_MODEL_2a7023a904ec4023bcd97063ac2e28d4",
       "IPY_MODEL_96e99a176e5d49ab8f0dc70eee05801d"
      ],
      "layout": "IPY_MODEL_e439c9f6558947dab6d08799a0b124c4"
     }
    },
    "93d22cfd67cf4cc1adbd9d075d4ed60c": {
     "model_module": "@jupyter-widgets/controls",
     "model_name": "DescriptionStyleModel",
     "state": {
      "_model_module": "@jupyter-widgets/controls",
      "_model_module_version": "1.5.0",
      "_model_name": "DescriptionStyleModel",
      "_view_count": null,
      "_view_module": "@jupyter-widgets/base",
      "_view_module_version": "1.2.0",
      "_view_name": "StyleView",
      "description_width": ""
     }
    },
    "96e99a176e5d49ab8f0dc70eee05801d": {
     "model_module": "@jupyter-widgets/controls",
     "model_name": "HTMLModel",
     "state": {
      "_dom_classes": [],
      "_model_module": "@jupyter-widgets/controls",
      "_model_module_version": "1.5.0",
      "_model_name": "HTMLModel",
      "_view_count": null,
      "_view_module": "@jupyter-widgets/controls",
      "_view_module_version": "1.5.0",
      "_view_name": "HTMLView",
      "description": "",
      "description_tooltip": null,
      "layout": "IPY_MODEL_4f8c70de74984fc8acb0e68370a60ac0",
      "placeholder": "​",
      "style": "IPY_MODEL_7a1ec1729ba949639600a53c6669c86e",
      "value": " 1066/1066 [00:49&lt;00:00, 21.45ba/s]"
     }
    },
    "9ebe217525584488ad4d83cbdb489993": {
     "model_module": "@jupyter-widgets/base",
     "model_name": "LayoutModel",
     "state": {
      "_model_module": "@jupyter-widgets/base",
      "_model_module_version": "1.2.0",
      "_model_name": "LayoutModel",
      "_view_count": null,
      "_view_module": "@jupyter-widgets/base",
      "_view_module_version": "1.2.0",
      "_view_name": "LayoutView",
      "align_content": null,
      "align_items": null,
      "align_self": null,
      "border": null,
      "bottom": null,
      "display": null,
      "flex": null,
      "flex_flow": null,
      "grid_area": null,
      "grid_auto_columns": null,
      "grid_auto_flow": null,
      "grid_auto_rows": null,
      "grid_column": null,
      "grid_gap": null,
      "grid_row": null,
      "grid_template_areas": null,
      "grid_template_columns": null,
      "grid_template_rows": null,
      "height": null,
      "justify_content": null,
      "justify_items": null,
      "left": null,
      "margin": null,
      "max_height": null,
      "max_width": null,
      "min_height": null,
      "min_width": null,
      "object_fit": null,
      "object_position": null,
      "order": null,
      "overflow": null,
      "overflow_x": null,
      "overflow_y": null,
      "padding": null,
      "right": null,
      "top": null,
      "visibility": null,
      "width": null
     }
    },
    "a56b303102b845d8adfd8c4b65e9b1b7": {
     "model_module": "@jupyter-widgets/base",
     "model_name": "LayoutModel",
     "state": {
      "_model_module": "@jupyter-widgets/base",
      "_model_module_version": "1.2.0",
      "_model_name": "LayoutModel",
      "_view_count": null,
      "_view_module": "@jupyter-widgets/base",
      "_view_module_version": "1.2.0",
      "_view_name": "LayoutView",
      "align_content": null,
      "align_items": null,
      "align_self": null,
      "border": null,
      "bottom": null,
      "display": null,
      "flex": null,
      "flex_flow": null,
      "grid_area": null,
      "grid_auto_columns": null,
      "grid_auto_flow": null,
      "grid_auto_rows": null,
      "grid_column": null,
      "grid_gap": null,
      "grid_row": null,
      "grid_template_areas": null,
      "grid_template_columns": null,
      "grid_template_rows": null,
      "height": null,
      "justify_content": null,
      "justify_items": null,
      "left": null,
      "margin": null,
      "max_height": null,
      "max_width": null,
      "min_height": null,
      "min_width": null,
      "object_fit": null,
      "object_position": null,
      "order": null,
      "overflow": null,
      "overflow_x": null,
      "overflow_y": null,
      "padding": null,
      "right": null,
      "top": null,
      "visibility": null,
      "width": null
     }
    },
    "a8b6974cd4fe4ef38948bb8e25bdface": {
     "model_module": "@jupyter-widgets/controls",
     "model_name": "FloatProgressModel",
     "state": {
      "_dom_classes": [],
      "_model_module": "@jupyter-widgets/controls",
      "_model_module_version": "1.5.0",
      "_model_name": "FloatProgressModel",
      "_view_count": null,
      "_view_module": "@jupyter-widgets/controls",
      "_view_module_version": "1.5.0",
      "_view_name": "ProgressView",
      "bar_style": "",
      "description": "",
      "description_tooltip": null,
      "layout": "IPY_MODEL_a56b303102b845d8adfd8c4b65e9b1b7",
      "max": 1,
      "min": 0,
      "orientation": "horizontal",
      "style": "IPY_MODEL_7f0a0bc5fb3c46829ecd76f025640dca",
      "value": 1
     }
    },
    "add239caedec48f08d058e19f44ad3d0": {
     "model_module": "@jupyter-widgets/controls",
     "model_name": "FloatProgressModel",
     "state": {
      "_dom_classes": [],
      "_model_module": "@jupyter-widgets/controls",
      "_model_module_version": "1.5.0",
      "_model_name": "FloatProgressModel",
      "_view_count": null,
      "_view_module": "@jupyter-widgets/controls",
      "_view_module_version": "1.5.0",
      "_view_name": "ProgressView",
      "bar_style": "success",
      "description": "100%",
      "description_tooltip": null,
      "layout": "IPY_MODEL_f8ebd79d83ce432ba40315b4d74f806d",
      "max": 5258,
      "min": 0,
      "orientation": "horizontal",
      "style": "IPY_MODEL_13a470cfc02e496f8f4ec6358ddcaad0",
      "value": 5258
     }
    },
    "b337b9a31c5e46458e033a2e80dcadc7": {
     "model_module": "@jupyter-widgets/controls",
     "model_name": "HBoxModel",
     "state": {
      "_dom_classes": [],
      "_model_module": "@jupyter-widgets/controls",
      "_model_module_version": "1.5.0",
      "_model_name": "HBoxModel",
      "_view_count": null,
      "_view_module": "@jupyter-widgets/controls",
      "_view_module_version": "1.5.0",
      "_view_name": "HBoxView",
      "box_style": "",
      "children": [
       "IPY_MODEL_add239caedec48f08d058e19f44ad3d0",
       "IPY_MODEL_cfbdd852eaa44b6bbdb7ed530c75ac16"
      ],
      "layout": "IPY_MODEL_3798327145fa4ca9bc310a4de11871f2"
     }
    },
    "be815f8cb1a145cf847bd23d9a5df255": {
     "model_module": "@jupyter-widgets/base",
     "model_name": "LayoutModel",
     "state": {
      "_model_module": "@jupyter-widgets/base",
      "_model_module_version": "1.2.0",
      "_model_name": "LayoutModel",
      "_view_count": null,
      "_view_module": "@jupyter-widgets/base",
      "_view_module_version": "1.2.0",
      "_view_name": "LayoutView",
      "align_content": null,
      "align_items": null,
      "align_self": null,
      "border": null,
      "bottom": null,
      "display": null,
      "flex": null,
      "flex_flow": null,
      "grid_area": null,
      "grid_auto_columns": null,
      "grid_auto_flow": null,
      "grid_auto_rows": null,
      "grid_column": null,
      "grid_gap": null,
      "grid_row": null,
      "grid_template_areas": null,
      "grid_template_columns": null,
      "grid_template_rows": null,
      "height": null,
      "justify_content": null,
      "justify_items": null,
      "left": null,
      "margin": null,
      "max_height": null,
      "max_width": null,
      "min_height": null,
      "min_width": null,
      "object_fit": null,
      "object_position": null,
      "order": null,
      "overflow": null,
      "overflow_x": null,
      "overflow_y": null,
      "padding": null,
      "right": null,
      "top": null,
      "visibility": null,
      "width": null
     }
    },
    "cfbdd852eaa44b6bbdb7ed530c75ac16": {
     "model_module": "@jupyter-widgets/controls",
     "model_name": "HTMLModel",
     "state": {
      "_dom_classes": [],
      "_model_module": "@jupyter-widgets/controls",
      "_model_module_version": "1.5.0",
      "_model_name": "HTMLModel",
      "_view_count": null,
      "_view_module": "@jupyter-widgets/controls",
      "_view_module_version": "1.5.0",
      "_view_name": "HTMLView",
      "description": "",
      "description_tooltip": null,
      "layout": "IPY_MODEL_3d405128ca5945edb1b77bde5f916d89",
      "placeholder": "​",
      "style": "IPY_MODEL_93d22cfd67cf4cc1adbd9d075d4ed60c",
      "value": " 5258/5258 [04:39&lt;00:00, 18.81ba/s]"
     }
    },
    "d04e57378efe4795a77c2754b38f6a76": {
     "model_module": "@jupyter-widgets/base",
     "model_name": "LayoutModel",
     "state": {
      "_model_module": "@jupyter-widgets/base",
      "_model_module_version": "1.2.0",
      "_model_name": "LayoutModel",
      "_view_count": null,
      "_view_module": "@jupyter-widgets/base",
      "_view_module_version": "1.2.0",
      "_view_name": "LayoutView",
      "align_content": null,
      "align_items": null,
      "align_self": null,
      "border": null,
      "bottom": null,
      "display": null,
      "flex": null,
      "flex_flow": null,
      "grid_area": null,
      "grid_auto_columns": null,
      "grid_auto_flow": null,
      "grid_auto_rows": null,
      "grid_column": null,
      "grid_gap": null,
      "grid_row": null,
      "grid_template_areas": null,
      "grid_template_columns": null,
      "grid_template_rows": null,
      "height": null,
      "justify_content": null,
      "justify_items": null,
      "left": null,
      "margin": null,
      "max_height": null,
      "max_width": null,
      "min_height": null,
      "min_width": null,
      "object_fit": null,
      "object_position": null,
      "order": null,
      "overflow": null,
      "overflow_x": null,
      "overflow_y": null,
      "padding": null,
      "right": null,
      "top": null,
      "visibility": null,
      "width": null
     }
    },
    "e439c9f6558947dab6d08799a0b124c4": {
     "model_module": "@jupyter-widgets/base",
     "model_name": "LayoutModel",
     "state": {
      "_model_module": "@jupyter-widgets/base",
      "_model_module_version": "1.2.0",
      "_model_name": "LayoutModel",
      "_view_count": null,
      "_view_module": "@jupyter-widgets/base",
      "_view_module_version": "1.2.0",
      "_view_name": "LayoutView",
      "align_content": null,
      "align_items": null,
      "align_self": null,
      "border": null,
      "bottom": null,
      "display": null,
      "flex": null,
      "flex_flow": null,
      "grid_area": null,
      "grid_auto_columns": null,
      "grid_auto_flow": null,
      "grid_auto_rows": null,
      "grid_column": null,
      "grid_gap": null,
      "grid_row": null,
      "grid_template_areas": null,
      "grid_template_columns": null,
      "grid_template_rows": null,
      "height": null,
      "justify_content": null,
      "justify_items": null,
      "left": null,
      "margin": null,
      "max_height": null,
      "max_width": null,
      "min_height": null,
      "min_width": null,
      "object_fit": null,
      "object_position": null,
      "order": null,
      "overflow": null,
      "overflow_x": null,
      "overflow_y": null,
      "padding": null,
      "right": null,
      "top": null,
      "visibility": null,
      "width": null
     }
    },
    "f8d6310bbe2b4c8b9c68e48393b42dec": {
     "model_module": "@jupyter-widgets/controls",
     "model_name": "DescriptionStyleModel",
     "state": {
      "_model_module": "@jupyter-widgets/controls",
      "_model_module_version": "1.5.0",
      "_model_name": "DescriptionStyleModel",
      "_view_count": null,
      "_view_module": "@jupyter-widgets/base",
      "_view_module_version": "1.2.0",
      "_view_name": "StyleView",
      "description_width": ""
     }
    },
    "f8ebd79d83ce432ba40315b4d74f806d": {
     "model_module": "@jupyter-widgets/base",
     "model_name": "LayoutModel",
     "state": {
      "_model_module": "@jupyter-widgets/base",
      "_model_module_version": "1.2.0",
      "_model_name": "LayoutModel",
      "_view_count": null,
      "_view_module": "@jupyter-widgets/base",
      "_view_module_version": "1.2.0",
      "_view_name": "LayoutView",
      "align_content": null,
      "align_items": null,
      "align_self": null,
      "border": null,
      "bottom": null,
      "display": null,
      "flex": null,
      "flex_flow": null,
      "grid_area": null,
      "grid_auto_columns": null,
      "grid_auto_flow": null,
      "grid_auto_rows": null,
      "grid_column": null,
      "grid_gap": null,
      "grid_row": null,
      "grid_template_areas": null,
      "grid_template_columns": null,
      "grid_template_rows": null,
      "height": null,
      "justify_content": null,
      "justify_items": null,
      "left": null,
      "margin": null,
      "max_height": null,
      "max_width": null,
      "min_height": null,
      "min_width": null,
      "object_fit": null,
      "object_position": null,
      "order": null,
      "overflow": null,
      "overflow_x": null,
      "overflow_y": null,
      "padding": null,
      "right": null,
      "top": null,
      "visibility": null,
      "width": null
     }
    }
   }
  }
 },
 "nbformat": 4,
 "nbformat_minor": 1
}
