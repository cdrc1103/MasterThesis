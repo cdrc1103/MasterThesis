{
 "nbformat": 4,
 "nbformat_minor": 0,
 "metadata": {
  "accelerator": "TPU",
  "colab": {
   "name": "BERTEnsemble",
   "provenance": [],
   "collapsed_sections": [],
   "machine_shape": "hm",
   "authorship_tag": "ABX9TyNkIOo+ggJYfLaI1PgbeSsc"
  },
  "kernelspec": {
   "display_name": "Python 3",
   "name": "python3"
  },
  "language_info": {
   "name": "python"
  },
  "widgets": {
   "application/vnd.jupyter.widget-state+json": {
    "613ea41b340649828f322e2395a5a808": {
     "model_module": "@jupyter-widgets/controls",
     "model_name": "HBoxModel",
     "state": {
      "_view_name": "HBoxView",
      "_dom_classes": [],
      "_model_name": "HBoxModel",
      "_view_module": "@jupyter-widgets/controls",
      "_model_module_version": "1.5.0",
      "_view_count": null,
      "_view_module_version": "1.5.0",
      "box_style": "",
      "layout": "IPY_MODEL_481e3709d4214dd79e292283ab6ef5e1",
      "_model_module": "@jupyter-widgets/controls",
      "children": [
       "IPY_MODEL_630619a7d0e44839a3ce7504e159ebd9",
       "IPY_MODEL_d6ee90219db74ffe8b0eab453c32b417"
      ]
     }
    },
    "481e3709d4214dd79e292283ab6ef5e1": {
     "model_module": "@jupyter-widgets/base",
     "model_name": "LayoutModel",
     "state": {
      "_view_name": "LayoutView",
      "grid_template_rows": null,
      "right": null,
      "justify_content": null,
      "_view_module": "@jupyter-widgets/base",
      "overflow": null,
      "_model_module_version": "1.2.0",
      "_view_count": null,
      "flex_flow": null,
      "width": null,
      "min_width": null,
      "border": null,
      "align_items": null,
      "bottom": null,
      "_model_module": "@jupyter-widgets/base",
      "top": null,
      "grid_column": null,
      "overflow_y": null,
      "overflow_x": null,
      "grid_auto_flow": null,
      "grid_area": null,
      "grid_template_columns": null,
      "flex": null,
      "_model_name": "LayoutModel",
      "justify_items": null,
      "grid_row": null,
      "max_height": null,
      "align_content": null,
      "visibility": null,
      "align_self": null,
      "height": null,
      "min_height": null,
      "padding": null,
      "grid_auto_rows": null,
      "grid_gap": null,
      "max_width": null,
      "order": null,
      "_view_module_version": "1.2.0",
      "grid_template_areas": null,
      "object_position": null,
      "object_fit": null,
      "grid_auto_columns": null,
      "margin": null,
      "display": null,
      "left": null
     }
    },
    "630619a7d0e44839a3ce7504e159ebd9": {
     "model_module": "@jupyter-widgets/controls",
     "model_name": "FloatProgressModel",
     "state": {
      "_view_name": "ProgressView",
      "style": "IPY_MODEL_fae067c355964b8d9b45591b56c5fa36",
      "_dom_classes": [],
      "description": "100%",
      "_model_name": "FloatProgressModel",
      "bar_style": "success",
      "max": 6694,
      "_view_module": "@jupyter-widgets/controls",
      "_model_module_version": "1.5.0",
      "value": 6694,
      "_view_count": null,
      "_view_module_version": "1.5.0",
      "orientation": "horizontal",
      "min": 0,
      "description_tooltip": null,
      "_model_module": "@jupyter-widgets/controls",
      "layout": "IPY_MODEL_3421a784635f4799b61505fbda7b6c85"
     }
    },
    "d6ee90219db74ffe8b0eab453c32b417": {
     "model_module": "@jupyter-widgets/controls",
     "model_name": "HTMLModel",
     "state": {
      "_view_name": "HTMLView",
      "style": "IPY_MODEL_e0f65c3a619a4423b4ba2ec047a87186",
      "_dom_classes": [],
      "description": "",
      "_model_name": "HTMLModel",
      "placeholder": "​",
      "_view_module": "@jupyter-widgets/controls",
      "_model_module_version": "1.5.0",
      "value": " 6694/6694 [09:28&lt;00:00, 11.78ba/s]",
      "_view_count": null,
      "_view_module_version": "1.5.0",
      "description_tooltip": null,
      "_model_module": "@jupyter-widgets/controls",
      "layout": "IPY_MODEL_648591ddd3924cebb17a7f3ed44d056d"
     }
    },
    "fae067c355964b8d9b45591b56c5fa36": {
     "model_module": "@jupyter-widgets/controls",
     "model_name": "ProgressStyleModel",
     "state": {
      "_view_name": "StyleView",
      "_model_name": "ProgressStyleModel",
      "description_width": "initial",
      "_view_module": "@jupyter-widgets/base",
      "_model_module_version": "1.5.0",
      "_view_count": null,
      "_view_module_version": "1.2.0",
      "bar_color": null,
      "_model_module": "@jupyter-widgets/controls"
     }
    },
    "3421a784635f4799b61505fbda7b6c85": {
     "model_module": "@jupyter-widgets/base",
     "model_name": "LayoutModel",
     "state": {
      "_view_name": "LayoutView",
      "grid_template_rows": null,
      "right": null,
      "justify_content": null,
      "_view_module": "@jupyter-widgets/base",
      "overflow": null,
      "_model_module_version": "1.2.0",
      "_view_count": null,
      "flex_flow": null,
      "width": null,
      "min_width": null,
      "border": null,
      "align_items": null,
      "bottom": null,
      "_model_module": "@jupyter-widgets/base",
      "top": null,
      "grid_column": null,
      "overflow_y": null,
      "overflow_x": null,
      "grid_auto_flow": null,
      "grid_area": null,
      "grid_template_columns": null,
      "flex": null,
      "_model_name": "LayoutModel",
      "justify_items": null,
      "grid_row": null,
      "max_height": null,
      "align_content": null,
      "visibility": null,
      "align_self": null,
      "height": null,
      "min_height": null,
      "padding": null,
      "grid_auto_rows": null,
      "grid_gap": null,
      "max_width": null,
      "order": null,
      "_view_module_version": "1.2.0",
      "grid_template_areas": null,
      "object_position": null,
      "object_fit": null,
      "grid_auto_columns": null,
      "margin": null,
      "display": null,
      "left": null
     }
    },
    "e0f65c3a619a4423b4ba2ec047a87186": {
     "model_module": "@jupyter-widgets/controls",
     "model_name": "DescriptionStyleModel",
     "state": {
      "_view_name": "StyleView",
      "_model_name": "DescriptionStyleModel",
      "description_width": "",
      "_view_module": "@jupyter-widgets/base",
      "_model_module_version": "1.5.0",
      "_view_count": null,
      "_view_module_version": "1.2.0",
      "_model_module": "@jupyter-widgets/controls"
     }
    },
    "648591ddd3924cebb17a7f3ed44d056d": {
     "model_module": "@jupyter-widgets/base",
     "model_name": "LayoutModel",
     "state": {
      "_view_name": "LayoutView",
      "grid_template_rows": null,
      "right": null,
      "justify_content": null,
      "_view_module": "@jupyter-widgets/base",
      "overflow": null,
      "_model_module_version": "1.2.0",
      "_view_count": null,
      "flex_flow": null,
      "width": null,
      "min_width": null,
      "border": null,
      "align_items": null,
      "bottom": null,
      "_model_module": "@jupyter-widgets/base",
      "top": null,
      "grid_column": null,
      "overflow_y": null,
      "overflow_x": null,
      "grid_auto_flow": null,
      "grid_area": null,
      "grid_template_columns": null,
      "flex": null,
      "_model_name": "LayoutModel",
      "justify_items": null,
      "grid_row": null,
      "max_height": null,
      "align_content": null,
      "visibility": null,
      "align_self": null,
      "height": null,
      "min_height": null,
      "padding": null,
      "grid_auto_rows": null,
      "grid_gap": null,
      "max_width": null,
      "order": null,
      "_view_module_version": "1.2.0",
      "grid_template_areas": null,
      "object_position": null,
      "object_fit": null,
      "grid_auto_columns": null,
      "margin": null,
      "display": null,
      "left": null
     }
    },
    "21576aff7377473cb780aa0a30d378bb": {
     "model_module": "@jupyter-widgets/controls",
     "model_name": "HBoxModel",
     "state": {
      "_view_name": "HBoxView",
      "_dom_classes": [],
      "_model_name": "HBoxModel",
      "_view_module": "@jupyter-widgets/controls",
      "_model_module_version": "1.5.0",
      "_view_count": null,
      "_view_module_version": "1.5.0",
      "box_style": "",
      "layout": "IPY_MODEL_8a7f50bc259f49bdb1ed9de5baea4ad0",
      "_model_module": "@jupyter-widgets/controls",
      "children": [
       "IPY_MODEL_7cd349f5beea411eb9bac751e19a0a44",
       "IPY_MODEL_fcca8a7a23fa4a7bb36b12c5bae0949f"
      ]
     }
    },
    "8a7f50bc259f49bdb1ed9de5baea4ad0": {
     "model_module": "@jupyter-widgets/base",
     "model_name": "LayoutModel",
     "state": {
      "_view_name": "LayoutView",
      "grid_template_rows": null,
      "right": null,
      "justify_content": null,
      "_view_module": "@jupyter-widgets/base",
      "overflow": null,
      "_model_module_version": "1.2.0",
      "_view_count": null,
      "flex_flow": null,
      "width": null,
      "min_width": null,
      "border": null,
      "align_items": null,
      "bottom": null,
      "_model_module": "@jupyter-widgets/base",
      "top": null,
      "grid_column": null,
      "overflow_y": null,
      "overflow_x": null,
      "grid_auto_flow": null,
      "grid_area": null,
      "grid_template_columns": null,
      "flex": null,
      "_model_name": "LayoutModel",
      "justify_items": null,
      "grid_row": null,
      "max_height": null,
      "align_content": null,
      "visibility": null,
      "align_self": null,
      "height": null,
      "min_height": null,
      "padding": null,
      "grid_auto_rows": null,
      "grid_gap": null,
      "max_width": null,
      "order": null,
      "_view_module_version": "1.2.0",
      "grid_template_areas": null,
      "object_position": null,
      "object_fit": null,
      "grid_auto_columns": null,
      "margin": null,
      "display": null,
      "left": null
     }
    },
    "7cd349f5beea411eb9bac751e19a0a44": {
     "model_module": "@jupyter-widgets/controls",
     "model_name": "FloatProgressModel",
     "state": {
      "_view_name": "ProgressView",
      "style": "IPY_MODEL_cb12547fc31f4e408d61c23faa4bd498",
      "_dom_classes": [],
      "description": "100%",
      "_model_name": "FloatProgressModel",
      "bar_style": "success",
      "max": 1458,
      "_view_module": "@jupyter-widgets/controls",
      "_model_module_version": "1.5.0",
      "value": 1458,
      "_view_count": null,
      "_view_module_version": "1.5.0",
      "orientation": "horizontal",
      "min": 0,
      "description_tooltip": null,
      "_model_module": "@jupyter-widgets/controls",
      "layout": "IPY_MODEL_9586c68b6e214cea8597ea2f7931e12a"
     }
    },
    "fcca8a7a23fa4a7bb36b12c5bae0949f": {
     "model_module": "@jupyter-widgets/controls",
     "model_name": "HTMLModel",
     "state": {
      "_view_name": "HTMLView",
      "style": "IPY_MODEL_7b544437661b4b7583265c4756bcf72f",
      "_dom_classes": [],
      "description": "",
      "_model_name": "HTMLModel",
      "placeholder": "​",
      "_view_module": "@jupyter-widgets/controls",
      "_model_module_version": "1.5.0",
      "value": " 1458/1458 [00:26&lt;00:00, 55.81ba/s]",
      "_view_count": null,
      "_view_module_version": "1.5.0",
      "description_tooltip": null,
      "_model_module": "@jupyter-widgets/controls",
      "layout": "IPY_MODEL_7a7c0db7869a4c86b3a4e53c3024971a"
     }
    },
    "cb12547fc31f4e408d61c23faa4bd498": {
     "model_module": "@jupyter-widgets/controls",
     "model_name": "ProgressStyleModel",
     "state": {
      "_view_name": "StyleView",
      "_model_name": "ProgressStyleModel",
      "description_width": "initial",
      "_view_module": "@jupyter-widgets/base",
      "_model_module_version": "1.5.0",
      "_view_count": null,
      "_view_module_version": "1.2.0",
      "bar_color": null,
      "_model_module": "@jupyter-widgets/controls"
     }
    },
    "9586c68b6e214cea8597ea2f7931e12a": {
     "model_module": "@jupyter-widgets/base",
     "model_name": "LayoutModel",
     "state": {
      "_view_name": "LayoutView",
      "grid_template_rows": null,
      "right": null,
      "justify_content": null,
      "_view_module": "@jupyter-widgets/base",
      "overflow": null,
      "_model_module_version": "1.2.0",
      "_view_count": null,
      "flex_flow": null,
      "width": null,
      "min_width": null,
      "border": null,
      "align_items": null,
      "bottom": null,
      "_model_module": "@jupyter-widgets/base",
      "top": null,
      "grid_column": null,
      "overflow_y": null,
      "overflow_x": null,
      "grid_auto_flow": null,
      "grid_area": null,
      "grid_template_columns": null,
      "flex": null,
      "_model_name": "LayoutModel",
      "justify_items": null,
      "grid_row": null,
      "max_height": null,
      "align_content": null,
      "visibility": null,
      "align_self": null,
      "height": null,
      "min_height": null,
      "padding": null,
      "grid_auto_rows": null,
      "grid_gap": null,
      "max_width": null,
      "order": null,
      "_view_module_version": "1.2.0",
      "grid_template_areas": null,
      "object_position": null,
      "object_fit": null,
      "grid_auto_columns": null,
      "margin": null,
      "display": null,
      "left": null
     }
    },
    "7b544437661b4b7583265c4756bcf72f": {
     "model_module": "@jupyter-widgets/controls",
     "model_name": "DescriptionStyleModel",
     "state": {
      "_view_name": "StyleView",
      "_model_name": "DescriptionStyleModel",
      "description_width": "",
      "_view_module": "@jupyter-widgets/base",
      "_model_module_version": "1.5.0",
      "_view_count": null,
      "_view_module_version": "1.2.0",
      "_model_module": "@jupyter-widgets/controls"
     }
    },
    "7a7c0db7869a4c86b3a4e53c3024971a": {
     "model_module": "@jupyter-widgets/base",
     "model_name": "LayoutModel",
     "state": {
      "_view_name": "LayoutView",
      "grid_template_rows": null,
      "right": null,
      "justify_content": null,
      "_view_module": "@jupyter-widgets/base",
      "overflow": null,
      "_model_module_version": "1.2.0",
      "_view_count": null,
      "flex_flow": null,
      "width": null,
      "min_width": null,
      "border": null,
      "align_items": null,
      "bottom": null,
      "_model_module": "@jupyter-widgets/base",
      "top": null,
      "grid_column": null,
      "overflow_y": null,
      "overflow_x": null,
      "grid_auto_flow": null,
      "grid_area": null,
      "grid_template_columns": null,
      "flex": null,
      "_model_name": "LayoutModel",
      "justify_items": null,
      "grid_row": null,
      "max_height": null,
      "align_content": null,
      "visibility": null,
      "align_self": null,
      "height": null,
      "min_height": null,
      "padding": null,
      "grid_auto_rows": null,
      "grid_gap": null,
      "max_width": null,
      "order": null,
      "_view_module_version": "1.2.0",
      "grid_template_areas": null,
      "object_position": null,
      "object_fit": null,
      "grid_auto_columns": null,
      "margin": null,
      "display": null,
      "left": null
     }
    },
    "19859622421042efa3650b9aac68889f": {
     "model_module": "@jupyter-widgets/controls",
     "model_name": "HBoxModel",
     "state": {
      "_view_name": "HBoxView",
      "_dom_classes": [],
      "_model_name": "HBoxModel",
      "_view_module": "@jupyter-widgets/controls",
      "_model_module_version": "1.5.0",
      "_view_count": null,
      "_view_module_version": "1.5.0",
      "box_style": "",
      "layout": "IPY_MODEL_e1815b83fe7943e6b8de8013c23d82e9",
      "_model_module": "@jupyter-widgets/controls",
      "children": [
       "IPY_MODEL_b24b0cc339204427bb20a2d214a332d9",
       "IPY_MODEL_08f59a17e94f4acab62d075e3d210cfd"
      ]
     }
    },
    "e1815b83fe7943e6b8de8013c23d82e9": {
     "model_module": "@jupyter-widgets/base",
     "model_name": "LayoutModel",
     "state": {
      "_view_name": "LayoutView",
      "grid_template_rows": null,
      "right": null,
      "justify_content": null,
      "_view_module": "@jupyter-widgets/base",
      "overflow": null,
      "_model_module_version": "1.2.0",
      "_view_count": null,
      "flex_flow": null,
      "width": null,
      "min_width": null,
      "border": null,
      "align_items": null,
      "bottom": null,
      "_model_module": "@jupyter-widgets/base",
      "top": null,
      "grid_column": null,
      "overflow_y": null,
      "overflow_x": null,
      "grid_auto_flow": null,
      "grid_area": null,
      "grid_template_columns": null,
      "flex": null,
      "_model_name": "LayoutModel",
      "justify_items": null,
      "grid_row": null,
      "max_height": null,
      "align_content": null,
      "visibility": null,
      "align_self": null,
      "height": null,
      "min_height": null,
      "padding": null,
      "grid_auto_rows": null,
      "grid_gap": null,
      "max_width": null,
      "order": null,
      "_view_module_version": "1.2.0",
      "grid_template_areas": null,
      "object_position": null,
      "object_fit": null,
      "grid_auto_columns": null,
      "margin": null,
      "display": null,
      "left": null
     }
    },
    "b24b0cc339204427bb20a2d214a332d9": {
     "model_module": "@jupyter-widgets/controls",
     "model_name": "FloatProgressModel",
     "state": {
      "_view_name": "ProgressView",
      "style": "IPY_MODEL_ff111d60e3aa4018a78dec2996a46afa",
      "_dom_classes": [],
      "description": "100%",
      "_model_name": "FloatProgressModel",
      "bar_style": "success",
      "max": 6694,
      "_view_module": "@jupyter-widgets/controls",
      "_model_module_version": "1.5.0",
      "value": 6694,
      "_view_count": null,
      "_view_module_version": "1.5.0",
      "orientation": "horizontal",
      "min": 0,
      "description_tooltip": null,
      "_model_module": "@jupyter-widgets/controls",
      "layout": "IPY_MODEL_2505adbe732d44caa57e257db880b1f6"
     }
    },
    "08f59a17e94f4acab62d075e3d210cfd": {
     "model_module": "@jupyter-widgets/controls",
     "model_name": "HTMLModel",
     "state": {
      "_view_name": "HTMLView",
      "style": "IPY_MODEL_c9c6f0adca4246948c867281222b8b18",
      "_dom_classes": [],
      "description": "",
      "_model_name": "HTMLModel",
      "placeholder": "​",
      "_view_module": "@jupyter-widgets/controls",
      "_model_module_version": "1.5.0",
      "value": " 6694/6694 [07:02&lt;00:00, 15.86ba/s]",
      "_view_count": null,
      "_view_module_version": "1.5.0",
      "description_tooltip": null,
      "_model_module": "@jupyter-widgets/controls",
      "layout": "IPY_MODEL_07ef2396169d409a9a16217b6968887e"
     }
    },
    "ff111d60e3aa4018a78dec2996a46afa": {
     "model_module": "@jupyter-widgets/controls",
     "model_name": "ProgressStyleModel",
     "state": {
      "_view_name": "StyleView",
      "_model_name": "ProgressStyleModel",
      "description_width": "initial",
      "_view_module": "@jupyter-widgets/base",
      "_model_module_version": "1.5.0",
      "_view_count": null,
      "_view_module_version": "1.2.0",
      "bar_color": null,
      "_model_module": "@jupyter-widgets/controls"
     }
    },
    "2505adbe732d44caa57e257db880b1f6": {
     "model_module": "@jupyter-widgets/base",
     "model_name": "LayoutModel",
     "state": {
      "_view_name": "LayoutView",
      "grid_template_rows": null,
      "right": null,
      "justify_content": null,
      "_view_module": "@jupyter-widgets/base",
      "overflow": null,
      "_model_module_version": "1.2.0",
      "_view_count": null,
      "flex_flow": null,
      "width": null,
      "min_width": null,
      "border": null,
      "align_items": null,
      "bottom": null,
      "_model_module": "@jupyter-widgets/base",
      "top": null,
      "grid_column": null,
      "overflow_y": null,
      "overflow_x": null,
      "grid_auto_flow": null,
      "grid_area": null,
      "grid_template_columns": null,
      "flex": null,
      "_model_name": "LayoutModel",
      "justify_items": null,
      "grid_row": null,
      "max_height": null,
      "align_content": null,
      "visibility": null,
      "align_self": null,
      "height": null,
      "min_height": null,
      "padding": null,
      "grid_auto_rows": null,
      "grid_gap": null,
      "max_width": null,
      "order": null,
      "_view_module_version": "1.2.0",
      "grid_template_areas": null,
      "object_position": null,
      "object_fit": null,
      "grid_auto_columns": null,
      "margin": null,
      "display": null,
      "left": null
     }
    },
    "c9c6f0adca4246948c867281222b8b18": {
     "model_module": "@jupyter-widgets/controls",
     "model_name": "DescriptionStyleModel",
     "state": {
      "_view_name": "StyleView",
      "_model_name": "DescriptionStyleModel",
      "description_width": "",
      "_view_module": "@jupyter-widgets/base",
      "_model_module_version": "1.5.0",
      "_view_count": null,
      "_view_module_version": "1.2.0",
      "_model_module": "@jupyter-widgets/controls"
     }
    },
    "07ef2396169d409a9a16217b6968887e": {
     "model_module": "@jupyter-widgets/base",
     "model_name": "LayoutModel",
     "state": {
      "_view_name": "LayoutView",
      "grid_template_rows": null,
      "right": null,
      "justify_content": null,
      "_view_module": "@jupyter-widgets/base",
      "overflow": null,
      "_model_module_version": "1.2.0",
      "_view_count": null,
      "flex_flow": null,
      "width": null,
      "min_width": null,
      "border": null,
      "align_items": null,
      "bottom": null,
      "_model_module": "@jupyter-widgets/base",
      "top": null,
      "grid_column": null,
      "overflow_y": null,
      "overflow_x": null,
      "grid_auto_flow": null,
      "grid_area": null,
      "grid_template_columns": null,
      "flex": null,
      "_model_name": "LayoutModel",
      "justify_items": null,
      "grid_row": null,
      "max_height": null,
      "align_content": null,
      "visibility": null,
      "align_self": null,
      "height": null,
      "min_height": null,
      "padding": null,
      "grid_auto_rows": null,
      "grid_gap": null,
      "max_width": null,
      "order": null,
      "_view_module_version": "1.2.0",
      "grid_template_areas": null,
      "object_position": null,
      "object_fit": null,
      "grid_auto_columns": null,
      "margin": null,
      "display": null,
      "left": null
     }
    },
    "a3dffb58eec64c2ba1ea7dc231b2f7f2": {
     "model_module": "@jupyter-widgets/controls",
     "model_name": "HBoxModel",
     "state": {
      "_view_name": "HBoxView",
      "_dom_classes": [],
      "_model_name": "HBoxModel",
      "_view_module": "@jupyter-widgets/controls",
      "_model_module_version": "1.5.0",
      "_view_count": null,
      "_view_module_version": "1.5.0",
      "box_style": "",
      "layout": "IPY_MODEL_847992905b48456aa7e9185ed4b93002",
      "_model_module": "@jupyter-widgets/controls",
      "children": [
       "IPY_MODEL_77b5594989414ef0af4c4356d38e5e69",
       "IPY_MODEL_21695138bf7e497a9d1ace7b12ae48b4"
      ]
     }
    },
    "847992905b48456aa7e9185ed4b93002": {
     "model_module": "@jupyter-widgets/base",
     "model_name": "LayoutModel",
     "state": {
      "_view_name": "LayoutView",
      "grid_template_rows": null,
      "right": null,
      "justify_content": null,
      "_view_module": "@jupyter-widgets/base",
      "overflow": null,
      "_model_module_version": "1.2.0",
      "_view_count": null,
      "flex_flow": null,
      "width": null,
      "min_width": null,
      "border": null,
      "align_items": null,
      "bottom": null,
      "_model_module": "@jupyter-widgets/base",
      "top": null,
      "grid_column": null,
      "overflow_y": null,
      "overflow_x": null,
      "grid_auto_flow": null,
      "grid_area": null,
      "grid_template_columns": null,
      "flex": null,
      "_model_name": "LayoutModel",
      "justify_items": null,
      "grid_row": null,
      "max_height": null,
      "align_content": null,
      "visibility": null,
      "align_self": null,
      "height": null,
      "min_height": null,
      "padding": null,
      "grid_auto_rows": null,
      "grid_gap": null,
      "max_width": null,
      "order": null,
      "_view_module_version": "1.2.0",
      "grid_template_areas": null,
      "object_position": null,
      "object_fit": null,
      "grid_auto_columns": null,
      "margin": null,
      "display": null,
      "left": null
     }
    },
    "77b5594989414ef0af4c4356d38e5e69": {
     "model_module": "@jupyter-widgets/controls",
     "model_name": "FloatProgressModel",
     "state": {
      "_view_name": "ProgressView",
      "style": "IPY_MODEL_fb6a5efab8704ecf9df1c4067cf5545e",
      "_dom_classes": [],
      "description": "100%",
      "_model_name": "FloatProgressModel",
      "bar_style": "success",
      "max": 1458,
      "_view_module": "@jupyter-widgets/controls",
      "_model_module_version": "1.5.0",
      "value": 1458,
      "_view_count": null,
      "_view_module_version": "1.5.0",
      "orientation": "horizontal",
      "min": 0,
      "description_tooltip": null,
      "_model_module": "@jupyter-widgets/controls",
      "layout": "IPY_MODEL_71d42fe38f54428ca5eb35db1eec09d3"
     }
    },
    "21695138bf7e497a9d1ace7b12ae48b4": {
     "model_module": "@jupyter-widgets/controls",
     "model_name": "HTMLModel",
     "state": {
      "_view_name": "HTMLView",
      "style": "IPY_MODEL_73e9e76ec0314b45bcef81a39cd15375",
      "_dom_classes": [],
      "description": "",
      "_model_name": "HTMLModel",
      "placeholder": "​",
      "_view_module": "@jupyter-widgets/controls",
      "_model_module_version": "1.5.0",
      "value": " 1458/1458 [00:08&lt;00:00, 173.96ba/s]",
      "_view_count": null,
      "_view_module_version": "1.5.0",
      "description_tooltip": null,
      "_model_module": "@jupyter-widgets/controls",
      "layout": "IPY_MODEL_b712f56044804c5f829bb6e498c5b0f5"
     }
    },
    "fb6a5efab8704ecf9df1c4067cf5545e": {
     "model_module": "@jupyter-widgets/controls",
     "model_name": "ProgressStyleModel",
     "state": {
      "_view_name": "StyleView",
      "_model_name": "ProgressStyleModel",
      "description_width": "initial",
      "_view_module": "@jupyter-widgets/base",
      "_model_module_version": "1.5.0",
      "_view_count": null,
      "_view_module_version": "1.2.0",
      "bar_color": null,
      "_model_module": "@jupyter-widgets/controls"
     }
    },
    "71d42fe38f54428ca5eb35db1eec09d3": {
     "model_module": "@jupyter-widgets/base",
     "model_name": "LayoutModel",
     "state": {
      "_view_name": "LayoutView",
      "grid_template_rows": null,
      "right": null,
      "justify_content": null,
      "_view_module": "@jupyter-widgets/base",
      "overflow": null,
      "_model_module_version": "1.2.0",
      "_view_count": null,
      "flex_flow": null,
      "width": null,
      "min_width": null,
      "border": null,
      "align_items": null,
      "bottom": null,
      "_model_module": "@jupyter-widgets/base",
      "top": null,
      "grid_column": null,
      "overflow_y": null,
      "overflow_x": null,
      "grid_auto_flow": null,
      "grid_area": null,
      "grid_template_columns": null,
      "flex": null,
      "_model_name": "LayoutModel",
      "justify_items": null,
      "grid_row": null,
      "max_height": null,
      "align_content": null,
      "visibility": null,
      "align_self": null,
      "height": null,
      "min_height": null,
      "padding": null,
      "grid_auto_rows": null,
      "grid_gap": null,
      "max_width": null,
      "order": null,
      "_view_module_version": "1.2.0",
      "grid_template_areas": null,
      "object_position": null,
      "object_fit": null,
      "grid_auto_columns": null,
      "margin": null,
      "display": null,
      "left": null
     }
    },
    "73e9e76ec0314b45bcef81a39cd15375": {
     "model_module": "@jupyter-widgets/controls",
     "model_name": "DescriptionStyleModel",
     "state": {
      "_view_name": "StyleView",
      "_model_name": "DescriptionStyleModel",
      "description_width": "",
      "_view_module": "@jupyter-widgets/base",
      "_model_module_version": "1.5.0",
      "_view_count": null,
      "_view_module_version": "1.2.0",
      "_model_module": "@jupyter-widgets/controls"
     }
    },
    "b712f56044804c5f829bb6e498c5b0f5": {
     "model_module": "@jupyter-widgets/base",
     "model_name": "LayoutModel",
     "state": {
      "_view_name": "LayoutView",
      "grid_template_rows": null,
      "right": null,
      "justify_content": null,
      "_view_module": "@jupyter-widgets/base",
      "overflow": null,
      "_model_module_version": "1.2.0",
      "_view_count": null,
      "flex_flow": null,
      "width": null,
      "min_width": null,
      "border": null,
      "align_items": null,
      "bottom": null,
      "_model_module": "@jupyter-widgets/base",
      "top": null,
      "grid_column": null,
      "overflow_y": null,
      "overflow_x": null,
      "grid_auto_flow": null,
      "grid_area": null,
      "grid_template_columns": null,
      "flex": null,
      "_model_name": "LayoutModel",
      "justify_items": null,
      "grid_row": null,
      "max_height": null,
      "align_content": null,
      "visibility": null,
      "align_self": null,
      "height": null,
      "min_height": null,
      "padding": null,
      "grid_auto_rows": null,
      "grid_gap": null,
      "max_width": null,
      "order": null,
      "_view_module_version": "1.2.0",
      "grid_template_areas": null,
      "object_position": null,
      "object_fit": null,
      "grid_auto_columns": null,
      "margin": null,
      "display": null,
      "left": null
     }
    },
    "f0cf3e540ebe4264a0205ca533852670": {
     "model_module": "@jupyter-widgets/controls",
     "model_name": "HBoxModel",
     "state": {
      "_view_name": "HBoxView",
      "_dom_classes": [],
      "_model_name": "HBoxModel",
      "_view_module": "@jupyter-widgets/controls",
      "_model_module_version": "1.5.0",
      "_view_count": null,
      "_view_module_version": "1.5.0",
      "box_style": "",
      "layout": "IPY_MODEL_db5a27ecf8e64bdb94ec62b1d55cdddd",
      "_model_module": "@jupyter-widgets/controls",
      "children": [
       "IPY_MODEL_ed51e3ec29474667ba3a3888289a5d68",
       "IPY_MODEL_6a1580c9328d41c68ffed291369fc169"
      ]
     }
    },
    "db5a27ecf8e64bdb94ec62b1d55cdddd": {
     "model_module": "@jupyter-widgets/base",
     "model_name": "LayoutModel",
     "state": {
      "_view_name": "LayoutView",
      "grid_template_rows": null,
      "right": null,
      "justify_content": null,
      "_view_module": "@jupyter-widgets/base",
      "overflow": null,
      "_model_module_version": "1.2.0",
      "_view_count": null,
      "flex_flow": null,
      "width": null,
      "min_width": null,
      "border": null,
      "align_items": null,
      "bottom": null,
      "_model_module": "@jupyter-widgets/base",
      "top": null,
      "grid_column": null,
      "overflow_y": null,
      "overflow_x": null,
      "grid_auto_flow": null,
      "grid_area": null,
      "grid_template_columns": null,
      "flex": null,
      "_model_name": "LayoutModel",
      "justify_items": null,
      "grid_row": null,
      "max_height": null,
      "align_content": null,
      "visibility": null,
      "align_self": null,
      "height": null,
      "min_height": null,
      "padding": null,
      "grid_auto_rows": null,
      "grid_gap": null,
      "max_width": null,
      "order": null,
      "_view_module_version": "1.2.0",
      "grid_template_areas": null,
      "object_position": null,
      "object_fit": null,
      "grid_auto_columns": null,
      "margin": null,
      "display": null,
      "left": null
     }
    },
    "ed51e3ec29474667ba3a3888289a5d68": {
     "model_module": "@jupyter-widgets/controls",
     "model_name": "FloatProgressModel",
     "state": {
      "_view_name": "ProgressView",
      "style": "IPY_MODEL_020a2f3367c940a48244e73685ee131b",
      "_dom_classes": [],
      "description": "100%",
      "_model_name": "FloatProgressModel",
      "bar_style": "success",
      "max": 6694,
      "_view_module": "@jupyter-widgets/controls",
      "_model_module_version": "1.5.0",
      "value": 6694,
      "_view_count": null,
      "_view_module_version": "1.5.0",
      "orientation": "horizontal",
      "min": 0,
      "description_tooltip": null,
      "_model_module": "@jupyter-widgets/controls",
      "layout": "IPY_MODEL_48f376d7115b4b758029337feacfca31"
     }
    },
    "6a1580c9328d41c68ffed291369fc169": {
     "model_module": "@jupyter-widgets/controls",
     "model_name": "HTMLModel",
     "state": {
      "_view_name": "HTMLView",
      "style": "IPY_MODEL_93eb24e6fd1841c8a1725bdbc24f5a79",
      "_dom_classes": [],
      "description": "",
      "_model_name": "HTMLModel",
      "placeholder": "​",
      "_view_module": "@jupyter-widgets/controls",
      "_model_module_version": "1.5.0",
      "value": " 6694/6694 [06:02&lt;00:00, 18.46ba/s]",
      "_view_count": null,
      "_view_module_version": "1.5.0",
      "description_tooltip": null,
      "_model_module": "@jupyter-widgets/controls",
      "layout": "IPY_MODEL_52f553de8a074ebc92b5d25b1d9e6701"
     }
    },
    "020a2f3367c940a48244e73685ee131b": {
     "model_module": "@jupyter-widgets/controls",
     "model_name": "ProgressStyleModel",
     "state": {
      "_view_name": "StyleView",
      "_model_name": "ProgressStyleModel",
      "description_width": "initial",
      "_view_module": "@jupyter-widgets/base",
      "_model_module_version": "1.5.0",
      "_view_count": null,
      "_view_module_version": "1.2.0",
      "bar_color": null,
      "_model_module": "@jupyter-widgets/controls"
     }
    },
    "48f376d7115b4b758029337feacfca31": {
     "model_module": "@jupyter-widgets/base",
     "model_name": "LayoutModel",
     "state": {
      "_view_name": "LayoutView",
      "grid_template_rows": null,
      "right": null,
      "justify_content": null,
      "_view_module": "@jupyter-widgets/base",
      "overflow": null,
      "_model_module_version": "1.2.0",
      "_view_count": null,
      "flex_flow": null,
      "width": null,
      "min_width": null,
      "border": null,
      "align_items": null,
      "bottom": null,
      "_model_module": "@jupyter-widgets/base",
      "top": null,
      "grid_column": null,
      "overflow_y": null,
      "overflow_x": null,
      "grid_auto_flow": null,
      "grid_area": null,
      "grid_template_columns": null,
      "flex": null,
      "_model_name": "LayoutModel",
      "justify_items": null,
      "grid_row": null,
      "max_height": null,
      "align_content": null,
      "visibility": null,
      "align_self": null,
      "height": null,
      "min_height": null,
      "padding": null,
      "grid_auto_rows": null,
      "grid_gap": null,
      "max_width": null,
      "order": null,
      "_view_module_version": "1.2.0",
      "grid_template_areas": null,
      "object_position": null,
      "object_fit": null,
      "grid_auto_columns": null,
      "margin": null,
      "display": null,
      "left": null
     }
    },
    "93eb24e6fd1841c8a1725bdbc24f5a79": {
     "model_module": "@jupyter-widgets/controls",
     "model_name": "DescriptionStyleModel",
     "state": {
      "_view_name": "StyleView",
      "_model_name": "DescriptionStyleModel",
      "description_width": "",
      "_view_module": "@jupyter-widgets/base",
      "_model_module_version": "1.5.0",
      "_view_count": null,
      "_view_module_version": "1.2.0",
      "_model_module": "@jupyter-widgets/controls"
     }
    },
    "52f553de8a074ebc92b5d25b1d9e6701": {
     "model_module": "@jupyter-widgets/base",
     "model_name": "LayoutModel",
     "state": {
      "_view_name": "LayoutView",
      "grid_template_rows": null,
      "right": null,
      "justify_content": null,
      "_view_module": "@jupyter-widgets/base",
      "overflow": null,
      "_model_module_version": "1.2.0",
      "_view_count": null,
      "flex_flow": null,
      "width": null,
      "min_width": null,
      "border": null,
      "align_items": null,
      "bottom": null,
      "_model_module": "@jupyter-widgets/base",
      "top": null,
      "grid_column": null,
      "overflow_y": null,
      "overflow_x": null,
      "grid_auto_flow": null,
      "grid_area": null,
      "grid_template_columns": null,
      "flex": null,
      "_model_name": "LayoutModel",
      "justify_items": null,
      "grid_row": null,
      "max_height": null,
      "align_content": null,
      "visibility": null,
      "align_self": null,
      "height": null,
      "min_height": null,
      "padding": null,
      "grid_auto_rows": null,
      "grid_gap": null,
      "max_width": null,
      "order": null,
      "_view_module_version": "1.2.0",
      "grid_template_areas": null,
      "object_position": null,
      "object_fit": null,
      "grid_auto_columns": null,
      "margin": null,
      "display": null,
      "left": null
     }
    },
    "f673b441525140d3b140a69ee9ff46c0": {
     "model_module": "@jupyter-widgets/controls",
     "model_name": "HBoxModel",
     "state": {
      "_view_name": "HBoxView",
      "_dom_classes": [],
      "_model_name": "HBoxModel",
      "_view_module": "@jupyter-widgets/controls",
      "_model_module_version": "1.5.0",
      "_view_count": null,
      "_view_module_version": "1.5.0",
      "box_style": "",
      "layout": "IPY_MODEL_f344ebbb75ab4683a8365a7c5848644d",
      "_model_module": "@jupyter-widgets/controls",
      "children": [
       "IPY_MODEL_70fcb54f81594fbbaf74b2cc79facde0",
       "IPY_MODEL_782cc552d0354b9588df9bd4c59e9a9f"
      ]
     }
    },
    "f344ebbb75ab4683a8365a7c5848644d": {
     "model_module": "@jupyter-widgets/base",
     "model_name": "LayoutModel",
     "state": {
      "_view_name": "LayoutView",
      "grid_template_rows": null,
      "right": null,
      "justify_content": null,
      "_view_module": "@jupyter-widgets/base",
      "overflow": null,
      "_model_module_version": "1.2.0",
      "_view_count": null,
      "flex_flow": null,
      "width": null,
      "min_width": null,
      "border": null,
      "align_items": null,
      "bottom": null,
      "_model_module": "@jupyter-widgets/base",
      "top": null,
      "grid_column": null,
      "overflow_y": null,
      "overflow_x": null,
      "grid_auto_flow": null,
      "grid_area": null,
      "grid_template_columns": null,
      "flex": null,
      "_model_name": "LayoutModel",
      "justify_items": null,
      "grid_row": null,
      "max_height": null,
      "align_content": null,
      "visibility": null,
      "align_self": null,
      "height": null,
      "min_height": null,
      "padding": null,
      "grid_auto_rows": null,
      "grid_gap": null,
      "max_width": null,
      "order": null,
      "_view_module_version": "1.2.0",
      "grid_template_areas": null,
      "object_position": null,
      "object_fit": null,
      "grid_auto_columns": null,
      "margin": null,
      "display": null,
      "left": null
     }
    },
    "70fcb54f81594fbbaf74b2cc79facde0": {
     "model_module": "@jupyter-widgets/controls",
     "model_name": "FloatProgressModel",
     "state": {
      "_view_name": "ProgressView",
      "style": "IPY_MODEL_b94edb4f0cfb4bcfa7fb02f9e3488024",
      "_dom_classes": [],
      "description": "100%",
      "_model_name": "FloatProgressModel",
      "bar_style": "success",
      "max": 1458,
      "_view_module": "@jupyter-widgets/controls",
      "_model_module_version": "1.5.0",
      "value": 1458,
      "_view_count": null,
      "_view_module_version": "1.5.0",
      "orientation": "horizontal",
      "min": 0,
      "description_tooltip": null,
      "_model_module": "@jupyter-widgets/controls",
      "layout": "IPY_MODEL_869c0f3cf488484a847ed3be2929e632"
     }
    },
    "782cc552d0354b9588df9bd4c59e9a9f": {
     "model_module": "@jupyter-widgets/controls",
     "model_name": "HTMLModel",
     "state": {
      "_view_name": "HTMLView",
      "style": "IPY_MODEL_6fbb2211d08f49178f927a1352aa9152",
      "_dom_classes": [],
      "description": "",
      "_model_name": "HTMLModel",
      "placeholder": "​",
      "_view_module": "@jupyter-widgets/controls",
      "_model_module_version": "1.5.0",
      "value": " 1458/1458 [03:59&lt;00:00,  6.10ba/s]",
      "_view_count": null,
      "_view_module_version": "1.5.0",
      "description_tooltip": null,
      "_model_module": "@jupyter-widgets/controls",
      "layout": "IPY_MODEL_c171eeb5e5a743268916aa4fdc72caa4"
     }
    },
    "b94edb4f0cfb4bcfa7fb02f9e3488024": {
     "model_module": "@jupyter-widgets/controls",
     "model_name": "ProgressStyleModel",
     "state": {
      "_view_name": "StyleView",
      "_model_name": "ProgressStyleModel",
      "description_width": "initial",
      "_view_module": "@jupyter-widgets/base",
      "_model_module_version": "1.5.0",
      "_view_count": null,
      "_view_module_version": "1.2.0",
      "bar_color": null,
      "_model_module": "@jupyter-widgets/controls"
     }
    },
    "869c0f3cf488484a847ed3be2929e632": {
     "model_module": "@jupyter-widgets/base",
     "model_name": "LayoutModel",
     "state": {
      "_view_name": "LayoutView",
      "grid_template_rows": null,
      "right": null,
      "justify_content": null,
      "_view_module": "@jupyter-widgets/base",
      "overflow": null,
      "_model_module_version": "1.2.0",
      "_view_count": null,
      "flex_flow": null,
      "width": null,
      "min_width": null,
      "border": null,
      "align_items": null,
      "bottom": null,
      "_model_module": "@jupyter-widgets/base",
      "top": null,
      "grid_column": null,
      "overflow_y": null,
      "overflow_x": null,
      "grid_auto_flow": null,
      "grid_area": null,
      "grid_template_columns": null,
      "flex": null,
      "_model_name": "LayoutModel",
      "justify_items": null,
      "grid_row": null,
      "max_height": null,
      "align_content": null,
      "visibility": null,
      "align_self": null,
      "height": null,
      "min_height": null,
      "padding": null,
      "grid_auto_rows": null,
      "grid_gap": null,
      "max_width": null,
      "order": null,
      "_view_module_version": "1.2.0",
      "grid_template_areas": null,
      "object_position": null,
      "object_fit": null,
      "grid_auto_columns": null,
      "margin": null,
      "display": null,
      "left": null
     }
    },
    "6fbb2211d08f49178f927a1352aa9152": {
     "model_module": "@jupyter-widgets/controls",
     "model_name": "DescriptionStyleModel",
     "state": {
      "_view_name": "StyleView",
      "_model_name": "DescriptionStyleModel",
      "description_width": "",
      "_view_module": "@jupyter-widgets/base",
      "_model_module_version": "1.5.0",
      "_view_count": null,
      "_view_module_version": "1.2.0",
      "_model_module": "@jupyter-widgets/controls"
     }
    },
    "c171eeb5e5a743268916aa4fdc72caa4": {
     "model_module": "@jupyter-widgets/base",
     "model_name": "LayoutModel",
     "state": {
      "_view_name": "LayoutView",
      "grid_template_rows": null,
      "right": null,
      "justify_content": null,
      "_view_module": "@jupyter-widgets/base",
      "overflow": null,
      "_model_module_version": "1.2.0",
      "_view_count": null,
      "flex_flow": null,
      "width": null,
      "min_width": null,
      "border": null,
      "align_items": null,
      "bottom": null,
      "_model_module": "@jupyter-widgets/base",
      "top": null,
      "grid_column": null,
      "overflow_y": null,
      "overflow_x": null,
      "grid_auto_flow": null,
      "grid_area": null,
      "grid_template_columns": null,
      "flex": null,
      "_model_name": "LayoutModel",
      "justify_items": null,
      "grid_row": null,
      "max_height": null,
      "align_content": null,
      "visibility": null,
      "align_self": null,
      "height": null,
      "min_height": null,
      "padding": null,
      "grid_auto_rows": null,
      "grid_gap": null,
      "max_width": null,
      "order": null,
      "_view_module_version": "1.2.0",
      "grid_template_areas": null,
      "object_position": null,
      "object_fit": null,
      "grid_auto_columns": null,
      "margin": null,
      "display": null,
      "left": null
     }
    },
    "5a505df57f624bd69c398ce5578d2ed8": {
     "model_module": "@jupyter-widgets/controls",
     "model_name": "VBoxModel",
     "state": {
      "_view_name": "VBoxView",
      "_dom_classes": [],
      "_model_name": "VBoxModel",
      "_view_module": "@jupyter-widgets/controls",
      "_model_module_version": "1.5.0",
      "_view_count": null,
      "_view_module_version": "1.5.0",
      "box_style": "",
      "layout": "IPY_MODEL_f117b28bcc8c4edabb6ad4cdcbc3a963",
      "_model_module": "@jupyter-widgets/controls",
      "children": [
       "IPY_MODEL_af13542292664139a48f5dadd9792548",
       "IPY_MODEL_90c29815206f4acb806ed7d4fbc3bb0b"
      ]
     }
    },
    "f117b28bcc8c4edabb6ad4cdcbc3a963": {
     "model_module": "@jupyter-widgets/base",
     "model_name": "LayoutModel",
     "state": {
      "_view_name": "LayoutView",
      "grid_template_rows": null,
      "right": null,
      "justify_content": null,
      "_view_module": "@jupyter-widgets/base",
      "overflow": null,
      "_model_module_version": "1.2.0",
      "_view_count": null,
      "flex_flow": null,
      "width": null,
      "min_width": null,
      "border": null,
      "align_items": null,
      "bottom": null,
      "_model_module": "@jupyter-widgets/base",
      "top": null,
      "grid_column": null,
      "overflow_y": null,
      "overflow_x": null,
      "grid_auto_flow": null,
      "grid_area": null,
      "grid_template_columns": null,
      "flex": null,
      "_model_name": "LayoutModel",
      "justify_items": null,
      "grid_row": null,
      "max_height": null,
      "align_content": null,
      "visibility": null,
      "align_self": null,
      "height": null,
      "min_height": null,
      "padding": null,
      "grid_auto_rows": null,
      "grid_gap": null,
      "max_width": null,
      "order": null,
      "_view_module_version": "1.2.0",
      "grid_template_areas": null,
      "object_position": null,
      "object_fit": null,
      "grid_auto_columns": null,
      "margin": null,
      "display": null,
      "left": null
     }
    },
    "af13542292664139a48f5dadd9792548": {
     "model_module": "@jupyter-widgets/controls",
     "model_name": "LabelModel",
     "state": {
      "_view_name": "LabelView",
      "style": "IPY_MODEL_88fff69f5e644db7871cce81e13276b4",
      "_dom_classes": [],
      "description": "",
      "_model_name": "LabelModel",
      "placeholder": "​",
      "_view_module": "@jupyter-widgets/controls",
      "_model_module_version": "1.5.0",
      "value": " 20.56MB of 20.56MB uploaded (0.00MB deduped)\r",
      "_view_count": null,
      "_view_module_version": "1.5.0",
      "description_tooltip": null,
      "_model_module": "@jupyter-widgets/controls",
      "layout": "IPY_MODEL_4a6b87f895c640e5a925c6b548491d91"
     }
    },
    "90c29815206f4acb806ed7d4fbc3bb0b": {
     "model_module": "@jupyter-widgets/controls",
     "model_name": "FloatProgressModel",
     "state": {
      "_view_name": "ProgressView",
      "style": "IPY_MODEL_984b0f03044e4cb196879e920c31a12c",
      "_dom_classes": [],
      "description": "",
      "_model_name": "FloatProgressModel",
      "bar_style": "",
      "max": 1,
      "_view_module": "@jupyter-widgets/controls",
      "_model_module_version": "1.5.0",
      "value": 1,
      "_view_count": null,
      "_view_module_version": "1.5.0",
      "orientation": "horizontal",
      "min": 0,
      "description_tooltip": null,
      "_model_module": "@jupyter-widgets/controls",
      "layout": "IPY_MODEL_b84dcf8b5af54cc1b14ef414aa6092be"
     }
    },
    "88fff69f5e644db7871cce81e13276b4": {
     "model_module": "@jupyter-widgets/controls",
     "model_name": "DescriptionStyleModel",
     "state": {
      "_view_name": "StyleView",
      "_model_name": "DescriptionStyleModel",
      "description_width": "",
      "_view_module": "@jupyter-widgets/base",
      "_model_module_version": "1.5.0",
      "_view_count": null,
      "_view_module_version": "1.2.0",
      "_model_module": "@jupyter-widgets/controls"
     }
    },
    "4a6b87f895c640e5a925c6b548491d91": {
     "model_module": "@jupyter-widgets/base",
     "model_name": "LayoutModel",
     "state": {
      "_view_name": "LayoutView",
      "grid_template_rows": null,
      "right": null,
      "justify_content": null,
      "_view_module": "@jupyter-widgets/base",
      "overflow": null,
      "_model_module_version": "1.2.0",
      "_view_count": null,
      "flex_flow": null,
      "width": null,
      "min_width": null,
      "border": null,
      "align_items": null,
      "bottom": null,
      "_model_module": "@jupyter-widgets/base",
      "top": null,
      "grid_column": null,
      "overflow_y": null,
      "overflow_x": null,
      "grid_auto_flow": null,
      "grid_area": null,
      "grid_template_columns": null,
      "flex": null,
      "_model_name": "LayoutModel",
      "justify_items": null,
      "grid_row": null,
      "max_height": null,
      "align_content": null,
      "visibility": null,
      "align_self": null,
      "height": null,
      "min_height": null,
      "padding": null,
      "grid_auto_rows": null,
      "grid_gap": null,
      "max_width": null,
      "order": null,
      "_view_module_version": "1.2.0",
      "grid_template_areas": null,
      "object_position": null,
      "object_fit": null,
      "grid_auto_columns": null,
      "margin": null,
      "display": null,
      "left": null
     }
    },
    "984b0f03044e4cb196879e920c31a12c": {
     "model_module": "@jupyter-widgets/controls",
     "model_name": "ProgressStyleModel",
     "state": {
      "_view_name": "StyleView",
      "_model_name": "ProgressStyleModel",
      "description_width": "",
      "_view_module": "@jupyter-widgets/base",
      "_model_module_version": "1.5.0",
      "_view_count": null,
      "_view_module_version": "1.2.0",
      "bar_color": null,
      "_model_module": "@jupyter-widgets/controls"
     }
    },
    "b84dcf8b5af54cc1b14ef414aa6092be": {
     "model_module": "@jupyter-widgets/base",
     "model_name": "LayoutModel",
     "state": {
      "_view_name": "LayoutView",
      "grid_template_rows": null,
      "right": null,
      "justify_content": null,
      "_view_module": "@jupyter-widgets/base",
      "overflow": null,
      "_model_module_version": "1.2.0",
      "_view_count": null,
      "flex_flow": null,
      "width": null,
      "min_width": null,
      "border": null,
      "align_items": null,
      "bottom": null,
      "_model_module": "@jupyter-widgets/base",
      "top": null,
      "grid_column": null,
      "overflow_y": null,
      "overflow_x": null,
      "grid_auto_flow": null,
      "grid_area": null,
      "grid_template_columns": null,
      "flex": null,
      "_model_name": "LayoutModel",
      "justify_items": null,
      "grid_row": null,
      "max_height": null,
      "align_content": null,
      "visibility": null,
      "align_self": null,
      "height": null,
      "min_height": null,
      "padding": null,
      "grid_auto_rows": null,
      "grid_gap": null,
      "max_width": null,
      "order": null,
      "_view_module_version": "1.2.0",
      "grid_template_areas": null,
      "object_position": null,
      "object_fit": null,
      "grid_auto_columns": null,
      "margin": null,
      "display": null,
      "left": null
     }
    }
   }
  }
 },
 "cells": [
  {
   "cell_type": "markdown",
   "source": [
    "[![Open In Colab](https://colab.research.google.com/assets/colab-badge.svg)](https://github.com/cdrc1103/MasterThesis/blob/master/Experiments/MultiLabel/BERTEnsemble.ipynb)"
   ],
   "metadata": {
    "collapsed": false
   }
  },
  {
   "cell_type": "markdown",
   "metadata": {
    "id": "QZfYS_c4AvIL"
   },
   "source": [
    "### Setup Notebook"
   ]
  },
  {
   "cell_type": "code",
   "metadata": {
    "colab": {
     "base_uri": "https://localhost:8080/"
    },
    "id": "4kryQhZfMxu2",
    "executionInfo": {
     "status": "ok",
     "timestamp": 1625068951674,
     "user_tz": -120,
     "elapsed": 12199,
     "user": {
      "displayName": "Cedric Issel",
      "photoUrl": "",
      "userId": "07537599327357681724"
     }
    },
    "outputId": "dd506dcf-456f-4af6-f5f8-d2310d6b7c90"
   },
   "source": [
    "import tensorflow as tf\n",
    "import os\n",
    "\n",
    "TPU_WORKER = 'grpc://' + os.environ['COLAB_TPU_ADDR']\n",
    "resolver = tf.distribute.cluster_resolver.TPUClusterResolver(tpu=TPU_WORKER)\n",
    "tf.config.experimental_connect_to_cluster(resolver)\n",
    "# This is the TPU initialization code that has to be at the beginning.\n",
    "tf.tpu.experimental.initialize_tpu_system(resolver)\n",
    "print(\"All devices: \", tf.config.list_logical_devices('TPU'))\n",
    "strategy = tf.distribute.TPUStrategy(resolver)"
   ],
   "execution_count": null,
   "outputs": [
    {
     "output_type": "stream",
     "text": [
      "WARNING:tensorflow:TPU system grpc://10.104.224.2:8470 has already been initialized. Reinitializing the TPU can cause previously created variables on TPU to be lost.\n"
     ],
     "name": "stdout"
    },
    {
     "output_type": "stream",
     "text": [
      "WARNING:tensorflow:TPU system grpc://10.104.224.2:8470 has already been initialized. Reinitializing the TPU can cause previously created variables on TPU to be lost.\n"
     ],
     "name": "stderr"
    },
    {
     "output_type": "stream",
     "text": [
      "INFO:tensorflow:Initializing the TPU system: grpc://10.104.224.2:8470\n"
     ],
     "name": "stdout"
    },
    {
     "output_type": "stream",
     "text": [
      "INFO:tensorflow:Initializing the TPU system: grpc://10.104.224.2:8470\n"
     ],
     "name": "stderr"
    },
    {
     "output_type": "stream",
     "text": [
      "INFO:tensorflow:Clearing out eager caches\n"
     ],
     "name": "stdout"
    },
    {
     "output_type": "stream",
     "text": [
      "INFO:tensorflow:Clearing out eager caches\n"
     ],
     "name": "stderr"
    },
    {
     "output_type": "stream",
     "text": [
      "INFO:tensorflow:Finished initializing TPU system.\n"
     ],
     "name": "stdout"
    },
    {
     "output_type": "stream",
     "text": [
      "INFO:tensorflow:Finished initializing TPU system.\n"
     ],
     "name": "stderr"
    },
    {
     "output_type": "stream",
     "text": [
      "All devices:  [LogicalDevice(name='/job:worker/replica:0/task:0/device:TPU:7', device_type='TPU'), LogicalDevice(name='/job:worker/replica:0/task:0/device:TPU:6', device_type='TPU'), LogicalDevice(name='/job:worker/replica:0/task:0/device:TPU:5', device_type='TPU'), LogicalDevice(name='/job:worker/replica:0/task:0/device:TPU:4', device_type='TPU'), LogicalDevice(name='/job:worker/replica:0/task:0/device:TPU:3', device_type='TPU'), LogicalDevice(name='/job:worker/replica:0/task:0/device:TPU:0', device_type='TPU'), LogicalDevice(name='/job:worker/replica:0/task:0/device:TPU:1', device_type='TPU'), LogicalDevice(name='/job:worker/replica:0/task:0/device:TPU:2', device_type='TPU')]\n",
      "INFO:tensorflow:Found TPU system:\n"
     ],
     "name": "stdout"
    },
    {
     "output_type": "stream",
     "text": [
      "INFO:tensorflow:Found TPU system:\n"
     ],
     "name": "stderr"
    },
    {
     "output_type": "stream",
     "text": [
      "INFO:tensorflow:*** Num TPU Cores: 8\n"
     ],
     "name": "stdout"
    },
    {
     "output_type": "stream",
     "text": [
      "INFO:tensorflow:*** Num TPU Cores: 8\n"
     ],
     "name": "stderr"
    },
    {
     "output_type": "stream",
     "text": [
      "INFO:tensorflow:*** Num TPU Workers: 1\n"
     ],
     "name": "stdout"
    },
    {
     "output_type": "stream",
     "text": [
      "INFO:tensorflow:*** Num TPU Workers: 1\n"
     ],
     "name": "stderr"
    },
    {
     "output_type": "stream",
     "text": [
      "INFO:tensorflow:*** Num TPU Cores Per Worker: 8\n"
     ],
     "name": "stdout"
    },
    {
     "output_type": "stream",
     "text": [
      "INFO:tensorflow:*** Num TPU Cores Per Worker: 8\n"
     ],
     "name": "stderr"
    },
    {
     "output_type": "stream",
     "text": [
      "INFO:tensorflow:*** Available Device: _DeviceAttributes(/job:localhost/replica:0/task:0/device:CPU:0, CPU, 0, 0)\n"
     ],
     "name": "stdout"
    },
    {
     "output_type": "stream",
     "text": [
      "INFO:tensorflow:*** Available Device: _DeviceAttributes(/job:localhost/replica:0/task:0/device:CPU:0, CPU, 0, 0)\n"
     ],
     "name": "stderr"
    },
    {
     "output_type": "stream",
     "text": [
      "INFO:tensorflow:*** Available Device: _DeviceAttributes(/job:worker/replica:0/task:0/device:CPU:0, CPU, 0, 0)\n"
     ],
     "name": "stdout"
    },
    {
     "output_type": "stream",
     "text": [
      "INFO:tensorflow:*** Available Device: _DeviceAttributes(/job:worker/replica:0/task:0/device:CPU:0, CPU, 0, 0)\n"
     ],
     "name": "stderr"
    },
    {
     "output_type": "stream",
     "text": [
      "INFO:tensorflow:*** Available Device: _DeviceAttributes(/job:worker/replica:0/task:0/device:TPU:0, TPU, 0, 0)\n"
     ],
     "name": "stdout"
    },
    {
     "output_type": "stream",
     "text": [
      "INFO:tensorflow:*** Available Device: _DeviceAttributes(/job:worker/replica:0/task:0/device:TPU:0, TPU, 0, 0)\n"
     ],
     "name": "stderr"
    },
    {
     "output_type": "stream",
     "text": [
      "INFO:tensorflow:*** Available Device: _DeviceAttributes(/job:worker/replica:0/task:0/device:TPU:1, TPU, 0, 0)\n"
     ],
     "name": "stdout"
    },
    {
     "output_type": "stream",
     "text": [
      "INFO:tensorflow:*** Available Device: _DeviceAttributes(/job:worker/replica:0/task:0/device:TPU:1, TPU, 0, 0)\n"
     ],
     "name": "stderr"
    },
    {
     "output_type": "stream",
     "text": [
      "INFO:tensorflow:*** Available Device: _DeviceAttributes(/job:worker/replica:0/task:0/device:TPU:2, TPU, 0, 0)\n"
     ],
     "name": "stdout"
    },
    {
     "output_type": "stream",
     "text": [
      "INFO:tensorflow:*** Available Device: _DeviceAttributes(/job:worker/replica:0/task:0/device:TPU:2, TPU, 0, 0)\n"
     ],
     "name": "stderr"
    },
    {
     "output_type": "stream",
     "text": [
      "INFO:tensorflow:*** Available Device: _DeviceAttributes(/job:worker/replica:0/task:0/device:TPU:3, TPU, 0, 0)\n"
     ],
     "name": "stdout"
    },
    {
     "output_type": "stream",
     "text": [
      "INFO:tensorflow:*** Available Device: _DeviceAttributes(/job:worker/replica:0/task:0/device:TPU:3, TPU, 0, 0)\n"
     ],
     "name": "stderr"
    },
    {
     "output_type": "stream",
     "text": [
      "INFO:tensorflow:*** Available Device: _DeviceAttributes(/job:worker/replica:0/task:0/device:TPU:4, TPU, 0, 0)\n"
     ],
     "name": "stdout"
    },
    {
     "output_type": "stream",
     "text": [
      "INFO:tensorflow:*** Available Device: _DeviceAttributes(/job:worker/replica:0/task:0/device:TPU:4, TPU, 0, 0)\n"
     ],
     "name": "stderr"
    },
    {
     "output_type": "stream",
     "text": [
      "INFO:tensorflow:*** Available Device: _DeviceAttributes(/job:worker/replica:0/task:0/device:TPU:5, TPU, 0, 0)\n"
     ],
     "name": "stdout"
    },
    {
     "output_type": "stream",
     "text": [
      "INFO:tensorflow:*** Available Device: _DeviceAttributes(/job:worker/replica:0/task:0/device:TPU:5, TPU, 0, 0)\n"
     ],
     "name": "stderr"
    },
    {
     "output_type": "stream",
     "text": [
      "INFO:tensorflow:*** Available Device: _DeviceAttributes(/job:worker/replica:0/task:0/device:TPU:6, TPU, 0, 0)\n"
     ],
     "name": "stdout"
    },
    {
     "output_type": "stream",
     "text": [
      "INFO:tensorflow:*** Available Device: _DeviceAttributes(/job:worker/replica:0/task:0/device:TPU:6, TPU, 0, 0)\n"
     ],
     "name": "stderr"
    },
    {
     "output_type": "stream",
     "text": [
      "INFO:tensorflow:*** Available Device: _DeviceAttributes(/job:worker/replica:0/task:0/device:TPU:7, TPU, 0, 0)\n"
     ],
     "name": "stdout"
    },
    {
     "output_type": "stream",
     "text": [
      "INFO:tensorflow:*** Available Device: _DeviceAttributes(/job:worker/replica:0/task:0/device:TPU:7, TPU, 0, 0)\n"
     ],
     "name": "stderr"
    },
    {
     "output_type": "stream",
     "text": [
      "INFO:tensorflow:*** Available Device: _DeviceAttributes(/job:worker/replica:0/task:0/device:TPU_SYSTEM:0, TPU_SYSTEM, 0, 0)\n"
     ],
     "name": "stdout"
    },
    {
     "output_type": "stream",
     "text": [
      "INFO:tensorflow:*** Available Device: _DeviceAttributes(/job:worker/replica:0/task:0/device:TPU_SYSTEM:0, TPU_SYSTEM, 0, 0)\n"
     ],
     "name": "stderr"
    },
    {
     "output_type": "stream",
     "text": [
      "INFO:tensorflow:*** Available Device: _DeviceAttributes(/job:worker/replica:0/task:0/device:XLA_CPU:0, XLA_CPU, 0, 0)\n"
     ],
     "name": "stdout"
    },
    {
     "output_type": "stream",
     "text": [
      "INFO:tensorflow:*** Available Device: _DeviceAttributes(/job:worker/replica:0/task:0/device:XLA_CPU:0, XLA_CPU, 0, 0)\n"
     ],
     "name": "stderr"
    }
   ]
  },
  {
   "cell_type": "code",
   "metadata": {
    "id": "fJCzGfbwJvjM"
   },
   "source": [
    "%%capture\n",
    "%matplotlib inline\n",
    "!pip install wandb\n",
    "!pip install -qq transformers\n",
    "!pip install datasets"
   ],
   "execution_count": null,
   "outputs": []
  },
  {
   "cell_type": "code",
   "metadata": {
    "colab": {
     "base_uri": "https://localhost:8080/"
    },
    "id": "bd8hN16VJ72r",
    "executionInfo": {
     "status": "ok",
     "timestamp": 1625064936178,
     "user_tz": -120,
     "elapsed": 15693,
     "user": {
      "displayName": "Cedric Issel",
      "photoUrl": "",
      "userId": "07537599327357681724"
     }
    },
    "outputId": "d74df151-ae39-4b4c-9b7b-30dc549b9d15"
   },
   "source": [
    "from google.colab import drive\n",
    "drive.mount('/content/gdrive', force_remount=True)"
   ],
   "execution_count": null,
   "outputs": [
    {
     "output_type": "stream",
     "text": [
      "Mounted at /content/gdrive\n"
     ],
     "name": "stdout"
    }
   ]
  },
  {
   "cell_type": "markdown",
   "metadata": {
    "id": "XjrnXGQYA5Mg"
   },
   "source": [
    "## Data & Parameters\n",
    "\n"
   ]
  },
  {
   "cell_type": "code",
   "metadata": {
    "colab": {
     "base_uri": "https://localhost:8080/"
    },
    "id": "KSUYkbL8G0Vh",
    "executionInfo": {
     "status": "ok",
     "timestamp": 1625068968346,
     "user_tz": -120,
     "elapsed": 5639,
     "user": {
      "displayName": "Cedric Issel",
      "photoUrl": "",
      "userId": "07537599327357681724"
     }
    },
    "outputId": "78bb84b7-ee5d-46e4-df90-04598275eba0"
   },
   "source": [
    "import json\n",
    "from pathlib import Path\n",
    "import pandas as pd\n",
    "import pickle\n",
    "pd.options.mode.chained_assignment = None  # default='warn'\n",
    "\n",
    "RUN_ID = \"2.4_ATC5000MIX_L2\"\n",
    "BASE_DIR = Path(f\"gdrive/MyDrive/Colab Notebooks/Thesis\")\n",
    "RUN_DIR = BASE_DIR / \"MultiLabel/Runs\"\n",
    "\n",
    "# Load parameters\n",
    "class Parameter():\n",
    "  def __init__(self):\n",
    "    self.__dict__ = {\n",
    "      \"project_name\": \"thesis_multi-label\",\n",
    "      \"train_dataset\": \"train_ATC5000MIX.csv\",\n",
    "      \"test_dataset\": \"test_ATC5000MIX.csv\",\n",
    "      \"embedding_dataset\": \"bert-for-patents\",\n",
    "      \"max_tokens\": 39000, # vocabulary size\n",
    "      \"embedding_dim\": 1024,\n",
    "      \"batch_size\": 32,\n",
    "      \"learning_rate\": 2e-5,\n",
    "      \"epochs\": 2, \n",
    "      \"seed\": 1, # random seed for reproducability\n",
    "      \"logging\": True, # whether to log to the wandb database (True) or to disk (False)\n",
    "      \"n_classes\": 18,\n",
    "      \"in_feature\": [\"abstract\", \"title\", \"claim\"], # feature used for training\n",
    "      \"max_token_length\": 30, # number of words/subwords, an instance is truncated to\n",
    "      \"out_feature\": \"label\", # feature to predict\n",
    "      \"output_size\": 1024, # output size of the language processing layer, i.e. the CNN, GRU etc. layer\n",
    "      \"dropout_rate\": 0.1, # for regularization\n",
    "      \"threshold\": 0.5\n",
    "    }\n",
    "\n",
    "# Save to disk          \n",
    "PARAMS = Parameter()\n",
    "with open(RUN_DIR / f\"{RUN_ID}.json\", \"w\") as f:\n",
    "  json.dump(PARAMS.__dict__, f)\n",
    "\n",
    "# Read data sets\n",
    "train_df = pd.read_csv(BASE_DIR / PARAMS.train_dataset, index_col=0)\n",
    "train_df = train_df.sample(frac=1, random_state=PARAMS.seed)\n",
    "x_train = train_df[PARAMS.in_feature]\n",
    "y_train = train_df[train_df.columns.difference(PARAMS.in_feature, sort=False)].to_numpy()\n",
    "test_df = pd.read_csv(BASE_DIR / PARAMS.test_dataset, index_col=0)\n",
    "test_df = test_df.sample(frac=1, random_state=PARAMS.seed)\n",
    "x_test = test_df[PARAMS.in_feature]\n",
    "y_test = test_df[test_df.columns.difference(PARAMS.in_feature, sort=False)].to_numpy()\n",
    "\n",
    "# Print stats\n",
    "print(f\"Train data set:{len(train_df)} instances\")\n",
    "print(f\"Test data set:{len(test_df)} instances\")"
   ],
   "execution_count": null,
   "outputs": [
    {
     "output_type": "stream",
     "text": [
      "Train data set:214199 instances\n",
      "Test data set:46653 instances\n"
     ],
     "name": "stdout"
    }
   ]
  },
  {
   "cell_type": "markdown",
   "metadata": {
    "id": "fxkr8VbgTtl4"
   },
   "source": [
    "## Configure logging"
   ]
  },
  {
   "cell_type": "code",
   "metadata": {
    "colab": {
     "base_uri": "https://localhost:8080/",
     "height": 141
    },
    "id": "R-5Yz7jHTo3W",
    "executionInfo": {
     "status": "ok",
     "timestamp": 1625068973132,
     "user_tz": -120,
     "elapsed": 4392,
     "user": {
      "displayName": "Cedric Issel",
      "photoUrl": "",
      "userId": "07537599327357681724"
     }
    },
    "outputId": "b1b954e5-7aa1-4353-9b51-2925cfa8a6e7"
   },
   "source": [
    "# Logging\n",
    "import wandb\n",
    "\n",
    "# log to wandb\n",
    "if PARAMS.logging:\n",
    "    !wandb login\n",
    "    run = wandb.init(project=PARAMS.project_name)\n",
    "    run.name = RUN_ID\n",
    "    log_dir = Path(wandb.run.dir)\n",
    "    wandb.config.update(PARAMS.__dict__)\n",
    "# log to disk\n",
    "else:\n",
    "    log_dir = RUN_DIR"
   ],
   "execution_count": null,
   "outputs": [
    {
     "output_type": "stream",
     "text": [
      "\u001B[34m\u001B[1mwandb\u001B[0m: Currently logged in as: \u001B[33mcdrc1103\u001B[0m (use `wandb login --relogin` to force relogin)\n"
     ],
     "name": "stdout"
    },
    {
     "output_type": "display_data",
     "data": {
      "text/html": [
       "\n",
       "                Tracking run with wandb version 0.10.33<br/>\n",
       "                Syncing run <strong style=\"color:#cdcd00\">still-totem-57</strong> to <a href=\"https://wandb.ai\" target=\"_blank\">Weights & Biases</a> <a href=\"https://docs.wandb.com/integrations/jupyter.html\" target=\"_blank\">(Documentation)</a>.<br/>\n",
       "                Project page: <a href=\"https://wandb.ai/cdrc1103/thesis_multi-label\" target=\"_blank\">https://wandb.ai/cdrc1103/thesis_multi-label</a><br/>\n",
       "                Run page: <a href=\"https://wandb.ai/cdrc1103/thesis_multi-label/runs/1p9h7jqt\" target=\"_blank\">https://wandb.ai/cdrc1103/thesis_multi-label/runs/1p9h7jqt</a><br/>\n",
       "                Run data is saved locally in <code>/content/wandb/run-20210630_160249-1p9h7jqt</code><br/><br/>\n",
       "            "
      ],
      "text/plain": [
       "<IPython.core.display.HTML object>"
      ]
     },
     "metadata": {
      "tags": []
     }
    }
   ]
  },
  {
   "cell_type": "markdown",
   "metadata": {
    "id": "oilWdVtbYiDd"
   },
   "source": [
    "## Model"
   ]
  },
  {
   "cell_type": "code",
   "metadata": {
    "colab": {
     "base_uri": "https://localhost:8080/",
     "height": 376,
     "referenced_widgets": [
      "613ea41b340649828f322e2395a5a808",
      "481e3709d4214dd79e292283ab6ef5e1",
      "630619a7d0e44839a3ce7504e159ebd9",
      "d6ee90219db74ffe8b0eab453c32b417",
      "fae067c355964b8d9b45591b56c5fa36",
      "3421a784635f4799b61505fbda7b6c85",
      "e0f65c3a619a4423b4ba2ec047a87186",
      "648591ddd3924cebb17a7f3ed44d056d",
      "21576aff7377473cb780aa0a30d378bb",
      "8a7f50bc259f49bdb1ed9de5baea4ad0",
      "7cd349f5beea411eb9bac751e19a0a44",
      "fcca8a7a23fa4a7bb36b12c5bae0949f",
      "cb12547fc31f4e408d61c23faa4bd498",
      "9586c68b6e214cea8597ea2f7931e12a",
      "7b544437661b4b7583265c4756bcf72f",
      "7a7c0db7869a4c86b3a4e53c3024971a",
      "19859622421042efa3650b9aac68889f",
      "e1815b83fe7943e6b8de8013c23d82e9",
      "b24b0cc339204427bb20a2d214a332d9",
      "08f59a17e94f4acab62d075e3d210cfd",
      "ff111d60e3aa4018a78dec2996a46afa",
      "2505adbe732d44caa57e257db880b1f6",
      "c9c6f0adca4246948c867281222b8b18",
      "07ef2396169d409a9a16217b6968887e",
      "a3dffb58eec64c2ba1ea7dc231b2f7f2",
      "847992905b48456aa7e9185ed4b93002",
      "77b5594989414ef0af4c4356d38e5e69",
      "21695138bf7e497a9d1ace7b12ae48b4",
      "fb6a5efab8704ecf9df1c4067cf5545e",
      "71d42fe38f54428ca5eb35db1eec09d3",
      "73e9e76ec0314b45bcef81a39cd15375",
      "b712f56044804c5f829bb6e498c5b0f5",
      "f0cf3e540ebe4264a0205ca533852670",
      "db5a27ecf8e64bdb94ec62b1d55cdddd",
      "ed51e3ec29474667ba3a3888289a5d68",
      "6a1580c9328d41c68ffed291369fc169",
      "020a2f3367c940a48244e73685ee131b",
      "48f376d7115b4b758029337feacfca31",
      "93eb24e6fd1841c8a1725bdbc24f5a79",
      "52f553de8a074ebc92b5d25b1d9e6701",
      "f673b441525140d3b140a69ee9ff46c0",
      "f344ebbb75ab4683a8365a7c5848644d",
      "70fcb54f81594fbbaf74b2cc79facde0",
      "782cc552d0354b9588df9bd4c59e9a9f",
      "b94edb4f0cfb4bcfa7fb02f9e3488024",
      "869c0f3cf488484a847ed3be2929e632",
      "6fbb2211d08f49178f927a1352aa9152",
      "c171eeb5e5a743268916aa4fdc72caa4"
     ]
    },
    "id": "J9V8W_rGZtgl",
    "executionInfo": {
     "status": "ok",
     "timestamp": 1625069430666,
     "user_tz": -120,
     "elapsed": 457541,
     "user": {
      "displayName": "Cedric Issel",
      "photoUrl": "",
      "userId": "07537599327357681724"
     }
    },
    "outputId": "44037e49-3776-4250-f347-1929439e4215"
   },
   "source": [
    "\"\"\" Dependencies \"\"\"\n",
    "import numpy as np\n",
    "import tensorflow as tf\n",
    "from tensorflow.keras.layers import Input, Dropout, Dense, Concatenate\n",
    "from tensorflow.keras.layers.experimental.preprocessing import TextVectorization\n",
    "from tensorflow.keras.models import Model\n",
    "from tensorflow.keras.optimizers import Adam\n",
    "from tensorflow.keras.losses import BinaryCrossentropy\n",
    "from tensorflow.keras.metrics import Precision, Recall\n",
    "from tensorflow.keras.utils import plot_model\n",
    "from transformers import TFBertModel, BertTokenizerFast, BertConfig\n",
    "from datasets import Dataset\n",
    "\n",
    "\"\"\" Configure tokenizer \"\"\"\n",
    "config = BertConfig.from_json_file(BASE_DIR/\"bert_for_patents_large_config.json\")\n",
    "config.num_labels=PARAMS.n_classes\n",
    "tokenizer = BertTokenizerFast(BASE_DIR/\"bert_for_patents_vocab_39k.txt\", config=config)\n",
    "\n",
    "\"\"\" Create TF datasets \"\"\"\n",
    "# Aggregate features\n",
    "x_train = Dataset.from_pandas(pd.DataFrame(x_train))\n",
    "x_test = Dataset.from_pandas(pd.DataFrame(x_test))\n",
    "\n",
    "# Tokenize\n",
    "def tokenize(batch):\n",
    "    return tokenizer(batch, truncation=True, padding=True, max_length=PARAMS.max_token_length)\n",
    "\n",
    "x_train_tok = []\n",
    "x_test_tok = []\n",
    "for i, f in enumerate(PARAMS.in_feature):\n",
    "  x_train_tok.append(x_train.map(tokenize, batched=True, batch_size=PARAMS.batch_size, input_columns=f))\n",
    "  x_train_tok[i] = x_train_tok[i].rename_column(\"attention_mask\", f\"attention_mask{i}\")\n",
    "  x_train_tok[i] = x_train_tok[i].rename_column(\"input_ids\", f\"input_ids{i}\")\n",
    "  x_test_tok.append(x_test.map(tokenize, batched=True, batch_size=PARAMS.batch_size, input_columns=f))\n",
    "  x_test_tok[i] = x_test_tok[i].rename_column(\"attention_mask\", f\"attention_mask{i}\")\n",
    "  x_test_tok[i] = x_test_tok[i].rename_column(\"input_ids\", f\"input_ids{i}\")\n",
    "\n",
    "# Create TF datasets\n",
    "x_train_ds = {}\n",
    "x_test_ds = {}\n",
    "\n",
    "for i,f in enumerate(PARAMS.in_feature):\n",
    "  # Transform to tensorflow data set\n",
    "  x_train_tok[i].set_format(type='tensorflow', columns=[f'attention_mask{i}',f'input_ids{i}'])\n",
    "  x_train_ds.update({x: x_train_tok[i][x].to_tensor(default_value=0) for x in [f'input_ids{i}', f'attention_mask{i}']})\n",
    "  # Transform validation data set\n",
    "  x_test_tok[i].set_format(type='tensorflow', columns=[f'attention_mask{i}',f'input_ids{i}'])\n",
    "  x_test_ds.update({x: x_test_tok[i][x].to_tensor(default_value=0) for x in [f'input_ids{i}', f'attention_mask{i}']})\n",
    "\n",
    "train_ds = tf.data.Dataset.from_tensor_slices((x_train_ds, y_train)).batch(PARAMS.batch_size)\n",
    "test_ds = tf.data.Dataset.from_tensor_slices((x_test_ds, y_test)).batch(PARAMS.batch_size)\n",
    "\n",
    "def build_model():\n",
    "  input_ids = []\n",
    "  attention_mask = []\n",
    "  embedding = []\n",
    "  dropout = []\n",
    "  input = {}\n",
    "\n",
    "  transformer_model = TFBertModel.from_pretrained(BASE_DIR/\"pytorch_model.bin\", config=config, from_pt=True)\n",
    "  for i, f in enumerate(PARAMS.in_feature):\n",
    "    input_ids.append(Input(shape=PARAMS.max_token_length, name=f'input_ids{i}', dtype='int32'))\n",
    "    attention_mask.append(Input(shape=PARAMS.max_token_length, name=f'attention_mask{i}', dtype='int32'))\n",
    "    input[f\"input_ids{i}\"] = input_ids[i]\n",
    "    input[f\"attention_mask{i}\"] = attention_mask[i]\n",
    "    embedding.append(transformer_model.layers[0](input_ids[i], attention_mask=attention_mask[i])[1])\n",
    "    dropout.append(Dropout(PARAMS.dropout_rate)(embedding[i]))\n",
    "  concat = Concatenate(axis=1)(dropout)\n",
    "  output = Dense(PARAMS.n_classes, activation='sigmoid')(concat)\n",
    "  return Model(inputs=input, outputs=output)"
   ],
   "execution_count": null,
   "outputs": [
    {
     "output_type": "display_data",
     "data": {
      "application/vnd.jupyter.widget-view+json": {
       "model_id": "613ea41b340649828f322e2395a5a808",
       "version_minor": 0,
       "version_major": 2
      },
      "text/plain": [
       "HBox(children=(FloatProgress(value=0.0, max=6694.0), HTML(value='')))"
      ]
     },
     "metadata": {
      "tags": []
     }
    },
    {
     "output_type": "stream",
     "text": [
      "\n"
     ],
     "name": "stdout"
    },
    {
     "output_type": "display_data",
     "data": {
      "application/vnd.jupyter.widget-view+json": {
       "model_id": "21576aff7377473cb780aa0a30d378bb",
       "version_minor": 0,
       "version_major": 2
      },
      "text/plain": [
       "HBox(children=(FloatProgress(value=0.0, max=1458.0), HTML(value='')))"
      ]
     },
     "metadata": {
      "tags": []
     }
    },
    {
     "output_type": "stream",
     "text": [
      "\n"
     ],
     "name": "stdout"
    },
    {
     "output_type": "display_data",
     "data": {
      "application/vnd.jupyter.widget-view+json": {
       "model_id": "19859622421042efa3650b9aac68889f",
       "version_minor": 0,
       "version_major": 2
      },
      "text/plain": [
       "HBox(children=(FloatProgress(value=0.0, max=6694.0), HTML(value='')))"
      ]
     },
     "metadata": {
      "tags": []
     }
    },
    {
     "output_type": "stream",
     "text": [
      "\n"
     ],
     "name": "stdout"
    },
    {
     "output_type": "display_data",
     "data": {
      "application/vnd.jupyter.widget-view+json": {
       "model_id": "a3dffb58eec64c2ba1ea7dc231b2f7f2",
       "version_minor": 0,
       "version_major": 2
      },
      "text/plain": [
       "HBox(children=(FloatProgress(value=0.0, max=1458.0), HTML(value='')))"
      ]
     },
     "metadata": {
      "tags": []
     }
    },
    {
     "output_type": "stream",
     "text": [
      "\n"
     ],
     "name": "stdout"
    },
    {
     "output_type": "display_data",
     "data": {
      "application/vnd.jupyter.widget-view+json": {
       "model_id": "f0cf3e540ebe4264a0205ca533852670",
       "version_minor": 0,
       "version_major": 2
      },
      "text/plain": [
       "HBox(children=(FloatProgress(value=0.0, max=6694.0), HTML(value='')))"
      ]
     },
     "metadata": {
      "tags": []
     }
    },
    {
     "output_type": "stream",
     "text": [
      "\n"
     ],
     "name": "stdout"
    },
    {
     "output_type": "display_data",
     "data": {
      "application/vnd.jupyter.widget-view+json": {
       "model_id": "f673b441525140d3b140a69ee9ff46c0",
       "version_minor": 0,
       "version_major": 2
      },
      "text/plain": [
       "HBox(children=(FloatProgress(value=0.0, max=1458.0), HTML(value='')))"
      ]
     },
     "metadata": {
      "tags": []
     }
    },
    {
     "output_type": "stream",
     "text": [
      "\n"
     ],
     "name": "stdout"
    },
    {
     "output_type": "stream",
     "text": [
      "/usr/local/lib/python3.7/dist-packages/datasets/formatting/formatting.py:164: VisibleDeprecationWarning: Creating an ndarray from ragged nested sequences (which is a list-or-tuple of lists-or-tuples-or ndarrays with different lengths or shapes) is deprecated. If you meant to do this, you must specify 'dtype=object' when creating the ndarray\n",
      "  return np.array(array, copy=False, **self.np_array_kwargs)\n"
     ],
     "name": "stderr"
    }
   ]
  },
  {
   "cell_type": "markdown",
   "metadata": {
    "id": "Eg4kGvJ3zQJ6"
   },
   "source": [
    "## Training"
   ]
  },
  {
   "cell_type": "code",
   "metadata": {
    "colab": {
     "base_uri": "https://localhost:8080/"
    },
    "id": "KNncK2M-vEAo",
    "executionInfo": {
     "status": "ok",
     "timestamp": 1625072963055,
     "user_tz": -120,
     "elapsed": 3532403,
     "user": {
      "displayName": "Cedric Issel",
      "photoUrl": "",
      "userId": "07537599327357681724"
     }
    },
    "outputId": "91e9e0f0-2a8b-4b34-bf49-8f7db5f2c90e"
   },
   "source": [
    "from tensorflow.keras.callbacks import TensorBoard\n",
    "from wandb.keras import WandbCallback\n",
    "\n",
    "\"\"\" Transfer to TPU \"\"\"\n",
    "with strategy.scope():\n",
    "  model = build_model()\n",
    "  optimizer = tf.keras.optimizers.Adam(learning_rate=PARAMS.learning_rate, epsilon=1e-08, clipnorm=1.0)\n",
    "  loss = BinaryCrossentropy()\n",
    "  metrics = [\n",
    "    Precision(name='precision', thresholds=PARAMS.threshold), # Precision is the percentage of predicted positives that were correctly classified\n",
    "    Recall(name='recall', thresholds=PARAMS.threshold) # Recall is the percentage of actual positives that were correctly classified\n",
    "  ]\n",
    "\n",
    "  model.compile(optimizer=optimizer, loss=loss, metrics=metrics)\n",
    "\n",
    "  # train the model\n",
    "  history = model.fit(\n",
    "    x=train_ds,\n",
    "    epochs=PARAMS.epochs,\n",
    "    verbose=1,\n",
    "    validation_data=test_ds\n",
    "    )\n",
    "\n",
    "pd.DataFrame(history.history).to_csv(log_dir/\"history.csv\")"
   ],
   "execution_count": null,
   "outputs": [
    {
     "output_type": "stream",
     "text": [
      "Some weights of the PyTorch model were not used when initializing the TF 2.0 model TFBertModel: ['cls.predictions.decoder.weight', 'cls.predictions.transform.LayerNorm.weight', 'cls.seq_relationship.weight', 'bert.embeddings.position_ids', 'cls.predictions.decoder.bias', 'cls.predictions.transform.dense.weight', 'cls.predictions.transform.dense.bias', 'cls.predictions.transform.LayerNorm.bias', 'cls.seq_relationship.bias', 'cls.predictions.bias']\n",
      "- This IS expected if you are initializing TFBertModel from a PyTorch model trained on another task or with another architecture (e.g. initializing a TFBertForSequenceClassification model from a BertForPreTraining model).\n",
      "- This IS NOT expected if you are initializing TFBertModel from a PyTorch model that you expect to be exactly identical (e.g. initializing a TFBertForSequenceClassification model from a BertForSequenceClassification model).\n",
      "All the weights of TFBertModel were initialized from the PyTorch model.\n",
      "If your task is similar to the task the model of the checkpoint was trained on, you can already use TFBertModel for predictions without further training.\n"
     ],
     "name": "stderr"
    },
    {
     "output_type": "stream",
     "text": [
      "Epoch 1/2\n"
     ],
     "name": "stdout"
    },
    {
     "output_type": "stream",
     "text": [
      "INFO:absl:TPU has inputs with dynamic shapes: [<tf.Tensor 'Const:0' shape=() dtype=int32>, <tf.Tensor 'cond_8/Identity:0' shape=(None, 30) dtype=int64>, <tf.Tensor 'cond_8/Identity_1:0' shape=(None, 30) dtype=int32>, <tf.Tensor 'cond_8/Identity_2:0' shape=(None, 30) dtype=int64>, <tf.Tensor 'cond_8/Identity_3:0' shape=(None, 30) dtype=int64>, <tf.Tensor 'cond_8/Identity_4:0' shape=(None, 30) dtype=int32>, <tf.Tensor 'cond_8/Identity_5:0' shape=(None, 30) dtype=int64>, <tf.Tensor 'cond_8/Identity_6:0' shape=(None, 18) dtype=int64>]\n",
      "INFO:absl:TPU has inputs with dynamic shapes: [<tf.Tensor 'Const:0' shape=() dtype=int32>, <tf.Tensor 'cond_8/Identity:0' shape=(None, 30) dtype=int64>, <tf.Tensor 'cond_8/Identity_1:0' shape=(None, 30) dtype=int32>, <tf.Tensor 'cond_8/Identity_2:0' shape=(None, 30) dtype=int64>, <tf.Tensor 'cond_8/Identity_3:0' shape=(None, 30) dtype=int64>, <tf.Tensor 'cond_8/Identity_4:0' shape=(None, 30) dtype=int32>, <tf.Tensor 'cond_8/Identity_5:0' shape=(None, 30) dtype=int64>, <tf.Tensor 'cond_8/Identity_6:0' shape=(None, 18) dtype=int64>]\n"
     ],
     "name": "stderr"
    },
    {
     "output_type": "stream",
     "text": [
      "6694/6694 [==============================] - ETA: 0s - loss: 0.1034 - precision: 0.8465 - recall: 0.7346"
     ],
     "name": "stdout"
    },
    {
     "output_type": "stream",
     "text": [
      "INFO:absl:TPU has inputs with dynamic shapes: [<tf.Tensor 'Const:0' shape=() dtype=int32>, <tf.Tensor 'cond_8/Identity:0' shape=(None, 30) dtype=int64>, <tf.Tensor 'cond_8/Identity_1:0' shape=(None, 30) dtype=int32>, <tf.Tensor 'cond_8/Identity_2:0' shape=(None, 30) dtype=int64>, <tf.Tensor 'cond_8/Identity_3:0' shape=(None, 30) dtype=int64>, <tf.Tensor 'cond_8/Identity_4:0' shape=(None, 30) dtype=int32>, <tf.Tensor 'cond_8/Identity_5:0' shape=(None, 30) dtype=int64>, <tf.Tensor 'cond_8/Identity_6:0' shape=(None, 18) dtype=int64>]\n"
     ],
     "name": "stderr"
    },
    {
     "output_type": "stream",
     "text": [
      "\b\b\b\b\b\b\b\b\b\b\b\b\b\b\b\b\b\b\b\b\b\b\b\b\b\b\b\b\b\b\b\b\b\b\b\b\b\b\b\b\b\b\b\b\b\b\b\b\b\b\b\b\b\b\b\b\b\b\b\b\b\b\b\b\b\b\b\b\b\b\b\b\b\b\b\b\b\b\b\b\b\b\b\b\b\b\b\b\b\b\b\b\b\b\b\b\b\b\b\b\b\b\b\b\r6694/6694 [==============================] - 1967s 248ms/step - loss: 0.1034 - precision: 0.8465 - recall: 0.7346 - val_loss: 0.0810 - val_precision: 0.8166 - val_recall: 0.7680\n",
      "Epoch 2/2\n",
      "6694/6694 [==============================] - 1447s 216ms/step - loss: 0.0490 - precision: 0.9233 - recall: 0.8922 - val_loss: 0.0761 - val_precision: 0.8417 - val_recall: 0.8007\n"
     ],
     "name": "stdout"
    }
   ]
  },
  {
   "cell_type": "code",
   "metadata": {
    "colab": {
     "base_uri": "https://localhost:8080/"
    },
    "id": "ZTQ7qAxVyzx0",
    "executionInfo": {
     "status": "ok",
     "timestamp": 1625072963057,
     "user_tz": -120,
     "elapsed": 21,
     "user": {
      "displayName": "Cedric Issel",
      "photoUrl": "",
      "userId": "07537599327357681724"
     }
    },
    "outputId": "0468a6cc-a6bb-46c8-bb6e-6f9e26635197"
   },
   "source": [
    "from contextlib import redirect_stdout\n",
    "\n",
    "\"\"\" Generate model summary \"\"\"\n",
    "print(model.summary())\n",
    "with open(log_dir/'model_summary.txt', 'w') as file:\n",
    "    # Pass the file handle in as a lambda function to make it callable\n",
    "    model.summary(print_fn=lambda x: file.write(x + '\\n'))"
   ],
   "execution_count": null,
   "outputs": [
    {
     "output_type": "stream",
     "text": [
      "Model: \"model_1\"\n",
      "__________________________________________________________________________________________________\n",
      "Layer (type)                    Output Shape         Param #     Connected to                     \n",
      "==================================================================================================\n",
      "input_ids0 (InputLayer)         [(None, 30)]         0                                            \n",
      "__________________________________________________________________________________________________\n",
      "attention_mask0 (InputLayer)    [(None, 30)]         0                                            \n",
      "__________________________________________________________________________________________________\n",
      "input_ids1 (InputLayer)         [(None, 30)]         0                                            \n",
      "__________________________________________________________________________________________________\n",
      "attention_mask1 (InputLayer)    [(None, 30)]         0                                            \n",
      "__________________________________________________________________________________________________\n",
      "input_ids2 (InputLayer)         [(None, 30)]         0                                            \n",
      "__________________________________________________________________________________________________\n",
      "attention_mask2 (InputLayer)    [(None, 30)]         0                                            \n",
      "__________________________________________________________________________________________________\n",
      "bert (TFBertMainLayer)          TFBaseModelOutputWit 344702976   input_ids0[0][0]                 \n",
      "                                                                 attention_mask0[0][0]            \n",
      "                                                                 input_ids1[0][0]                 \n",
      "                                                                 attention_mask1[0][0]            \n",
      "                                                                 input_ids2[0][0]                 \n",
      "                                                                 attention_mask2[0][0]            \n",
      "__________________________________________________________________________________________________\n",
      "dropout_149 (Dropout)           (None, 1024)         0           bert[0][1]                       \n",
      "__________________________________________________________________________________________________\n",
      "dropout_150 (Dropout)           (None, 1024)         0           bert[1][1]                       \n",
      "__________________________________________________________________________________________________\n",
      "dropout_151 (Dropout)           (None, 1024)         0           bert[2][1]                       \n",
      "__________________________________________________________________________________________________\n",
      "concatenate_1 (Concatenate)     (None, 3072)         0           dropout_149[0][0]                \n",
      "                                                                 dropout_150[0][0]                \n",
      "                                                                 dropout_151[0][0]                \n",
      "__________________________________________________________________________________________________\n",
      "dense_1 (Dense)                 (None, 18)           55314       concatenate_1[0][0]              \n",
      "==================================================================================================\n",
      "Total params: 344,758,290\n",
      "Trainable params: 344,758,290\n",
      "Non-trainable params: 0\n",
      "__________________________________________________________________________________________________\n",
      "None\n"
     ],
     "name": "stdout"
    }
   ]
  },
  {
   "cell_type": "markdown",
   "metadata": {
    "id": "SPXL4D8e1Ne5"
   },
   "source": [
    "## Evaluate"
   ]
  },
  {
   "cell_type": "code",
   "metadata": {
    "id": "uqa0yf5jGo0n"
   },
   "source": [
    "import matplotlib.pyplot as plt\n",
    "plt.rcParams.update({\n",
    "    \"font.family\": \"serif\",\n",
    "    \"font.sans-serif\": [\"Computer Modern\"]})\n",
    "import numpy as np\n",
    "from sklearn.metrics import confusion_matrix, classification_report, brier_score_loss, roc_curve, auc, precision_recall_curve, average_precision_score\n",
    "import seaborn as sns\n",
    "import math"
   ],
   "execution_count": null,
   "outputs": []
  },
  {
   "cell_type": "code",
   "metadata": {
    "colab": {
     "base_uri": "https://localhost:8080/"
    },
    "id": "cyZE4sdH1LRk",
    "executionInfo": {
     "status": "ok",
     "timestamp": 1625073072035,
     "user_tz": -120,
     "elapsed": 108304,
     "user": {
      "displayName": "Cedric Issel",
      "photoUrl": "",
      "userId": "07537599327357681724"
     }
    },
    "outputId": "eafcea9f-02a6-42fa-ace4-3aa4a9270ef5"
   },
   "source": [
    "# Get predictions on test dataset\n",
    "with strategy.scope():\n",
    "  predictions = model.predict(\n",
    "      x=test_ds,\n",
    "      verbose=1,\n",
    "      batch_size=PARAMS.batch_size\n",
    "  ) # Probability distribution over the labels\n",
    "np.savetxt(log_dir/\"predictions.txt\", predictions)"
   ],
   "execution_count": null,
   "outputs": [
    {
     "output_type": "stream",
     "text": [
      "INFO:absl:TPU has inputs with dynamic shapes: [<tf.Tensor 'Const:0' shape=() dtype=int32>, <tf.Tensor 'cond_8/Identity:0' shape=(None, 30) dtype=int64>, <tf.Tensor 'cond_8/Identity_1:0' shape=(None, 30) dtype=int32>, <tf.Tensor 'cond_8/Identity_2:0' shape=(None, 30) dtype=int64>, <tf.Tensor 'cond_8/Identity_3:0' shape=(None, 30) dtype=int64>, <tf.Tensor 'cond_8/Identity_4:0' shape=(None, 30) dtype=int32>, <tf.Tensor 'cond_8/Identity_5:0' shape=(None, 30) dtype=int64>, <tf.Tensor 'cond_8/Identity_6:0' shape=(None, 18) dtype=int64>]\n"
     ],
     "name": "stderr"
    },
    {
     "output_type": "stream",
     "text": [
      "1458/1458 [==============================] - 107s 61ms/step\n"
     ],
     "name": "stdout"
    }
   ]
  },
  {
   "cell_type": "code",
   "metadata": {
    "id": "MYPafVYuAArr"
   },
   "source": [
    "ptopk = predictions.copy()\n",
    "ptopk[ptopk > PARAMS.threshold] = 1\n",
    "ptopk[ptopk <= PARAMS.threshold] = 0\n",
    "\n",
    "metric_funcs = {\n",
    "    \"precision\": Precision(thresholds=PARAMS.threshold),\n",
    "    \"recall\" : Recall(thresholds=PARAMS.threshold)\n",
    "}\n",
    "\n",
    "metric_results ={}\n",
    "for key, m in metric_funcs.items():\n",
    "    m.update_state(y_test, ptopk)\n",
    "    metric_results[key] = m.result().numpy()\n",
    "if PARAMS.logging:\n",
    "  wandb.log(metric_results)"
   ],
   "execution_count": null,
   "outputs": []
  },
  {
   "cell_type": "code",
   "metadata": {
    "id": "CMh8scc6FB_Q"
   },
   "source": [
    "# Hamming loss\n",
    "def hamming_loss(pred_topk, truth):\n",
    "    equals = pred_topk - truth\n",
    "    equals = np.sum(1 - np.isin(equals, 0))\n",
    "    return 1/(truth.shape[0]*truth.shape[1])*equals\n",
    "if PARAMS.logging:\n",
    "  wandb.log({\"hamming_loss\": hamming_loss(ptopk, y_test)})\n"
   ],
   "execution_count": null,
   "outputs": []
  },
  {
   "cell_type": "code",
   "metadata": {
    "id": "cBWEcz-IFDK2"
   },
   "source": [
    "# Exact match\n",
    "def exact_match(pred_topk, truth):\n",
    "    equals = pred_topk - truth\n",
    "    equals = np.sum(equals, axis=1)\n",
    "    return 1 - (np.count_nonzero(equals) / truth.shape[0])\n",
    "if PARAMS.logging:\n",
    "  wandb.log({\"exact_match\": exact_match(ptopk, y_test)})"
   ],
   "execution_count": null,
   "outputs": []
  },
  {
   "cell_type": "code",
   "metadata": {
    "colab": {
     "base_uri": "https://localhost:8080/",
     "height": 332
    },
    "id": "aDikodZYGXge",
    "executionInfo": {
     "status": "ok",
     "timestamp": 1625073072766,
     "user_tz": -120,
     "elapsed": 369,
     "user": {
      "displayName": "Cedric Issel",
      "photoUrl": "",
      "userId": "07537599327357681724"
     }
    },
    "outputId": "3a565b2b-476c-4f06-80e0-52a2693f7dbb"
   },
   "source": [
    "def count_labels(pred_topk, truth):\n",
    "    # difference between number of predicted and true labels\n",
    "    pred_sum = np.sum(pred_topk, 1)\n",
    "    truth_sum = np.sum(truth, 1)\n",
    "    fig, ax = plt.subplots(figsize=(10,5))\n",
    "    width = 0.4\n",
    "    pred_labels, pred_counts = np.unique(pred_sum, return_counts=True)\n",
    "    pred_labels = pred_labels.astype(int)\n",
    "    truth_labels, truth_counts = np.unique(truth_sum, return_counts=True)\n",
    "    all_labels = np.arange(0, max(max(pred_labels), max(truth_labels))+1)\n",
    "    new_pred_counts = np.zeros(len(all_labels))\n",
    "    new_pred_counts[pred_labels] = pred_counts\n",
    "    new_truth_counts = np.zeros(len(all_labels))\n",
    "    new_truth_counts[truth_labels] = truth_counts \n",
    "    bars1 = ax.bar(all_labels - width/2, new_pred_counts, width=width, align='center')\n",
    "    bars2 = ax.bar(all_labels + width/2, new_truth_counts, width=width, align='center')\n",
    "    ax.set_xticks(all_labels)\n",
    "    plt.legend([\"prediction\", \"truth\"])\n",
    "    plt.xlabel(\"Labels per patent\")\n",
    "    plt.ylabel(\"Number of patents\")\n",
    "\n",
    "    def autolabel(rects):\n",
    "        \"\"\"Attach a text label above each bar in *rects*, displaying its height.\"\"\"\n",
    "        for rect in rects:\n",
    "            height = rect.get_height()\n",
    "            ax.annotate('{}'.format(int(height)),\n",
    "                        xy=(rect.get_x() + rect.get_width() / 2, height),\n",
    "                        xytext=(0, 3),  # 3 points vertical offset\n",
    "                        textcoords=\"offset points\",\n",
    "                        ha='center', va='bottom')\n",
    "    autolabel(bars1)\n",
    "    autolabel(bars2)\n",
    "    plt.savefig(log_dir/\"label_counts.png\", dpi=150)\n",
    "count_labels(ptopk, y_test)"
   ],
   "execution_count": null,
   "outputs": [
    {
     "output_type": "display_data",
     "data": {
      "image/png": "[encoded data removed]",
      "text/plain": [
       "<Figure size 720x360 with 1 Axes>"
      ]
     },
     "metadata": {
      "tags": [],
      "needs_background": "light"
     }
    }
   ]
  },
  {
   "cell_type": "code",
   "metadata": {
    "colab": {
     "base_uri": "https://localhost:8080/",
     "height": 624
    },
    "id": "T49dIRh4HLrV",
    "executionInfo": {
     "status": "ok",
     "timestamp": 1625073077399,
     "user_tz": -120,
     "elapsed": 4645,
     "user": {
      "displayName": "Cedric Issel",
      "photoUrl": "",
      "userId": "07537599327357681724"
     }
    },
    "outputId": "b8949f43-0cff-4cc0-ea11-04458e5b1d27"
   },
   "source": [
    "def plot_prediction_probs(pred_raw):\n",
    "    # full set of predictions\n",
    "    pic = pred_raw.transpose()\n",
    "    fig = plt.figure(figsize=(20,5))\n",
    "    im = plt.imshow(pic, aspect='auto')\n",
    "    plt.colorbar(im)\n",
    "    plt.savefig(log_dir/\"prediction_probs.png\", dpi=150)\n",
    "\n",
    "    # subset of randomly selected predictions\n",
    "    ids = np.random.randint(0,len(pred_raw),100)\n",
    "    pic = pred_raw[ids,:].transpose()\n",
    "    fig = plt.figure(figsize=(20,5))\n",
    "    im = plt.imshow(pic, aspect='auto')\n",
    "    plt.colorbar(im)\n",
    "    plt.savefig(log_dir/\"prediction_probs_100.png\", dpi=150)\n",
    "plot_prediction_probs(predictions)"
   ],
   "execution_count": null,
   "outputs": [
    {
     "output_type": "display_data",
     "data": {
      "image/png": "[encoded data removed]",
      "text/plain": [
       "<Figure size 1440x360 with 2 Axes>"
      ]
     },
     "metadata": {
      "tags": [],
      "needs_background": "light"
     }
    },
    {
     "output_type": "display_data",
     "data": {
      "image/png": "[encoded data removed]",
      "text/plain": [
       "<Figure size 1440x360 with 2 Axes>"
      ]
     },
     "metadata": {
      "tags": [],
      "needs_background": "light"
     }
    }
   ]
  },
  {
   "cell_type": "code",
   "metadata": {
    "colab": {
     "base_uri": "https://localhost:8080/",
     "height": 796
    },
    "id": "bMUSPtPVHrEz",
    "executionInfo": {
     "status": "ok",
     "timestamp": 1625073077401,
     "user_tz": -120,
     "elapsed": 12,
     "user": {
      "displayName": "Cedric Issel",
      "photoUrl": "",
      "userId": "07537599327357681724"
     }
    },
    "outputId": "5dcf937d-2e26-4b18-f8ff-be80d9eab691"
   },
   "source": [
    "# Calculate metrics per label\n",
    "def create_report(true_label, pred_label, n_classes):\n",
    "  cls_names =[str(cls) for cls in np.arange(0, n_classes)]\n",
    "  cls_report = classification_report(true_label, pred_label, target_names=cls_names, output_dict=True)\n",
    "  return pd.DataFrame(cls_report).round(2).transpose()\n",
    "\n",
    "cls_report = create_report(y_test, ptopk, PARAMS.n_classes)\n",
    "cls_report.to_csv(log_dir/\"cls_report.csv\")\n",
    "if PARAMS.logging:\n",
    "  wandb.log({\"f1-score\": cls_report[\"f1-score\"].to_dict()})\n",
    "cls_report"
   ],
   "execution_count": null,
   "outputs": [
    {
     "output_type": "stream",
     "text": [
      "/usr/local/lib/python3.7/dist-packages/sklearn/metrics/_classification.py:1272: UndefinedMetricWarning: Precision and F-score are ill-defined and being set to 0.0 in samples with no predicted labels. Use `zero_division` parameter to control this behavior.\n",
      "  _warn_prf(average, modifier, msg_start, len(result))\n"
     ],
     "name": "stderr"
    },
    {
     "output_type": "execute_result",
     "data": {
      "text/html": [
       "<div>\n",
       "<style scoped>\n",
       "    .dataframe tbody tr th:only-of-type {\n",
       "        vertical-align: middle;\n",
       "    }\n",
       "\n",
       "    .dataframe tbody tr th {\n",
       "        vertical-align: top;\n",
       "    }\n",
       "\n",
       "    .dataframe thead th {\n",
       "        text-align: right;\n",
       "    }\n",
       "</style>\n",
       "<table border=\"1\" class=\"dataframe\">\n",
       "  <thead>\n",
       "    <tr style=\"text-align: right;\">\n",
       "      <th></th>\n",
       "      <th>precision</th>\n",
       "      <th>recall</th>\n",
       "      <th>f1-score</th>\n",
       "      <th>support</th>\n",
       "    </tr>\n",
       "  </thead>\n",
       "  <tbody>\n",
       "    <tr>\n",
       "      <th>0</th>\n",
       "      <td>0.84</td>\n",
       "      <td>0.61</td>\n",
       "      <td>0.71</td>\n",
       "      <td>9063.0</td>\n",
       "    </tr>\n",
       "    <tr>\n",
       "      <th>1</th>\n",
       "      <td>0.90</td>\n",
       "      <td>0.79</td>\n",
       "      <td>0.84</td>\n",
       "      <td>14251.0</td>\n",
       "    </tr>\n",
       "    <tr>\n",
       "      <th>2</th>\n",
       "      <td>0.76</td>\n",
       "      <td>0.84</td>\n",
       "      <td>0.80</td>\n",
       "      <td>9478.0</td>\n",
       "    </tr>\n",
       "    <tr>\n",
       "      <th>3</th>\n",
       "      <td>0.89</td>\n",
       "      <td>0.92</td>\n",
       "      <td>0.90</td>\n",
       "      <td>5118.0</td>\n",
       "    </tr>\n",
       "    <tr>\n",
       "      <th>4</th>\n",
       "      <td>0.84</td>\n",
       "      <td>0.88</td>\n",
       "      <td>0.86</td>\n",
       "      <td>6190.0</td>\n",
       "    </tr>\n",
       "    <tr>\n",
       "      <th>5</th>\n",
       "      <td>0.84</td>\n",
       "      <td>0.91</td>\n",
       "      <td>0.87</td>\n",
       "      <td>4679.0</td>\n",
       "    </tr>\n",
       "    <tr>\n",
       "      <th>6</th>\n",
       "      <td>0.78</td>\n",
       "      <td>0.84</td>\n",
       "      <td>0.81</td>\n",
       "      <td>3703.0</td>\n",
       "    </tr>\n",
       "    <tr>\n",
       "      <th>7</th>\n",
       "      <td>0.86</td>\n",
       "      <td>0.80</td>\n",
       "      <td>0.83</td>\n",
       "      <td>2252.0</td>\n",
       "    </tr>\n",
       "    <tr>\n",
       "      <th>8</th>\n",
       "      <td>0.88</td>\n",
       "      <td>0.86</td>\n",
       "      <td>0.87</td>\n",
       "      <td>1583.0</td>\n",
       "    </tr>\n",
       "    <tr>\n",
       "      <th>9</th>\n",
       "      <td>0.87</td>\n",
       "      <td>0.82</td>\n",
       "      <td>0.84</td>\n",
       "      <td>1368.0</td>\n",
       "    </tr>\n",
       "    <tr>\n",
       "      <th>10</th>\n",
       "      <td>0.85</td>\n",
       "      <td>0.77</td>\n",
       "      <td>0.81</td>\n",
       "      <td>651.0</td>\n",
       "    </tr>\n",
       "    <tr>\n",
       "      <th>11</th>\n",
       "      <td>0.88</td>\n",
       "      <td>0.70</td>\n",
       "      <td>0.78</td>\n",
       "      <td>1251.0</td>\n",
       "    </tr>\n",
       "    <tr>\n",
       "      <th>12</th>\n",
       "      <td>0.77</td>\n",
       "      <td>0.67</td>\n",
       "      <td>0.72</td>\n",
       "      <td>649.0</td>\n",
       "    </tr>\n",
       "    <tr>\n",
       "      <th>13</th>\n",
       "      <td>0.86</td>\n",
       "      <td>0.69</td>\n",
       "      <td>0.76</td>\n",
       "      <td>612.0</td>\n",
       "    </tr>\n",
       "    <tr>\n",
       "      <th>14</th>\n",
       "      <td>0.79</td>\n",
       "      <td>0.73</td>\n",
       "      <td>0.76</td>\n",
       "      <td>676.0</td>\n",
       "    </tr>\n",
       "    <tr>\n",
       "      <th>15</th>\n",
       "      <td>0.86</td>\n",
       "      <td>0.83</td>\n",
       "      <td>0.84</td>\n",
       "      <td>284.0</td>\n",
       "    </tr>\n",
       "    <tr>\n",
       "      <th>16</th>\n",
       "      <td>0.64</td>\n",
       "      <td>0.80</td>\n",
       "      <td>0.71</td>\n",
       "      <td>149.0</td>\n",
       "    </tr>\n",
       "    <tr>\n",
       "      <th>17</th>\n",
       "      <td>0.93</td>\n",
       "      <td>0.65</td>\n",
       "      <td>0.76</td>\n",
       "      <td>40.0</td>\n",
       "    </tr>\n",
       "    <tr>\n",
       "      <th>micro avg</th>\n",
       "      <td>0.84</td>\n",
       "      <td>0.80</td>\n",
       "      <td>0.82</td>\n",
       "      <td>61997.0</td>\n",
       "    </tr>\n",
       "    <tr>\n",
       "      <th>macro avg</th>\n",
       "      <td>0.84</td>\n",
       "      <td>0.78</td>\n",
       "      <td>0.80</td>\n",
       "      <td>61997.0</td>\n",
       "    </tr>\n",
       "    <tr>\n",
       "      <th>weighted avg</th>\n",
       "      <td>0.85</td>\n",
       "      <td>0.80</td>\n",
       "      <td>0.82</td>\n",
       "      <td>61997.0</td>\n",
       "    </tr>\n",
       "    <tr>\n",
       "      <th>samples avg</th>\n",
       "      <td>0.80</td>\n",
       "      <td>0.80</td>\n",
       "      <td>0.79</td>\n",
       "      <td>61997.0</td>\n",
       "    </tr>\n",
       "  </tbody>\n",
       "</table>\n",
       "</div>"
      ],
      "text/plain": [
       "              precision  recall  f1-score  support\n",
       "0                  0.84    0.61      0.71   9063.0\n",
       "1                  0.90    0.79      0.84  14251.0\n",
       "2                  0.76    0.84      0.80   9478.0\n",
       "3                  0.89    0.92      0.90   5118.0\n",
       "4                  0.84    0.88      0.86   6190.0\n",
       "5                  0.84    0.91      0.87   4679.0\n",
       "6                  0.78    0.84      0.81   3703.0\n",
       "7                  0.86    0.80      0.83   2252.0\n",
       "8                  0.88    0.86      0.87   1583.0\n",
       "9                  0.87    0.82      0.84   1368.0\n",
       "10                 0.85    0.77      0.81    651.0\n",
       "11                 0.88    0.70      0.78   1251.0\n",
       "12                 0.77    0.67      0.72    649.0\n",
       "13                 0.86    0.69      0.76    612.0\n",
       "14                 0.79    0.73      0.76    676.0\n",
       "15                 0.86    0.83      0.84    284.0\n",
       "16                 0.64    0.80      0.71    149.0\n",
       "17                 0.93    0.65      0.76     40.0\n",
       "micro avg          0.84    0.80      0.82  61997.0\n",
       "macro avg          0.84    0.78      0.80  61997.0\n",
       "weighted avg       0.85    0.80      0.82  61997.0\n",
       "samples avg        0.80    0.80      0.79  61997.0"
      ]
     },
     "metadata": {
      "tags": []
     },
     "execution_count": 22
    }
   ]
  },
  {
   "cell_type": "markdown",
   "metadata": {
    "id": "Xv4N-nFgb0OT"
   },
   "source": [
    "## Save loggings"
   ]
  },
  {
   "cell_type": "code",
   "metadata": {
    "colab": {
     "base_uri": "https://localhost:8080/",
     "height": 595,
     "referenced_widgets": [
      "5a505df57f624bd69c398ce5578d2ed8",
      "f117b28bcc8c4edabb6ad4cdcbc3a963",
      "af13542292664139a48f5dadd9792548",
      "90c29815206f4acb806ed7d4fbc3bb0b",
      "88fff69f5e644db7871cce81e13276b4",
      "4a6b87f895c640e5a925c6b548491d91",
      "984b0f03044e4cb196879e920c31a12c",
      "b84dcf8b5af54cc1b14ef414aa6092be"
     ]
    },
    "id": "jCtST7oUWcdx",
    "executionInfo": {
     "status": "ok",
     "timestamp": 1625073094723,
     "user_tz": -120,
     "elapsed": 17330,
     "user": {
      "displayName": "Cedric Issel",
      "photoUrl": "",
      "userId": "07537599327357681724"
     }
    },
    "outputId": "c5f958bc-41a8-41a5-daa4-12d47e4214e8"
   },
   "source": [
    "\"\"\" Submit results \"\"\"\n",
    "if PARAMS.logging:\n",
    "    run.join()\n",
    "    run.finish()"
   ],
   "execution_count": null,
   "outputs": [
    {
     "output_type": "display_data",
     "data": {
      "text/html": [
       "<br/>Waiting for W&B process to finish, PID 6580<br/>Program ended successfully."
      ],
      "text/plain": [
       "<IPython.core.display.HTML object>"
      ]
     },
     "metadata": {
      "tags": []
     }
    },
    {
     "output_type": "display_data",
     "data": {
      "application/vnd.jupyter.widget-view+json": {
       "model_id": "5a505df57f624bd69c398ce5578d2ed8",
       "version_minor": 0,
       "version_major": 2
      },
      "text/plain": [
       "VBox(children=(Label(value=' 0.00MB of 0.00MB uploaded (0.00MB deduped)\\r'), FloatProgress(value=1.0, max=1.0)…"
      ]
     },
     "metadata": {
      "tags": []
     }
    },
    {
     "output_type": "display_data",
     "data": {
      "text/html": [
       "Find user logs for this run at: <code>/content/wandb/run-20210630_160249-1p9h7jqt/logs/debug.log</code>"
      ],
      "text/plain": [
       "<IPython.core.display.HTML object>"
      ]
     },
     "metadata": {
      "tags": []
     }
    },
    {
     "output_type": "display_data",
     "data": {
      "text/html": [
       "Find internal logs for this run at: <code>/content/wandb/run-20210630_160249-1p9h7jqt/logs/debug-internal.log</code>"
      ],
      "text/plain": [
       "<IPython.core.display.HTML object>"
      ]
     },
     "metadata": {
      "tags": []
     }
    },
    {
     "output_type": "display_data",
     "data": {
      "text/html": [
       "<h3>Run summary:</h3><br/><style>\n",
       "    table.wandb td:nth-child(1) { padding: 0 10px; text-align: right }\n",
       "    </style><table class=\"wandb\">\n",
       "<tr><td>precision</td><td>0.84165</td></tr><tr><td>recall</td><td>0.80067</td></tr><tr><td>_runtime</td><td>4107</td></tr><tr><td>_timestamp</td><td>1625073076</td></tr><tr><td>_step</td><td>3</td></tr><tr><td>hamming_loss</td><td>0.02584</td></tr><tr><td>exact_match</td><td>0.78955</td></tr></table>"
      ],
      "text/plain": [
       "<IPython.core.display.HTML object>"
      ]
     },
     "metadata": {
      "tags": []
     }
    },
    {
     "output_type": "display_data",
     "data": {
      "text/html": [
       "<h3>Run history:</h3><br/><style>\n",
       "    table.wandb td:nth-child(1) { padding: 0 10px; text-align: right }\n",
       "    </style><table class=\"wandb\">\n",
       "<tr><td>precision</td><td>▁</td></tr><tr><td>recall</td><td>▁</td></tr><tr><td>_runtime</td><td>▁▁▁█</td></tr><tr><td>_timestamp</td><td>▁▁▁█</td></tr><tr><td>_step</td><td>▁▃▆█</td></tr><tr><td>hamming_loss</td><td>▁</td></tr><tr><td>exact_match</td><td>▁</td></tr></table><br/>"
      ],
      "text/plain": [
       "<IPython.core.display.HTML object>"
      ]
     },
     "metadata": {
      "tags": []
     }
    },
    {
     "output_type": "display_data",
     "data": {
      "text/html": [
       "Synced 5 W&B file(s), 0 media file(s), 0 artifact file(s) and 7 other file(s)"
      ],
      "text/plain": [
       "<IPython.core.display.HTML object>"
      ]
     },
     "metadata": {
      "tags": []
     }
    },
    {
     "output_type": "display_data",
     "data": {
      "text/html": [
       "\n",
       "                    <br/>Synced <strong style=\"color:#cdcd00\">still-totem-57</strong>: <a href=\"https://wandb.ai/cdrc1103/thesis_multi-label/runs/1p9h7jqt\" target=\"_blank\">https://wandb.ai/cdrc1103/thesis_multi-label/runs/1p9h7jqt</a><br/>\n",
       "                "
      ],
      "text/plain": [
       "<IPython.core.display.HTML object>"
      ]
     },
     "metadata": {
      "tags": []
     }
    }
   ]
  },
  {
   "cell_type": "code",
   "metadata": {
    "id": "DOaTZ4jofgGX"
   },
   "source": [
    "#model.save_weights(RUN_DIR/\"ATC5000MIX.h5\")\n"
   ],
   "execution_count": null,
   "outputs": []
  }
 ]
}