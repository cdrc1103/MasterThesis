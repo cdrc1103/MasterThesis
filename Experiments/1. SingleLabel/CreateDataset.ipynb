{
 "cells": [
  {
   "cell_type": "markdown",
   "source": [
    "## Experiment 1: Single label classification based on patent abstract"
   ],
   "metadata": {
    "collapsed": false,
    "pycharm": {
     "name": "#%% md\n"
    }
   }
  },
  {
   "cell_type": "markdown",
   "source": [
    "### Load and inspect data"
   ],
   "metadata": {
    "collapsed": false,
    "pycharm": {
     "name": "#%% md\n"
    }
   }
  },
  {
   "cell_type": "code",
   "execution_count": 1,
   "metadata": {
    "collapsed": true
   },
   "outputs": [
    {
     "data": {
      "text/plain": "                                                     path  abstract  \\\nAP1605A  E:\\MLData\\thesis\\Datasets\\LexisNexis\\AP1605A.xml     False   \nAP1665A  E:\\MLData\\thesis\\Datasets\\LexisNexis\\AP1665A.xml      True   \nAP1682A  E:\\MLData\\thesis\\Datasets\\LexisNexis\\AP1682A.xml      True   \nAP1904A  E:\\MLData\\thesis\\Datasets\\LexisNexis\\AP1904A.xml      True   \nAP1937A  E:\\MLData\\thesis\\Datasets\\LexisNexis\\AP1937A.xml      True   \n\n         description  claims  label        level1labels  \nAP1605A        False   False      0                 NaN  \nAP1665A        False   False      1           Skin care  \nAP1682A        False   False      1  Active ingredients  \nAP1904A        False   False      1           Hair care  \nAP1937A        False   False      1           Packaging  ",
      "text/html": "<div>\n<style scoped>\n    .dataframe tbody tr th:only-of-type {\n        vertical-align: middle;\n    }\n\n    .dataframe tbody tr th {\n        vertical-align: top;\n    }\n\n    .dataframe thead th {\n        text-align: right;\n    }\n</style>\n<table border=\"1\" class=\"dataframe\">\n  <thead>\n    <tr style=\"text-align: right;\">\n      <th></th>\n      <th>path</th>\n      <th>abstract</th>\n      <th>description</th>\n      <th>claims</th>\n      <th>label</th>\n      <th>level1labels</th>\n    </tr>\n  </thead>\n  <tbody>\n    <tr>\n      <th>AP1605A</th>\n      <td>E:\\MLData\\thesis\\Datasets\\LexisNexis\\AP1605A.xml</td>\n      <td>False</td>\n      <td>False</td>\n      <td>False</td>\n      <td>0</td>\n      <td>NaN</td>\n    </tr>\n    <tr>\n      <th>AP1665A</th>\n      <td>E:\\MLData\\thesis\\Datasets\\LexisNexis\\AP1665A.xml</td>\n      <td>True</td>\n      <td>False</td>\n      <td>False</td>\n      <td>1</td>\n      <td>Skin care</td>\n    </tr>\n    <tr>\n      <th>AP1682A</th>\n      <td>E:\\MLData\\thesis\\Datasets\\LexisNexis\\AP1682A.xml</td>\n      <td>True</td>\n      <td>False</td>\n      <td>False</td>\n      <td>1</td>\n      <td>Active ingredients</td>\n    </tr>\n    <tr>\n      <th>AP1904A</th>\n      <td>E:\\MLData\\thesis\\Datasets\\LexisNexis\\AP1904A.xml</td>\n      <td>True</td>\n      <td>False</td>\n      <td>False</td>\n      <td>1</td>\n      <td>Hair care</td>\n    </tr>\n    <tr>\n      <th>AP1937A</th>\n      <td>E:\\MLData\\thesis\\Datasets\\LexisNexis\\AP1937A.xml</td>\n      <td>True</td>\n      <td>False</td>\n      <td>False</td>\n      <td>1</td>\n      <td>Packaging</td>\n    </tr>\n  </tbody>\n</table>\n</div>"
     },
     "execution_count": 1,
     "metadata": {},
     "output_type": "execute_result"
    }
   ],
   "source": [
    "import pandas as pd\n",
    "\n",
    "labels = pd.read_csv(\"level1_labels.csv\", index_col=0)\n",
    "features = pd.read_csv(\"feature_stats.csv\", index_col=0)\n",
    "feature_stats = pd.concat([features, labels], axis=1)\n",
    "feature_stats.head()"
   ]
  },
  {
   "cell_type": "code",
   "execution_count": 2,
   "outputs": [
    {
     "name": "stdout",
     "output_type": "stream",
     "text": [
      "Number of examples: 196574\n",
      "Active ingredients              57205\n",
      "Skin care                       30095\n",
      "Packaging                       25063\n",
      "Health care                     21890\n",
      "Hair care                       21171\n",
      "Cleansing                       10824\n",
      "Sun                              8092\n",
      "Perfume                          5989\n",
      "Deo                              4243\n",
      "Non woven                        3185\n",
      "Devices                          1899\n",
      "Lip care                         1861\n",
      "Decorative cosmetic              1828\n",
      "Manufacturing technology         1737\n",
      "Shaving                           919\n",
      "Sustainability                    477\n",
      "Personalization                    86\n",
      "Artificial Intelligence (AI)        5\n",
      "no follow up                        3\n",
      "IP7 Beiersdorf                      2\n",
      "Name: level1labels, dtype: int64\n"
     ]
    }
   ],
   "source": [
    "feature_stats = feature_stats[feature_stats[\"level1labels\"].notna()] # drop unlabeled patents\n",
    "feature_stats = feature_stats[feature_stats[\"abstract\"] == 1] # drop patents that don't contain an abstract\n",
    "print(f\"Number of examples: {len(feature_stats)}\")\n",
    "print(feature_stats[\"level1labels\"].value_counts())"
   ],
   "metadata": {
    "collapsed": false,
    "pycharm": {
     "name": "#%%\n"
    }
   }
  },
  {
   "cell_type": "markdown",
   "source": [
    "It can be seen that there is a huge\n",
    "class imbalance (57205 : 2). I decide to drop three of the minority classes because it is\n",
    "unlikely that the NN will be able to make any reliable predictions when it has been trained\n",
    "on only one or two examples of the respective class."
   ],
   "metadata": {
    "collapsed": false,
    "pycharm": {
     "name": "#%% md\n"
    }
   }
  },
  {
   "cell_type": "code",
   "execution_count": 3,
   "outputs": [
    {
     "name": "stdout",
     "output_type": "stream",
     "text": [
      "Number of examples: 196564\n",
      "Active ingredients          57205\n",
      "Skin care                   30095\n",
      "Packaging                   25063\n",
      "Health care                 21890\n",
      "Hair care                   21171\n",
      "Cleansing                   10824\n",
      "Sun                          8092\n",
      "Perfume                      5989\n",
      "Deo                          4243\n",
      "Non woven                    3185\n",
      "Devices                      1899\n",
      "Lip care                     1861\n",
      "Decorative cosmetic          1828\n",
      "Manufacturing technology     1737\n",
      "Shaving                       919\n",
      "Sustainability                477\n",
      "Personalization                86\n",
      "Name: level1labels, dtype: int64\n"
     ]
    }
   ],
   "source": [
    "# define a set of classes that are excluded\n",
    "# exclude minority classes\n",
    "exclude_list = [\"Artificial Intelligence (AI)\", \"no follow up\", \"IP7 Beiersdorf\"]\n",
    "mask = feature_stats['level1labels'].isin(exclude_list)\n",
    "red_feature_stats = feature_stats[~mask].copy()\n",
    "print(f\"Number of examples: {len(red_feature_stats)}\")\n",
    "print(red_feature_stats[\"level1labels\"].value_counts())"
   ],
   "metadata": {
    "collapsed": false,
    "pycharm": {
     "name": "#%%\n"
    }
   }
  },
  {
   "cell_type": "markdown",
   "source": [
    "### Parse Patent Files\n",
    "Parse patent files for their abstract if they're labeled with one of the remaining classes."
   ],
   "metadata": {
    "collapsed": false,
    "pycharm": {
     "name": "#%% md\n"
    }
   }
  },
  {
   "cell_type": "code",
   "execution_count": 27,
   "outputs": [
    {
     "name": "stderr",
     "output_type": "stream",
     "text": [
      "100%|██████████| 196564/196564 [19:33<00:00, 167.55it/s]\n"
     ]
    }
   ],
   "source": [
    "# parse xml files to get features\n",
    "from PipelineBricks.parse_feature import process_files\n",
    "dataset = pd.DataFrame\n",
    "if __name__ == \"__main__\":\n",
    "    feature_list = ['abstract']\n",
    "    dataset = process_files(red_feature_stats, feature_list)"
   ],
   "metadata": {
    "collapsed": false,
    "pycharm": {
     "name": "#%%\n"
    }
   }
  },
  {
   "cell_type": "markdown",
   "source": [
    "Transform classes to categorical codes and remove instances where the abstract is a None value\n",
    "(because the text is to short). Also, some patents have different names but identical content.\n",
    "So, duplicates are dropped as well."
   ],
   "metadata": {
    "collapsed": false,
    "pycharm": {
     "name": "#%% md\n"
    }
   }
  },
  {
   "cell_type": "code",
   "execution_count": 28,
   "outputs": [
    {
     "name": "stdout",
     "output_type": "stream",
     "text": [
      "{0: 'Active ingredients',\n",
      " 1: 'Cleansing',\n",
      " 2: 'Decorative cosmetic',\n",
      " 3: 'Deo',\n",
      " 4: 'Devices',\n",
      " 5: 'Hair care',\n",
      " 6: 'Health care',\n",
      " 7: 'Lip care',\n",
      " 8: 'Manufacturing technology',\n",
      " 9: 'Non woven',\n",
      " 10: 'Packaging',\n",
      " 11: 'Perfume',\n",
      " 12: 'Personalization',\n",
      " 13: 'Shaving',\n",
      " 14: 'Skin care',\n",
      " 15: 'Sun',\n",
      " 16: 'Sustainability'}\n"
     ]
    },
    {
     "data": {
      "text/plain": "                                                         abstract  label\nAP1665A         Disclosed is an oral dosage form comprising (i...     14\nAP1682A         A method of enhancing health through the gener...      0\nAP1904A         Light-converting material comprises a europium...      5\nAP1937A         A flexible container (1) for holding a liquid ...     10\nAP2011006030A0  The invention of the present Application provi...      0",
      "text/html": "<div>\n<style scoped>\n    .dataframe tbody tr th:only-of-type {\n        vertical-align: middle;\n    }\n\n    .dataframe tbody tr th {\n        vertical-align: top;\n    }\n\n    .dataframe thead th {\n        text-align: right;\n    }\n</style>\n<table border=\"1\" class=\"dataframe\">\n  <thead>\n    <tr style=\"text-align: right;\">\n      <th></th>\n      <th>abstract</th>\n      <th>label</th>\n    </tr>\n  </thead>\n  <tbody>\n    <tr>\n      <th>AP1665A</th>\n      <td>Disclosed is an oral dosage form comprising (i...</td>\n      <td>14</td>\n    </tr>\n    <tr>\n      <th>AP1682A</th>\n      <td>A method of enhancing health through the gener...</td>\n      <td>0</td>\n    </tr>\n    <tr>\n      <th>AP1904A</th>\n      <td>Light-converting material comprises a europium...</td>\n      <td>5</td>\n    </tr>\n    <tr>\n      <th>AP1937A</th>\n      <td>A flexible container (1) for holding a liquid ...</td>\n      <td>10</td>\n    </tr>\n    <tr>\n      <th>AP2011006030A0</th>\n      <td>The invention of the present Application provi...</td>\n      <td>0</td>\n    </tr>\n  </tbody>\n</table>\n</div>"
     },
     "execution_count": 28,
     "metadata": {},
     "output_type": "execute_result"
    }
   ],
   "source": [
    "from pprint import pprint\n",
    "# Add labels to dataset\n",
    "dataset[\"label\"] = red_feature_stats[\"level1labels\"]\n",
    "# encode labels\n",
    "dataset[\"label\"] = dataset[\"label\"].astype('category')\n",
    "dataset[\"label_encoded\"] = dataset[\"label\"]\n",
    "dataset[\"label_encoded\"] = dataset[\"label_encoded\"].cat.codes\n",
    "pprint({code: label for code, label in enumerate(dataset[\"label\"].cat.categories)})\n",
    "dataset[\"label\"] = dataset[\"label_encoded\"]\n",
    "dataset = dataset[[\"abstract\", \"label\"]]\n",
    "dataset.head()\n"
   ],
   "metadata": {
    "collapsed": false,
    "pycharm": {
     "name": "#%%\n"
    }
   }
  },
  {
   "cell_type": "code",
   "execution_count": 29,
   "outputs": [
    {
     "name": "stdout",
     "output_type": "stream",
     "text": [
      "Number of examples: 194967\n"
     ]
    }
   ],
   "source": [
    "# drop nan values\n",
    "dataset = dataset.dropna(axis=0)\n",
    "print(f\"Number of examples: {len(dataset)}\")"
   ],
   "metadata": {
    "collapsed": false,
    "pycharm": {
     "name": "#%%\n"
    }
   }
  },
  {
   "cell_type": "code",
   "execution_count": 30,
   "outputs": [
    {
     "name": "stdout",
     "output_type": "stream",
     "text": [
      "Number of examples: 116191\n"
     ]
    }
   ],
   "source": [
    "# drop duplicates\n",
    "dataset = dataset.drop_duplicates()\n",
    "print(f\"Number of examples: {len(dataset)}\")\n"
   ],
   "metadata": {
    "collapsed": false,
    "pycharm": {
     "name": "#%%\n"
    }
   }
  },
  {
   "cell_type": "code",
   "execution_count": 31,
   "outputs": [
    {
     "data": {
      "text/plain": "    train  test   val\n0   22681  8401  2520\n14  13830  5122  1537\n5    9259  3430  1029\n10   8652  3204   961\n6    6545  2424   727\n1    5144  1906   572\n15   3400  1259   378\n11   2120   785   236\n3    1663   616   185\n9    1399   518   155\n2     857   317    95\n7     843   312    94\n4     783   290    87\n8     715   265    79\n13    341   126    38\n16    155    58    17\n12     41    15     5",
      "text/html": "<div>\n<style scoped>\n    .dataframe tbody tr th:only-of-type {\n        vertical-align: middle;\n    }\n\n    .dataframe tbody tr th {\n        vertical-align: top;\n    }\n\n    .dataframe thead th {\n        text-align: right;\n    }\n</style>\n<table border=\"1\" class=\"dataframe\">\n  <thead>\n    <tr style=\"text-align: right;\">\n      <th></th>\n      <th>train</th>\n      <th>test</th>\n      <th>val</th>\n    </tr>\n  </thead>\n  <tbody>\n    <tr>\n      <th>0</th>\n      <td>22681</td>\n      <td>8401</td>\n      <td>2520</td>\n    </tr>\n    <tr>\n      <th>14</th>\n      <td>13830</td>\n      <td>5122</td>\n      <td>1537</td>\n    </tr>\n    <tr>\n      <th>5</th>\n      <td>9259</td>\n      <td>3430</td>\n      <td>1029</td>\n    </tr>\n    <tr>\n      <th>10</th>\n      <td>8652</td>\n      <td>3204</td>\n      <td>961</td>\n    </tr>\n    <tr>\n      <th>6</th>\n      <td>6545</td>\n      <td>2424</td>\n      <td>727</td>\n    </tr>\n    <tr>\n      <th>1</th>\n      <td>5144</td>\n      <td>1906</td>\n      <td>572</td>\n    </tr>\n    <tr>\n      <th>15</th>\n      <td>3400</td>\n      <td>1259</td>\n      <td>378</td>\n    </tr>\n    <tr>\n      <th>11</th>\n      <td>2120</td>\n      <td>785</td>\n      <td>236</td>\n    </tr>\n    <tr>\n      <th>3</th>\n      <td>1663</td>\n      <td>616</td>\n      <td>185</td>\n    </tr>\n    <tr>\n      <th>9</th>\n      <td>1399</td>\n      <td>518</td>\n      <td>155</td>\n    </tr>\n    <tr>\n      <th>2</th>\n      <td>857</td>\n      <td>317</td>\n      <td>95</td>\n    </tr>\n    <tr>\n      <th>7</th>\n      <td>843</td>\n      <td>312</td>\n      <td>94</td>\n    </tr>\n    <tr>\n      <th>4</th>\n      <td>783</td>\n      <td>290</td>\n      <td>87</td>\n    </tr>\n    <tr>\n      <th>8</th>\n      <td>715</td>\n      <td>265</td>\n      <td>79</td>\n    </tr>\n    <tr>\n      <th>13</th>\n      <td>341</td>\n      <td>126</td>\n      <td>38</td>\n    </tr>\n    <tr>\n      <th>16</th>\n      <td>155</td>\n      <td>58</td>\n      <td>17</td>\n    </tr>\n    <tr>\n      <th>12</th>\n      <td>41</td>\n      <td>15</td>\n      <td>5</td>\n    </tr>\n  </tbody>\n</table>\n</div>"
     },
     "execution_count": 31,
     "metadata": {},
     "output_type": "execute_result"
    }
   ],
   "source": [
    "# split into train, validation and test dataset\n",
    "from sklearn.model_selection import train_test_split\n",
    "\n",
    "train, test = train_test_split(dataset, test_size=0.25,\n",
    "                               random_state=1000, stratify=dataset[\"label\"])\n",
    "train, val = train_test_split(train, test_size=0.1, random_state=1000, stratify=train[\"label\"])\n",
    "\n",
    "value_counts = pd.concat([train[\"label\"].value_counts(),\n",
    "                          test[\"label\"].value_counts(),\n",
    "                          val[\"label\"].value_counts()],\n",
    "                         axis=1,\n",
    "                         keys=[\"train\", \"test\", \"val\"])\n",
    "value_counts"
   ],
   "metadata": {
    "collapsed": false,
    "pycharm": {
     "name": "#%%\n"
    }
   }
  },
  {
   "cell_type": "markdown",
   "source": [
    "### Correct the class imbalance\n",
    "In order to prevent that the NN only focuses on the more frequent classes,\n",
    "I over-sampling (create duplicates) of less frequent classes by setting a threshold of instances\n",
    "that each class should have. I the threshold is not met I sample duplicates of that class.\n",
    "Since the class frequency is only relevant during training, I only adapt the frequencies in the\n",
    "training data set."
   ],
   "metadata": {
    "collapsed": false,
    "pycharm": {
     "name": "#%% md\n"
    }
   }
  },
  {
   "cell_type": "code",
   "execution_count": 32,
   "outputs": [
    {
     "name": "stdout",
     "output_type": "stream",
     "text": [
      "0     22681\n",
      "14    13830\n",
      "5      9259\n",
      "10     8652\n",
      "6      6545\n",
      "1      5144\n",
      "15     3400\n",
      "13     3000\n",
      "12     3000\n",
      "11     3000\n",
      "8      3000\n",
      "9      3000\n",
      "7      3000\n",
      "4      3000\n",
      "3      3000\n",
      "2      3000\n",
      "16     3000\n",
      "Name: label, dtype: int64\n"
     ]
    }
   ],
   "source": [
    "subset_list = []\n",
    "min_n_sample = 3000 # each class should have minimum n instances\n",
    "n_labels = len(train[\"label\"].unique())\n",
    "for label in range(n_labels):\n",
    "    subset = train[train[\"label\"] == label]\n",
    "    if len(subset) < min_n_sample:\n",
    "        resampled = subset.sample(n=min_n_sample, random_state=1000, replace=True)\n",
    "        subset = resampled\n",
    "    subset_list.append(subset)\n",
    "train_res = pd.concat(subset_list, axis=0)\n",
    "print(train_res[\"label\"].value_counts())"
   ],
   "metadata": {
    "collapsed": false,
    "pycharm": {
     "name": "#%%\n"
    }
   }
  },
  {
   "cell_type": "markdown",
   "source": [
    "### Export"
   ],
   "metadata": {
    "collapsed": false,
    "pycharm": {
     "name": "#%% md\n"
    }
   }
  },
  {
   "cell_type": "code",
   "execution_count": 33,
   "outputs": [],
   "source": [
    "train_res.to_csv(\"train.csv\")\n",
    "val.to_csv(\"val.csv\")\n",
    "test.to_csv(\"test.csv\")\n"
   ],
   "metadata": {
    "collapsed": false,
    "pycharm": {
     "name": "#%%\n"
    }
   }
  }
 ],
 "metadata": {
  "kernelspec": {
   "display_name": "Python 3",
   "language": "python",
   "name": "python3"
  },
  "language_info": {
   "codemirror_mode": {
    "name": "ipython",
    "version": 2
   },
   "file_extension": ".py",
   "mimetype": "text/x-python",
   "name": "python",
   "nbconvert_exporter": "python",
   "pygments_lexer": "ipython2",
   "version": "2.7.6"
  }
 },
 "nbformat": 4,
 "nbformat_minor": 0
}