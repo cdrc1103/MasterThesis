{
 "cells": [
  {
   "cell_type": "code",
   "execution_count": 18,
   "metadata": {
    "collapsed": true
   },
   "outputs": [],
   "source": [
    "from Utilities.xml_parser import load_xml\n",
    "from Utilities import directories\n",
    "import pickle"
   ]
  },
  {
   "cell_type": "code",
   "execution_count": 2,
   "outputs": [],
   "source": [
    "patent_data = load_xml(directories.data + \"/example_extrect_ma\")"
   ],
   "metadata": {
    "collapsed": false,
    "pycharm": {
     "name": "#%%\n"
    }
   }
  },
  {
   "cell_type": "code",
   "execution_count": 19,
   "outputs": [
    {
     "name": "stdout",
     "output_type": "stream",
     "text": [
      "odict_keys(['@document-number', '@patent-link', '@country-code', '@kind-of-document', '@application-number', '@filed', '@published', '@granted', '@priority-date', '@original-pdf-link', '@extended-family-id', '@strict-family-id', 'legal-status', 'title', 'owners', 'applicants', 'inventors', 'priorities', 'ipc-classes', 'cpc-classes', 'extended-family-list', 'strict-family-list', 'abstract', 'folders-assignement', 'newest-evaluation-current-project-task', 'all-evaluations-current-project-task', 'evaluation-history', 'claims', 'most-relevant-evaluation-current-project-task', 'description'])\n"
     ]
    }
   ],
   "source": [
    "patent_data[0]['document'].keys()"
   ],
   "metadata": {
    "collapsed": false,
    "pycharm": {
     "name": "#%%\n"
    }
   }
  },
  {
   "cell_type": "code",
   "execution_count": 14,
   "outputs": [],
   "source": [
    "x = []\n",
    "y = []\n",
    "for element in patent_data:\n",
    "\n",
    "    ## Generate model input\n",
    "    description = element['document'][\"description\"]\n",
    "    # Exclude nested elements, i.e. description is a dict instead of a string\n",
    "    if type(description) == str:\n",
    "        x.append(description)\n",
    "\n",
    "        ## Generate model output (labels)\n",
    "        # For simplification use only the first class of each patent\n",
    "        cpc_class = element['document'][\"cpc-classes\"][\"cpc-class\"][0]\n",
    "        # Edit string\n",
    "        sep = \" \"\n",
    "        y.append(cpc_class.split(sep, 1)[0])\n",
    "\n",
    "data = [x, y]"
   ],
   "metadata": {
    "collapsed": false,
    "pycharm": {
     "name": "#%%\n"
    }
   }
  },
  {
   "cell_type": "code",
   "execution_count": 15,
   "outputs": [],
   "source": [
    "with open(directories.data + \"/example_extract.txt\", \"wb\") as file:   #Pickling\n",
    "    pickle.dump(data, file)"
   ],
   "metadata": {
    "collapsed": false,
    "pycharm": {
     "name": "#%%\n"
    }
   }
  },
  {
   "cell_type": "code",
   "execution_count": 10,
   "outputs": [],
   "source": [
    "import xml.etree.ElementTree as ET\n",
    "tree = ET.parse(\"../ExamplePatents/AR030119A1.xml\")\n",
    "root = tree.getroot()"
   ],
   "metadata": {
    "collapsed": false,
    "pycharm": {
     "name": "#%%\n"
    }
   }
  },
  {
   "cell_type": "code",
   "execution_count": 21,
   "outputs": [
    {
     "data": {
      "text/plain": "'\\n    '"
     },
     "execution_count": 21,
     "metadata": {},
     "output_type": "execute_result"
    }
   ],
   "source": [
    "result = root.find('abstract[@lang=\"eng\"]')\n",
    "result.text"
   ],
   "metadata": {
    "collapsed": false,
    "pycharm": {
     "name": "#%%\n"
    }
   }
  },
  {
   "cell_type": "code",
   "execution_count": 40,
   "outputs": [
    {
     "name": "stdout",
     "output_type": "stream",
     "text": [
      "False\n"
     ]
    }
   ],
   "source": [
    "f = \"invention-title\"\n",
    "if root.find('.//%s[@lang=\"eng\"]' % \"claims\") is not None:\n",
    "    print(True)\n",
    "else:\n",
    "    print(False)"
   ],
   "metadata": {
    "collapsed": false,
    "pycharm": {
     "name": "#%%\n"
    }
   }
  },
  {
   "cell_type": "code",
   "execution_count": 19,
   "outputs": [
    {
     "name": "stdout",
     "output_type": "stream",
     "text": [
      "Anhydrous antiperspirant formulations in which a particulate antiperspirant active is suspended in a carrier fluid can result in significant visible deposits when applied to skin or when transferred onto clothing.Anhydrous antiperspirant suspension sticks which exhibit very low visible deposits are obtainable by employing a carrier fluid in which at least 45% and preferably at least 60% of its weight comprises an oxygen-containing emollient oil having a refractive index of at least 1.465, in conjunction with structurant comprises a wax or a non-polymeric fiber-forming gellant, excluding certain gellants or gellant combinations. Preferred emollient oils include alkyl benzoates and alkylphenylsiloxanes. The waxes can even comprise fatty alcohols.\n"
     ]
    }
   ],
   "source": [
    "import numpy as np\n",
    "from collections.abc import Iterable\n",
    "def get_text(node):\n",
    "    if node is None:\n",
    "        return \"\"\n",
    "    return ((node.text or '') +\n",
    "            ''.join(map(get_text, node)) +\n",
    "            (node.tail or ''))\n",
    "def clean_text(text, length_threshold=40):\n",
    "    text = \" \".join(text.split()) # remove multiples of white / tab spaces\n",
    "    text =text.replace(\"\\n\", \"\") # remove newline characters\n",
    "    if len(text) <= length_threshold: return np.nan # if the text is to short return nothing instead\n",
    "    return text\n",
    "\n",
    "def get_abstract(root):\n",
    "    result = root.findall('.//abstract[@lang=\"eng\"]/*')\n",
    "    if result is not None:\n",
    "        text = \" \".join([get_text(r) for r in result])\n",
    "        return clean_text(text)\n",
    "    else:\n",
    "        return np.nan\n",
    "\n",
    "print(get_abstract(root))"
   ],
   "metadata": {
    "collapsed": false,
    "pycharm": {
     "name": "#%%\n"
    }
   }
  },
  {
   "cell_type": "code",
   "execution_count": 7,
   "outputs": [
    {
     "name": "stdout",
     "output_type": "stream",
     "text": [
      "<Element 'p' at 0x7f00dc596400>\n",
      "<Element 'p' at 0x7f00dc596450>\n"
     ]
    }
   ],
   "source": [
    "for r in result:\n",
    "    print(r.text)"
   ],
   "metadata": {
    "collapsed": false,
    "pycharm": {
     "name": "#%%\n"
    }
   }
  }
 ],
 "metadata": {
  "kernelspec": {
   "display_name": "Python 3",
   "language": "python",
   "name": "python3"
  },
  "language_info": {
   "codemirror_mode": {
    "name": "ipython",
    "version": 2
   },
   "file_extension": ".py",
   "mimetype": "text/x-python",
   "name": "python",
   "nbconvert_exporter": "python",
   "pygments_lexer": "ipython2",
   "version": "2.7.6"
  }
 },
 "nbformat": 4,
 "nbformat_minor": 0
}