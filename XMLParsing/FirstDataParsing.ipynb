{
 "cells": [
  {
   "cell_type": "code",
   "execution_count": 34,
   "metadata": {
    "collapsed": true
   },
   "outputs": [],
   "source": [
    "from Utilities import directories\n",
    "import xml.etree.ElementTree as ET\n"
   ]
  },
  {
   "cell_type": "code",
   "execution_count": 37,
   "outputs": [
    {
     "name": "stdout",
     "output_type": "stream",
     "text": [
      "document\n",
      "{'document-number': '9468697', 'patent-link': 'https://web.ip7.tech/app/detailview/index/US9468697B2', 'country-code': 'US', 'kind-of-document': 'B2', 'application-number': '201615005224', 'filed': '25/01/2016', 'published': '18/10/2016', 'granted': '18/10/2016', 'priority-date': '16/04/2009', 'original-pdf-link': 'https://web.ip7.tech/app/detailview/ShowPDFFileDirect/US_9468697_B2_99712732', 'extended-family-id': '4034434', 'strict-family-id': '40848365'}\n"
     ]
    }
   ],
   "source": [
    "tree = ET.parse(directories.data + '/example_extrect_ma/US9468697B2.xml')\n",
    "root = tree.getroot()\n",
    "print(root.tag)\n",
    "print(root.attrib)"
   ],
   "metadata": {
    "collapsed": false,
    "pycharm": {
     "name": "#%%\n"
    }
   }
  },
  {
   "cell_type": "code",
   "execution_count": 22,
   "outputs": [
    {
     "data": {
      "text/plain": "{'document-number': '9468697',\n 'patent-link': 'https://web.ip7.tech/app/detailview/index/US9468697B2',\n 'country-code': 'US',\n 'kind-of-document': 'B2',\n 'application-number': '201615005224',\n 'filed': '25/01/2016',\n 'published': '18/10/2016',\n 'granted': '18/10/2016',\n 'priority-date': '16/04/2009',\n 'original-pdf-link': 'https://web.ip7.tech/app/detailview/ShowPDFFileDirect/US_9468697_B2_99712732',\n 'extended-family-id': '4034434',\n 'strict-family-id': '40848365'}"
     },
     "execution_count": 22,
     "metadata": {},
     "output_type": "execute_result"
    }
   ],
   "source": [
    "# Save document attributes in dict\n",
    "attribDict = root.attrib\n",
    "attribDict"
   ],
   "metadata": {
    "collapsed": false,
    "pycharm": {
     "name": "#%%\n"
    }
   }
  },
  {
   "cell_type": "code",
   "execution_count": 28,
   "outputs": [
    {
     "name": "stdout",
     "output_type": "stream",
     "text": [
      "0 : legal-status\n",
      "1 : title\n",
      "2 : owners\n",
      "3 : applicants\n",
      "4 : inventors\n",
      "5 : priorities\n",
      "6 : ipc-classes\n",
      "7 : cpc-classes\n",
      "8 : extended-family-list\n",
      "9 : strict-family-list\n",
      "10 : abstract\n",
      "11 : folders-assignement\n",
      "12 : newest-evaluation-current-project-task\n",
      "13 : all-evaluations-current-project-task\n",
      "14 : evaluation-history\n",
      "15 : claims\n",
      "16 : most-relevant-evaluation-current-project-task\n",
      "17 : description\n"
     ]
    }
   ],
   "source": [
    "for i, child in enumerate(root):\n",
    "    print(i ,\": \" + child.tag)\n"
   ],
   "metadata": {
    "collapsed": false,
    "pycharm": {
     "name": "#%%\n"
    }
   }
  },
  {
   "cell_type": "code",
   "execution_count": 42,
   "outputs": [],
   "source": [
    "import xml.etree.ElementTree as ET\n",
    "import xmltodict\n",
    "from os import listdir\n",
    "\n",
    "def load_xml(file_dir):\n",
    "    \"\"\"\n",
    "    Loads all xml files from the directory and converts them to a list of\n",
    "    python dictionaries\n",
    "    :param file_dir: Directory to the files\n",
    "    :return: list of python dictionaries\n",
    "    \"\"\"\n",
    "\n",
    "    file_names = [f for f in listdir(file_dir)]\n",
    "    dict_list = []\n",
    "    for name in file_names:\n",
    "        tree = ET.parse(file_dir + \"/\" + name)\n",
    "        root = tree.getroot()\n",
    "        xmlstr = ET.tostring(root)\n",
    "        dict_list.append(xmltodict.parse(xmlstr))\n",
    "\n",
    "    return dict_list"
   ],
   "metadata": {
    "collapsed": false,
    "pycharm": {
     "name": "#%%\n"
    }
   }
  },
  {
   "cell_type": "code",
   "execution_count": 43,
   "outputs": [
    {
     "name": "stdout",
     "output_type": "stream",
     "text": [
      "50\n"
     ]
    }
   ],
   "source": [
    "patent_data = load_xml(directories.data + \"/example_extrect_ma\")\n",
    "print(len(patent_data))"
   ],
   "metadata": {
    "collapsed": false,
    "pycharm": {
     "name": "#%%\n"
    }
   }
  }
 ],
 "metadata": {
  "kernelspec": {
   "name": "python3",
   "language": "python",
   "display_name": "Python 3"
  },
  "language_info": {
   "codemirror_mode": {
    "name": "ipython",
    "version": 2
   },
   "file_extension": ".py",
   "mimetype": "text/x-python",
   "name": "python",
   "nbconvert_exporter": "python",
   "pygments_lexer": "ipython2",
   "version": "2.7.6"
  }
 },
 "nbformat": 4,
 "nbformat_minor": 0
}