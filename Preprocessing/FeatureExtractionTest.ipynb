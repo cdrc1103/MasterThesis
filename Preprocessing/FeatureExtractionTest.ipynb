{
 "cells": [
  {
   "cell_type": "code",
   "execution_count": 18,
   "metadata": {
    "collapsed": true
   },
   "outputs": [],
   "source": [
    "from XMLParsing.parser import load_xml\n",
    "from Utilities import directories\n",
    "import pickle"
   ]
  },
  {
   "cell_type": "code",
   "execution_count": 2,
   "outputs": [],
   "source": [
    "patent_data = load_xml(directories.data + \"/example_extrect_ma\")"
   ],
   "metadata": {
    "collapsed": false,
    "pycharm": {
     "name": "#%%\n"
    }
   }
  },
  {
   "cell_type": "code",
   "execution_count": 19,
   "outputs": [
    {
     "name": "stdout",
     "output_type": "stream",
     "text": [
      "odict_keys(['@document-number', '@patent-link', '@country-code', '@kind-of-document', '@application-number', '@filed', '@published', '@granted', '@priority-date', '@original-pdf-link', '@extended-family-id', '@strict-family-id', 'legal-status', 'title', 'owners', 'applicants', 'inventors', 'priorities', 'ipc-classes', 'cpc-classes', 'extended-family-list', 'strict-family-list', 'abstract', 'folders-assignement', 'newest-evaluation-current-project-task', 'all-evaluations-current-project-task', 'evaluation-history', 'claims', 'most-relevant-evaluation-current-project-task', 'description'])\n"
     ]
    }
   ],
   "source": [
    "patent_data[0]['document'].keys()"
   ],
   "metadata": {
    "collapsed": false,
    "pycharm": {
     "name": "#%%\n"
    }
   }
  },
  {
   "cell_type": "code",
   "execution_count": 14,
   "outputs": [],
   "source": [
    "x = []\n",
    "y = []\n",
    "for element in patent_data:\n",
    "\n",
    "    ## Generate model input\n",
    "    description = element['document'][\"description\"]\n",
    "    # Exclude nested elements, i.e. description is a dict instead of a string\n",
    "    if type(description) == str:\n",
    "        x.append(description)\n",
    "\n",
    "        ## Generate model output (labels)\n",
    "        # For simplification use only the first class of each patent\n",
    "        cpc_class = element['document'][\"cpc-classes\"][\"cpc-class\"][0]\n",
    "        # Edit string\n",
    "        sep = \" \"\n",
    "        y.append(cpc_class.split(sep, 1)[0])\n",
    "\n",
    "data = [x, y]"
   ],
   "metadata": {
    "collapsed": false,
    "pycharm": {
     "name": "#%%\n"
    }
   }
  },
  {
   "cell_type": "code",
   "execution_count": 15,
   "outputs": [],
   "source": [
    "with open(directories.data + \"/example_extract.txt\", \"wb\") as file:   #Pickling\n",
    "    pickle.dump(data, file)"
   ],
   "metadata": {
    "collapsed": false,
    "pycharm": {
     "name": "#%%\n"
    }
   }
  }
 ],
 "metadata": {
  "kernelspec": {
   "display_name": "Python 3",
   "language": "python",
   "name": "python3"
  },
  "language_info": {
   "codemirror_mode": {
    "name": "ipython",
    "version": 2
   },
   "file_extension": ".py",
   "mimetype": "text/x-python",
   "name": "python",
   "nbconvert_exporter": "python",
   "pygments_lexer": "ipython2",
   "version": "2.7.6"
  }
 },
 "nbformat": 4,
 "nbformat_minor": 0
}