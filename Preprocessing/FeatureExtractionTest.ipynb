{
 "cells": [
  {
   "cell_type": "code",
   "execution_count": 1,
   "metadata": {
    "collapsed": true
   },
   "outputs": [],
   "source": [
    "from XMLParsing.parser import load_xml\n",
    "from Utilities import directories"
   ]
  },
  {
   "cell_type": "code",
   "execution_count": 2,
   "outputs": [],
   "source": [
    "patent_data = load_xml(directories.data + \"/example_extrect_ma\")"
   ],
   "metadata": {
    "collapsed": false,
    "pycharm": {
     "name": "#%%\n"
    }
   }
  },
  {
   "cell_type": "code",
   "execution_count": 3,
   "outputs": [
    {
     "data": {
      "text/plain": "odict_keys(['@application-number', '@country-code', '@document-number', '@extended-family-id', '@filed', '@granted', '@kind-of-document', '@original-pdf-link', '@patent-link', '@priority-date', '@published', '@strict-family-id', 'legal-status', 'title', 'owners', 'applicants', 'inventors', 'priorities', 'ipc-classes', 'cpc-classes', 'extended-family-list', 'strict-family-list', 'abstract', 'folders-assignement', 'newest-evaluation-current-project-task', 'all-evaluations-current-project-task', 'evaluation-history', 'claims', 'most-relevant-evaluation-current-project-task', 'description'])"
     },
     "execution_count": 3,
     "metadata": {},
     "output_type": "execute_result"
    }
   ],
   "source": [
    "patent_data[0]['document'].keys()"
   ],
   "metadata": {
    "collapsed": false,
    "pycharm": {
     "name": "#%%\n"
    }
   }
  },
  {
   "cell_type": "code",
   "execution_count": 4,
   "outputs": [],
   "source": [
    "X = []\n",
    "y = []\n",
    "for element in patent_data:\n",
    "    ## Generate model input\n",
    "    X.append(element['document'][\"description\"])\n",
    "\n",
    "    ## Generate model output (labels)\n",
    "    # For simplification use only the first class of each patent\n",
    "    cpc_class = element['document'][\"cpc-classes\"][\"cpc-class\"][0]\n",
    "    # Edit string\n",
    "    sep = \" \"\n",
    "    y.append(cpc_class.split(sep, 1)[0])\n",
    "\n"
   ],
   "metadata": {
    "collapsed": false,
    "pycharm": {
     "name": "#%%\n"
    }
   }
  }
 ],
 "metadata": {
  "kernelspec": {
   "display_name": "Python 3",
   "language": "python",
   "name": "python3"
  },
  "language_info": {
   "codemirror_mode": {
    "name": "ipython",
    "version": 2
   },
   "file_extension": ".py",
   "mimetype": "text/x-python",
   "name": "python",
   "nbconvert_exporter": "python",
   "pygments_lexer": "ipython2",
   "version": "2.7.6"
  }
 },
 "nbformat": 4,
 "nbformat_minor": 0
}